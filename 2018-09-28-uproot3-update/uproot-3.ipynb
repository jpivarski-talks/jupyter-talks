{
 "cells": [
  {
   "cell_type": "markdown",
   "metadata": {
    "slideshow": {
     "slide_type": "slide"
    }
   },
   "source": [
    "<img style=\"margin-left: auto; margin-right: auto; width=50%\" src=\"uproot-3.png\"></img>"
   ]
  },
  {
   "cell_type": "markdown",
   "metadata": {
    "slideshow": {
     "slide_type": "slide"
    }
   },
   "source": [
    "What's new?\n",
    "\n",
    "   * modularization\n",
    "   * writing files\n",
    "   * jagged array operations"
   ]
  },
  {
   "cell_type": "markdown",
   "metadata": {
    "slideshow": {
     "slide_type": "slide"
    }
   },
   "source": [
    "## Modularization\n",
    "\n",
    "uproot 2 had been a single library (optionally depending on lz4).\n",
    "\n",
    "<img style=\"margin-left: auto; margin-right: auto; width=80%\" src=\"abstraction-layers-before.png\"></img>"
   ]
  },
  {
   "cell_type": "markdown",
   "metadata": {
    "slideshow": {
     "slide_type": "slide"
    }
   },
   "source": [
    "## Modularization\n",
    "\n",
    "uproot 3 splits out everything that is not I/O. We'll see the advantage in a moment.\n",
    "\n",
    "<img style=\"margin-left: auto; margin-right: auto; width=80%\" src=\"abstraction-layers.png\"></img>"
   ]
  },
  {
   "cell_type": "markdown",
   "metadata": {
    "slideshow": {
     "slide_type": "slide"
    }
   },
   "source": [
    "## Writing files\n",
    "\n",
    "uproot can now write histograms to files. It has the same dict-like interface:"
   ]
  },
  {
   "cell_type": "code",
   "execution_count": 1,
   "metadata": {
    "slideshow": {
     "slide_type": "-"
    }
   },
   "outputs": [],
   "source": [
    "import uproot\n",
    "import numpy\n",
    "\n",
    "f = uproot.recreate(\"tmp.root\")                                  # instead of uproot.open\n",
    "f[\"name\"] = numpy.histogram(numpy.random.normal(0, 1, 100000))   # any kind of histogram"
   ]
  },
  {
   "cell_type": "code",
   "execution_count": 2,
   "metadata": {
    "slideshow": {
     "slide_type": "fragment"
    }
   },
   "outputs": [
    {
     "name": "stdout",
     "output_type": "stream",
     "text": [
      "                          0                                                35033\n",
      "                          +----------------------------------------------------+\n",
      "[-inf, -4.2381)     0     |                                                    |\n",
      "[-4.2381, -3.3503)  43    |                                                    |\n",
      "[-3.3503, -2.4625)  635   |*                                                   |\n",
      "[-2.4625, -1.5747)  5096  |********                                            |\n",
      "[-1.5747, -0.68683) 18775 |****************************                        |\n",
      "[-0.68683, 0.20099) 33365 |**************************************************  |\n",
      "[0.20099, 1.0888)   28422 |******************************************          |\n",
      "[1.0888, 1.9766)    11289 |*****************                                   |\n",
      "[1.9766, 2.8645)    2194  |***                                                 |\n",
      "[2.8645, 3.7523)    176   |                                                    |\n",
      "[3.7523, 4.6401)    5     |                                                    |\n",
      "[4.6401, inf]       0     |                                                    |\n",
      "                          +----------------------------------------------------+\n"
     ]
    }
   ],
   "source": [
    "f[\"name\"].show()                                                 # read it back out"
   ]
  },
  {
   "cell_type": "code",
   "execution_count": 3,
   "metadata": {
    "slideshow": {
     "slide_type": "slide"
    }
   },
   "outputs": [
    {
     "name": "stdout",
     "output_type": "stream",
     "text": [
      "Welcome to JupyROOT 6.14/04\n"
     ]
    }
   ],
   "source": [
    "import ROOT\n",
    "c = ROOT.TCanvas()"
   ]
  },
  {
   "cell_type": "code",
   "execution_count": 4,
   "metadata": {
    "slideshow": {
     "slide_type": "-"
    }
   },
   "outputs": [
    {
     "data": {
      "image/png": "[encoded data removed]",
      "text/plain": [
       "<IPython.core.display.Image object>"
      ]
     },
     "metadata": {},
     "output_type": "display_data"
    }
   ],
   "source": [
    "f = ROOT.TFile(\"tmp.root\")                    # ROOT can read it, too\n",
    "h = f.Get(\"name\")\n",
    "h.Draw()\n",
    "c.Draw()"
   ]
  },
  {
   "cell_type": "code",
   "execution_count": 5,
   "metadata": {
    "slideshow": {
     "slide_type": "slide"
    }
   },
   "outputs": [],
   "source": [
    "f = ROOT.TFile(\"tmp.root\", \"UPDATE\")          # ROOT can add to the same file\n",
    "h = ROOT.TH1D(\"another\", \"\", 10, -5, 5)\n",
    "for x in numpy.random.normal(0, 1, 100000):\n",
    "    h.Fill(x)\n",
    "h.Write()\n",
    "f.Close()"
   ]
  },
  {
   "cell_type": "code",
   "execution_count": 6,
   "metadata": {
    "slideshow": {
     "slide_type": "fragment"
    }
   },
   "outputs": [
    {
     "name": "stdout",
     "output_type": "stream",
     "text": [
      "                 0                                                         35937\n",
      "                 +-------------------------------------------------------------+\n",
      "[-inf, -5) 1     |                                                             |\n",
      "[-5, -4)   1     |                                                             |\n",
      "[-4, -3)   147   |                                                             |\n",
      "[-3, -2)   2162  |****                                                         |\n",
      "[-2, -1)   13488 |***********************                                      |\n",
      "[-1, 0)    34031 |**********************************************************   |\n",
      "[0, 1)     34226 |**********************************************************   |\n",
      "[1, 2)     13722 |***********************                                      |\n",
      "[2, 3)     2079  |****                                                         |\n",
      "[3, 4)     140   |                                                             |\n",
      "[4, 5)     3     |                                                             |\n",
      "[5, inf]   0     |                                                             |\n",
      "                 +-------------------------------------------------------------+\n"
     ]
    }
   ],
   "source": [
    "f = uproot.open(\"tmp.root\")\n",
    "f[\"another\"].show()"
   ]
  },
  {
   "cell_type": "markdown",
   "metadata": {
    "slideshow": {
     "slide_type": "slide"
    }
   },
   "source": [
    "uproot could become a clearinghouse for histograms from different libraries."
   ]
  },
  {
   "cell_type": "code",
   "execution_count": 7,
   "metadata": {
    "slideshow": {
     "slide_type": "-"
    }
   },
   "outputs": [],
   "source": [
    "%matplotlib inline\n",
    "import physt"
   ]
  },
  {
   "cell_type": "code",
   "execution_count": 8,
   "metadata": {
    "slideshow": {
     "slide_type": "-"
    }
   },
   "outputs": [
    {
     "data": {
      "text/plain": [
       "<matplotlib.axes._subplots.AxesSubplot at 0x7478cc5bccc0>"
      ]
     },
     "execution_count": 8,
     "metadata": {},
     "output_type": "execute_result"
    },
    {
     "data": {
      "image/png": "[encoded data removed]",
      "text/plain": [
       "<Figure size 432x288 with 1 Axes>"
      ]
     },
     "metadata": {
      "needs_background": "light"
     },
     "output_type": "display_data"
    }
   ],
   "source": [
    "h = physt.h1(numpy.random.normal(0, 1, 100000), name=\"physt histogram\")\n",
    "h.plot()"
   ]
  },
  {
   "cell_type": "code",
   "execution_count": 9,
   "metadata": {
    "slideshow": {
     "slide_type": "fragment"
    }
   },
   "outputs": [],
   "source": [
    "f = uproot.recreate(\"tmp.root\")\n",
    "f[\"name\"] = h"
   ]
  },
  {
   "cell_type": "code",
   "execution_count": 10,
   "metadata": {
    "slideshow": {
     "slide_type": "slide"
    }
   },
   "outputs": [
    {
     "data": {
      "text/plain": [
       "<matplotlib.axes._subplots.AxesSubplot at 0x7478cc414b70>"
      ]
     },
     "execution_count": 10,
     "metadata": {},
     "output_type": "execute_result"
    },
    {
     "data": {
      "image/png": "[encoded data removed]",
      "text/plain": [
       "<Figure size 432x288 with 1 Axes>"
      ]
     },
     "metadata": {
      "needs_background": "light"
     },
     "output_type": "display_data"
    }
   ],
   "source": [
    "f = uproot.open(\"tmp.root\")\n",
    "f[\"name\"].physt().plot()"
   ]
  },
  {
   "cell_type": "code",
   "execution_count": 11,
   "metadata": {
    "slideshow": {
     "slide_type": "fragment"
    }
   },
   "outputs": [
    {
     "data": {
      "text/plain": [
       "(array([   13,   198,  2332, 12708, 30533, 33550, 16573,  3713,   361,\n",
       "           19], dtype=int32),\n",
       " array([-4.74395789, -3.81686954, -2.8897812 , -1.96269285, -1.0356045 ,\n",
       "        -0.10851616,  0.81857219,  1.74566053,  2.67274888,  3.59983723,\n",
       "         4.52692557]))"
      ]
     },
     "execution_count": 11,
     "metadata": {},
     "output_type": "execute_result"
    }
   ],
   "source": [
    "f[\"name\"].numpy()"
   ]
  },
  {
   "cell_type": "code",
   "execution_count": 12,
   "metadata": {
    "slideshow": {
     "slide_type": "slide"
    }
   },
   "outputs": [
    {
     "data": {
      "image/png": "[encoded data removed]",
      "text/plain": [
       "<IPython.core.display.Image object>"
      ]
     },
     "metadata": {},
     "output_type": "display_data"
    }
   ],
   "source": [
    "f = ROOT.TFile(\"tmp.root\")\n",
    "h = f.Get(\"name\")\n",
    "h.Draw()\n",
    "c.Draw()"
   ]
  },
  {
   "cell_type": "markdown",
   "metadata": {
    "slideshow": {
     "slide_type": "slide"
    }
   },
   "source": [
    "As well as new ways of looking at histograms."
   ]
  },
  {
   "cell_type": "code",
   "execution_count": 13,
   "metadata": {
    "slideshow": {
     "slide_type": "-"
    }
   },
   "outputs": [
    {
     "name": "stdout",
     "output_type": "stream",
     "text": [
      "dependent_variables:\n",
      "- header: {name: counts, units: null}\n",
      "  qualifiers: []\n",
      "  values:\n",
      "  - errors:\n",
      "    - {label: stat, symerror: 3.605551275463989}\n",
      "    value: 13.0\n",
      "  - errors:\n",
      "    - {label: stat, symerror: 14.071247279470288}\n",
      "    value: 198.0\n",
      "  - errors:\n",
      "    - {label: stat, symerror: 48.29078587059855}\n",
      "    value: 2332.0\n",
      "  - errors:\n",
      "    - {label: stat, symerror: 112.72976536833562}\n",
      "    value: 12708.0\n",
      "  - errors:\n",
      "    - {label: stat, symerror: 174.73694514898673}\n",
      "    value: 30533.0\n",
      "  - errors:\n",
      "    - {label: stat, symerror: 183.16659084014202}\n",
      "    value: 33550.0\n",
      "  - errors:\n",
      "    - {label: stat, symerror: 128.73616430514}\n",
      "    value: 16573.0\n",
      "  - errors:\n",
      "    - {label: stat, symerror: 60.93439094632849}\n",
      "    value: 3713.0\n",
      "  - errors:\n",
      "    - {label: stat, symerror: 19.0}\n",
      "    value: 361.0\n",
      "  - errors:\n",
      "    - {label: stat, symerror: 4.358898943540674}\n",
      "    value: 19.0\n",
      "independent_variables:\n",
      "- header: {name: physt histogram, units: null}\n",
      "  values:\n",
      "  - {high: -3.8168695411394657, low: -4.743957886913747}\n",
      "  - {high: -2.8897811953651846, low: -3.8168695411394657}\n",
      "  - {high: -1.962692849590903, low: -2.8897811953651846}\n",
      "  - {high: -1.035604503816622, low: -1.962692849590903}\n",
      "  - {high: -0.10851615804234083, low: -1.035604503816622}\n",
      "  - {high: 0.8185721877319407, low: -0.10851615804234083}\n",
      "  - {high: 1.7456605335062214, low: 0.8185721877319407}\n",
      "  - {high: 2.672748879280503, low: 1.7456605335062214}\n",
      "  - {high: 3.5998372250547837, low: 2.672748879280503}\n",
      "  - {high: 4.526925570829065, low: 3.5998372250547837}\n",
      "\n"
     ]
    }
   ],
   "source": [
    "f = uproot.open(\"tmp.root\")\n",
    "print(f[\"name\"].hepdata())      # YAML format for the HEPData archival site"
   ]
  },
  {
   "cell_type": "markdown",
   "metadata": {
    "slideshow": {
     "slide_type": "slide"
    }
   },
   "source": [
    "Including this idea I've been working on that Pandas DataFrames with an interval index _are_ histograms (DataFrame ↔ histogram in both directions). In fact, they're sparse histograms and handle sparse operations correctly."
   ]
  },
  {
   "cell_type": "code",
   "execution_count": 15,
   "metadata": {
    "slideshow": {
     "slide_type": "-"
    }
   },
   "outputs": [
    {
     "data": {
      "text/html": [
       "<div>\n",
       "<style scoped>\n",
       "    .dataframe tbody tr th:only-of-type {\n",
       "        vertical-align: middle;\n",
       "    }\n",
       "\n",
       "    .dataframe tbody tr th {\n",
       "        vertical-align: top;\n",
       "    }\n",
       "\n",
       "    .dataframe thead th {\n",
       "        text-align: right;\n",
       "    }\n",
       "</style>\n",
       "<table border=\"1\" class=\"dataframe\">\n",
       "  <thead>\n",
       "    <tr style=\"text-align: right;\">\n",
       "      <th></th>\n",
       "      <th>count</th>\n",
       "      <th>variance</th>\n",
       "    </tr>\n",
       "  </thead>\n",
       "  <tbody>\n",
       "    <tr>\n",
       "      <th>[-4.743957886913747, -3.8168695411394657)</th>\n",
       "      <td>13</td>\n",
       "      <td>13.0</td>\n",
       "    </tr>\n",
       "    <tr>\n",
       "      <th>[-3.8168695411394657, -2.8897811953651846)</th>\n",
       "      <td>198</td>\n",
       "      <td>198.0</td>\n",
       "    </tr>\n",
       "    <tr>\n",
       "      <th>[-2.8897811953651846, -1.962692849590903)</th>\n",
       "      <td>2332</td>\n",
       "      <td>2332.0</td>\n",
       "    </tr>\n",
       "    <tr>\n",
       "      <th>[-1.962692849590903, -1.035604503816622)</th>\n",
       "      <td>12708</td>\n",
       "      <td>12708.0</td>\n",
       "    </tr>\n",
       "    <tr>\n",
       "      <th>[-1.035604503816622, -0.10851615804234083)</th>\n",
       "      <td>30533</td>\n",
       "      <td>30533.0</td>\n",
       "    </tr>\n",
       "    <tr>\n",
       "      <th>[-0.10851615804234083, 0.8185721877319407)</th>\n",
       "      <td>33550</td>\n",
       "      <td>33550.0</td>\n",
       "    </tr>\n",
       "    <tr>\n",
       "      <th>[0.8185721877319407, 1.7456605335062214)</th>\n",
       "      <td>16573</td>\n",
       "      <td>16573.0</td>\n",
       "    </tr>\n",
       "    <tr>\n",
       "      <th>[1.7456605335062214, 2.672748879280503)</th>\n",
       "      <td>3713</td>\n",
       "      <td>3713.0</td>\n",
       "    </tr>\n",
       "    <tr>\n",
       "      <th>[2.672748879280503, 3.5998372250547837)</th>\n",
       "      <td>361</td>\n",
       "      <td>361.0</td>\n",
       "    </tr>\n",
       "    <tr>\n",
       "      <th>[3.5998372250547837, 4.526925570829066)</th>\n",
       "      <td>19</td>\n",
       "      <td>19.0</td>\n",
       "    </tr>\n",
       "  </tbody>\n",
       "</table>\n",
       "</div>"
      ],
      "text/plain": [
       "                                            count  variance\n",
       "[-4.743957886913747, -3.8168695411394657)      13      13.0\n",
       "[-3.8168695411394657, -2.8897811953651846)    198     198.0\n",
       "[-2.8897811953651846, -1.962692849590903)    2332    2332.0\n",
       "[-1.962692849590903, -1.035604503816622)    12708   12708.0\n",
       "[-1.035604503816622, -0.10851615804234083)  30533   30533.0\n",
       "[-0.10851615804234083, 0.8185721877319407)  33550   33550.0\n",
       "[0.8185721877319407, 1.7456605335062214)    16573   16573.0\n",
       "[1.7456605335062214, 2.672748879280503)      3713    3713.0\n",
       "[2.672748879280503, 3.5998372250547837)       361     361.0\n",
       "[3.5998372250547837, 4.526925570829066)        19      19.0"
      ]
     },
     "execution_count": 15,
     "metadata": {},
     "output_type": "execute_result"
    }
   ],
   "source": [
    "f = uproot.open(\"tmp.root\")\n",
    "h = f[\"name\"].pandas()\n",
    "h"
   ]
  },
  {
   "cell_type": "code",
   "execution_count": 16,
   "metadata": {
    "slideshow": {
     "slide_type": "fragment"
    }
   },
   "outputs": [],
   "source": [
    "f = uproot.recreate(\"tmp.root\")\n",
    "f[\"another\"] = h"
   ]
  },
  {
   "cell_type": "code",
   "execution_count": null,
   "metadata": {
    "slideshow": {
     "slide_type": "slide"
    }
   },
   "outputs": [],
   "source": []
  }
 ],
 "metadata": {
  "celltoolbar": "Slideshow",
  "kernelspec": {
   "display_name": "Python 3",
   "language": "python",
   "name": "python3"
  },
  "language_info": {
   "codemirror_mode": {
    "name": "ipython",
    "version": 3
   },
   "file_extension": ".py",
   "mimetype": "text/x-python",
   "name": "python",
   "nbconvert_exporter": "python",
   "pygments_lexer": "ipython3",
   "version": "3.7.0"
  }
 },
 "nbformat": 4,
 "nbformat_minor": 2
}
