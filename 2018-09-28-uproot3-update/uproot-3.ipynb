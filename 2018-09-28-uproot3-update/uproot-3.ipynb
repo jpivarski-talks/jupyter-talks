{
 "cells": [
  {
   "cell_type": "code",
   "execution_count": null,
   "metadata": {
    "slideshow": {
     "slide_type": "skip"
    }
   },
   "outputs": [],
   "source": [
    "%%HTML\n",
    "<style> div.output {flex-direction: row} div.output > div:only-child {width: 100%} </style>"
   ]
  },
  {
   "cell_type": "code",
   "execution_count": null,
   "metadata": {
    "slideshow": {
     "slide_type": "skip"
    }
   },
   "outputs": [],
   "source": [
    "import numpy\n",
    "numpy.set_printoptions(linewidth=numpy.nan)"
   ]
  },
  {
   "cell_type": "markdown",
   "metadata": {
    "slideshow": {
     "slide_type": "slide"
    }
   },
   "source": [
    "<img style=\"margin-left: auto; margin-right: auto; width: 50%\" src=\"uproot-3.png\"></img>"
   ]
  },
  {
   "cell_type": "markdown",
   "metadata": {
    "slideshow": {
     "slide_type": "slide"
    }
   },
   "source": [
    "What's new?\n",
    "\n",
    "   * more modularization\n",
    "   * jagged array operations\n",
    "   * writing files"
   ]
  },
  {
   "cell_type": "markdown",
   "metadata": {
    "slideshow": {
     "slide_type": "slide"
    }
   },
   "source": [
    "## More modularization\n",
    "\n",
    "uproot 2 had been a single library (depending on Numpy and lz4).\n",
    "\n",
    "<img style=\"margin-left: auto; margin-right: auto; width: 80%\" src=\"abstraction-layers-before.png\"></img>"
   ]
  },
  {
   "cell_type": "markdown",
   "metadata": {
    "slideshow": {
     "slide_type": "slide"
    }
   },
   "source": [
    "## More modularization\n",
    "\n",
    "uproot 3 splits out everything that is not I/O. We'll see the advantage in a moment.\n",
    "\n",
    "<img style=\"margin-left: auto; margin-right: auto; width: 80%\" src=\"abstraction-layers.png\"></img>"
   ]
  },
  {
   "cell_type": "markdown",
   "metadata": {
    "slideshow": {
     "slide_type": "slide"
    }
   },
   "source": [
    "## Jagged array operations\n",
    "\n",
    "Jagged arrays are a minimal unit of nested structure: a list containing lists of varying lengths."
   ]
  },
  {
   "cell_type": "code",
   "execution_count": null,
   "metadata": {},
   "outputs": [],
   "source": [
    "import uproot\n",
    "import numpy\n",
    "f = uproot.open(\"HZZ-objects.root\")\n",
    "t = f[\"events\"]"
   ]
  },
  {
   "cell_type": "code",
   "execution_count": null,
   "metadata": {},
   "outputs": [],
   "source": [
    "a = t.array(\"muoniso\")     # muon isolation variable; multiple per event\n",
    "a"
   ]
  },
  {
   "cell_type": "markdown",
   "metadata": {
    "slideshow": {
     "slide_type": "slide"
    }
   },
   "source": [
    "The implementation is a façade: these are not millions of list objects in memory but two arrays with methods to make them _behave like_ nested lists."
   ]
  },
  {
   "cell_type": "code",
   "execution_count": null,
   "metadata": {},
   "outputs": [],
   "source": [
    "a.offsets"
   ]
  },
  {
   "cell_type": "code",
   "execution_count": null,
   "metadata": {},
   "outputs": [],
   "source": [
    "a.content"
   ]
  },
  {
   "cell_type": "code",
   "execution_count": null,
   "metadata": {},
   "outputs": [],
   "source": [
    "for i, x in enumerate(a):\n",
    "    if i == 20:\n",
    "        break\n",
    "    print(i, x)"
   ]
  },
  {
   "cell_type": "markdown",
   "metadata": {
    "slideshow": {
     "slide_type": "slide"
    }
   },
   "source": [
    "Introducing additional types, like \"table\" as a struct of arrays presented as an array of structs, allows us to make tables of jagged arrays or jagged arrays of tables."
   ]
  },
  {
   "cell_type": "code",
   "execution_count": null,
   "metadata": {},
   "outputs": [],
   "source": [
    "a = t.array(\"muonp4\")\n",
    "a"
   ]
  },
  {
   "cell_type": "code",
   "execution_count": null,
   "metadata": {},
   "outputs": [],
   "source": [
    "a.content.content"
   ]
  },
  {
   "cell_type": "code",
   "execution_count": null,
   "metadata": {},
   "outputs": [],
   "source": [
    "a.content.content.columns"
   ]
  },
  {
   "cell_type": "code",
   "execution_count": null,
   "metadata": {},
   "outputs": [],
   "source": [
    "a[2][\"fX\"]       # subscript commutativity: hide the AoS ↔ SoA distinction"
   ]
  },
  {
   "cell_type": "code",
   "execution_count": null,
   "metadata": {},
   "outputs": [],
   "source": [
    "a[\"fX\"][2]"
   ]
  },
  {
   "cell_type": "markdown",
   "metadata": {
    "slideshow": {
     "slide_type": "slide"
    }
   },
   "source": [
    "We can also mix-in methods from **uproot-methods** to make physics-aware objects, arrays, and jagged arrays:"
   ]
  },
  {
   "cell_type": "code",
   "execution_count": null,
   "metadata": {},
   "outputs": [],
   "source": [
    "one = a[0][0]; two = a[0][1]; one, two"
   ]
  },
  {
   "cell_type": "code",
   "execution_count": null,
   "metadata": {},
   "outputs": [],
   "source": [
    "one + two"
   ]
  },
  {
   "cell_type": "code",
   "execution_count": null,
   "metadata": {},
   "outputs": [],
   "source": [
    "(one + two).mass"
   ]
  },
  {
   "cell_type": "code",
   "execution_count": null,
   "metadata": {
    "slideshow": {
     "slide_type": "fragment"
    }
   },
   "outputs": [],
   "source": [
    "hastwo = (a.counts >= 2); ones = a[hastwo, 0]; twos = a[hastwo, 1]"
   ]
  },
  {
   "cell_type": "code",
   "execution_count": null,
   "metadata": {},
   "outputs": [],
   "source": [
    "ones + twos                # the plus operation \"commutes\" through the array"
   ]
  },
  {
   "cell_type": "code",
   "execution_count": null,
   "metadata": {},
   "outputs": [],
   "source": [
    "(ones + twos).mass         # the mass operation \"commutes\" through the array"
   ]
  },
  {
   "cell_type": "markdown",
   "metadata": {
    "slideshow": {
     "slide_type": "slide"
    }
   },
   "source": [
    "<img src=\"apl-timeline.png\" align=\"right\" style=\"margin-left: 50px; width: 40%\"></img>\n",
    "\n",
    "### Array programming\n",
    "\n",
    "Expresses regular operations over rectangular data structures in shorthand.\n",
    "\n",
    "   * Multidimensional slices: `rgb_pixels[0, 50:100, ::3]`\n",
    "   * Elementwise operations: `all_pz = all_pt * sinh(all_eta)`\n",
    "   * Broadcasting: `all_phi - 2*pi`\n",
    "   * Masking: `data[trigger & (pt > 40)]`\n",
    "   * Fancy indexing: `all_eta[argsort(all_pt)]`\n",
    "   * Array reduction: `array.sum()` → scalar"
   ]
  },
  {
   "cell_type": "markdown",
   "metadata": {
    "slideshow": {
     "slide_type": "slide"
    }
   },
   "source": [
    "Our data are not rectangular, but the syntax can be extended by defining rules for jaggedness."
   ]
  },
  {
   "cell_type": "code",
   "execution_count": null,
   "metadata": {},
   "outputs": [],
   "source": [
    "a2 = a[hastwo]\n",
    "a2[::2, 0]                                                      # Multidimensional slices"
   ]
  },
  {
   "cell_type": "code",
   "execution_count": null,
   "metadata": {
    "slideshow": {
     "slide_type": "fragment"
    }
   },
   "outputs": [],
   "source": [
    "pt = a.pt; eta = a.eta\n",
    "pt * numpy.sinh(eta)                                            # Elementwise operations"
   ]
  },
  {
   "cell_type": "code",
   "execution_count": null,
   "metadata": {
    "slideshow": {
     "slide_type": "fragment"
    }
   },
   "outputs": [],
   "source": [
    "multi_per_event = a.phi; one_per_event = t.array(\"MET\").phi\n",
    "multi_per_event - one_per_event                                 # Broadcasting"
   ]
  },
  {
   "cell_type": "code",
   "execution_count": null,
   "metadata": {
    "slideshow": {
     "slide_type": "slide"
    }
   },
   "outputs": [],
   "source": [
    "a[a.pt > 40]                                                    # Masking by jagged (selects particles)"
   ]
  },
  {
   "cell_type": "code",
   "execution_count": null,
   "metadata": {},
   "outputs": [],
   "source": [
    "a[a.pt.max() > 40]                                              # Masking by flat (selects events)"
   ]
  },
  {
   "cell_type": "code",
   "execution_count": null,
   "metadata": {
    "slideshow": {
     "slide_type": "slide"
    }
   },
   "outputs": [],
   "source": [
    "i = abs(a.eta).argmax()\n",
    "i"
   ]
  },
  {
   "cell_type": "code",
   "execution_count": null,
   "metadata": {},
   "outputs": [],
   "source": [
    "a[i]                                                            # Fancy indexing"
   ]
  },
  {
   "cell_type": "code",
   "execution_count": null,
   "metadata": {},
   "outputs": [],
   "source": [
    "abs(a.eta).max()                                                # Jagged reduction"
   ]
  },
  {
   "cell_type": "code",
   "execution_count": null,
   "metadata": {
    "slideshow": {
     "slide_type": "slide"
    }
   },
   "outputs": [],
   "source": [
    "import awkward                                                                 # Simple, synthetic examples\n",
    "a = awkward.JaggedArray.fromiter([[   1,     2,    3], [], [    4,    5]])     # to illustrate the idea\n",
    "b = awkward.JaggedArray.fromiter([[  10,    20,   30], [], [   40,   50]])\n",
    "m = awkward.JaggedArray.fromiter([[True, False, True], [], [False, True]])\n",
    "flat  = numpy.array([  100,  200,  300])\n",
    "mflat = numpy.array([False, True, True])\n",
    "i = awkward.JaggedArray.fromiter([[2, 1], [], [1, 1, 0, 1]])"
   ]
  },
  {
   "cell_type": "code",
   "execution_count": null,
   "metadata": {},
   "outputs": [],
   "source": [
    "a + b                                                                          # Elementwise operations"
   ]
  },
  {
   "cell_type": "code",
   "execution_count": null,
   "metadata": {},
   "outputs": [],
   "source": [
    "a + flat                                                                       # Broadcasting"
   ]
  },
  {
   "cell_type": "code",
   "execution_count": null,
   "metadata": {},
   "outputs": [],
   "source": [
    "a[m]                                                                           # Masking by jagged (selects particles)"
   ]
  },
  {
   "cell_type": "code",
   "execution_count": null,
   "metadata": {},
   "outputs": [],
   "source": [
    "a[mflat]                                                                       # Masking by flat (selects events)"
   ]
  },
  {
   "cell_type": "code",
   "execution_count": null,
   "metadata": {},
   "outputs": [],
   "source": [
    "a[i]                                                                           # Fancy indexing"
   ]
  },
  {
   "cell_type": "code",
   "execution_count": null,
   "metadata": {},
   "outputs": [],
   "source": [
    "a.sum()                                                                        # Jagged reduction"
   ]
  },
  {
   "cell_type": "markdown",
   "metadata": {
    "slideshow": {
     "slide_type": "slide"
    }
   },
   "source": [
    "<img src=\"logscales.png\" style=\"margin-left: auto; margin-right: auto; width: 90%\"></src>"
   ]
  },
  {
   "cell_type": "markdown",
   "metadata": {
    "slideshow": {
     "slide_type": "slide"
    }
   },
   "source": [
    "Okay, but what about nested for loops? We want something like a jagged \"cross join.\""
   ]
  },
  {
   "cell_type": "code",
   "execution_count": null,
   "metadata": {},
   "outputs": [],
   "source": [
    "import awkward\n",
    "a = awkward.JaggedArray.fromiter([[1, 2, 3], [], [4, 5], [6], [7, 8, 9]])\n",
    "b = awkward.JaggedArray.fromiter([[100, 200], [300], [400], [500, 600, 700], [800, 900]])"
   ]
  },
  {
   "cell_type": "code",
   "execution_count": null,
   "metadata": {
    "slideshow": {
     "slide_type": "-"
    }
   },
   "outputs": [],
   "source": [
    "a.cross(b)   # .tolist()"
   ]
  },
  {
   "cell_type": "code",
   "execution_count": null,
   "metadata": {
    "slideshow": {
     "slide_type": "fragment"
    }
   },
   "outputs": [],
   "source": [
    "print(a.cross(b)._0)\n",
    "print(a.cross(b)._1)"
   ]
  },
  {
   "cell_type": "code",
   "execution_count": null,
   "metadata": {
    "slideshow": {
     "slide_type": "slide"
    }
   },
   "outputs": [],
   "source": [
    "leptoquarks = t.array(\"muonp4\").cross(t.array(\"jetp4\"))\n",
    "leptoquarks                                                          # all muon-jet pairs in each event"
   ]
  },
  {
   "cell_type": "code",
   "execution_count": null,
   "metadata": {
    "slideshow": {
     "slide_type": "fragment"
    }
   },
   "outputs": [],
   "source": [
    "leptoquarks._0 + leptoquarks._1                                      # the muon in each pair plus the jet in each pair"
   ]
  },
  {
   "cell_type": "code",
   "execution_count": null,
   "metadata": {
    "slideshow": {
     "slide_type": "fragment"
    }
   },
   "outputs": [],
   "source": [
    "(leptoquarks._0 + leptoquarks._1).mass                               # the mass of each pair"
   ]
  },
  {
   "cell_type": "code",
   "execution_count": null,
   "metadata": {
    "slideshow": {
     "slide_type": "fragment"
    }
   },
   "outputs": [],
   "source": [
    "physt.h1((leptoquarks._0 + leptoquarks._1).mass.flatten()).plot();   # a one-line search for leptoquarks"
   ]
  },
  {
   "cell_type": "markdown",
   "metadata": {
    "slideshow": {
     "slide_type": "slide"
    }
   },
   "source": [
    "What about nested for loops _without duplicates?_"
   ]
  },
  {
   "cell_type": "code",
   "execution_count": null,
   "metadata": {},
   "outputs": [],
   "source": [
    "import awkward\n",
    "a = awkward.JaggedArray.fromiter([[], [1], [1, 2], [1, 2, 3], [1, 2, 3, 4]])"
   ]
  },
  {
   "cell_type": "code",
   "execution_count": null,
   "metadata": {},
   "outputs": [],
   "source": [
    "a.pairs().tolist()               # same=False"
   ]
  },
  {
   "cell_type": "code",
   "execution_count": null,
   "metadata": {
    "slideshow": {
     "slide_type": "slide"
    }
   },
   "outputs": [],
   "source": [
    "zcandidates = t.array(\"muonp4\").pairs(same=False)\n",
    "(zcandidates._0 + zcandidates._1).mass"
   ]
  },
  {
   "cell_type": "code",
   "execution_count": null,
   "metadata": {
    "slideshow": {
     "slide_type": "fragment"
    }
   },
   "outputs": [],
   "source": [
    "physt.h1((zcandidates._0 + zcandidates._1).mass.flatten(), bins=100).plot();"
   ]
  },
  {
   "cell_type": "code",
   "execution_count": null,
   "metadata": {
    "slideshow": {
     "slide_type": "fragment"
    }
   },
   "outputs": [],
   "source": [
    "charges = t.array(\"muonq\").pairs(same=False)\n",
    "cut = (charges._0 * charges._1 < 0)"
   ]
  },
  {
   "cell_type": "code",
   "execution_count": null,
   "metadata": {
    "scrolled": false,
    "slideshow": {
     "slide_type": "fragment"
    }
   },
   "outputs": [],
   "source": [
    "physt.h1((zcandidates[cut]._0 + zcandidates[cut]._1).mass.flatten(), bins=100).plot();"
   ]
  },
  {
   "cell_type": "markdown",
   "metadata": {
    "slideshow": {
     "slide_type": "slide"
    }
   },
   "source": [
    "<img style=\"float: right; width: 10%\" src=\"jaydeep.jpg\"></img>\n",
    "\n",
    "## Credit\n",
    "\n",
    "Broadcasting, cross, pairs, and a vectorized jagged reduction algorithm were developed by Jaydeep Nandi, a Google Summer of Code student.\n",
    "\n",
    "None of them involve for loops, not even for loops in C, and are good candidates for GPU acceleration.\n",
    "\n",
    "<img style=\"margin-left: auto; margin-right: auto; width: 35%\" src=\"sum_rates_logy.png\"></img>"
   ]
  },
  {
   "cell_type": "markdown",
   "metadata": {
    "slideshow": {
     "slide_type": "slide"
    }
   },
   "source": [
    "<div style=\"margin-left: auto; margin-right: auto; width: 70%\">\n",
    "<p>Are there other looping constructs that can't be expressed like this, which would force you to write a for loop?</p>\n",
    "\n",
    "<p style=\"font-weight: bold\">Probably.</p>\n",
    "\n",
    "<p>But when you encounter such instances, let me know and we'll think about new primitives beyond \"cross\" and \"pairs\" for those cases.</p>\n",
    "</div>"
   ]
  },
  {
   "cell_type": "markdown",
   "metadata": {
    "slideshow": {
     "slide_type": "slide"
    }
   },
   "source": [
    "Purely for streamlined expression (syntactic sugar), a few higher-order functions have been defined.\n",
    "\n",
    "   * `array.apply(function)` performs `function(array)`\n",
    "   * `array.filter(function)` performs `array[function(array)]`\n",
    "   * `array.maxby(function)` performs `array[function(array).argmax()]`\n",
    "   * `array.minby(function)` performs `array[function(array).argmin()]`"
   ]
  },
  {
   "cell_type": "code",
   "execution_count": null,
   "metadata": {
    "slideshow": {
     "slide_type": "fragment"
    }
   },
   "outputs": [],
   "source": [
    "physt.h1(t.array(\"muonp4\")                          # get the muon 4-vectors\n",
    "          .filter(lambda muon: abs(muon.eta) < 1)   # select central muons (select particles, not events)\n",
    "          .pairs(same=False)                        # form all non-duplicate pairs\n",
    "          .apply(lambda a, b: a + b)                # compute Z candidates from as 4-vector sums\n",
    "          .maxby(lambda z: z.pt)                    # select one per event, the highest pT\n",
    "          .flatten()                                # flatten [x] → x and [] → nothing (ignore empty events)\n",
    "          .mass,                                    # compute the masses of what remains\n",
    "         bins=100).plot();"
   ]
  },
  {
   "cell_type": "markdown",
   "metadata": {
    "slideshow": {
     "slide_type": "slide"
    }
   },
   "source": [
    "## Where is this headed?\n",
    "\n",
    "**awkward-array** is distinct from **uproot**, with potential uses on data beyond ROOT files.\n",
    "\n",
    "In the next few months, I hope to...\n",
    "\n",
    "   * add support for other \"awkward\" array types: chunked, masked, indexed\n",
    "   * add Pandas extensions so that Pandas columns can be \"awkward\"\n",
    "   * add Numba extensions so you can write fast for loops if you need to\n",
    "   * add Dask extensions so you can distribute work across a cluster\n",
    "   * use Apache Arrow as input, which could allow efficient processing of nested data in PySpark (depending on Spark developments to provide Arrow buffers)"
   ]
  },
  {
   "cell_type": "markdown",
   "metadata": {
    "slideshow": {
     "slide_type": "slide"
    }
   },
   "source": [
    "## Writing files\n",
    "\n",
    "uproot can now write histograms to files. It has the same dict-like interface as reading:"
   ]
  },
  {
   "cell_type": "code",
   "execution_count": null,
   "metadata": {
    "slideshow": {
     "slide_type": "-"
    }
   },
   "outputs": [],
   "source": [
    "f = uproot.recreate(\"tmp.root\")                                  # instead of uproot.open\n",
    "f[\"name\"] = numpy.histogram(numpy.random.normal(0, 1, 100000))   # any kind of histogram"
   ]
  },
  {
   "cell_type": "code",
   "execution_count": null,
   "metadata": {
    "slideshow": {
     "slide_type": "fragment"
    }
   },
   "outputs": [],
   "source": [
    "f[\"name\"].show()                                                 # read it back out"
   ]
  },
  {
   "cell_type": "code",
   "execution_count": null,
   "metadata": {
    "slideshow": {
     "slide_type": "slide"
    }
   },
   "outputs": [],
   "source": [
    "import ROOT\n",
    "c = ROOT.TCanvas()"
   ]
  },
  {
   "cell_type": "code",
   "execution_count": null,
   "metadata": {
    "slideshow": {
     "slide_type": "-"
    }
   },
   "outputs": [],
   "source": [
    "f = ROOT.TFile(\"tmp.root\")                    # ROOT can read it, too\n",
    "h = f.Get(\"name\")\n",
    "h.Draw()\n",
    "c.Draw()"
   ]
  },
  {
   "cell_type": "code",
   "execution_count": null,
   "metadata": {
    "slideshow": {
     "slide_type": "slide"
    }
   },
   "outputs": [],
   "source": [
    "f = ROOT.TFile(\"tmp.root\", \"UPDATE\")          # ROOT can add to the same file, too\n",
    "h = ROOT.TH1D(\"another\", \"\", 10, -5, 5)\n",
    "for x in numpy.random.normal(0, 1, 100000):\n",
    "    h.Fill(x)\n",
    "h.Write()\n",
    "f.Close()"
   ]
  },
  {
   "cell_type": "code",
   "execution_count": null,
   "metadata": {
    "slideshow": {
     "slide_type": "fragment"
    }
   },
   "outputs": [],
   "source": [
    "f = uproot.open(\"tmp.root\")\n",
    "f[\"another\"].show()"
   ]
  },
  {
   "cell_type": "markdown",
   "metadata": {
    "slideshow": {
     "slide_type": "slide"
    }
   },
   "source": [
    "uproot could become a clearinghouse for histograms from different libraries."
   ]
  },
  {
   "cell_type": "code",
   "execution_count": null,
   "metadata": {
    "slideshow": {
     "slide_type": "-"
    }
   },
   "outputs": [],
   "source": [
    "%matplotlib inline\n",
    "import physt                       # physt is a pure Python histogram library: https://physt.readthedocs.io"
   ]
  },
  {
   "cell_type": "code",
   "execution_count": null,
   "metadata": {
    "slideshow": {
     "slide_type": "-"
    }
   },
   "outputs": [],
   "source": [
    "h = physt.h1(numpy.random.normal(0, 1, 100000), bins=16, range=(-4, 4), name=\"physt histogram\")\n",
    "h.plot();"
   ]
  },
  {
   "cell_type": "code",
   "execution_count": null,
   "metadata": {
    "slideshow": {
     "slide_type": "fragment"
    }
   },
   "outputs": [],
   "source": [
    "f = uproot.recreate(\"tmp.root\")   # save the physt histogram as a TH1D (making the necessary translations)\n",
    "f[\"name\"] = h"
   ]
  },
  {
   "cell_type": "code",
   "execution_count": null,
   "metadata": {
    "slideshow": {
     "slide_type": "slide"
    }
   },
   "outputs": [],
   "source": [
    "f = uproot.open(\"tmp.root\")       # read the ROOT histogram back and convert it to physt\n",
    "f[\"name\"].physt().plot();"
   ]
  },
  {
   "cell_type": "code",
   "execution_count": null,
   "metadata": {
    "slideshow": {
     "slide_type": "fragment"
    }
   },
   "outputs": [],
   "source": [
    "f[\"name\"].numpy()                  # or Numpy, a format Matplotlib recognizes"
   ]
  },
  {
   "cell_type": "code",
   "execution_count": null,
   "metadata": {
    "slideshow": {
     "slide_type": "slide"
    }
   },
   "outputs": [],
   "source": [
    "f = ROOT.TFile(\"tmp.root\")         # but look, it's really a ROOT file; ROOT recognizes it as a histogram\n",
    "h = f.Get(\"name\")\n",
    "h.Draw()\n",
    "c.Draw()"
   ]
  },
  {
   "cell_type": "markdown",
   "metadata": {
    "slideshow": {
     "slide_type": "slide"
    }
   },
   "source": [
    "This can also include new ways of representing histograms."
   ]
  },
  {
   "cell_type": "code",
   "execution_count": null,
   "metadata": {
    "scrolled": true,
    "slideshow": {
     "slide_type": "-"
    }
   },
   "outputs": [],
   "source": [
    "f = uproot.open(\"tmp.root\")\n",
    "print(f[\"name\"].hepdata())      # YAML format for the HEPData archival site"
   ]
  },
  {
   "cell_type": "markdown",
   "metadata": {
    "slideshow": {
     "slide_type": "slide"
    }
   },
   "source": [
    "Including an idea I've been working on: Pandas DataFrames with an interval index _are_ histograms."
   ]
  },
  {
   "cell_type": "code",
   "execution_count": null,
   "metadata": {
    "slideshow": {
     "slide_type": "-"
    }
   },
   "outputs": [],
   "source": [
    "f = uproot.open(\"tmp.root\")\n",
    "h = f[\"name\"].pandas()              # read the histogram as a DataFrame with interval index\n",
    "h"
   ]
  },
  {
   "cell_type": "code",
   "execution_count": null,
   "metadata": {
    "slideshow": {
     "slide_type": "fragment"
    }
   },
   "outputs": [],
   "source": [
    "f = uproot.recreate(\"tmp.root\")     # write DataFrames in the same format as ROOT histograms\n",
    "f[\"another\"] = h"
   ]
  },
  {
   "cell_type": "markdown",
   "metadata": {
    "slideshow": {
     "slide_type": "slide"
    }
   },
   "source": [
    "Given the way Pandas handles indexes (interval indexes in particular), Pandas-as-histograms are sparse histograms."
   ]
  },
  {
   "cell_type": "code",
   "execution_count": null,
   "metadata": {
    "slideshow": {
     "slide_type": "-"
    }
   },
   "outputs": [],
   "source": [
    "f = uproot.recreate(\"tmp.root\")\n",
    "f[\"one\"]   = numpy.histogram(numpy.random.normal(1, 0.6, 10000), bins=8, range=(0, 8))\n",
    "f[\"two\"]   = numpy.histogram(numpy.random.normal(3, 0.4, 10000), bins=8, range=(0, 8))\n",
    "f[\"three\"] = numpy.histogram(numpy.random.normal(9, 0.6, 100000), bins=8, range=(0, 8))\n",
    "one   = f[\"one\"].pandas()\n",
    "two   = f[\"two\"].pandas()\n",
    "three = f[\"three\"].pandas()"
   ]
  },
  {
   "cell_type": "code",
   "execution_count": null,
   "metadata": {},
   "outputs": [],
   "source": [
    "from IPython.display import display\n",
    "display(one); display(two); display(three);"
   ]
  },
  {
   "cell_type": "markdown",
   "metadata": {
    "slideshow": {
     "slide_type": "slide"
    }
   },
   "source": [
    "Adding DataFrames matches up intervals and fills in missing values with NaN (0 if we explicitly set it)."
   ]
  },
  {
   "cell_type": "code",
   "execution_count": null,
   "metadata": {
    "slideshow": {
     "slide_type": "-"
    }
   },
   "outputs": [],
   "source": [
    "import functools\n",
    "def add(*args):\n",
    "    return functools.reduce(lambda x, y: x.add(y, fill_value=0), args)\n",
    "\n",
    "display(add(one, two)); display(add(two, three)); display(add(one, two, three))"
   ]
  },
  {
   "cell_type": "code",
   "execution_count": null,
   "metadata": {
    "slideshow": {
     "slide_type": "fragment"
    }
   },
   "outputs": [],
   "source": [
    "f[\"all\"] = add(one, two, three)\n",
    "f[\"all\"].physt().plot();"
   ]
  },
  {
   "cell_type": "markdown",
   "metadata": {
    "slideshow": {
     "slide_type": "slide"
    }
   },
   "source": [
    "## Modularized file-writing and histogram-conversion\n",
    "\n",
    "   * all of the histogram-writing code (what bytes go to the file) is in **uproot**\n",
    "   * all of the code that recognizes different histogram libraries and converts them is in **uproot-methods**\n",
    "\n",
    "**uproot-methods** can be updated independently from (and more rapidly than) **uproot**.\n",
    "\n",
    "<img style=\"margin-left: auto; margin-right: auto; width: 70%\" src=\"abstraction-layers.png\"></img>"
   ]
  },
  {
   "cell_type": "markdown",
   "metadata": {
    "slideshow": {
     "slide_type": "slide"
    }
   },
   "source": [
    "<img style=\"float: right; width: 40%\" src=\"pratyush.jpg\"></img>\n",
    "\n",
    "## Credit\n",
    "\n",
    "The ROOT-writing feature was developed by Pratyush Das, a DIANA-HEP undergraduate fellow.\n",
    "\n",
    "(Most of the work was writing _anything_ to a ROOT file; histograms were done in the last week!)"
   ]
  },
  {
   "cell_type": "markdown",
   "metadata": {
    "slideshow": {
     "slide_type": "slide"
    }
   },
   "source": [
    "In the meantime, try it out!\n",
    "\n",
    "<div style=\"display: block; width: 80%; margin-left: auto; margin-right: auto; margin-top: 100px; margin-bottom: 100px\">\n",
    "    <tt>pip install uproot</tt>\n",
    "</div>\n",
    "\n",
    "Live tutorials (Binder) are available on uproot's GitHub site.\n",
    "\n",
    "**Thanks!**"
   ]
  }
 ],
 "metadata": {
  "celltoolbar": "Slideshow",
  "kernelspec": {
   "display_name": "Python 3",
   "language": "python",
   "name": "python3"
  },
  "language_info": {
   "codemirror_mode": {
    "name": "ipython",
    "version": 3
   },
   "file_extension": ".py",
   "mimetype": "text/x-python",
   "name": "python",
   "nbconvert_exporter": "python",
   "pygments_lexer": "ipython3",
   "version": "3.7.0"
  }
 },
 "nbformat": 4,
 "nbformat_minor": 2
}
