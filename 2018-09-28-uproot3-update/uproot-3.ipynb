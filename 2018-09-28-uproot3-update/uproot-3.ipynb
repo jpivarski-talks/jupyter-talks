{
 "cells": [
  {
   "cell_type": "code",
   "execution_count": 1,
   "metadata": {
    "slideshow": {
     "slide_type": "skip"
    }
   },
   "outputs": [
    {
     "data": {
      "text/html": [
       "<style> div.output {flex-direction: row} div.output > div:only-child {width: 100%} </style>"
      ],
      "text/plain": [
       "<IPython.core.display.HTML object>"
      ]
     },
     "metadata": {},
     "output_type": "display_data"
    }
   ],
   "source": [
    "%%HTML\n",
    "<style> div.output {flex-direction: row} div.output > div:only-child {width: 100%} </style>"
   ]
  },
  {
   "cell_type": "code",
   "execution_count": 2,
   "metadata": {
    "slideshow": {
     "slide_type": "skip"
    }
   },
   "outputs": [],
   "source": [
    "import numpy\n",
    "numpy.set_printoptions(linewidth=numpy.nan)"
   ]
  },
  {
   "cell_type": "markdown",
   "metadata": {
    "slideshow": {
     "slide_type": "slide"
    }
   },
   "source": [
    "<img style=\"margin-left: auto; margin-right: auto; width: 50%\" src=\"uproot-3.png\"></img>"
   ]
  },
  {
   "cell_type": "markdown",
   "metadata": {
    "slideshow": {
     "slide_type": "slide"
    }
   },
   "source": [
    "What's new?\n",
    "\n",
    "   * more modularization\n",
    "   * writing files\n",
    "   * jagged array operations"
   ]
  },
  {
   "cell_type": "markdown",
   "metadata": {
    "slideshow": {
     "slide_type": "slide"
    }
   },
   "source": [
    "## More modularization\n",
    "\n",
    "uproot 2 had been a single library (optionally depending on lz4).\n",
    "\n",
    "<img style=\"margin-left: auto; margin-right: auto; width: 80%\" src=\"abstraction-layers-before.png\"></img>"
   ]
  },
  {
   "cell_type": "markdown",
   "metadata": {
    "slideshow": {
     "slide_type": "slide"
    }
   },
   "source": [
    "## More modularization\n",
    "\n",
    "uproot 3 splits out everything that is not I/O. We'll see the advantage in a moment.\n",
    "\n",
    "<img style=\"margin-left: auto; margin-right: auto; width: 80%\" src=\"abstraction-layers.png\"></img>"
   ]
  },
  {
   "cell_type": "markdown",
   "metadata": {
    "slideshow": {
     "slide_type": "slide"
    }
   },
   "source": [
    "## Writing files\n",
    "\n",
    "uproot can now write histograms to files. It has the same dict-like interface as reading:"
   ]
  },
  {
   "cell_type": "code",
   "execution_count": 3,
   "metadata": {
    "slideshow": {
     "slide_type": "-"
    }
   },
   "outputs": [],
   "source": [
    "import uproot\n",
    "import numpy\n",
    "\n",
    "f = uproot.recreate(\"tmp.root\")                                  # instead of uproot.open\n",
    "f[\"name\"] = numpy.histogram(numpy.random.normal(0, 1, 100000))   # any kind of histogram"
   ]
  },
  {
   "cell_type": "code",
   "execution_count": 4,
   "metadata": {
    "slideshow": {
     "slide_type": "fragment"
    }
   },
   "outputs": [
    {
     "name": "stdout",
     "output_type": "stream",
     "text": [
      "                          0                                                36362\n",
      "                          +----------------------------------------------------+\n",
      "[-inf, -4.8262)     0     |                                                    |\n",
      "[-4.8262, -3.9238)  3     |                                                    |\n",
      "[-3.9238, -3.0214)  124   |                                                    |\n",
      "[-3.0214, -2.119)   1598  |**                                                  |\n",
      "[-2.119, -1.2166)   9291  |*************                                       |\n",
      "[-1.2166, -0.31421) 26451 |**************************************              |\n",
      "[-0.31421, 0.58818) 34630 |**************************************************  |\n",
      "[0.58818, 1.4906)   21079 |******************************                      |\n",
      "[1.4906, 2.393)     5955  |*********                                           |\n",
      "[2.393, 3.2954)     812   |*                                                   |\n",
      "[3.2954, 4.1977)    57    |                                                    |\n",
      "[4.1977, inf]       0     |                                                    |\n",
      "                          +----------------------------------------------------+\n"
     ]
    }
   ],
   "source": [
    "f[\"name\"].show()                                                 # read it back out"
   ]
  },
  {
   "cell_type": "code",
   "execution_count": 5,
   "metadata": {
    "slideshow": {
     "slide_type": "slide"
    }
   },
   "outputs": [
    {
     "name": "stdout",
     "output_type": "stream",
     "text": [
      "Welcome to JupyROOT 6.14/04\n"
     ]
    }
   ],
   "source": [
    "import ROOT\n",
    "c = ROOT.TCanvas()"
   ]
  },
  {
   "cell_type": "code",
   "execution_count": 6,
   "metadata": {
    "slideshow": {
     "slide_type": "-"
    }
   },
   "outputs": [
    {
     "data": {
      "image/png": "[encoded data removed]",
      "text/plain": [
       "<IPython.core.display.Image object>"
      ]
     },
     "metadata": {},
     "output_type": "display_data"
    }
   ],
   "source": [
    "f = ROOT.TFile(\"tmp.root\")                    # ROOT can read it, too\n",
    "h = f.Get(\"name\")\n",
    "h.Draw()\n",
    "c.Draw()"
   ]
  },
  {
   "cell_type": "code",
   "execution_count": 7,
   "metadata": {
    "slideshow": {
     "slide_type": "slide"
    }
   },
   "outputs": [],
   "source": [
    "f = ROOT.TFile(\"tmp.root\", \"UPDATE\")          # ROOT can add to the same file, too\n",
    "h = ROOT.TH1D(\"another\", \"\", 10, -5, 5)\n",
    "for x in numpy.random.normal(0, 1, 100000):\n",
    "    h.Fill(x)\n",
    "h.Write()\n",
    "f.Close()"
   ]
  },
  {
   "cell_type": "code",
   "execution_count": 8,
   "metadata": {
    "slideshow": {
     "slide_type": "fragment"
    }
   },
   "outputs": [
    {
     "name": "stdout",
     "output_type": "stream",
     "text": [
      "                 0                                                         35737\n",
      "                 +-------------------------------------------------------------+\n",
      "[-inf, -5) 0     |                                                             |\n",
      "[-5, -4)   5     |                                                             |\n",
      "[-4, -3)   119   |                                                             |\n",
      "[-3, -2)   2133  |****                                                         |\n",
      "[-2, -1)   13740 |***********************                                      |\n",
      "[-1, 0)    34026 |**********************************************************   |\n",
      "[0, 1)     34035 |**********************************************************   |\n",
      "[1, 2)     13608 |***********************                                      |\n",
      "[2, 3)     2224  |****                                                         |\n",
      "[3, 4)     109   |                                                             |\n",
      "[4, 5)     1     |                                                             |\n",
      "[5, inf]   0     |                                                             |\n",
      "                 +-------------------------------------------------------------+\n"
     ]
    }
   ],
   "source": [
    "f = uproot.open(\"tmp.root\")\n",
    "f[\"another\"].show()"
   ]
  },
  {
   "cell_type": "markdown",
   "metadata": {
    "slideshow": {
     "slide_type": "slide"
    }
   },
   "source": [
    "uproot could become a clearinghouse for histograms from different libraries."
   ]
  },
  {
   "cell_type": "code",
   "execution_count": 9,
   "metadata": {
    "slideshow": {
     "slide_type": "-"
    }
   },
   "outputs": [],
   "source": [
    "%matplotlib inline\n",
    "import physt                    # https://physt.readthedocs.io"
   ]
  },
  {
   "cell_type": "code",
   "execution_count": 10,
   "metadata": {
    "slideshow": {
     "slide_type": "-"
    }
   },
   "outputs": [
    {
     "data": {
      "image/png": "[encoded data removed]",
      "text/plain": [
       "<Figure size 432x288 with 1 Axes>"
      ]
     },
     "metadata": {
      "needs_background": "light"
     },
     "output_type": "display_data"
    }
   ],
   "source": [
    "h = physt.h1(numpy.random.normal(0, 1, 100000),\n",
    "             bins=16, range=(-4, 4), name=\"physt histogram\")\n",
    "h.plot();"
   ]
  },
  {
   "cell_type": "code",
   "execution_count": 11,
   "metadata": {
    "slideshow": {
     "slide_type": "fragment"
    }
   },
   "outputs": [],
   "source": [
    "f = uproot.recreate(\"tmp.root\")   # save it as a TH1D\n",
    "f[\"name\"] = h"
   ]
  },
  {
   "cell_type": "code",
   "execution_count": 12,
   "metadata": {
    "slideshow": {
     "slide_type": "slide"
    }
   },
   "outputs": [
    {
     "data": {
      "image/png": "[encoded data removed]",
      "text/plain": [
       "<Figure size 432x288 with 1 Axes>"
      ]
     },
     "metadata": {
      "needs_background": "light"
     },
     "output_type": "display_data"
    }
   ],
   "source": [
    "f = uproot.open(\"tmp.root\")       # read it back and convert it back to physt\n",
    "f[\"name\"].physt().plot();"
   ]
  },
  {
   "cell_type": "code",
   "execution_count": 13,
   "metadata": {
    "slideshow": {
     "slide_type": "fragment"
    }
   },
   "outputs": [
    {
     "data": {
      "text/plain": [
       "(array([   21,    86,   477,  1649,  4368,  9342, 15015, 19277, 19093, 14760,  9253,  4376,  1626,   508,   118,    24], dtype=int32),\n",
       " array([-4. , -3.5, -3. , -2.5, -2. , -1.5, -1. , -0.5,  0. ,  0.5,  1. ,  1.5,  2. ,  2.5,  3. ,  3.5,  4. ]))"
      ]
     },
     "execution_count": 13,
     "metadata": {},
     "output_type": "execute_result"
    }
   ],
   "source": [
    "f[\"name\"].numpy()                  # or numpy"
   ]
  },
  {
   "cell_type": "code",
   "execution_count": 14,
   "metadata": {
    "slideshow": {
     "slide_type": "slide"
    }
   },
   "outputs": [
    {
     "data": {
      "image/png": "[encoded data removed]",
      "text/plain": [
       "<IPython.core.display.Image object>"
      ]
     },
     "metadata": {},
     "output_type": "display_data"
    }
   ],
   "source": [
    "f = ROOT.TFile(\"tmp.root\")         # but look, it's really ROOT\n",
    "h = f.Get(\"name\")\n",
    "h.Draw()\n",
    "c.Draw()"
   ]
  },
  {
   "cell_type": "markdown",
   "metadata": {
    "slideshow": {
     "slide_type": "slide"
    }
   },
   "source": [
    "This can also include new ways of looking at histograms."
   ]
  },
  {
   "cell_type": "code",
   "execution_count": 15,
   "metadata": {
    "scrolled": true,
    "slideshow": {
     "slide_type": "-"
    }
   },
   "outputs": [
    {
     "name": "stdout",
     "output_type": "stream",
     "text": [
      "dependent_variables:\n",
      "- header: {name: counts, units: null}\n",
      "  qualifiers: []\n",
      "  values:\n",
      "  - errors:\n",
      "    - {label: stat, symerror: 4.58257569495584}\n",
      "    value: 21.0\n",
      "  - errors:\n",
      "    - {label: stat, symerror: 9.273618495495704}\n",
      "    value: 86.0\n",
      "  - errors:\n",
      "    - {label: stat, symerror: 21.840329667841555}\n",
      "    value: 477.0\n",
      "  - errors:\n",
      "    - {label: stat, symerror: 40.607881008493905}\n",
      "    value: 1649.0\n",
      "  - errors:\n",
      "    - {label: stat, symerror: 66.09084656743322}\n",
      "    value: 4368.0\n",
      "  - errors:\n",
      "    - {label: stat, symerror: 96.65402216152208}\n",
      "    value: 9342.0\n",
      "  - errors:\n",
      "    - {label: stat, symerror: 122.53570908106747}\n",
      "    value: 15015.0\n",
      "  - errors:\n",
      "    - {label: stat, symerror: 138.84163640637487}\n",
      "    value: 19277.0\n",
      "  - errors:\n",
      "    - {label: stat, symerror: 138.1774221788784}\n",
      "    value: 19093.0\n",
      "  - errors:\n",
      "    - {label: stat, symerror: 121.49074038789952}\n",
      "    value: 14760.0\n",
      "  - errors:\n",
      "    - {label: stat, symerror: 96.19251530134764}\n",
      "    value: 9253.0\n",
      "  - errors:\n",
      "    - {label: stat, symerror: 66.15134163416491}\n",
      "    value: 4376.0\n",
      "  - errors:\n",
      "    - {label: stat, symerror: 40.32369030731191}\n",
      "    value: 1626.0\n",
      "  - errors:\n",
      "    - {label: stat, symerror: 22.538855339169288}\n",
      "    value: 508.0\n",
      "  - errors:\n",
      "    - {label: stat, symerror: 10.862780491200215}\n",
      "    value: 118.0\n",
      "  - errors:\n",
      "    - {label: stat, symerror: 4.898979485566356}\n",
      "    value: 24.0\n",
      "independent_variables:\n",
      "- header: {name: physt histogram, units: null}\n",
      "  values:\n",
      "  - {high: -3.5, low: -4.0}\n",
      "  - {high: -3.0, low: -3.5}\n",
      "  - {high: -2.5, low: -3.0}\n",
      "  - {high: -2.0, low: -2.5}\n",
      "  - {high: -1.5, low: -2.0}\n",
      "  - {high: -1.0, low: -1.5}\n",
      "  - {high: -0.5, low: -1.0}\n",
      "  - {high: 0.0, low: -0.5}\n",
      "  - {high: 0.5, low: 0.0}\n",
      "  - {high: 1.0, low: 0.5}\n",
      "  - {high: 1.5, low: 1.0}\n",
      "  - {high: 2.0, low: 1.5}\n",
      "  - {high: 2.5, low: 2.0}\n",
      "  - {high: 3.0, low: 2.5}\n",
      "  - {high: 3.5, low: 3.0}\n",
      "  - {high: 4.0, low: 3.5}\n",
      "\n"
     ]
    }
   ],
   "source": [
    "f = uproot.open(\"tmp.root\")\n",
    "print(f[\"name\"].hepdata())      # YAML format for the HEPData archival site"
   ]
  },
  {
   "cell_type": "markdown",
   "metadata": {
    "slideshow": {
     "slide_type": "slide"
    }
   },
   "source": [
    "This includes an idea I've been working on in which Pandas DataFrames with an interval index _are_ histograms."
   ]
  },
  {
   "cell_type": "code",
   "execution_count": 16,
   "metadata": {
    "slideshow": {
     "slide_type": "-"
    }
   },
   "outputs": [
    {
     "data": {
      "text/html": [
       "<div>\n",
       "<style scoped>\n",
       "    .dataframe tbody tr th:only-of-type {\n",
       "        vertical-align: middle;\n",
       "    }\n",
       "\n",
       "    .dataframe tbody tr th {\n",
       "        vertical-align: top;\n",
       "    }\n",
       "\n",
       "    .dataframe thead th {\n",
       "        text-align: right;\n",
       "    }\n",
       "</style>\n",
       "<table border=\"1\" class=\"dataframe\">\n",
       "  <thead>\n",
       "    <tr style=\"text-align: right;\">\n",
       "      <th></th>\n",
       "      <th>count</th>\n",
       "      <th>variance</th>\n",
       "    </tr>\n",
       "    <tr>\n",
       "      <th>physt histogram</th>\n",
       "      <th></th>\n",
       "      <th></th>\n",
       "    </tr>\n",
       "  </thead>\n",
       "  <tbody>\n",
       "    <tr>\n",
       "      <th>[-inf, -4.0)</th>\n",
       "      <td>2</td>\n",
       "      <td>0.0</td>\n",
       "    </tr>\n",
       "    <tr>\n",
       "      <th>[-4.0, -3.5)</th>\n",
       "      <td>21</td>\n",
       "      <td>21.0</td>\n",
       "    </tr>\n",
       "    <tr>\n",
       "      <th>[-3.5, -3.0)</th>\n",
       "      <td>86</td>\n",
       "      <td>86.0</td>\n",
       "    </tr>\n",
       "    <tr>\n",
       "      <th>[-3.0, -2.5)</th>\n",
       "      <td>477</td>\n",
       "      <td>477.0</td>\n",
       "    </tr>\n",
       "    <tr>\n",
       "      <th>[-2.5, -2.0)</th>\n",
       "      <td>1649</td>\n",
       "      <td>1649.0</td>\n",
       "    </tr>\n",
       "    <tr>\n",
       "      <th>[-2.0, -1.5)</th>\n",
       "      <td>4368</td>\n",
       "      <td>4368.0</td>\n",
       "    </tr>\n",
       "    <tr>\n",
       "      <th>[-1.5, -1.0)</th>\n",
       "      <td>9342</td>\n",
       "      <td>9342.0</td>\n",
       "    </tr>\n",
       "    <tr>\n",
       "      <th>[-1.0, -0.5)</th>\n",
       "      <td>15015</td>\n",
       "      <td>15015.0</td>\n",
       "    </tr>\n",
       "    <tr>\n",
       "      <th>[-0.5, 0.0)</th>\n",
       "      <td>19277</td>\n",
       "      <td>19277.0</td>\n",
       "    </tr>\n",
       "    <tr>\n",
       "      <th>[0.0, 0.5)</th>\n",
       "      <td>19093</td>\n",
       "      <td>19093.0</td>\n",
       "    </tr>\n",
       "    <tr>\n",
       "      <th>[0.5, 1.0)</th>\n",
       "      <td>14760</td>\n",
       "      <td>14760.0</td>\n",
       "    </tr>\n",
       "    <tr>\n",
       "      <th>[1.0, 1.5)</th>\n",
       "      <td>9253</td>\n",
       "      <td>9253.0</td>\n",
       "    </tr>\n",
       "    <tr>\n",
       "      <th>[1.5, 2.0)</th>\n",
       "      <td>4376</td>\n",
       "      <td>4376.0</td>\n",
       "    </tr>\n",
       "    <tr>\n",
       "      <th>[2.0, 2.5)</th>\n",
       "      <td>1626</td>\n",
       "      <td>1626.0</td>\n",
       "    </tr>\n",
       "    <tr>\n",
       "      <th>[2.5, 3.0)</th>\n",
       "      <td>508</td>\n",
       "      <td>508.0</td>\n",
       "    </tr>\n",
       "    <tr>\n",
       "      <th>[3.0, 3.5)</th>\n",
       "      <td>118</td>\n",
       "      <td>118.0</td>\n",
       "    </tr>\n",
       "    <tr>\n",
       "      <th>[3.5, 4.0)</th>\n",
       "      <td>24</td>\n",
       "      <td>24.0</td>\n",
       "    </tr>\n",
       "    <tr>\n",
       "      <th>[4.0, inf)</th>\n",
       "      <td>5</td>\n",
       "      <td>0.0</td>\n",
       "    </tr>\n",
       "  </tbody>\n",
       "</table>\n",
       "</div>"
      ],
      "text/plain": [
       "                 count  variance\n",
       "physt histogram                 \n",
       "[-inf, -4.0)         2       0.0\n",
       "[-4.0, -3.5)        21      21.0\n",
       "[-3.5, -3.0)        86      86.0\n",
       "[-3.0, -2.5)       477     477.0\n",
       "[-2.5, -2.0)      1649    1649.0\n",
       "[-2.0, -1.5)      4368    4368.0\n",
       "[-1.5, -1.0)      9342    9342.0\n",
       "[-1.0, -0.5)     15015   15015.0\n",
       "[-0.5, 0.0)      19277   19277.0\n",
       "[0.0, 0.5)       19093   19093.0\n",
       "[0.5, 1.0)       14760   14760.0\n",
       "[1.0, 1.5)        9253    9253.0\n",
       "[1.5, 2.0)        4376    4376.0\n",
       "[2.0, 2.5)        1626    1626.0\n",
       "[2.5, 3.0)         508     508.0\n",
       "[3.0, 3.5)         118     118.0\n",
       "[3.5, 4.0)          24      24.0\n",
       "[4.0, inf)           5       0.0"
      ]
     },
     "execution_count": 16,
     "metadata": {},
     "output_type": "execute_result"
    }
   ],
   "source": [
    "f = uproot.open(\"tmp.root\")         # read as histogram\n",
    "h = f[\"name\"].pandas()\n",
    "h"
   ]
  },
  {
   "cell_type": "code",
   "execution_count": 17,
   "metadata": {
    "slideshow": {
     "slide_type": "fragment"
    }
   },
   "outputs": [],
   "source": [
    "f = uproot.recreate(\"tmp.root\")     # write as histogram\n",
    "f[\"another\"] = h"
   ]
  },
  {
   "cell_type": "markdown",
   "metadata": {
    "slideshow": {
     "slide_type": "slide"
    }
   },
   "source": [
    "Given the way Pandas handles indexes (interval indexes in particular), Pandas-as-histograms are sparse histograms."
   ]
  },
  {
   "cell_type": "code",
   "execution_count": 18,
   "metadata": {
    "slideshow": {
     "slide_type": "-"
    }
   },
   "outputs": [],
   "source": [
    "f = uproot.recreate(\"tmp.root\")\n",
    "f[\"one\"]   = numpy.histogram(numpy.random.normal(1, 0.6, 10000), bins=8, range=(0, 8))\n",
    "f[\"two\"]   = numpy.histogram(numpy.random.normal(3, 0.4, 10000), bins=8, range=(0, 8))\n",
    "f[\"three\"] = numpy.histogram(numpy.random.normal(9, 0.6, 100000), bins=8, range=(0, 8))\n",
    "one   = f[\"one\"].pandas()\n",
    "two   = f[\"two\"].pandas()\n",
    "three = f[\"three\"].pandas()"
   ]
  },
  {
   "cell_type": "code",
   "execution_count": 19,
   "metadata": {},
   "outputs": [
    {
     "data": {
      "text/html": [
       "<div>\n",
       "<style scoped>\n",
       "    .dataframe tbody tr th:only-of-type {\n",
       "        vertical-align: middle;\n",
       "    }\n",
       "\n",
       "    .dataframe tbody tr th {\n",
       "        vertical-align: top;\n",
       "    }\n",
       "\n",
       "    .dataframe thead th {\n",
       "        text-align: right;\n",
       "    }\n",
       "</style>\n",
       "<table border=\"1\" class=\"dataframe\">\n",
       "  <thead>\n",
       "    <tr style=\"text-align: right;\">\n",
       "      <th></th>\n",
       "      <th>count</th>\n",
       "      <th>variance</th>\n",
       "    </tr>\n",
       "  </thead>\n",
       "  <tbody>\n",
       "    <tr>\n",
       "      <th>[0.0, 1.0)</th>\n",
       "      <td>4568</td>\n",
       "      <td>4568</td>\n",
       "    </tr>\n",
       "    <tr>\n",
       "      <th>[1.0, 2.0)</th>\n",
       "      <td>4483</td>\n",
       "      <td>4483</td>\n",
       "    </tr>\n",
       "    <tr>\n",
       "      <th>[2.0, 3.0)</th>\n",
       "      <td>448</td>\n",
       "      <td>448</td>\n",
       "    </tr>\n",
       "    <tr>\n",
       "      <th>[3.0, 4.0)</th>\n",
       "      <td>4</td>\n",
       "      <td>4</td>\n",
       "    </tr>\n",
       "  </tbody>\n",
       "</table>\n",
       "</div>"
      ],
      "text/plain": [
       "            count  variance\n",
       "[0.0, 1.0)   4568      4568\n",
       "[1.0, 2.0)   4483      4483\n",
       "[2.0, 3.0)    448       448\n",
       "[3.0, 4.0)      4         4"
      ]
     },
     "metadata": {},
     "output_type": "display_data"
    },
    {
     "data": {
      "text/html": [
       "<div>\n",
       "<style scoped>\n",
       "    .dataframe tbody tr th:only-of-type {\n",
       "        vertical-align: middle;\n",
       "    }\n",
       "\n",
       "    .dataframe tbody tr th {\n",
       "        vertical-align: top;\n",
       "    }\n",
       "\n",
       "    .dataframe thead th {\n",
       "        text-align: right;\n",
       "    }\n",
       "</style>\n",
       "<table border=\"1\" class=\"dataframe\">\n",
       "  <thead>\n",
       "    <tr style=\"text-align: right;\">\n",
       "      <th></th>\n",
       "      <th>count</th>\n",
       "      <th>variance</th>\n",
       "    </tr>\n",
       "  </thead>\n",
       "  <tbody>\n",
       "    <tr>\n",
       "      <th>[1.0, 2.0)</th>\n",
       "      <td>73</td>\n",
       "      <td>73</td>\n",
       "    </tr>\n",
       "    <tr>\n",
       "      <th>[2.0, 3.0)</th>\n",
       "      <td>4893</td>\n",
       "      <td>4893</td>\n",
       "    </tr>\n",
       "    <tr>\n",
       "      <th>[3.0, 4.0)</th>\n",
       "      <td>4980</td>\n",
       "      <td>4980</td>\n",
       "    </tr>\n",
       "    <tr>\n",
       "      <th>[4.0, 5.0)</th>\n",
       "      <td>54</td>\n",
       "      <td>54</td>\n",
       "    </tr>\n",
       "  </tbody>\n",
       "</table>\n",
       "</div>"
      ],
      "text/plain": [
       "            count  variance\n",
       "[1.0, 2.0)     73        73\n",
       "[2.0, 3.0)   4893      4893\n",
       "[3.0, 4.0)   4980      4980\n",
       "[4.0, 5.0)     54        54"
      ]
     },
     "metadata": {},
     "output_type": "display_data"
    },
    {
     "data": {
      "text/html": [
       "<div>\n",
       "<style scoped>\n",
       "    .dataframe tbody tr th:only-of-type {\n",
       "        vertical-align: middle;\n",
       "    }\n",
       "\n",
       "    .dataframe tbody tr th {\n",
       "        vertical-align: top;\n",
       "    }\n",
       "\n",
       "    .dataframe thead th {\n",
       "        text-align: right;\n",
       "    }\n",
       "</style>\n",
       "<table border=\"1\" class=\"dataframe\">\n",
       "  <thead>\n",
       "    <tr style=\"text-align: right;\">\n",
       "      <th></th>\n",
       "      <th>count</th>\n",
       "      <th>variance</th>\n",
       "    </tr>\n",
       "  </thead>\n",
       "  <tbody>\n",
       "    <tr>\n",
       "      <th>[6.0, 7.0)</th>\n",
       "      <td>45</td>\n",
       "      <td>45</td>\n",
       "    </tr>\n",
       "    <tr>\n",
       "      <th>[7.0, 8.0)</th>\n",
       "      <td>4732</td>\n",
       "      <td>4732</td>\n",
       "    </tr>\n",
       "  </tbody>\n",
       "</table>\n",
       "</div>"
      ],
      "text/plain": [
       "            count  variance\n",
       "[6.0, 7.0)     45        45\n",
       "[7.0, 8.0)   4732      4732"
      ]
     },
     "metadata": {},
     "output_type": "display_data"
    }
   ],
   "source": [
    "from IPython.display import display\n",
    "display(one); display(two); display(three);"
   ]
  },
  {
   "cell_type": "markdown",
   "metadata": {
    "slideshow": {
     "slide_type": "slide"
    }
   },
   "source": [
    "Adding DataFrames matches up intervals and fills in missing values with NaN (0 if we explicitly set it)."
   ]
  },
  {
   "cell_type": "code",
   "execution_count": 20,
   "metadata": {
    "slideshow": {
     "slide_type": "-"
    }
   },
   "outputs": [
    {
     "data": {
      "text/html": [
       "<div>\n",
       "<style scoped>\n",
       "    .dataframe tbody tr th:only-of-type {\n",
       "        vertical-align: middle;\n",
       "    }\n",
       "\n",
       "    .dataframe tbody tr th {\n",
       "        vertical-align: top;\n",
       "    }\n",
       "\n",
       "    .dataframe thead th {\n",
       "        text-align: right;\n",
       "    }\n",
       "</style>\n",
       "<table border=\"1\" class=\"dataframe\">\n",
       "  <thead>\n",
       "    <tr style=\"text-align: right;\">\n",
       "      <th></th>\n",
       "      <th>count</th>\n",
       "      <th>variance</th>\n",
       "    </tr>\n",
       "  </thead>\n",
       "  <tbody>\n",
       "    <tr>\n",
       "      <th>[0.0, 1.0)</th>\n",
       "      <td>4568.0</td>\n",
       "      <td>4568.0</td>\n",
       "    </tr>\n",
       "    <tr>\n",
       "      <th>[1.0, 2.0)</th>\n",
       "      <td>4556.0</td>\n",
       "      <td>4556.0</td>\n",
       "    </tr>\n",
       "    <tr>\n",
       "      <th>[2.0, 3.0)</th>\n",
       "      <td>5341.0</td>\n",
       "      <td>5341.0</td>\n",
       "    </tr>\n",
       "    <tr>\n",
       "      <th>[3.0, 4.0)</th>\n",
       "      <td>4984.0</td>\n",
       "      <td>4984.0</td>\n",
       "    </tr>\n",
       "    <tr>\n",
       "      <th>[4.0, 5.0)</th>\n",
       "      <td>54.0</td>\n",
       "      <td>54.0</td>\n",
       "    </tr>\n",
       "  </tbody>\n",
       "</table>\n",
       "</div>"
      ],
      "text/plain": [
       "             count  variance\n",
       "[0.0, 1.0)  4568.0    4568.0\n",
       "[1.0, 2.0)  4556.0    4556.0\n",
       "[2.0, 3.0)  5341.0    5341.0\n",
       "[3.0, 4.0)  4984.0    4984.0\n",
       "[4.0, 5.0)    54.0      54.0"
      ]
     },
     "metadata": {},
     "output_type": "display_data"
    },
    {
     "data": {
      "text/html": [
       "<div>\n",
       "<style scoped>\n",
       "    .dataframe tbody tr th:only-of-type {\n",
       "        vertical-align: middle;\n",
       "    }\n",
       "\n",
       "    .dataframe tbody tr th {\n",
       "        vertical-align: top;\n",
       "    }\n",
       "\n",
       "    .dataframe thead th {\n",
       "        text-align: right;\n",
       "    }\n",
       "</style>\n",
       "<table border=\"1\" class=\"dataframe\">\n",
       "  <thead>\n",
       "    <tr style=\"text-align: right;\">\n",
       "      <th></th>\n",
       "      <th>count</th>\n",
       "      <th>variance</th>\n",
       "    </tr>\n",
       "  </thead>\n",
       "  <tbody>\n",
       "    <tr>\n",
       "      <th>[1.0, 2.0)</th>\n",
       "      <td>73.0</td>\n",
       "      <td>73.0</td>\n",
       "    </tr>\n",
       "    <tr>\n",
       "      <th>[2.0, 3.0)</th>\n",
       "      <td>4893.0</td>\n",
       "      <td>4893.0</td>\n",
       "    </tr>\n",
       "    <tr>\n",
       "      <th>[3.0, 4.0)</th>\n",
       "      <td>4980.0</td>\n",
       "      <td>4980.0</td>\n",
       "    </tr>\n",
       "    <tr>\n",
       "      <th>[4.0, 5.0)</th>\n",
       "      <td>54.0</td>\n",
       "      <td>54.0</td>\n",
       "    </tr>\n",
       "    <tr>\n",
       "      <th>[6.0, 7.0)</th>\n",
       "      <td>45.0</td>\n",
       "      <td>45.0</td>\n",
       "    </tr>\n",
       "    <tr>\n",
       "      <th>[7.0, 8.0)</th>\n",
       "      <td>4732.0</td>\n",
       "      <td>4732.0</td>\n",
       "    </tr>\n",
       "  </tbody>\n",
       "</table>\n",
       "</div>"
      ],
      "text/plain": [
       "             count  variance\n",
       "[1.0, 2.0)    73.0      73.0\n",
       "[2.0, 3.0)  4893.0    4893.0\n",
       "[3.0, 4.0)  4980.0    4980.0\n",
       "[4.0, 5.0)    54.0      54.0\n",
       "[6.0, 7.0)    45.0      45.0\n",
       "[7.0, 8.0)  4732.0    4732.0"
      ]
     },
     "metadata": {},
     "output_type": "display_data"
    },
    {
     "data": {
      "text/html": [
       "<div>\n",
       "<style scoped>\n",
       "    .dataframe tbody tr th:only-of-type {\n",
       "        vertical-align: middle;\n",
       "    }\n",
       "\n",
       "    .dataframe tbody tr th {\n",
       "        vertical-align: top;\n",
       "    }\n",
       "\n",
       "    .dataframe thead th {\n",
       "        text-align: right;\n",
       "    }\n",
       "</style>\n",
       "<table border=\"1\" class=\"dataframe\">\n",
       "  <thead>\n",
       "    <tr style=\"text-align: right;\">\n",
       "      <th></th>\n",
       "      <th>count</th>\n",
       "      <th>variance</th>\n",
       "    </tr>\n",
       "  </thead>\n",
       "  <tbody>\n",
       "    <tr>\n",
       "      <th>[0.0, 1.0)</th>\n",
       "      <td>4568.0</td>\n",
       "      <td>4568.0</td>\n",
       "    </tr>\n",
       "    <tr>\n",
       "      <th>[1.0, 2.0)</th>\n",
       "      <td>4556.0</td>\n",
       "      <td>4556.0</td>\n",
       "    </tr>\n",
       "    <tr>\n",
       "      <th>[2.0, 3.0)</th>\n",
       "      <td>5341.0</td>\n",
       "      <td>5341.0</td>\n",
       "    </tr>\n",
       "    <tr>\n",
       "      <th>[3.0, 4.0)</th>\n",
       "      <td>4984.0</td>\n",
       "      <td>4984.0</td>\n",
       "    </tr>\n",
       "    <tr>\n",
       "      <th>[4.0, 5.0)</th>\n",
       "      <td>54.0</td>\n",
       "      <td>54.0</td>\n",
       "    </tr>\n",
       "    <tr>\n",
       "      <th>[6.0, 7.0)</th>\n",
       "      <td>45.0</td>\n",
       "      <td>45.0</td>\n",
       "    </tr>\n",
       "    <tr>\n",
       "      <th>[7.0, 8.0)</th>\n",
       "      <td>4732.0</td>\n",
       "      <td>4732.0</td>\n",
       "    </tr>\n",
       "  </tbody>\n",
       "</table>\n",
       "</div>"
      ],
      "text/plain": [
       "             count  variance\n",
       "[0.0, 1.0)  4568.0    4568.0\n",
       "[1.0, 2.0)  4556.0    4556.0\n",
       "[2.0, 3.0)  5341.0    5341.0\n",
       "[3.0, 4.0)  4984.0    4984.0\n",
       "[4.0, 5.0)    54.0      54.0\n",
       "[6.0, 7.0)    45.0      45.0\n",
       "[7.0, 8.0)  4732.0    4732.0"
      ]
     },
     "metadata": {},
     "output_type": "display_data"
    }
   ],
   "source": [
    "import functools\n",
    "def add(*args):\n",
    "    return functools.reduce(lambda x, y: x.add(y, fill_value=0), args)\n",
    "\n",
    "display(add(one, two)); display(add(two, three)); display(add(one, two, three))"
   ]
  },
  {
   "cell_type": "code",
   "execution_count": 21,
   "metadata": {
    "slideshow": {
     "slide_type": "fragment"
    }
   },
   "outputs": [
    {
     "data": {
      "image/png": "[encoded data removed]",
      "text/plain": [
       "<Figure size 432x288 with 1 Axes>"
      ]
     },
     "metadata": {
      "needs_background": "light"
     },
     "output_type": "display_data"
    }
   ],
   "source": [
    "f[\"all\"] = add(one, two, three)\n",
    "f[\"all\"].physt().plot();"
   ]
  },
  {
   "cell_type": "markdown",
   "metadata": {
    "slideshow": {
     "slide_type": "slide"
    }
   },
   "source": [
    "## Modularized file-writing and histogram-conversion\n",
    "\n",
    "   * all of the histogram-writing code (bytes in file) is in **uproot**\n",
    "   * all of the code that recognizes different histogram libraries and converts them is in **uproot-methods**\n",
    "\n",
    "**uproot-methods** can be updated independently of (more rapidly than) **uproot**.\n",
    "\n",
    "<img style=\"margin-left: auto; margin-right: auto; width: 70%\" src=\"abstraction-layers.png\"></img>"
   ]
  },
  {
   "cell_type": "markdown",
   "metadata": {
    "slideshow": {
     "slide_type": "slide"
    }
   },
   "source": [
    "<img style=\"float: right; width: 40%\" src=\"pratyush.jpg\"></img>\n",
    "\n",
    "## Credit\n",
    "\n",
    "This feature was developed by Pratyush Das, a DIANA-HEP undergraduate fellow.\n",
    "\n",
    "(Most of the work was writing _anything_ to a ROOT file; histograms were the last week!)"
   ]
  },
  {
   "cell_type": "markdown",
   "metadata": {
    "slideshow": {
     "slide_type": "slide"
    }
   },
   "source": [
    "## Jagged array operations\n",
    "\n",
    "Also originally part of uproot, split out into **awkward-array** to be generalized and applied beyond ROOT.\n",
    "\n",
    "<img style=\"margin-left: auto; margin-right: auto; width: 70%\" src=\"abstraction-layers.png\"></img>"
   ]
  },
  {
   "cell_type": "markdown",
   "metadata": {
    "slideshow": {
     "slide_type": "slide"
    }
   },
   "source": [
    "Jagged arrays are a minimal unit of nested structure: a list containing lists of varying lengths."
   ]
  },
  {
   "cell_type": "code",
   "execution_count": 22,
   "metadata": {},
   "outputs": [],
   "source": [
    "f = uproot.open(\"HZZ-objects.root\")\n",
    "t = f[\"events\"]"
   ]
  },
  {
   "cell_type": "code",
   "execution_count": 23,
   "metadata": {},
   "outputs": [
    {
     "data": {
      "text/plain": [
       "<JaggedArray [[4.2001534 2.1510613] [2.1880474] [1.4128217 3.3835042] ... [3.7629452], [0.5508107], [0.]] at 7fa9a9fd1278>"
      ]
     },
     "execution_count": 23,
     "metadata": {},
     "output_type": "execute_result"
    }
   ],
   "source": [
    "a = t.array(\"muoniso\")\n",
    "a"
   ]
  },
  {
   "cell_type": "markdown",
   "metadata": {
    "slideshow": {
     "slide_type": "slide"
    }
   },
   "source": [
    "The implementation is a façade: these are not millions of list objects in memory but two arrays with methods to make them _behave like_ nested lists."
   ]
  },
  {
   "cell_type": "code",
   "execution_count": 24,
   "metadata": {},
   "outputs": [
    {
     "data": {
      "text/plain": [
       "array([   0,    2,    3, ..., 3823, 3824, 3825])"
      ]
     },
     "execution_count": 24,
     "metadata": {},
     "output_type": "execute_result"
    }
   ],
   "source": [
    "a.offsets"
   ]
  },
  {
   "cell_type": "code",
   "execution_count": 25,
   "metadata": {},
   "outputs": [
    {
     "data": {
      "text/plain": [
       "array([4.2001534, 2.1510613, 2.1880474, ..., 3.7629452, 0.5508107, 0.       ], dtype=float32)"
      ]
     },
     "execution_count": 25,
     "metadata": {},
     "output_type": "execute_result"
    }
   ],
   "source": [
    "a.content"
   ]
  },
  {
   "cell_type": "code",
   "execution_count": 26,
   "metadata": {},
   "outputs": [
    {
     "name": "stdout",
     "output_type": "stream",
     "text": [
      "0 [4.2001534 2.1510613]\n",
      "1 [2.1880474]\n",
      "2 [1.4128217 3.3835042]\n",
      "3 [2.7284882 0.5522966]\n",
      "4 [0.        0.8563976]\n",
      "5 [0.        1.4929442]\n",
      "6 [0.6231756 0.       ]\n",
      "7 [2.4025257]\n",
      "8 [0. 0.]\n",
      "9 [0.        1.7698176]\n",
      "10 [2.0015755 0.6041591]\n",
      "11 [0.         0.76338214]\n",
      "12 [1.7191544]\n",
      "13 [0.]\n",
      "14 [0.6410858 1.2613294]\n",
      "15 [0.        2.0141196]\n",
      "16 [0.88719386 1.5272698 ]\n",
      "17 [5.685393]\n",
      "18 [0.76651436 0.        ]\n",
      "19 [1.1567837 2.0942292 0.6321085]\n"
     ]
    }
   ],
   "source": [
    "for i, x in enumerate(a):\n",
    "    if i == 20:\n",
    "        break\n",
    "    print(i, x)"
   ]
  },
  {
   "cell_type": "markdown",
   "metadata": {
    "slideshow": {
     "slide_type": "slide"
    }
   },
   "source": [
    "Introducing additional types, like \"table\" as a struct of arrays presented as an array of structs, allows us to make tables of jagged arrays or jagged arrays of tables."
   ]
  },
  {
   "cell_type": "code",
   "execution_count": 75,
   "metadata": {},
   "outputs": [
    {
     "data": {
      "text/plain": [
       "<JaggedArrayMethods [[TLorentzVector(-52.899, -11.655, -8.1608, 54.779) TLorentzVector(37.738, 0.69347, -11.308, 39.402)] [TLorentzVector(-0.81646, -24.404, 20.2, 31.69)] [TLorentzVector(48.988, -21.723, 11.168, 54.74) TLorentzVector(0.82757, 29.801, 36.965, 47.489)] ... [TLorentzVector(-29.757, -15.304, -52.664, 62.395)], [TLorentzVector(1.1419, 63.61, 162.18, 174.21)], [TLorentzVector(23.913, -35.665, 54.719, 69.556)]] at 7fa9a507f470>"
      ]
     },
     "execution_count": 75,
     "metadata": {},
     "output_type": "execute_result"
    }
   ],
   "source": [
    "a = t.array(\"muonp4\")\n",
    "a"
   ]
  },
  {
   "cell_type": "code",
   "execution_count": 76,
   "metadata": {},
   "outputs": [
    {
     "data": {
      "text/plain": [
       "<Table [<TLorentzVector 0> <TLorentzVector 1> <TLorentzVector 2> ... <TLorentzVector 3822>, <TLorentzVector 3823>, <TLorentzVector 3824>] at 7fa9a547f320>"
      ]
     },
     "execution_count": 76,
     "metadata": {},
     "output_type": "execute_result"
    }
   ],
   "source": [
    "a.content.content"
   ]
  },
  {
   "cell_type": "code",
   "execution_count": 77,
   "metadata": {},
   "outputs": [
    {
     "data": {
      "text/plain": [
       "['fX', 'fY', 'fZ', 'fE']"
      ]
     },
     "execution_count": 77,
     "metadata": {},
     "output_type": "execute_result"
    }
   ],
   "source": [
    "a.content.content.columns"
   ]
  },
  {
   "cell_type": "code",
   "execution_count": 78,
   "metadata": {},
   "outputs": [
    {
     "data": {
      "text/plain": [
       "array([48.98783112,  0.82756668])"
      ]
     },
     "execution_count": 78,
     "metadata": {},
     "output_type": "execute_result"
    }
   ],
   "source": [
    "a[2][\"fX\"]       # subscript commutativity: hide the AoS ↔ SoA distinction"
   ]
  },
  {
   "cell_type": "code",
   "execution_count": 79,
   "metadata": {},
   "outputs": [
    {
     "data": {
      "text/plain": [
       "array([48.98783112,  0.82756668])"
      ]
     },
     "execution_count": 79,
     "metadata": {},
     "output_type": "execute_result"
    }
   ],
   "source": [
    "a[\"fX\"][2]"
   ]
  },
  {
   "cell_type": "markdown",
   "metadata": {
    "slideshow": {
     "slide_type": "slide"
    }
   },
   "source": [
    "Moreover, we can mix-in methods from **uproot-methods** to objects, arrays, and jagged arrays:"
   ]
  },
  {
   "cell_type": "code",
   "execution_count": 32,
   "metadata": {},
   "outputs": [
    {
     "data": {
      "text/plain": [
       "(TLorentzVector(-52.899, -11.655, -8.1608, 54.779),\n",
       " TLorentzVector(37.738, 0.69347, -11.308, 39.402))"
      ]
     },
     "execution_count": 32,
     "metadata": {},
     "output_type": "execute_result"
    }
   ],
   "source": [
    "one = a[0][0]; two = a[0][1]; one, two"
   ]
  },
  {
   "cell_type": "code",
   "execution_count": 33,
   "metadata": {},
   "outputs": [
    {
     "data": {
      "text/plain": [
       "TLorentzVector(-15.162, -10.961, -19.468, 94.181)"
      ]
     },
     "execution_count": 33,
     "metadata": {},
     "output_type": "execute_result"
    }
   ],
   "source": [
    "one + two"
   ]
  },
  {
   "cell_type": "code",
   "execution_count": 34,
   "metadata": {},
   "outputs": [
    {
     "data": {
      "text/plain": [
       "90.22779776988638"
      ]
     },
     "execution_count": 34,
     "metadata": {},
     "output_type": "execute_result"
    }
   ],
   "source": [
    "(one + two).mass"
   ]
  },
  {
   "cell_type": "code",
   "execution_count": 35,
   "metadata": {
    "slideshow": {
     "slide_type": "fragment"
    }
   },
   "outputs": [],
   "source": [
    "hastwo = (a.counts >= 2); ones = a[hastwo, 0]; twos = a[hastwo, 1]"
   ]
  },
  {
   "cell_type": "code",
   "execution_count": 36,
   "metadata": {},
   "outputs": [
    {
     "data": {
      "text/plain": [
       "<ObjectArrayMethods [TLorentzVector(-15.162, -10.961, -19.468, 94.181) TLorentzVector(49.815, 8.0774, 48.133, 102.23) TLorentzVector(98.78, -99.792, 738.94, 757.5) ... TLorentzVector(22.797, -5.2167, 32.613, 100.43), TLorentzVector(28.806, 16.557, -24.978, 95.018), TLorentzVector(2.9387, 18.416, -261.92, 273.35)] at 7fa9b0f3d5f8>"
      ]
     },
     "execution_count": 36,
     "metadata": {},
     "output_type": "execute_result"
    }
   ],
   "source": [
    "ones + twos                # the plus \"commutes\" through the array"
   ]
  },
  {
   "cell_type": "code",
   "execution_count": 37,
   "metadata": {},
   "outputs": [
    {
     "data": {
      "text/plain": [
       "array([90.22779777, 74.74654928, 89.75736376, ..., 92.06495256, 85.44384208, 75.96066262])"
      ]
     },
     "execution_count": 37,
     "metadata": {},
     "output_type": "execute_result"
    }
   ],
   "source": [
    "(ones + twos).mass         # the mass calculation \"commutes\" through the array"
   ]
  },
  {
   "cell_type": "markdown",
   "metadata": {
    "slideshow": {
     "slide_type": "fragment"
    }
   },
   "source": [
    "I've glossed over an important concept. Let's back up."
   ]
  },
  {
   "cell_type": "markdown",
   "metadata": {
    "slideshow": {
     "slide_type": "slide"
    }
   },
   "source": [
    "<img src=\"apl-timeline.png\" align=\"right\" style=\"width: 40%\"></img>\n",
    "\n",
    "### Array programming\n",
    "\n",
    "Expresses regular operations over rectangular data structures in shorthand.\n",
    "\n",
    "   * Multidimensional slices: `rgb_pixels[0, 50:100, ::3]`\n",
    "   * Elementwise operations: `all_pz = all_pt * sinh(all_eta)`\n",
    "   * Broadcasting: `all_phi - 2*pi`\n",
    "   * Masking: `data[trigger & (pt > 40)]`\n",
    "   * Fancy indexing: `all_eta[argsort(all_pt)]`\n",
    "   * Array reduction: `array.sum()` → scalar"
   ]
  },
  {
   "cell_type": "markdown",
   "metadata": {
    "slideshow": {
     "slide_type": "slide"
    }
   },
   "source": [
    "Our data are not rectangular, but the syntax can be extended by defining rules for jaggedness."
   ]
  },
  {
   "cell_type": "code",
   "execution_count": 38,
   "metadata": {},
   "outputs": [
    {
     "data": {
      "text/plain": [
       "<ObjectArrayMethods [TLorentzVector(-52.899, -11.655, -8.1608, 54.779) TLorentzVector(22.088, -85.835, 403.85, 413.46) TLorentzVector(9.2281, 40.554, -14.642, 44.093) ... TLorentzVector(74.756, -14.698, -113.75, 136.9), TLorentzVector(53.006, -24.486, 13.952, 60.032), TLorentzVector(34.507, 28.84, -150.66, 157.23)] at 7fa9e8092518>"
      ]
     },
     "execution_count": 38,
     "metadata": {},
     "output_type": "execute_result"
    }
   ],
   "source": [
    "a2 = a[hastwo]\n",
    "a2[::2, 0]                         # Multidimensional slices"
   ]
  },
  {
   "cell_type": "code",
   "execution_count": 39,
   "metadata": {
    "slideshow": {
     "slide_type": "fragment"
    }
   },
   "outputs": [
    {
     "data": {
      "text/plain": [
       "<JaggedArray [[ -8.1607933 -11.3075819] [20.19996834] [11.16828537 36.96519089] ... [-52.66374969], [162.17631531], [54.71943665]] at 7fa9e8092048>"
      ]
     },
     "execution_count": 39,
     "metadata": {},
     "output_type": "execute_result"
    }
   ],
   "source": [
    "pt = a.pt; eta = a.eta\n",
    "pt * numpy.sinh(eta)               # Elementwise operations"
   ]
  },
  {
   "cell_type": "code",
   "execution_count": 40,
   "metadata": {
    "slideshow": {
     "slide_type": "fragment"
    }
   },
   "outputs": [
    {
     "data": {
      "text/plain": [
       "<JaggedArray [[-3.33385136 -0.39073772] [-1.02075184] [-2.99699827 -1.0365802 ] ... [-3.89186587], [2.13301998], [-0.79975049]] at 7fa9e8092e80>"
      ]
     },
     "execution_count": 40,
     "metadata": {},
     "output_type": "execute_result"
    }
   ],
   "source": [
    "multi_per_event = a.phi; one_per_event = t.array(\"MET\").phi\n",
    "multi_per_event - one_per_event    # Broadcasting"
   ]
  },
  {
   "cell_type": "code",
   "execution_count": 41,
   "metadata": {
    "slideshow": {
     "slide_type": "slide"
    }
   },
   "outputs": [
    {
     "data": {
      "text/plain": [
       "<JaggedArrayMethods [[TLorentzVector(-52.899, -11.655, -8.1608, 54.779)] [] [TLorentzVector(48.988, -21.723, 11.168, 54.74)] ... [], [TLorentzVector(1.1419, 63.61, 162.18, 174.21)], [TLorentzVector(23.913, -35.665, 54.719, 69.556)]] at 7fa9e80925f8>"
      ]
     },
     "execution_count": 41,
     "metadata": {},
     "output_type": "execute_result"
    }
   ],
   "source": [
    "a[a.pt > 40]                       # Masking by jagged (selects particles)"
   ]
  },
  {
   "cell_type": "code",
   "execution_count": 42,
   "metadata": {},
   "outputs": [
    {
     "data": {
      "text/plain": [
       "<JaggedArrayMethods [[TLorentzVector(-52.899, -11.655, -8.1608, 54.779) TLorentzVector(37.738, 0.69347, -11.308, 39.402)] [TLorentzVector(48.988, -21.723, 11.168, 54.74) TLorentzVector(0.82757, 29.801, 36.965, 47.489)] [TLorentzVector(22.088, -85.835, 403.85, 413.46) TLorentzVector(76.692, -13.956, 335.09, 344.04)] ... [TLorentzVector(-39.286, -14.607, 61.716, 74.603)], [TLorentzVector(1.1419, 63.61, 162.18, 174.21)], [TLorentzVector(23.913, -35.665, 54.719, 69.556)]] at 7fa9a9fa0668>"
      ]
     },
     "execution_count": 42,
     "metadata": {},
     "output_type": "execute_result"
    }
   ],
   "source": [
    "a[a.pt.max() > 40]                 # Masking by flat (selects events)"
   ]
  },
  {
   "cell_type": "code",
   "execution_count": 43,
   "metadata": {
    "slideshow": {
     "slide_type": "slide"
    }
   },
   "outputs": [
    {
     "data": {
      "text/plain": [
       "<JaggedArray [[1] [0] [1] ... [0], [0], [0]] at 7fa9e8092630>"
      ]
     },
     "execution_count": 43,
     "metadata": {},
     "output_type": "execute_result"
    }
   ],
   "source": [
    "i = abs(a.eta).argmax()\n",
    "i"
   ]
  },
  {
   "cell_type": "code",
   "execution_count": 44,
   "metadata": {},
   "outputs": [
    {
     "data": {
      "text/plain": [
       "<JaggedArrayMethods [[TLorentzVector(37.738, 0.69347, -11.308, 39.402)] [TLorentzVector(-0.81646, -24.404, 20.2, 31.69)] [TLorentzVector(0.82757, 29.801, 36.965, 47.489)] ... [TLorentzVector(-29.757, -15.304, -52.664, 62.395)], [TLorentzVector(1.1419, 63.61, 162.18, 174.21)], [TLorentzVector(23.913, -35.665, 54.719, 69.556)]] at 7fa9e8092470>"
      ]
     },
     "execution_count": 44,
     "metadata": {},
     "output_type": "execute_result"
    }
   ],
   "source": [
    "a[i]                               # Fancy indexing"
   ]
  },
  {
   "cell_type": "code",
   "execution_count": 45,
   "metadata": {},
   "outputs": [
    {
     "data": {
      "text/plain": [
       "array([0.29527553, 0.75381369, 1.0412953 , ..., 1.23504687, 1.66533108, 1.06269886])"
      ]
     },
     "execution_count": 45,
     "metadata": {},
     "output_type": "execute_result"
    }
   ],
   "source": [
    "abs(a.eta).max()                   # Jagged reduction"
   ]
  },
  {
   "cell_type": "code",
   "execution_count": 46,
   "metadata": {
    "slideshow": {
     "slide_type": "slide"
    }
   },
   "outputs": [],
   "source": [
    "import awkward\n",
    "a = awkward.JaggedArray.fromiter([[   1,     2,    3], [], [    4,    5]])\n",
    "b = awkward.JaggedArray.fromiter([[  10,    20,   30], [], [   40,   50]])\n",
    "m = awkward.JaggedArray.fromiter([[True, False, True], [], [False, True]])\n",
    "flat  = numpy.array([  100,  200,  300])\n",
    "mflat = numpy.array([False, True, True])\n",
    "i = awkward.JaggedArray.fromiter([[2, 1], [], [1, 1, 0, 1]])"
   ]
  },
  {
   "cell_type": "code",
   "execution_count": 47,
   "metadata": {},
   "outputs": [
    {
     "data": {
      "text/plain": [
       "<JaggedArray [[11 22 33] [] [44 55]] at 7fa9e8073ba8>"
      ]
     },
     "execution_count": 47,
     "metadata": {},
     "output_type": "execute_result"
    }
   ],
   "source": [
    "a + b                              # Elementwise operations"
   ]
  },
  {
   "cell_type": "code",
   "execution_count": 48,
   "metadata": {},
   "outputs": [
    {
     "data": {
      "text/plain": [
       "<JaggedArray [[101 102 103] [] [304 305]] at 7fa9e8073128>"
      ]
     },
     "execution_count": 48,
     "metadata": {},
     "output_type": "execute_result"
    }
   ],
   "source": [
    "a + flat                           # Broadcasting"
   ]
  },
  {
   "cell_type": "code",
   "execution_count": 49,
   "metadata": {},
   "outputs": [
    {
     "data": {
      "text/plain": [
       "<JaggedArray [[1 3] [] [5]] at 7fa9e80738d0>"
      ]
     },
     "execution_count": 49,
     "metadata": {},
     "output_type": "execute_result"
    }
   ],
   "source": [
    "a[m]                               # Masking by jagged (selects particles)"
   ]
  },
  {
   "cell_type": "code",
   "execution_count": 50,
   "metadata": {},
   "outputs": [
    {
     "data": {
      "text/plain": [
       "<JaggedArray [[] [4 5]] at 7fa9e8073240>"
      ]
     },
     "execution_count": 50,
     "metadata": {},
     "output_type": "execute_result"
    }
   ],
   "source": [
    "a[mflat]                           # Masking by flat (selects events)"
   ]
  },
  {
   "cell_type": "code",
   "execution_count": 51,
   "metadata": {},
   "outputs": [
    {
     "data": {
      "text/plain": [
       "<JaggedArray [[3 2] [] [5 5 4 5]] at 7fa9b0f3d2e8>"
      ]
     },
     "execution_count": 51,
     "metadata": {},
     "output_type": "execute_result"
    }
   ],
   "source": [
    "a[i]                               # Fancy indexing"
   ]
  },
  {
   "cell_type": "code",
   "execution_count": 52,
   "metadata": {},
   "outputs": [
    {
     "data": {
      "text/plain": [
       "array([6, 0, 9])"
      ]
     },
     "execution_count": 52,
     "metadata": {},
     "output_type": "execute_result"
    }
   ],
   "source": [
    "a.sum()                            # Jagged reduction"
   ]
  },
  {
   "cell_type": "markdown",
   "metadata": {
    "slideshow": {
     "slide_type": "slide"
    }
   },
   "source": [
    "<img src=\"logscales.png\" style=\"margin-left: auto; margin-right: auto; width: 90%\"></src>"
   ]
  },
  {
   "cell_type": "markdown",
   "metadata": {
    "slideshow": {
     "slide_type": "slide"
    }
   },
   "source": [
    "Okay, but what about nested for loops? We want something like a jagged \"cross join.\""
   ]
  },
  {
   "cell_type": "code",
   "execution_count": 53,
   "metadata": {},
   "outputs": [],
   "source": [
    "import awkward\n",
    "a = awkward.JaggedArray.fromiter([[1, 2, 3], [], [4, 5], [6], [7, 8, 9]])\n",
    "b = awkward.JaggedArray.fromiter([[100, 200], [300], [400], [500, 600, 700], [800, 900]])"
   ]
  },
  {
   "cell_type": "code",
   "execution_count": 54,
   "metadata": {
    "slideshow": {
     "slide_type": "-"
    }
   },
   "outputs": [
    {
     "data": {
      "text/plain": [
       "<JaggedArray [[<Row 0> <Row 1> <Row 2> <Row 3> <Row 4> <Row 5>] [] [<Row 6> <Row 7>] [<Row 8> <Row 9> <Row 10>] [<Row 11> <Row 12> <Row 13> <Row 14> <Row 15> <Row 16>]] at 7fa9a9fb8d68>"
      ]
     },
     "execution_count": 54,
     "metadata": {},
     "output_type": "execute_result"
    }
   ],
   "source": [
    "a.cross(b)   # .tolist()"
   ]
  },
  {
   "cell_type": "code",
   "execution_count": 55,
   "metadata": {
    "slideshow": {
     "slide_type": "fragment"
    }
   },
   "outputs": [
    {
     "name": "stdout",
     "output_type": "stream",
     "text": [
      "[[1 1 2 2 3 3] [] [4 5] [6 6 6] [7 7 8 8 9 9]]\n",
      "[[100 200 100 200 100 200] [] [400 400] [500 600 700] [800 900 800 900 800 900]]\n"
     ]
    }
   ],
   "source": [
    "print(a.cross(b)._0)\n",
    "print(a.cross(b)._1)"
   ]
  },
  {
   "cell_type": "code",
   "execution_count": 56,
   "metadata": {
    "slideshow": {
     "slide_type": "slide"
    }
   },
   "outputs": [
    {
     "data": {
      "text/plain": [
       "<JaggedArray [[] [<Row 0>] [] ... [<Row 4057>], [<Row 4058> <Row 4059>], []] at 7fa9a9fb8518>"
      ]
     },
     "execution_count": 56,
     "metadata": {},
     "output_type": "execute_result"
    }
   ],
   "source": [
    "leptoquarks = t.array(\"muonp4\").cross(t.array(\"jetp4\"))\n",
    "leptoquarks                                                          # all muon-jet pairs in each event"
   ]
  },
  {
   "cell_type": "code",
   "execution_count": 57,
   "metadata": {
    "slideshow": {
     "slide_type": "fragment"
    }
   },
   "outputs": [
    {
     "data": {
      "text/plain": [
       "<JaggedArrayMethods [[] [TLorentzVector(-39.691, -4.5408, 19.305, 75.828)] [] ... [TLorentzVector(-33.472, -52.506, -11.652, 118.35)], [TLorentzVector(-35.219, 73.783, 388.61, 403.79) TLorentzVector(-14.115, 36.434, 174.3, 208.13)], []] at 7fa9a9fb8be0>"
      ]
     },
     "execution_count": 57,
     "metadata": {},
     "output_type": "execute_result"
    }
   ],
   "source": [
    "leptoquarks._0 + leptoquarks._1                                      # the muon in each pair plus the jet in each pair"
   ]
  },
  {
   "cell_type": "code",
   "execution_count": 58,
   "metadata": {
    "slideshow": {
     "slide_type": "fragment"
    }
   },
   "outputs": [
    {
     "data": {
      "text/plain": [
       "<JaggedArray [[] [61.49117266] [] ... [99.96350949], [ 73.10963363 106.82646499], []] at 7fa9a9fb85c0>"
      ]
     },
     "execution_count": 58,
     "metadata": {},
     "output_type": "execute_result"
    }
   ],
   "source": [
    "(leptoquarks._0 + leptoquarks._1).mass                               # the mass of each pair"
   ]
  },
  {
   "cell_type": "code",
   "execution_count": 59,
   "metadata": {
    "slideshow": {
     "slide_type": "fragment"
    }
   },
   "outputs": [
    {
     "data": {
      "image/png": "[encoded data removed]",
      "text/plain": [
       "<Figure size 432x288 with 1 Axes>"
      ]
     },
     "metadata": {
      "needs_background": "light"
     },
     "output_type": "display_data"
    }
   ],
   "source": [
    "physt.h1((leptoquarks._0 + leptoquarks._1).mass.flatten()).plot();   # a one-line search for leptoquarks"
   ]
  },
  {
   "cell_type": "markdown",
   "metadata": {
    "slideshow": {
     "slide_type": "slide"
    }
   },
   "source": [
    "What about nested for loops without duplicates?"
   ]
  },
  {
   "cell_type": "code",
   "execution_count": 60,
   "metadata": {},
   "outputs": [],
   "source": [
    "import awkward\n",
    "a = awkward.JaggedArray.fromiter([[], [1], [1, 2], [1, 2, 3], [1, 2, 3, 4]])"
   ]
  },
  {
   "cell_type": "code",
   "execution_count": 61,
   "metadata": {},
   "outputs": [
    {
     "data": {
      "text/plain": [
       "[[],\n",
       " [{'0': 1, '1': 1}],\n",
       " [{'0': 1, '1': 1}, {'0': 1, '1': 2}, {'0': 2, '1': 2}],\n",
       " [{'0': 1, '1': 1},\n",
       "  {'0': 1, '1': 2},\n",
       "  {'0': 1, '1': 3},\n",
       "  {'0': 2, '1': 2},\n",
       "  {'0': 2, '1': 3},\n",
       "  {'0': 3, '1': 3}],\n",
       " [{'0': 1, '1': 1},\n",
       "  {'0': 1, '1': 2},\n",
       "  {'0': 1, '1': 3},\n",
       "  {'0': 1, '1': 4},\n",
       "  {'0': 2, '1': 2},\n",
       "  {'0': 2, '1': 3},\n",
       "  {'0': 2, '1': 4},\n",
       "  {'0': 3, '1': 3},\n",
       "  {'0': 3, '1': 4},\n",
       "  {'0': 4, '1': 4}]]"
      ]
     },
     "execution_count": 61,
     "metadata": {},
     "output_type": "execute_result"
    }
   ],
   "source": [
    "a.pairs().tolist()               # same=False"
   ]
  },
  {
   "cell_type": "code",
   "execution_count": 62,
   "metadata": {
    "slideshow": {
     "slide_type": "slide"
    }
   },
   "outputs": [
    {
     "data": {
      "text/plain": [
       "<JaggedArray [[90.22779777] [] [74.74654928] ... [], [], []] at 7fa9a5560b70>"
      ]
     },
     "execution_count": 62,
     "metadata": {},
     "output_type": "execute_result"
    }
   ],
   "source": [
    "zcandidates = t.array(\"muonp4\").pairs(same=False)\n",
    "(zcandidates._0 + zcandidates._1).mass"
   ]
  },
  {
   "cell_type": "code",
   "execution_count": 63,
   "metadata": {
    "slideshow": {
     "slide_type": "fragment"
    }
   },
   "outputs": [
    {
     "data": {
      "image/png": "[encoded data removed]",
      "text/plain": [
       "<Figure size 432x288 with 1 Axes>"
      ]
     },
     "metadata": {
      "needs_background": "light"
     },
     "output_type": "display_data"
    }
   ],
   "source": [
    "physt.h1((zcandidates._0 + zcandidates._1).mass.flatten(), bins=100).plot();"
   ]
  },
  {
   "cell_type": "code",
   "execution_count": 64,
   "metadata": {
    "slideshow": {
     "slide_type": "fragment"
    }
   },
   "outputs": [],
   "source": [
    "charges = t.array(\"muonq\").pairs(same=False)\n",
    "cut = (charges._0 * charges._1 < 0)"
   ]
  },
  {
   "cell_type": "code",
   "execution_count": 65,
   "metadata": {
    "scrolled": false,
    "slideshow": {
     "slide_type": "fragment"
    }
   },
   "outputs": [
    {
     "data": {
      "image/png": "[encoded data removed]",
      "text/plain": [
       "<Figure size 432x288 with 1 Axes>"
      ]
     },
     "metadata": {
      "needs_background": "light"
     },
     "output_type": "display_data"
    }
   ],
   "source": [
    "physt.h1((zcandidates[cut]._0 + zcandidates[cut]._1).mass.flatten(), bins=100).plot();"
   ]
  },
  {
   "cell_type": "markdown",
   "metadata": {
    "slideshow": {
     "slide_type": "slide"
    }
   },
   "source": [
    "<img style=\"float: right; width: 10%\" src=\"jaydeep.jpg\"></img>\n",
    "\n",
    "## Credit\n",
    "\n",
    "Broadcasting, cross, pairs, and a vectorized jagged reduction algorithm were developed by Jaydeep Nandi, a Google Summer of Code student.\n",
    "\n",
    "None of them involve for loops, not even for loops in C, and are good candidates for GPU acceleration.\n",
    "\n",
    "<img style=\"margin-left: auto; margin-right: auto; width: 35%\" src=\"sum_rates_logy.png\"></img>"
   ]
  },
  {
   "cell_type": "markdown",
   "metadata": {
    "slideshow": {
     "slide_type": "slide"
    }
   },
   "source": [
    "<div style=\"margin-left: auto; margin-right: auto; width: 70%\">\n",
    "<p>Are there other looping constructs that can't be expressed like this? Which would force you to write a for loop?</p>\n",
    "\n",
    "<p style=\"font-weight: bold\">Probably.</p>\n",
    "\n",
    "<p>But when you encounter such instances, let me know and we'll think about new primitives beyond \"cross\" and \"pairs\" for those cases.</p>\n",
    "</div>"
   ]
  },
  {
   "cell_type": "markdown",
   "metadata": {
    "slideshow": {
     "slide_type": "slide"
    }
   },
   "source": [
    "Purely for streamlined expression (syntactic sugar), a few higher-order functions have been defined.\n",
    "\n",
    "   * `array.apply(function)` performs `function(array)`\n",
    "   * `array.filter(function)` performs `array[function(array)]`\n",
    "   * `array.maxby(function)` performs `array[function(array).argmax()]`\n",
    "   * `array.minby(function)` performs `array[function(array).argmin()]`"
   ]
  },
  {
   "cell_type": "code",
   "execution_count": 74,
   "metadata": {
    "slideshow": {
     "slide_type": "fragment"
    }
   },
   "outputs": [
    {
     "data": {
      "image/png": "[encoded data removed]",
      "text/plain": [
       "<Figure size 432x288 with 1 Axes>"
      ]
     },
     "metadata": {
      "needs_background": "light"
     },
     "output_type": "display_data"
    }
   ],
   "source": [
    "physt.h1(t.array(\"muonp4\")                          # get the muon 4-vectors\n",
    "          .filter(lambda muon: abs(muon.eta) < 1)   # select central muons (select particles, not events)\n",
    "          .pairs(same=False)                        # form all non-duplicate pairs\n",
    "          .apply(lambda a, b: a + b)                # compute Z candidates from as 4-vector sums\n",
    "          .maxby(lambda z: z.pt)                    # select one per event, the highest pT\n",
    "          .flatten()                                # flatten [x] → x and [] → nothing (ignore empty events)\n",
    "          .mass,                                    # compute the masses of what remains\n",
    "         bins=100).plot();"
   ]
  },
  {
   "cell_type": "markdown",
   "metadata": {
    "slideshow": {
     "slide_type": "slide"
    }
   },
   "source": [
    "## Where is this going?\n",
    "\n",
    "**awkward-array** has been separated out of **uproot** so that it can be extended beyond ROOT files. For instance, we could apply it to data from Spark (through Arrow) and give PySpark users the ability to deal with nested structure efficiently.\n",
    "\n",
    "   * adding support for other \"awkward\" array types: chunked, masked, indexed\n",
    "   * Pandas extensions so that Pandas columns can be \"awkward\"\n",
    "   * Numba extensions so you can write fast for loops if you need to\n",
    "   * Dask extensions so you can distribute work across a cluster"
   ]
  }
 ],
 "metadata": {
  "celltoolbar": "Slideshow",
  "kernelspec": {
   "display_name": "Python 3",
   "language": "python",
   "name": "python3"
  },
  "language_info": {
   "codemirror_mode": {
    "name": "ipython",
    "version": 3
   },
   "file_extension": ".py",
   "mimetype": "text/x-python",
   "name": "python",
   "nbconvert_exporter": "python",
   "pygments_lexer": "ipython3",
   "version": "3.7.0"
  }
 },
 "nbformat": 4,
 "nbformat_minor": 2
}
