{
 "cells": [
  {
   "cell_type": "code",
   "execution_count": 1,
   "metadata": {
    "slideshow": {
     "slide_type": "skip"
    }
   },
   "outputs": [
    {
     "data": {
      "text/html": [
       "<style> div.output {flex-direction: row} div.output > div:only-child {width: 100%} </style>"
      ],
      "text/plain": [
       "<IPython.core.display.HTML object>"
      ]
     },
     "metadata": {},
     "output_type": "display_data"
    }
   ],
   "source": [
    "%%HTML\n",
    "<style> div.output {flex-direction: row} div.output > div:only-child {width: 100%} </style>"
   ]
  },
  {
   "cell_type": "code",
   "execution_count": 2,
   "metadata": {
    "slideshow": {
     "slide_type": "skip"
    }
   },
   "outputs": [],
   "source": [
    "import numpy\n",
    "numpy.set_printoptions(linewidth=numpy.nan)"
   ]
  },
  {
   "cell_type": "code",
   "execution_count": 3,
   "metadata": {
    "slideshow": {
     "slide_type": "-"
    }
   },
   "outputs": [],
   "source": [
    "%matplotlib inline\n",
    "import physt"
   ]
  },
  {
   "cell_type": "markdown",
   "metadata": {
    "slideshow": {
     "slide_type": "slide"
    }
   },
   "source": [
    "<img style=\"margin-left: auto; margin-right: auto; width: 50%\" src=\"uproot-3.png\"></img>"
   ]
  },
  {
   "cell_type": "markdown",
   "metadata": {
    "slideshow": {
     "slide_type": "slide"
    }
   },
   "source": [
    "What's new?\n",
    "\n",
    "   * more modularization\n",
    "   * jagged array operations\n",
    "   * writing files"
   ]
  },
  {
   "cell_type": "markdown",
   "metadata": {
    "slideshow": {
     "slide_type": "slide"
    }
   },
   "source": [
    "## More modularization\n",
    "\n",
    "uproot 2 had been a single library (depending on Numpy and lz4).\n",
    "\n",
    "<img style=\"margin-left: auto; margin-right: auto; width: 80%\" src=\"abstraction-layers-before.png\"></img>"
   ]
  },
  {
   "cell_type": "markdown",
   "metadata": {
    "slideshow": {
     "slide_type": "slide"
    }
   },
   "source": [
    "## More modularization\n",
    "\n",
    "uproot 3 splits out everything that is not I/O. We'll see the advantage in a moment.\n",
    "\n",
    "<img style=\"margin-left: auto; margin-right: auto; width: 80%\" src=\"abstraction-layers.png\"></img>"
   ]
  },
  {
   "cell_type": "markdown",
   "metadata": {
    "slideshow": {
     "slide_type": "slide"
    }
   },
   "source": [
    "## Jagged array operations\n",
    "\n",
    "Jagged arrays are a minimal unit of nested structure: a list containing lists of varying lengths."
   ]
  },
  {
   "cell_type": "code",
   "execution_count": 4,
   "metadata": {},
   "outputs": [],
   "source": [
    "import uproot\n",
    "f = uproot.open(\"HZZ-objects.root\")\n",
    "t = f[\"events\"]"
   ]
  },
  {
   "cell_type": "code",
   "execution_count": 5,
   "metadata": {},
   "outputs": [
    {
     "data": {
      "text/plain": [
       "<JaggedArray [[4.2001534 2.1510613] [2.1880474] [1.4128217 3.3835042] ... [3.7629452], [0.5508107], [0.]] at 7534a141f160>"
      ]
     },
     "execution_count": 5,
     "metadata": {},
     "output_type": "execute_result"
    }
   ],
   "source": [
    "a = t.array(\"muoniso\")     # muon isolation variable; multiple per event\n",
    "a"
   ]
  },
  {
   "cell_type": "markdown",
   "metadata": {
    "slideshow": {
     "slide_type": "slide"
    }
   },
   "source": [
    "The implementation is a façade: these are not millions of list objects in memory but two arrays with methods to make them _behave like_ nested lists."
   ]
  },
  {
   "cell_type": "code",
   "execution_count": 6,
   "metadata": {},
   "outputs": [
    {
     "data": {
      "text/plain": [
       "array([   0,    2,    3, ..., 3823, 3824, 3825])"
      ]
     },
     "execution_count": 6,
     "metadata": {},
     "output_type": "execute_result"
    }
   ],
   "source": [
    "a.offsets"
   ]
  },
  {
   "cell_type": "code",
   "execution_count": 7,
   "metadata": {},
   "outputs": [
    {
     "data": {
      "text/plain": [
       "array([4.2001534, 2.1510613, 2.1880474, ..., 3.7629452, 0.5508107, 0.       ], dtype=float32)"
      ]
     },
     "execution_count": 7,
     "metadata": {},
     "output_type": "execute_result"
    }
   ],
   "source": [
    "a.content"
   ]
  },
  {
   "cell_type": "code",
   "execution_count": 8,
   "metadata": {},
   "outputs": [
    {
     "name": "stdout",
     "output_type": "stream",
     "text": [
      "0 [4.2001534 2.1510613]\n",
      "1 [2.1880474]\n",
      "2 [1.4128217 3.3835042]\n",
      "3 [2.7284882 0.5522966]\n",
      "4 [0.        0.8563976]\n",
      "5 [0.        1.4929442]\n",
      "6 [0.6231756 0.       ]\n",
      "7 [2.4025257]\n",
      "8 [0. 0.]\n",
      "9 [0.        1.7698176]\n",
      "10 [2.0015755 0.6041591]\n",
      "11 [0.         0.76338214]\n",
      "12 [1.7191544]\n",
      "13 [0.]\n",
      "14 [0.6410858 1.2613294]\n",
      "15 [0.        2.0141196]\n",
      "16 [0.88719386 1.5272698 ]\n",
      "17 [5.685393]\n",
      "18 [0.76651436 0.        ]\n",
      "19 [1.1567837 2.0942292 0.6321085]\n"
     ]
    }
   ],
   "source": [
    "for i, x in enumerate(a):\n",
    "    if i == 20:\n",
    "        break\n",
    "    print(i, x)"
   ]
  },
  {
   "cell_type": "markdown",
   "metadata": {
    "slideshow": {
     "slide_type": "slide"
    }
   },
   "source": [
    "An additional type, \"table,\" gives the appearance of structs within the jagged array."
   ]
  },
  {
   "cell_type": "code",
   "execution_count": 9,
   "metadata": {},
   "outputs": [
    {
     "data": {
      "text/plain": [
       "<JaggedArrayMethods [[TLorentzVector(-52.899, -11.655, -8.1608, 54.779) TLorentzVector(37.738, 0.69347, -11.308, 39.402)] [TLorentzVector(-0.81646, -24.404, 20.2, 31.69)] [TLorentzVector(48.988, -21.723, 11.168, 54.74) TLorentzVector(0.82757, 29.801, 36.965, 47.489)] ... [TLorentzVector(-29.757, -15.304, -52.664, 62.395)], [TLorentzVector(1.1419, 63.61, 162.18, 174.21)], [TLorentzVector(23.913, -35.665, 54.719, 69.556)]] at 7534a141ff98>"
      ]
     },
     "execution_count": 9,
     "metadata": {},
     "output_type": "execute_result"
    }
   ],
   "source": [
    "a = t.array(\"muonp4\")\n",
    "a"
   ]
  },
  {
   "cell_type": "code",
   "execution_count": 10,
   "metadata": {},
   "outputs": [
    {
     "data": {
      "text/plain": [
       "<Table [<TLorentzVector 0> <TLorentzVector 1> <TLorentzVector 2> ... <TLorentzVector 3822>, <TLorentzVector 3823>, <TLorentzVector 3824>] at 7534a141f390>"
      ]
     },
     "execution_count": 10,
     "metadata": {},
     "output_type": "execute_result"
    }
   ],
   "source": [
    "a.content.content"
   ]
  },
  {
   "cell_type": "code",
   "execution_count": 11,
   "metadata": {},
   "outputs": [
    {
     "data": {
      "text/plain": [
       "['fX', 'fY', 'fZ', 'fE']"
      ]
     },
     "execution_count": 11,
     "metadata": {},
     "output_type": "execute_result"
    }
   ],
   "source": [
    "a.content.content.columns"
   ]
  },
  {
   "cell_type": "code",
   "execution_count": 12,
   "metadata": {},
   "outputs": [
    {
     "data": {
      "text/plain": [
       "array([48.98783112,  0.82756668])"
      ]
     },
     "execution_count": 12,
     "metadata": {},
     "output_type": "execute_result"
    }
   ],
   "source": [
    "a[2][\"fX\"]       # subscript commutativity: hide the AoS ↔ SoA distinction"
   ]
  },
  {
   "cell_type": "code",
   "execution_count": 13,
   "metadata": {},
   "outputs": [
    {
     "data": {
      "text/plain": [
       "array([48.98783112,  0.82756668])"
      ]
     },
     "execution_count": 13,
     "metadata": {},
     "output_type": "execute_result"
    }
   ],
   "source": [
    "a[\"fX\"][2]"
   ]
  },
  {
   "cell_type": "markdown",
   "metadata": {
    "slideshow": {
     "slide_type": "slide"
    }
   },
   "source": [
    "Another type, \"methods,\" gives those structs methods (makes them classes)."
   ]
  },
  {
   "cell_type": "code",
   "execution_count": 14,
   "metadata": {},
   "outputs": [
    {
     "data": {
      "text/plain": [
       "(TLorentzVector(-52.899, -11.655, -8.1608, 54.779),\n",
       " TLorentzVector(37.738, 0.69347, -11.308, 39.402))"
      ]
     },
     "execution_count": 14,
     "metadata": {},
     "output_type": "execute_result"
    }
   ],
   "source": [
    "one = a[0][0]; two = a[0][1]; one, two"
   ]
  },
  {
   "cell_type": "code",
   "execution_count": 15,
   "metadata": {},
   "outputs": [
    {
     "data": {
      "text/plain": [
       "TLorentzVector(-15.162, -10.961, -19.468, 94.181)"
      ]
     },
     "execution_count": 15,
     "metadata": {},
     "output_type": "execute_result"
    }
   ],
   "source": [
    "one + two"
   ]
  },
  {
   "cell_type": "code",
   "execution_count": 16,
   "metadata": {},
   "outputs": [
    {
     "data": {
      "text/plain": [
       "90.22779776988638"
      ]
     },
     "execution_count": 16,
     "metadata": {},
     "output_type": "execute_result"
    }
   ],
   "source": [
    "(one + two).mass"
   ]
  },
  {
   "cell_type": "code",
   "execution_count": 17,
   "metadata": {
    "slideshow": {
     "slide_type": "fragment"
    }
   },
   "outputs": [],
   "source": [
    "hastwo = (a.counts >= 2); ones = a[hastwo, 0]; twos = a[hastwo, 1]"
   ]
  },
  {
   "cell_type": "code",
   "execution_count": 18,
   "metadata": {},
   "outputs": [
    {
     "data": {
      "text/plain": [
       "<ObjectArrayMethods [TLorentzVector(-15.162, -10.961, -19.468, 94.181) TLorentzVector(49.815, 8.0774, 48.133, 102.23) TLorentzVector(98.78, -99.792, 738.94, 757.5) ... TLorentzVector(22.797, -5.2167, 32.613, 100.43), TLorentzVector(28.806, 16.557, -24.978, 95.018), TLorentzVector(2.9387, 18.416, -261.92, 273.35)] at 7534a141fba8>"
      ]
     },
     "execution_count": 18,
     "metadata": {},
     "output_type": "execute_result"
    }
   ],
   "source": [
    "ones + twos                # the plus operation \"commutes\" through the array"
   ]
  },
  {
   "cell_type": "code",
   "execution_count": 19,
   "metadata": {},
   "outputs": [
    {
     "data": {
      "text/plain": [
       "array([90.22779777, 74.74654928, 89.75736376, ..., 92.06495256, 85.44384208, 75.96066262])"
      ]
     },
     "execution_count": 19,
     "metadata": {},
     "output_type": "execute_result"
    }
   ],
   "source": [
    "(ones + twos).mass         # the mass operation \"commutes\" through the array"
   ]
  },
  {
   "cell_type": "markdown",
   "metadata": {
    "slideshow": {
     "slide_type": "slide"
    }
   },
   "source": [
    "<img src=\"apl-timeline.png\" align=\"right\" style=\"margin-left: 50px; width: 40%\"></img>\n",
    "\n",
    "### Array programming\n",
    "\n",
    "Expresses regular operations over rectangular data structures in shorthand.\n",
    "\n",
    "   * Multidimensional slices: `rgb_pixels[0, 50:100, ::3]`\n",
    "   * Elementwise operations: `all_pz = all_pt * sinh(all_eta)`\n",
    "   * Broadcasting: `all_phi - 2*pi`\n",
    "   * Masking: `data[trigger & (pt > 40)]`\n",
    "   * Fancy indexing: `all_eta[argsort(all_pt)]`\n",
    "   * Array reduction: `array.sum()` → scalar"
   ]
  },
  {
   "cell_type": "markdown",
   "metadata": {
    "slideshow": {
     "slide_type": "slide"
    }
   },
   "source": [
    "Our data are not rectangular, but the syntax can be extended by defining rules for jaggedness."
   ]
  },
  {
   "cell_type": "code",
   "execution_count": 20,
   "metadata": {},
   "outputs": [
    {
     "data": {
      "text/plain": [
       "<ObjectArrayMethods [TLorentzVector(-52.899, -11.655, -8.1608, 54.779) TLorentzVector(22.088, -85.835, 403.85, 413.46) TLorentzVector(9.2281, 40.554, -14.642, 44.093) ... TLorentzVector(74.756, -14.698, -113.75, 136.9), TLorentzVector(53.006, -24.486, 13.952, 60.032), TLorentzVector(34.507, 28.84, -150.66, 157.23)] at 7534a141f518>"
      ]
     },
     "execution_count": 20,
     "metadata": {},
     "output_type": "execute_result"
    }
   ],
   "source": [
    "a2 = a[hastwo]\n",
    "a2[::2, 0]                                                      # Multidimensional slices"
   ]
  },
  {
   "cell_type": "code",
   "execution_count": 21,
   "metadata": {
    "slideshow": {
     "slide_type": "fragment"
    }
   },
   "outputs": [
    {
     "data": {
      "text/plain": [
       "<JaggedArray [[ -8.1607933 -11.3075819] [20.19996834] [11.16828537 36.96519089] ... [-52.66374969], [162.17631531], [54.71943665]] at 7534a141fd30>"
      ]
     },
     "execution_count": 21,
     "metadata": {},
     "output_type": "execute_result"
    }
   ],
   "source": [
    "pt = a.pt; eta = a.eta\n",
    "pt * numpy.sinh(eta)                                            # Elementwise operations"
   ]
  },
  {
   "cell_type": "code",
   "execution_count": 22,
   "metadata": {
    "slideshow": {
     "slide_type": "fragment"
    }
   },
   "outputs": [
    {
     "data": {
      "text/plain": [
       "<JaggedArray [[-3.33385136 -0.39073772] [-1.02075184] [-2.99699827 -1.0365802 ] ... [-3.89186587], [2.13301998], [-0.79975049]] at 7534b2a4d780>"
      ]
     },
     "execution_count": 22,
     "metadata": {},
     "output_type": "execute_result"
    }
   ],
   "source": [
    "multi_per_event = a.phi; one_per_event = t.array(\"MET\").phi\n",
    "multi_per_event - one_per_event                                 # Broadcasting"
   ]
  },
  {
   "cell_type": "code",
   "execution_count": 23,
   "metadata": {
    "slideshow": {
     "slide_type": "slide"
    }
   },
   "outputs": [
    {
     "data": {
      "text/plain": [
       "<JaggedArrayMethods [[TLorentzVector(-52.899, -11.655, -8.1608, 54.779)] [] [TLorentzVector(48.988, -21.723, 11.168, 54.74)] ... [], [TLorentzVector(1.1419, 63.61, 162.18, 174.21)], [TLorentzVector(23.913, -35.665, 54.719, 69.556)]] at 7534a141f6d8>"
      ]
     },
     "execution_count": 23,
     "metadata": {},
     "output_type": "execute_result"
    }
   ],
   "source": [
    "a[a.pt > 40]                                                    # Masking by jagged (selects particles)"
   ]
  },
  {
   "cell_type": "code",
   "execution_count": 24,
   "metadata": {},
   "outputs": [
    {
     "data": {
      "text/plain": [
       "<JaggedArrayMethods [[TLorentzVector(-52.899, -11.655, -8.1608, 54.779) TLorentzVector(37.738, 0.69347, -11.308, 39.402)] [TLorentzVector(48.988, -21.723, 11.168, 54.74) TLorentzVector(0.82757, 29.801, 36.965, 47.489)] [TLorentzVector(22.088, -85.835, 403.85, 413.46) TLorentzVector(76.692, -13.956, 335.09, 344.04)] ... [TLorentzVector(-39.286, -14.607, 61.716, 74.603)], [TLorentzVector(1.1419, 63.61, 162.18, 174.21)], [TLorentzVector(23.913, -35.665, 54.719, 69.556)]] at 7534a141f780>"
      ]
     },
     "execution_count": 24,
     "metadata": {},
     "output_type": "execute_result"
    }
   ],
   "source": [
    "a[a.pt.max() > 40]                                              # Masking by flat (selects events)"
   ]
  },
  {
   "cell_type": "code",
   "execution_count": 25,
   "metadata": {
    "slideshow": {
     "slide_type": "slide"
    }
   },
   "outputs": [
    {
     "data": {
      "text/plain": [
       "<JaggedArray [[1] [0] [1] ... [0], [0], [0]] at 7534a23e7390>"
      ]
     },
     "execution_count": 25,
     "metadata": {},
     "output_type": "execute_result"
    }
   ],
   "source": [
    "i = abs(a.eta).argmax()\n",
    "i"
   ]
  },
  {
   "cell_type": "code",
   "execution_count": 26,
   "metadata": {},
   "outputs": [
    {
     "data": {
      "text/plain": [
       "<JaggedArrayMethods [[TLorentzVector(37.738, 0.69347, -11.308, 39.402)] [TLorentzVector(-0.81646, -24.404, 20.2, 31.69)] [TLorentzVector(0.82757, 29.801, 36.965, 47.489)] ... [TLorentzVector(-29.757, -15.304, -52.664, 62.395)], [TLorentzVector(1.1419, 63.61, 162.18, 174.21)], [TLorentzVector(23.913, -35.665, 54.719, 69.556)]] at 7534a13d55f8>"
      ]
     },
     "execution_count": 26,
     "metadata": {},
     "output_type": "execute_result"
    }
   ],
   "source": [
    "a[i]                                                            # Fancy indexing"
   ]
  },
  {
   "cell_type": "code",
   "execution_count": 27,
   "metadata": {},
   "outputs": [
    {
     "data": {
      "text/plain": [
       "array([0.29527553, 0.75381369, 1.0412953 , ..., 1.23504687, 1.66533108, 1.06269886])"
      ]
     },
     "execution_count": 27,
     "metadata": {},
     "output_type": "execute_result"
    }
   ],
   "source": [
    "abs(a.eta).max()                                                # Jagged reduction"
   ]
  },
  {
   "cell_type": "code",
   "execution_count": 28,
   "metadata": {
    "slideshow": {
     "slide_type": "slide"
    }
   },
   "outputs": [],
   "source": [
    "import awkward                                                                 # Simple, synthetic examples\n",
    "a = awkward.JaggedArray.fromiter([[   1,     2,    3], [], [    4,    5]])     # to illustrate the idea\n",
    "b = awkward.JaggedArray.fromiter([[  10,    20,   30], [], [   40,   50]])\n",
    "m = awkward.JaggedArray.fromiter([[True, False, True], [], [False, True]])\n",
    "flat  = numpy.array([  100,  200,  300])\n",
    "mflat = numpy.array([False, True, True])\n",
    "i = awkward.JaggedArray.fromiter([[2, 1], [], [1, 1, 0, 1]])"
   ]
  },
  {
   "cell_type": "code",
   "execution_count": 29,
   "metadata": {},
   "outputs": [
    {
     "data": {
      "text/plain": [
       "<JaggedArray [[11 22 33] [] [44 55]] at 7534a141fb38>"
      ]
     },
     "execution_count": 29,
     "metadata": {},
     "output_type": "execute_result"
    }
   ],
   "source": [
    "a + b                                                                          # Elementwise operations"
   ]
  },
  {
   "cell_type": "code",
   "execution_count": 30,
   "metadata": {},
   "outputs": [
    {
     "data": {
      "text/plain": [
       "<JaggedArray [[101 102 103] [] [304 305]] at 7534a13d56a0>"
      ]
     },
     "execution_count": 30,
     "metadata": {},
     "output_type": "execute_result"
    }
   ],
   "source": [
    "a + flat                                                                       # Broadcasting"
   ]
  },
  {
   "cell_type": "code",
   "execution_count": 31,
   "metadata": {},
   "outputs": [
    {
     "data": {
      "text/plain": [
       "<JaggedArray [[1 3] [] [5]] at 7534a13d50b8>"
      ]
     },
     "execution_count": 31,
     "metadata": {},
     "output_type": "execute_result"
    }
   ],
   "source": [
    "a[m]                                                                           # Masking by jagged (selects particles)"
   ]
  },
  {
   "cell_type": "code",
   "execution_count": 32,
   "metadata": {},
   "outputs": [
    {
     "data": {
      "text/plain": [
       "<JaggedArray [[] [4 5]] at 7534a13d5550>"
      ]
     },
     "execution_count": 32,
     "metadata": {},
     "output_type": "execute_result"
    }
   ],
   "source": [
    "a[mflat]                                                                       # Masking by flat (selects events)"
   ]
  },
  {
   "cell_type": "code",
   "execution_count": 33,
   "metadata": {},
   "outputs": [
    {
     "data": {
      "text/plain": [
       "<JaggedArray [[3 2] [] [5 5 4 5]] at 7534a13d5710>"
      ]
     },
     "execution_count": 33,
     "metadata": {},
     "output_type": "execute_result"
    }
   ],
   "source": [
    "a[i]                                                                           # Fancy indexing"
   ]
  },
  {
   "cell_type": "code",
   "execution_count": 34,
   "metadata": {},
   "outputs": [
    {
     "data": {
      "text/plain": [
       "array([6, 0, 9])"
      ]
     },
     "execution_count": 34,
     "metadata": {},
     "output_type": "execute_result"
    }
   ],
   "source": [
    "a.sum()                                                                        # Jagged reduction"
   ]
  },
  {
   "cell_type": "markdown",
   "metadata": {
    "slideshow": {
     "slide_type": "slide"
    }
   },
   "source": [
    "<img src=\"logscales.png\" style=\"margin-left: auto; margin-right: auto; width: 90%\"></src>"
   ]
  },
  {
   "cell_type": "markdown",
   "metadata": {
    "slideshow": {
     "slide_type": "slide"
    }
   },
   "source": [
    "Okay, but what about nested for loops? We want something like a jagged \"cross join.\""
   ]
  },
  {
   "cell_type": "code",
   "execution_count": 35,
   "metadata": {},
   "outputs": [],
   "source": [
    "import awkward\n",
    "a = awkward.JaggedArray.fromiter([[1, 2, 3], [], [4, 5], [6], [7, 8, 9]])\n",
    "b = awkward.JaggedArray.fromiter([[100, 200], [300], [400], [500, 600, 700], [800, 900]])"
   ]
  },
  {
   "cell_type": "code",
   "execution_count": 36,
   "metadata": {
    "slideshow": {
     "slide_type": "-"
    }
   },
   "outputs": [
    {
     "data": {
      "text/plain": [
       "<JaggedArray [[<Row 0> <Row 1> <Row 2> <Row 3> <Row 4> <Row 5>] [] [<Row 6> <Row 7>] [<Row 8> <Row 9> <Row 10>] [<Row 11> <Row 12> <Row 13> <Row 14> <Row 15> <Row 16>]] at 7534a13d5c18>"
      ]
     },
     "execution_count": 36,
     "metadata": {},
     "output_type": "execute_result"
    }
   ],
   "source": [
    "a.cross(b)   # .tolist()"
   ]
  },
  {
   "cell_type": "code",
   "execution_count": 37,
   "metadata": {
    "slideshow": {
     "slide_type": "fragment"
    }
   },
   "outputs": [
    {
     "name": "stdout",
     "output_type": "stream",
     "text": [
      "[[1 1 2 2 3 3] [] [4 5] [6 6 6] [7 7 8 8 9 9]]\n",
      "[[100 200 100 200 100 200] [] [400 400] [500 600 700] [800 900 800 900 800 900]]\n"
     ]
    }
   ],
   "source": [
    "print(a.cross(b)._0)\n",
    "print(a.cross(b)._1)"
   ]
  },
  {
   "cell_type": "code",
   "execution_count": 38,
   "metadata": {
    "slideshow": {
     "slide_type": "slide"
    }
   },
   "outputs": [
    {
     "data": {
      "text/plain": [
       "<JaggedArray [[] [<Row 0>] [] ... [<Row 4057>], [<Row 4058> <Row 4059>], []] at 7534a13d5ef0>"
      ]
     },
     "execution_count": 38,
     "metadata": {},
     "output_type": "execute_result"
    }
   ],
   "source": [
    "leptoquarks = t.array(\"muonp4\").cross(t.array(\"jetp4\"))\n",
    "leptoquarks                                                          # all muon-jet pairs in each event"
   ]
  },
  {
   "cell_type": "code",
   "execution_count": 39,
   "metadata": {
    "slideshow": {
     "slide_type": "fragment"
    }
   },
   "outputs": [
    {
     "data": {
      "text/plain": [
       "<JaggedArrayMethods [[] [TLorentzVector(-39.691, -4.5408, 19.305, 75.828)] [] ... [TLorentzVector(-33.472, -52.506, -11.652, 118.35)], [TLorentzVector(-35.219, 73.783, 388.61, 403.79) TLorentzVector(-14.115, 36.434, 174.3, 208.13)], []] at 7534a13d53c8>"
      ]
     },
     "execution_count": 39,
     "metadata": {},
     "output_type": "execute_result"
    }
   ],
   "source": [
    "leptoquarks._0 + leptoquarks._1                                      # the muon in each pair plus the jet in each pair"
   ]
  },
  {
   "cell_type": "code",
   "execution_count": 40,
   "metadata": {
    "slideshow": {
     "slide_type": "fragment"
    }
   },
   "outputs": [
    {
     "data": {
      "text/plain": [
       "<JaggedArray [[] [61.49117266] [] ... [99.96350949], [ 73.10963363 106.82646499], []] at 7534a1c1bc50>"
      ]
     },
     "execution_count": 40,
     "metadata": {},
     "output_type": "execute_result"
    }
   ],
   "source": [
    "(leptoquarks._0 + leptoquarks._1).mass                               # the mass of each pair"
   ]
  },
  {
   "cell_type": "code",
   "execution_count": 41,
   "metadata": {
    "slideshow": {
     "slide_type": "fragment"
    }
   },
   "outputs": [
    {
     "data": {
      "image/png": "[encoded data removed]",
      "text/plain": [
       "<Figure size 432x288 with 1 Axes>"
      ]
     },
     "metadata": {
      "needs_background": "light"
     },
     "output_type": "display_data"
    }
   ],
   "source": [
    "physt.h1((leptoquarks._0 + leptoquarks._1).mass.flatten()).plot();   # a one-line search for leptoquarks"
   ]
  },
  {
   "cell_type": "markdown",
   "metadata": {
    "slideshow": {
     "slide_type": "slide"
    }
   },
   "source": [
    "What about nested for loops _without duplicates?_"
   ]
  },
  {
   "cell_type": "code",
   "execution_count": 42,
   "metadata": {},
   "outputs": [],
   "source": [
    "import awkward\n",
    "a = awkward.JaggedArray.fromiter([[], [1], [1, 2], [1, 2, 3], [1, 2, 3, 4]])"
   ]
  },
  {
   "cell_type": "code",
   "execution_count": 43,
   "metadata": {},
   "outputs": [
    {
     "data": {
      "text/plain": [
       "[[],\n",
       " [{'0': 1, '1': 1}],\n",
       " [{'0': 1, '1': 1}, {'0': 1, '1': 2}, {'0': 2, '1': 2}],\n",
       " [{'0': 1, '1': 1},\n",
       "  {'0': 1, '1': 2},\n",
       "  {'0': 1, '1': 3},\n",
       "  {'0': 2, '1': 2},\n",
       "  {'0': 2, '1': 3},\n",
       "  {'0': 3, '1': 3}],\n",
       " [{'0': 1, '1': 1},\n",
       "  {'0': 1, '1': 2},\n",
       "  {'0': 1, '1': 3},\n",
       "  {'0': 1, '1': 4},\n",
       "  {'0': 2, '1': 2},\n",
       "  {'0': 2, '1': 3},\n",
       "  {'0': 2, '1': 4},\n",
       "  {'0': 3, '1': 3},\n",
       "  {'0': 3, '1': 4},\n",
       "  {'0': 4, '1': 4}]]"
      ]
     },
     "execution_count": 43,
     "metadata": {},
     "output_type": "execute_result"
    }
   ],
   "source": [
    "a.pairs().tolist()               # same=False"
   ]
  },
  {
   "cell_type": "code",
   "execution_count": 44,
   "metadata": {
    "slideshow": {
     "slide_type": "slide"
    }
   },
   "outputs": [
    {
     "data": {
      "text/plain": [
       "<JaggedArray [[90.22779777] [] [74.74654928] ... [], [], []] at 7534a134cf98>"
      ]
     },
     "execution_count": 44,
     "metadata": {},
     "output_type": "execute_result"
    }
   ],
   "source": [
    "zcandidates = t.array(\"muonp4\").pairs(same=False)\n",
    "(zcandidates._0 + zcandidates._1).mass"
   ]
  },
  {
   "cell_type": "code",
   "execution_count": 45,
   "metadata": {
    "slideshow": {
     "slide_type": "fragment"
    }
   },
   "outputs": [
    {
     "data": {
      "image/png": "[encoded data removed]",
      "text/plain": [
       "<Figure size 432x288 with 1 Axes>"
      ]
     },
     "metadata": {
      "needs_background": "light"
     },
     "output_type": "display_data"
    }
   ],
   "source": [
    "physt.h1((zcandidates._0 + zcandidates._1).mass.flatten(), bins=100).plot();"
   ]
  },
  {
   "cell_type": "code",
   "execution_count": 46,
   "metadata": {
    "slideshow": {
     "slide_type": "fragment"
    }
   },
   "outputs": [],
   "source": [
    "charges = t.array(\"muonq\").pairs(same=False)\n",
    "cut = (charges._0 * charges._1 < 0)"
   ]
  },
  {
   "cell_type": "code",
   "execution_count": 47,
   "metadata": {
    "scrolled": false,
    "slideshow": {
     "slide_type": "fragment"
    }
   },
   "outputs": [
    {
     "data": {
      "image/png": "[encoded data removed]",
      "text/plain": [
       "<Figure size 432x288 with 1 Axes>"
      ]
     },
     "metadata": {
      "needs_background": "light"
     },
     "output_type": "display_data"
    }
   ],
   "source": [
    "physt.h1((zcandidates[cut]._0 + zcandidates[cut]._1).mass.flatten(), bins=100).plot();"
   ]
  },
  {
   "cell_type": "markdown",
   "metadata": {
    "slideshow": {
     "slide_type": "slide"
    }
   },
   "source": [
    "<img style=\"float: right; width: 10%\" src=\"jaydeep.jpg\"></img>\n",
    "\n",
    "## Credit\n",
    "\n",
    "Broadcasting, cross, pairs, and a vectorized jagged reduction algorithm were developed by Jaydeep Nandi, a Google Summer of Code student.\n",
    "\n",
    "None of them involve for loops, not even for loops in C, and are good candidates for GPU acceleration.\n",
    "\n",
    "<img style=\"margin-left: auto; margin-right: auto; width: 35%\" src=\"sum_rates_logy.png\"></img>"
   ]
  },
  {
   "cell_type": "markdown",
   "metadata": {
    "slideshow": {
     "slide_type": "slide"
    }
   },
   "source": [
    "<div style=\"margin-left: auto; margin-right: auto; width: 70%\">\n",
    "<p>Are there other looping constructs that can't be expressed like this, which would force you to write a for loop?</p>\n",
    "\n",
    "<p style=\"font-weight: bold\">Probably.</p>\n",
    "\n",
    "<p>But when you encounter such instances, let me know and we'll think about new primitives beyond \"cross\" and \"pairs\" for those cases.</p>\n",
    "</div>"
   ]
  },
  {
   "cell_type": "markdown",
   "metadata": {
    "slideshow": {
     "slide_type": "slide"
    }
   },
   "source": [
    "Purely for streamlined expression (syntactic sugar), a few higher-order functions have been defined.\n",
    "\n",
    "   * `array.apply(function)` performs `function(array)`\n",
    "   * `array.filter(function)` performs `array[function(array)]`\n",
    "   * `array.maxby(function)` performs `array[function(array).argmax()]`\n",
    "   * `array.minby(function)` performs `array[function(array).argmin()]`"
   ]
  },
  {
   "cell_type": "code",
   "execution_count": 48,
   "metadata": {
    "slideshow": {
     "slide_type": "fragment"
    }
   },
   "outputs": [
    {
     "data": {
      "image/png": "[encoded data removed]",
      "text/plain": [
       "<Figure size 432x288 with 1 Axes>"
      ]
     },
     "metadata": {
      "needs_background": "light"
     },
     "output_type": "display_data"
    }
   ],
   "source": [
    "physt.h1(t.array(\"muonp4\")                          # get the muon 4-vectors\n",
    "          .filter(lambda muon: abs(muon.eta) < 1)   # select central muons (select particles, not events)\n",
    "          .pairs(same=False)                        # form all non-duplicate pairs\n",
    "          .apply(lambda a, b: a + b)                # compute Z candidates from as 4-vector sums\n",
    "          .maxby(lambda z: z.pt)                    # select one per event, the highest pT\n",
    "          .flatten()                                # flatten [x] → x and [] → nothing (ignore empty events)\n",
    "          .mass,                                    # compute the masses of what remains\n",
    "         bins=100).plot();"
   ]
  },
  {
   "cell_type": "markdown",
   "metadata": {
    "slideshow": {
     "slide_type": "slide"
    }
   },
   "source": [
    "## Where is this headed?\n",
    "\n",
    "**awkward-array** is distinct from **uproot**, with potential uses on data beyond ROOT files.\n",
    "\n",
    "In the next few months, I hope to...\n",
    "\n",
    "   * add support for other \"awkward\" array types: virtual, chunked, masked, indexed\n",
    "   * add Pandas extensions so that Pandas columns can be \"awkward\"\n",
    "   * add Numba extensions so you can write fast for loops if you need to\n",
    "   * add Dask extensions so you can distribute work across a cluster\n",
    "   * use Apache Arrow as input, which could allow efficient processing of nested data in PySpark (depending on Spark developments to provide Arrow buffers)"
   ]
  },
  {
   "cell_type": "markdown",
   "metadata": {
    "slideshow": {
     "slide_type": "slide"
    }
   },
   "source": [
    "## Writing files\n",
    "\n",
    "uproot can now write histograms to files. It has the same dict-like interface as reading:"
   ]
  },
  {
   "cell_type": "code",
   "execution_count": 49,
   "metadata": {
    "slideshow": {
     "slide_type": "-"
    }
   },
   "outputs": [],
   "source": [
    "f = uproot.recreate(\"tmp.root\")                                  # instead of uproot.open\n",
    "f[\"name\"] = numpy.histogram(numpy.random.normal(0, 1, 100000))   # any kind of histogram"
   ]
  },
  {
   "cell_type": "code",
   "execution_count": 50,
   "metadata": {
    "slideshow": {
     "slide_type": "fragment"
    }
   },
   "outputs": [
    {
     "name": "stdout",
     "output_type": "stream",
     "text": [
      "                         0                                                 36485\n",
      "                         +-----------------------------------------------------+\n",
      "[-inf, -4.9866)    0     |                                                     |\n",
      "[-4.9866, -4.0873) 5     |                                                     |\n",
      "[-4.0873, -3.1881) 61    |                                                     |\n",
      "[-3.1881, -2.2888) 984   |*                                                    |\n",
      "[-2.2888, -1.3895) 7161  |**********                                           |\n",
      "[-1.3895, -0.4902) 22792 |*********************************                    |\n",
      "[-0.4902, 0.40909) 34748 |**************************************************   |\n",
      "[0.40909, 1.3084)  24605 |************************************                 |\n",
      "[1.3084, 2.2077)   8276  |************                                         |\n",
      "[2.2077, 3.1069)   1260  |**                                                   |\n",
      "[3.1069, 4.0062)   108   |                                                     |\n",
      "[4.0062, inf]      0     |                                                     |\n",
      "                         +-----------------------------------------------------+\n"
     ]
    }
   ],
   "source": [
    "f[\"name\"].show()                                                 # read it back out"
   ]
  },
  {
   "cell_type": "code",
   "execution_count": 51,
   "metadata": {
    "slideshow": {
     "slide_type": "slide"
    }
   },
   "outputs": [
    {
     "name": "stdout",
     "output_type": "stream",
     "text": [
      "Welcome to JupyROOT 6.14/04\n"
     ]
    }
   ],
   "source": [
    "import ROOT\n",
    "c = ROOT.TCanvas()"
   ]
  },
  {
   "cell_type": "code",
   "execution_count": 52,
   "metadata": {
    "slideshow": {
     "slide_type": "-"
    }
   },
   "outputs": [
    {
     "data": {
      "image/png": "[encoded data removed]",
      "text/plain": [
       "<IPython.core.display.Image object>"
      ]
     },
     "metadata": {},
     "output_type": "display_data"
    }
   ],
   "source": [
    "f = ROOT.TFile(\"tmp.root\")                    # ROOT can read it, too\n",
    "h = f.Get(\"name\")\n",
    "h.Draw()\n",
    "c.Draw()"
   ]
  },
  {
   "cell_type": "code",
   "execution_count": 53,
   "metadata": {
    "slideshow": {
     "slide_type": "slide"
    }
   },
   "outputs": [],
   "source": [
    "f = ROOT.TFile(\"tmp.root\", \"UPDATE\")          # ROOT can add to the same file, too\n",
    "h = ROOT.TH1D(\"another\", \"\", 10, -5, 5)\n",
    "for x in numpy.random.normal(0, 1, 100000):\n",
    "    h.Fill(x)\n",
    "h.Write()\n",
    "f.Close()"
   ]
  },
  {
   "cell_type": "code",
   "execution_count": 54,
   "metadata": {
    "slideshow": {
     "slide_type": "fragment"
    }
   },
   "outputs": [
    {
     "name": "stdout",
     "output_type": "stream",
     "text": [
      "                 0                                                         36162\n",
      "                 +-------------------------------------------------------------+\n",
      "[-inf, -5) 0     |                                                             |\n",
      "[-5, -4)   3     |                                                             |\n",
      "[-4, -3)   133   |                                                             |\n",
      "[-3, -2)   2103  |****                                                         |\n",
      "[-2, -1)   13658 |***********************                                      |\n",
      "[-1, 0)    33996 |*********************************************************    |\n",
      "[0, 1)     34440 |**********************************************************   |\n",
      "[1, 2)     13464 |***********************                                      |\n",
      "[2, 3)     2059  |***                                                          |\n",
      "[3, 4)     139   |                                                             |\n",
      "[4, 5)     5     |                                                             |\n",
      "[5, inf]   0     |                                                             |\n",
      "                 +-------------------------------------------------------------+\n"
     ]
    }
   ],
   "source": [
    "f = uproot.open(\"tmp.root\")\n",
    "f[\"another\"].show()"
   ]
  },
  {
   "cell_type": "markdown",
   "metadata": {
    "slideshow": {
     "slide_type": "slide"
    }
   },
   "source": [
    "uproot could become a clearinghouse for histograms from different libraries."
   ]
  },
  {
   "cell_type": "code",
   "execution_count": 55,
   "metadata": {
    "slideshow": {
     "slide_type": "-"
    }
   },
   "outputs": [
    {
     "data": {
      "image/png": "[encoded data removed]",
      "text/plain": [
       "<Figure size 432x288 with 1 Axes>"
      ]
     },
     "metadata": {
      "needs_background": "light"
     },
     "output_type": "display_data"
    }
   ],
   "source": [
    "import physt                       # physt is a pure Python histogram library: https://physt.readthedocs.io\n",
    "h = physt.h1(numpy.random.normal(0, 1, 100000), bins=16, range=(-4, 4), name=\"physt histogram\")\n",
    "h.plot();"
   ]
  },
  {
   "cell_type": "code",
   "execution_count": 56,
   "metadata": {
    "slideshow": {
     "slide_type": "fragment"
    }
   },
   "outputs": [],
   "source": [
    "f = uproot.recreate(\"tmp.root\")\n",
    "f[\"name\"] = h                      # save the physt histogram as a TH1D (making the necessary translations)"
   ]
  },
  {
   "cell_type": "code",
   "execution_count": 57,
   "metadata": {
    "slideshow": {
     "slide_type": "slide"
    }
   },
   "outputs": [
    {
     "data": {
      "image/png": "[encoded data removed]",
      "text/plain": [
       "<Figure size 432x288 with 1 Axes>"
      ]
     },
     "metadata": {
      "needs_background": "light"
     },
     "output_type": "display_data"
    }
   ],
   "source": [
    "f = uproot.open(\"tmp.root\")       # read the ROOT histogram back and convert it to physt\n",
    "f[\"name\"].physt().plot();"
   ]
  },
  {
   "cell_type": "code",
   "execution_count": 58,
   "metadata": {
    "slideshow": {
     "slide_type": "fragment"
    }
   },
   "outputs": [
    {
     "data": {
      "text/plain": [
       "(array([   25,   112,   498,  1618,  4481,  9297, 14827, 19040, 19124, 14907,  9349,  4381,  1703,   493,   120,    20], dtype=int32),\n",
       " array([-4. , -3.5, -3. , -2.5, -2. , -1.5, -1. , -0.5,  0. ,  0.5,  1. ,  1.5,  2. ,  2.5,  3. ,  3.5,  4. ]))"
      ]
     },
     "execution_count": 58,
     "metadata": {},
     "output_type": "execute_result"
    }
   ],
   "source": [
    "f[\"name\"].numpy()                  # or Numpy, a format Matplotlib recognizes"
   ]
  },
  {
   "cell_type": "code",
   "execution_count": 59,
   "metadata": {
    "slideshow": {
     "slide_type": "slide"
    }
   },
   "outputs": [
    {
     "data": {
      "image/png": "[encoded data removed]",
      "text/plain": [
       "<IPython.core.display.Image object>"
      ]
     },
     "metadata": {},
     "output_type": "display_data"
    }
   ],
   "source": [
    "f = ROOT.TFile(\"tmp.root\")         # but look, it's really a ROOT file; ROOT recognizes it as a histogram\n",
    "h = f.Get(\"name\")\n",
    "h.Draw()\n",
    "c.Draw()                           # ROOT shows error bars because we've set sumw2 (I may change this for cases without weights)"
   ]
  },
  {
   "cell_type": "markdown",
   "metadata": {
    "slideshow": {
     "slide_type": "slide"
    }
   },
   "source": [
    "This can also include new ways of representing histograms."
   ]
  },
  {
   "cell_type": "code",
   "execution_count": 60,
   "metadata": {
    "scrolled": true,
    "slideshow": {
     "slide_type": "-"
    }
   },
   "outputs": [
    {
     "name": "stdout",
     "output_type": "stream",
     "text": [
      "dependent_variables:\n",
      "- header: {name: counts, units: null}\n",
      "  qualifiers: []\n",
      "  values:\n",
      "  - errors:\n",
      "    - {label: stat, symerror: 5.0}\n",
      "    value: 25.0\n",
      "  - errors:\n",
      "    - {label: stat, symerror: 10.583005244258363}\n",
      "    value: 112.0\n",
      "  - errors:\n",
      "    - {label: stat, symerror: 22.315913604421397}\n",
      "    value: 498.0\n",
      "  - errors:\n",
      "    - {label: stat, symerror: 40.22437072223753}\n",
      "    value: 1618.0\n",
      "  - errors:\n",
      "    - {label: stat, symerror: 66.94027188471824}\n",
      "    value: 4481.0\n",
      "  - errors:\n",
      "    - {label: stat, symerror: 96.42095207992918}\n",
      "    value: 9297.0\n",
      "  - errors:\n",
      "    - {label: stat, symerror: 121.76616935750258}\n",
      "    value: 14827.0\n",
      "  - errors:\n",
      "    - {label: stat, symerror: 137.9855064852827}\n",
      "    value: 19040.0\n",
      "  - errors:\n",
      "    - {label: stat, symerror: 138.28955130450024}\n",
      "    value: 19124.0\n",
      "  - errors:\n",
      "    - {label: stat, symerror: 122.09422590769803}\n",
      "    value: 14907.0\n",
      "  - errors:\n",
      "    - {label: stat, symerror: 96.6902270139025}\n",
      "    value: 9349.0\n",
      "  - errors:\n",
      "    - {label: stat, symerror: 66.18912297349165}\n",
      "    value: 4381.0\n",
      "  - errors:\n",
      "    - {label: stat, symerror: 41.2674205639267}\n",
      "    value: 1703.0\n",
      "  - errors:\n",
      "    - {label: stat, symerror: 22.20360331117452}\n",
      "    value: 493.0\n",
      "  - errors:\n",
      "    - {label: stat, symerror: 10.954451150103322}\n",
      "    value: 120.0\n",
      "  - errors:\n",
      "    - {label: stat, symerror: 4.47213595499958}\n",
      "    value: 20.0\n",
      "independent_variables:\n",
      "- header: {name: physt histogram, units: null}\n",
      "  values:\n",
      "  - {high: -3.5, low: -4.0}\n",
      "  - {high: -3.0, low: -3.5}\n",
      "  - {high: -2.5, low: -3.0}\n",
      "  - {high: -2.0, low: -2.5}\n",
      "  - {high: -1.5, low: -2.0}\n",
      "  - {high: -1.0, low: -1.5}\n",
      "  - {high: -0.5, low: -1.0}\n",
      "  - {high: 0.0, low: -0.5}\n",
      "  - {high: 0.5, low: 0.0}\n",
      "  - {high: 1.0, low: 0.5}\n",
      "  - {high: 1.5, low: 1.0}\n",
      "  - {high: 2.0, low: 1.5}\n",
      "  - {high: 2.5, low: 2.0}\n",
      "  - {high: 3.0, low: 2.5}\n",
      "  - {high: 3.5, low: 3.0}\n",
      "  - {high: 4.0, low: 3.5}\n",
      "\n"
     ]
    }
   ],
   "source": [
    "f = uproot.open(\"tmp.root\")\n",
    "print(f[\"name\"].hepdata())      # YAML format for the HEPData archival site"
   ]
  },
  {
   "cell_type": "markdown",
   "metadata": {
    "slideshow": {
     "slide_type": "slide"
    }
   },
   "source": [
    "Including an idea I've been working on: Pandas DataFrames with an interval index _are_ histograms."
   ]
  },
  {
   "cell_type": "code",
   "execution_count": 61,
   "metadata": {
    "slideshow": {
     "slide_type": "-"
    }
   },
   "outputs": [
    {
     "data": {
      "text/html": [
       "<div>\n",
       "<style scoped>\n",
       "    .dataframe tbody tr th:only-of-type {\n",
       "        vertical-align: middle;\n",
       "    }\n",
       "\n",
       "    .dataframe tbody tr th {\n",
       "        vertical-align: top;\n",
       "    }\n",
       "\n",
       "    .dataframe thead th {\n",
       "        text-align: right;\n",
       "    }\n",
       "</style>\n",
       "<table border=\"1\" class=\"dataframe\">\n",
       "  <thead>\n",
       "    <tr style=\"text-align: right;\">\n",
       "      <th></th>\n",
       "      <th>count</th>\n",
       "      <th>variance</th>\n",
       "    </tr>\n",
       "    <tr>\n",
       "      <th>physt histogram</th>\n",
       "      <th></th>\n",
       "      <th></th>\n",
       "    </tr>\n",
       "  </thead>\n",
       "  <tbody>\n",
       "    <tr>\n",
       "      <th>[-inf, -4.0)</th>\n",
       "      <td>4</td>\n",
       "      <td>0.0</td>\n",
       "    </tr>\n",
       "    <tr>\n",
       "      <th>[-4.0, -3.5)</th>\n",
       "      <td>25</td>\n",
       "      <td>25.0</td>\n",
       "    </tr>\n",
       "    <tr>\n",
       "      <th>[-3.5, -3.0)</th>\n",
       "      <td>112</td>\n",
       "      <td>112.0</td>\n",
       "    </tr>\n",
       "    <tr>\n",
       "      <th>[-3.0, -2.5)</th>\n",
       "      <td>498</td>\n",
       "      <td>498.0</td>\n",
       "    </tr>\n",
       "    <tr>\n",
       "      <th>[-2.5, -2.0)</th>\n",
       "      <td>1618</td>\n",
       "      <td>1618.0</td>\n",
       "    </tr>\n",
       "    <tr>\n",
       "      <th>[-2.0, -1.5)</th>\n",
       "      <td>4481</td>\n",
       "      <td>4481.0</td>\n",
       "    </tr>\n",
       "    <tr>\n",
       "      <th>[-1.5, -1.0)</th>\n",
       "      <td>9297</td>\n",
       "      <td>9297.0</td>\n",
       "    </tr>\n",
       "    <tr>\n",
       "      <th>[-1.0, -0.5)</th>\n",
       "      <td>14827</td>\n",
       "      <td>14827.0</td>\n",
       "    </tr>\n",
       "    <tr>\n",
       "      <th>[-0.5, 0.0)</th>\n",
       "      <td>19040</td>\n",
       "      <td>19040.0</td>\n",
       "    </tr>\n",
       "    <tr>\n",
       "      <th>[0.0, 0.5)</th>\n",
       "      <td>19124</td>\n",
       "      <td>19124.0</td>\n",
       "    </tr>\n",
       "    <tr>\n",
       "      <th>[0.5, 1.0)</th>\n",
       "      <td>14907</td>\n",
       "      <td>14907.0</td>\n",
       "    </tr>\n",
       "    <tr>\n",
       "      <th>[1.0, 1.5)</th>\n",
       "      <td>9349</td>\n",
       "      <td>9349.0</td>\n",
       "    </tr>\n",
       "    <tr>\n",
       "      <th>[1.5, 2.0)</th>\n",
       "      <td>4381</td>\n",
       "      <td>4381.0</td>\n",
       "    </tr>\n",
       "    <tr>\n",
       "      <th>[2.0, 2.5)</th>\n",
       "      <td>1703</td>\n",
       "      <td>1703.0</td>\n",
       "    </tr>\n",
       "    <tr>\n",
       "      <th>[2.5, 3.0)</th>\n",
       "      <td>493</td>\n",
       "      <td>493.0</td>\n",
       "    </tr>\n",
       "    <tr>\n",
       "      <th>[3.0, 3.5)</th>\n",
       "      <td>120</td>\n",
       "      <td>120.0</td>\n",
       "    </tr>\n",
       "    <tr>\n",
       "      <th>[3.5, 4.0)</th>\n",
       "      <td>20</td>\n",
       "      <td>20.0</td>\n",
       "    </tr>\n",
       "    <tr>\n",
       "      <th>[4.0, inf)</th>\n",
       "      <td>1</td>\n",
       "      <td>0.0</td>\n",
       "    </tr>\n",
       "  </tbody>\n",
       "</table>\n",
       "</div>"
      ],
      "text/plain": [
       "                 count  variance\n",
       "physt histogram                 \n",
       "[-inf, -4.0)         4       0.0\n",
       "[-4.0, -3.5)        25      25.0\n",
       "[-3.5, -3.0)       112     112.0\n",
       "[-3.0, -2.5)       498     498.0\n",
       "[-2.5, -2.0)      1618    1618.0\n",
       "[-2.0, -1.5)      4481    4481.0\n",
       "[-1.5, -1.0)      9297    9297.0\n",
       "[-1.0, -0.5)     14827   14827.0\n",
       "[-0.5, 0.0)      19040   19040.0\n",
       "[0.0, 0.5)       19124   19124.0\n",
       "[0.5, 1.0)       14907   14907.0\n",
       "[1.0, 1.5)        9349    9349.0\n",
       "[1.5, 2.0)        4381    4381.0\n",
       "[2.0, 2.5)        1703    1703.0\n",
       "[2.5, 3.0)         493     493.0\n",
       "[3.0, 3.5)         120     120.0\n",
       "[3.5, 4.0)          20      20.0\n",
       "[4.0, inf)           1       0.0"
      ]
     },
     "execution_count": 61,
     "metadata": {},
     "output_type": "execute_result"
    }
   ],
   "source": [
    "f = uproot.open(\"tmp.root\")\n",
    "h = f[\"name\"].pandas()              # read the histogram as a DataFrame with interval index\n",
    "h"
   ]
  },
  {
   "cell_type": "code",
   "execution_count": 62,
   "metadata": {
    "slideshow": {
     "slide_type": "fragment"
    }
   },
   "outputs": [],
   "source": [
    "f = uproot.recreate(\"tmp.root\")\n",
    "f[\"another\"] = h                    # write DataFrames in the same format as ROOT histograms"
   ]
  },
  {
   "cell_type": "markdown",
   "metadata": {
    "slideshow": {
     "slide_type": "slide"
    }
   },
   "source": [
    "Given the way Pandas handles indexes (interval indexes in particular), Pandas-as-histograms are sparse histograms."
   ]
  },
  {
   "cell_type": "code",
   "execution_count": 63,
   "metadata": {
    "slideshow": {
     "slide_type": "-"
    }
   },
   "outputs": [],
   "source": [
    "f = uproot.recreate(\"tmp.root\")\n",
    "f[\"one\"]   = numpy.histogram(numpy.random.normal(1, 0.6, 10000), bins=8, range=(0, 8))\n",
    "f[\"two\"]   = numpy.histogram(numpy.random.normal(3, 0.4, 10000), bins=8, range=(0, 8))\n",
    "f[\"three\"] = numpy.histogram(numpy.random.normal(9, 0.6, 100000), bins=8, range=(0, 8))\n",
    "one   = f[\"one\"].pandas()\n",
    "two   = f[\"two\"].pandas()\n",
    "three = f[\"three\"].pandas()"
   ]
  },
  {
   "cell_type": "code",
   "execution_count": 64,
   "metadata": {},
   "outputs": [
    {
     "data": {
      "text/html": [
       "<div>\n",
       "<style scoped>\n",
       "    .dataframe tbody tr th:only-of-type {\n",
       "        vertical-align: middle;\n",
       "    }\n",
       "\n",
       "    .dataframe tbody tr th {\n",
       "        vertical-align: top;\n",
       "    }\n",
       "\n",
       "    .dataframe thead th {\n",
       "        text-align: right;\n",
       "    }\n",
       "</style>\n",
       "<table border=\"1\" class=\"dataframe\">\n",
       "  <thead>\n",
       "    <tr style=\"text-align: right;\">\n",
       "      <th></th>\n",
       "      <th>count</th>\n",
       "      <th>variance</th>\n",
       "    </tr>\n",
       "  </thead>\n",
       "  <tbody>\n",
       "    <tr>\n",
       "      <th>[0.0, 1.0)</th>\n",
       "      <td>4585</td>\n",
       "      <td>4585</td>\n",
       "    </tr>\n",
       "    <tr>\n",
       "      <th>[1.0, 2.0)</th>\n",
       "      <td>4485</td>\n",
       "      <td>4485</td>\n",
       "    </tr>\n",
       "    <tr>\n",
       "      <th>[2.0, 3.0)</th>\n",
       "      <td>468</td>\n",
       "      <td>468</td>\n",
       "    </tr>\n",
       "    <tr>\n",
       "      <th>[3.0, 4.0)</th>\n",
       "      <td>6</td>\n",
       "      <td>6</td>\n",
       "    </tr>\n",
       "  </tbody>\n",
       "</table>\n",
       "</div>"
      ],
      "text/plain": [
       "            count  variance\n",
       "[0.0, 1.0)   4585      4585\n",
       "[1.0, 2.0)   4485      4485\n",
       "[2.0, 3.0)    468       468\n",
       "[3.0, 4.0)      6         6"
      ]
     },
     "metadata": {},
     "output_type": "display_data"
    },
    {
     "data": {
      "text/html": [
       "<div>\n",
       "<style scoped>\n",
       "    .dataframe tbody tr th:only-of-type {\n",
       "        vertical-align: middle;\n",
       "    }\n",
       "\n",
       "    .dataframe tbody tr th {\n",
       "        vertical-align: top;\n",
       "    }\n",
       "\n",
       "    .dataframe thead th {\n",
       "        text-align: right;\n",
       "    }\n",
       "</style>\n",
       "<table border=\"1\" class=\"dataframe\">\n",
       "  <thead>\n",
       "    <tr style=\"text-align: right;\">\n",
       "      <th></th>\n",
       "      <th>count</th>\n",
       "      <th>variance</th>\n",
       "    </tr>\n",
       "  </thead>\n",
       "  <tbody>\n",
       "    <tr>\n",
       "      <th>[1.0, 2.0)</th>\n",
       "      <td>68</td>\n",
       "      <td>68</td>\n",
       "    </tr>\n",
       "    <tr>\n",
       "      <th>[2.0, 3.0)</th>\n",
       "      <td>4963</td>\n",
       "      <td>4963</td>\n",
       "    </tr>\n",
       "    <tr>\n",
       "      <th>[3.0, 4.0)</th>\n",
       "      <td>4899</td>\n",
       "      <td>4899</td>\n",
       "    </tr>\n",
       "    <tr>\n",
       "      <th>[4.0, 5.0)</th>\n",
       "      <td>70</td>\n",
       "      <td>70</td>\n",
       "    </tr>\n",
       "  </tbody>\n",
       "</table>\n",
       "</div>"
      ],
      "text/plain": [
       "            count  variance\n",
       "[1.0, 2.0)     68        68\n",
       "[2.0, 3.0)   4963      4963\n",
       "[3.0, 4.0)   4899      4899\n",
       "[4.0, 5.0)     70        70"
      ]
     },
     "metadata": {},
     "output_type": "display_data"
    },
    {
     "data": {
      "text/html": [
       "<div>\n",
       "<style scoped>\n",
       "    .dataframe tbody tr th:only-of-type {\n",
       "        vertical-align: middle;\n",
       "    }\n",
       "\n",
       "    .dataframe tbody tr th {\n",
       "        vertical-align: top;\n",
       "    }\n",
       "\n",
       "    .dataframe thead th {\n",
       "        text-align: right;\n",
       "    }\n",
       "</style>\n",
       "<table border=\"1\" class=\"dataframe\">\n",
       "  <thead>\n",
       "    <tr style=\"text-align: right;\">\n",
       "      <th></th>\n",
       "      <th>count</th>\n",
       "      <th>variance</th>\n",
       "    </tr>\n",
       "  </thead>\n",
       "  <tbody>\n",
       "    <tr>\n",
       "      <th>[6.0, 7.0)</th>\n",
       "      <td>39</td>\n",
       "      <td>39</td>\n",
       "    </tr>\n",
       "    <tr>\n",
       "      <th>[7.0, 8.0)</th>\n",
       "      <td>4750</td>\n",
       "      <td>4750</td>\n",
       "    </tr>\n",
       "  </tbody>\n",
       "</table>\n",
       "</div>"
      ],
      "text/plain": [
       "            count  variance\n",
       "[6.0, 7.0)     39        39\n",
       "[7.0, 8.0)   4750      4750"
      ]
     },
     "metadata": {},
     "output_type": "display_data"
    }
   ],
   "source": [
    "from IPython.display import display\n",
    "display(one); display(two); display(three);"
   ]
  },
  {
   "cell_type": "markdown",
   "metadata": {
    "slideshow": {
     "slide_type": "slide"
    }
   },
   "source": [
    "Adding DataFrames matches up intervals and fills in missing values with NaN (0 if we explicitly set it)."
   ]
  },
  {
   "cell_type": "code",
   "execution_count": 65,
   "metadata": {
    "slideshow": {
     "slide_type": "-"
    }
   },
   "outputs": [
    {
     "data": {
      "text/html": [
       "<div>\n",
       "<style scoped>\n",
       "    .dataframe tbody tr th:only-of-type {\n",
       "        vertical-align: middle;\n",
       "    }\n",
       "\n",
       "    .dataframe tbody tr th {\n",
       "        vertical-align: top;\n",
       "    }\n",
       "\n",
       "    .dataframe thead th {\n",
       "        text-align: right;\n",
       "    }\n",
       "</style>\n",
       "<table border=\"1\" class=\"dataframe\">\n",
       "  <thead>\n",
       "    <tr style=\"text-align: right;\">\n",
       "      <th></th>\n",
       "      <th>count</th>\n",
       "      <th>variance</th>\n",
       "    </tr>\n",
       "  </thead>\n",
       "  <tbody>\n",
       "    <tr>\n",
       "      <th>[0.0, 1.0)</th>\n",
       "      <td>4585.0</td>\n",
       "      <td>4585.0</td>\n",
       "    </tr>\n",
       "    <tr>\n",
       "      <th>[1.0, 2.0)</th>\n",
       "      <td>4553.0</td>\n",
       "      <td>4553.0</td>\n",
       "    </tr>\n",
       "    <tr>\n",
       "      <th>[2.0, 3.0)</th>\n",
       "      <td>5431.0</td>\n",
       "      <td>5431.0</td>\n",
       "    </tr>\n",
       "    <tr>\n",
       "      <th>[3.0, 4.0)</th>\n",
       "      <td>4905.0</td>\n",
       "      <td>4905.0</td>\n",
       "    </tr>\n",
       "    <tr>\n",
       "      <th>[4.0, 5.0)</th>\n",
       "      <td>70.0</td>\n",
       "      <td>70.0</td>\n",
       "    </tr>\n",
       "  </tbody>\n",
       "</table>\n",
       "</div>"
      ],
      "text/plain": [
       "             count  variance\n",
       "[0.0, 1.0)  4585.0    4585.0\n",
       "[1.0, 2.0)  4553.0    4553.0\n",
       "[2.0, 3.0)  5431.0    5431.0\n",
       "[3.0, 4.0)  4905.0    4905.0\n",
       "[4.0, 5.0)    70.0      70.0"
      ]
     },
     "metadata": {},
     "output_type": "display_data"
    },
    {
     "data": {
      "text/html": [
       "<div>\n",
       "<style scoped>\n",
       "    .dataframe tbody tr th:only-of-type {\n",
       "        vertical-align: middle;\n",
       "    }\n",
       "\n",
       "    .dataframe tbody tr th {\n",
       "        vertical-align: top;\n",
       "    }\n",
       "\n",
       "    .dataframe thead th {\n",
       "        text-align: right;\n",
       "    }\n",
       "</style>\n",
       "<table border=\"1\" class=\"dataframe\">\n",
       "  <thead>\n",
       "    <tr style=\"text-align: right;\">\n",
       "      <th></th>\n",
       "      <th>count</th>\n",
       "      <th>variance</th>\n",
       "    </tr>\n",
       "  </thead>\n",
       "  <tbody>\n",
       "    <tr>\n",
       "      <th>[1.0, 2.0)</th>\n",
       "      <td>68.0</td>\n",
       "      <td>68.0</td>\n",
       "    </tr>\n",
       "    <tr>\n",
       "      <th>[2.0, 3.0)</th>\n",
       "      <td>4963.0</td>\n",
       "      <td>4963.0</td>\n",
       "    </tr>\n",
       "    <tr>\n",
       "      <th>[3.0, 4.0)</th>\n",
       "      <td>4899.0</td>\n",
       "      <td>4899.0</td>\n",
       "    </tr>\n",
       "    <tr>\n",
       "      <th>[4.0, 5.0)</th>\n",
       "      <td>70.0</td>\n",
       "      <td>70.0</td>\n",
       "    </tr>\n",
       "    <tr>\n",
       "      <th>[6.0, 7.0)</th>\n",
       "      <td>39.0</td>\n",
       "      <td>39.0</td>\n",
       "    </tr>\n",
       "    <tr>\n",
       "      <th>[7.0, 8.0)</th>\n",
       "      <td>4750.0</td>\n",
       "      <td>4750.0</td>\n",
       "    </tr>\n",
       "  </tbody>\n",
       "</table>\n",
       "</div>"
      ],
      "text/plain": [
       "             count  variance\n",
       "[1.0, 2.0)    68.0      68.0\n",
       "[2.0, 3.0)  4963.0    4963.0\n",
       "[3.0, 4.0)  4899.0    4899.0\n",
       "[4.0, 5.0)    70.0      70.0\n",
       "[6.0, 7.0)    39.0      39.0\n",
       "[7.0, 8.0)  4750.0    4750.0"
      ]
     },
     "metadata": {},
     "output_type": "display_data"
    },
    {
     "data": {
      "text/html": [
       "<div>\n",
       "<style scoped>\n",
       "    .dataframe tbody tr th:only-of-type {\n",
       "        vertical-align: middle;\n",
       "    }\n",
       "\n",
       "    .dataframe tbody tr th {\n",
       "        vertical-align: top;\n",
       "    }\n",
       "\n",
       "    .dataframe thead th {\n",
       "        text-align: right;\n",
       "    }\n",
       "</style>\n",
       "<table border=\"1\" class=\"dataframe\">\n",
       "  <thead>\n",
       "    <tr style=\"text-align: right;\">\n",
       "      <th></th>\n",
       "      <th>count</th>\n",
       "      <th>variance</th>\n",
       "    </tr>\n",
       "  </thead>\n",
       "  <tbody>\n",
       "    <tr>\n",
       "      <th>[0.0, 1.0)</th>\n",
       "      <td>4585.0</td>\n",
       "      <td>4585.0</td>\n",
       "    </tr>\n",
       "    <tr>\n",
       "      <th>[1.0, 2.0)</th>\n",
       "      <td>4553.0</td>\n",
       "      <td>4553.0</td>\n",
       "    </tr>\n",
       "    <tr>\n",
       "      <th>[2.0, 3.0)</th>\n",
       "      <td>5431.0</td>\n",
       "      <td>5431.0</td>\n",
       "    </tr>\n",
       "    <tr>\n",
       "      <th>[3.0, 4.0)</th>\n",
       "      <td>4905.0</td>\n",
       "      <td>4905.0</td>\n",
       "    </tr>\n",
       "    <tr>\n",
       "      <th>[4.0, 5.0)</th>\n",
       "      <td>70.0</td>\n",
       "      <td>70.0</td>\n",
       "    </tr>\n",
       "    <tr>\n",
       "      <th>[6.0, 7.0)</th>\n",
       "      <td>39.0</td>\n",
       "      <td>39.0</td>\n",
       "    </tr>\n",
       "    <tr>\n",
       "      <th>[7.0, 8.0)</th>\n",
       "      <td>4750.0</td>\n",
       "      <td>4750.0</td>\n",
       "    </tr>\n",
       "  </tbody>\n",
       "</table>\n",
       "</div>"
      ],
      "text/plain": [
       "             count  variance\n",
       "[0.0, 1.0)  4585.0    4585.0\n",
       "[1.0, 2.0)  4553.0    4553.0\n",
       "[2.0, 3.0)  5431.0    5431.0\n",
       "[3.0, 4.0)  4905.0    4905.0\n",
       "[4.0, 5.0)    70.0      70.0\n",
       "[6.0, 7.0)    39.0      39.0\n",
       "[7.0, 8.0)  4750.0    4750.0"
      ]
     },
     "metadata": {},
     "output_type": "display_data"
    }
   ],
   "source": [
    "import functools\n",
    "def add(*args):\n",
    "    return functools.reduce(lambda x, y: x.add(y, fill_value=0), args)\n",
    "\n",
    "display(add(one, two)); display(add(two, three)); display(add(one, two, three))"
   ]
  },
  {
   "cell_type": "code",
   "execution_count": 66,
   "metadata": {
    "slideshow": {
     "slide_type": "fragment"
    }
   },
   "outputs": [
    {
     "data": {
      "image/png": "[encoded data removed]",
      "text/plain": [
       "<Figure size 432x288 with 1 Axes>"
      ]
     },
     "metadata": {
      "needs_background": "light"
     },
     "output_type": "display_data"
    }
   ],
   "source": [
    "f[\"all\"] = add(one, two, three)\n",
    "f[\"all\"].physt().plot();"
   ]
  },
  {
   "cell_type": "markdown",
   "metadata": {
    "slideshow": {
     "slide_type": "slide"
    }
   },
   "source": [
    "## Modularized file-writing and histogram-conversion\n",
    "\n",
    "   * all of the histogram-writing code (what bytes go to the file) is in **uproot**\n",
    "   * all of the code that recognizes different histogram libraries and converts them is in **uproot-methods**\n",
    "\n",
    "**uproot-methods** can be updated independently from (and more rapidly than) **uproot**.\n",
    "\n",
    "<img style=\"margin-left: auto; margin-right: auto; width: 70%\" src=\"abstraction-layers.png\"></img>"
   ]
  },
  {
   "cell_type": "markdown",
   "metadata": {
    "slideshow": {
     "slide_type": "slide"
    }
   },
   "source": [
    "<img style=\"float: right; width: 40%\" src=\"pratyush.jpg\"></img>\n",
    "\n",
    "## Credit\n",
    "\n",
    "The ROOT-writing feature was developed by Pratyush Das, a DIANA-HEP undergraduate fellow.\n",
    "\n",
    "(Most of the work was writing _anything_ to a ROOT file; histograms were done in the last week!)"
   ]
  },
  {
   "cell_type": "markdown",
   "metadata": {
    "slideshow": {
     "slide_type": "slide"
    }
   },
   "source": [
    "Try it out!\n",
    "\n",
    "<div style=\"display: block; width: 80%; margin-left: auto; margin-right: auto; margin-top: 100px; margin-bottom: 100px\">\n",
    "    <tt>pip install uproot</tt>\n",
    "</div>\n",
    "\n",
    "Live tutorials (Binder) are available on uproot's GitHub site.\n",
    "\n",
    "**Thank you!**"
   ]
  }
 ],
 "metadata": {
  "celltoolbar": "Slideshow",
  "kernelspec": {
   "display_name": "Python 3",
   "language": "python",
   "name": "python3"
  },
  "language_info": {
   "codemirror_mode": {
    "name": "ipython",
    "version": 3
   },
   "file_extension": ".py",
   "mimetype": "text/x-python",
   "name": "python",
   "nbconvert_exporter": "python",
   "pygments_lexer": "ipython3",
   "version": "3.7.0"
  }
 },
 "nbformat": 4,
 "nbformat_minor": 2
}
