{
 "cells": [
  {
   "cell_type": "code",
   "execution_count": 1,
   "metadata": {
    "slideshow": {
     "slide_type": "skip"
    }
   },
   "outputs": [
    {
     "data": {
      "text/html": [
       "<style> div.output {flex-direction: row} div.output > div:only-child {width: 100%} </style>"
      ],
      "text/plain": [
       "<IPython.core.display.HTML object>"
      ]
     },
     "metadata": {},
     "output_type": "display_data"
    }
   ],
   "source": [
    "%%HTML\n",
    "<style> div.output {flex-direction: row} div.output > div:only-child {width: 100%} </style>"
   ]
  },
  {
   "cell_type": "code",
   "execution_count": 2,
   "metadata": {
    "slideshow": {
     "slide_type": "skip"
    }
   },
   "outputs": [],
   "source": [
    "import numpy\n",
    "numpy.set_printoptions(linewidth=numpy.nan)"
   ]
  },
  {
   "cell_type": "markdown",
   "metadata": {
    "slideshow": {
     "slide_type": "slide"
    }
   },
   "source": [
    "<img style=\"margin-left: auto; margin-right: auto; width: 50%\" src=\"uproot-3.png\"></img>"
   ]
  },
  {
   "cell_type": "markdown",
   "metadata": {
    "slideshow": {
     "slide_type": "slide"
    }
   },
   "source": [
    "What's new?\n",
    "\n",
    "   * more modularization\n",
    "   * writing files\n",
    "   * jagged array operations"
   ]
  },
  {
   "cell_type": "markdown",
   "metadata": {
    "slideshow": {
     "slide_type": "slide"
    }
   },
   "source": [
    "## More modularization\n",
    "\n",
    "uproot 2 had been a single library (depending on Numpy and lz4).\n",
    "\n",
    "<img style=\"margin-left: auto; margin-right: auto; width: 80%\" src=\"abstraction-layers-before.png\"></img>"
   ]
  },
  {
   "cell_type": "markdown",
   "metadata": {
    "slideshow": {
     "slide_type": "slide"
    }
   },
   "source": [
    "## More modularization\n",
    "\n",
    "uproot 3 splits out everything that is not I/O. We'll see the advantage in a moment.\n",
    "\n",
    "<img style=\"margin-left: auto; margin-right: auto; width: 80%\" src=\"abstraction-layers.png\"></img>"
   ]
  },
  {
   "cell_type": "markdown",
   "metadata": {
    "slideshow": {
     "slide_type": "slide"
    }
   },
   "source": [
    "## Writing files\n",
    "\n",
    "uproot can now write histograms to files. It has the same dict-like interface as reading:"
   ]
  },
  {
   "cell_type": "code",
   "execution_count": 3,
   "metadata": {
    "slideshow": {
     "slide_type": "-"
    }
   },
   "outputs": [],
   "source": [
    "import uproot\n",
    "import numpy\n",
    "\n",
    "f = uproot.recreate(\"tmp.root\")                                  # instead of uproot.open\n",
    "f[\"name\"] = numpy.histogram(numpy.random.normal(0, 1, 100000))   # any kind of histogram"
   ]
  },
  {
   "cell_type": "code",
   "execution_count": 4,
   "metadata": {
    "slideshow": {
     "slide_type": "fragment"
    }
   },
   "outputs": [
    {
     "name": "stdout",
     "output_type": "stream",
     "text": [
      "                          0                                                37827\n",
      "                          +----------------------------------------------------+\n",
      "[-inf, -5.7608)     0     |                                                    |\n",
      "[-5.7608, -4.7735)  1     |                                                    |\n",
      "[-4.7735, -3.7863)  4     |                                                    |\n",
      "[-3.7863, -2.7991)  257   |                                                    |\n",
      "[-2.7991, -1.8118)  3257  |****                                                |\n",
      "[-1.8118, -0.82459) 16791 |***********************                             |\n",
      "[-0.82459, 0.16265) 36026 |**************************************************  |\n",
      "[0.16265, 1.1499)   31168 |*******************************************         |\n",
      "[1.1499, 2.1371)    10861 |***************                                     |\n",
      "[2.1371, 3.1244)    1533  |**                                                  |\n",
      "[3.1244, 4.1116)    102   |                                                    |\n",
      "[4.1116, inf]       0     |                                                    |\n",
      "                          +----------------------------------------------------+\n"
     ]
    }
   ],
   "source": [
    "f[\"name\"].show()                                                 # read it back out"
   ]
  },
  {
   "cell_type": "code",
   "execution_count": 5,
   "metadata": {
    "slideshow": {
     "slide_type": "slide"
    }
   },
   "outputs": [
    {
     "name": "stdout",
     "output_type": "stream",
     "text": [
      "Welcome to JupyROOT 6.14/04\n"
     ]
    }
   ],
   "source": [
    "import ROOT\n",
    "c = ROOT.TCanvas()"
   ]
  },
  {
   "cell_type": "code",
   "execution_count": 6,
   "metadata": {
    "slideshow": {
     "slide_type": "-"
    }
   },
   "outputs": [
    {
     "data": {
      "image/png": "[encoded data removed]",
      "text/plain": [
       "<IPython.core.display.Image object>"
      ]
     },
     "metadata": {},
     "output_type": "display_data"
    }
   ],
   "source": [
    "f = ROOT.TFile(\"tmp.root\")                    # ROOT can read it, too\n",
    "h = f.Get(\"name\")\n",
    "h.Draw()\n",
    "c.Draw()"
   ]
  },
  {
   "cell_type": "code",
   "execution_count": 7,
   "metadata": {
    "slideshow": {
     "slide_type": "slide"
    }
   },
   "outputs": [],
   "source": [
    "f = ROOT.TFile(\"tmp.root\", \"UPDATE\")          # ROOT can add to the same file, too\n",
    "h = ROOT.TH1D(\"another\", \"\", 10, -5, 5)\n",
    "for x in numpy.random.normal(0, 1, 100000):\n",
    "    h.Fill(x)\n",
    "h.Write()\n",
    "f.Close()"
   ]
  },
  {
   "cell_type": "code",
   "execution_count": 8,
   "metadata": {
    "slideshow": {
     "slide_type": "fragment"
    }
   },
   "outputs": [
    {
     "name": "stdout",
     "output_type": "stream",
     "text": [
      "                 0                                                         36112\n",
      "                 +-------------------------------------------------------------+\n",
      "[-inf, -5) 0     |                                                             |\n",
      "[-5, -4)   2     |                                                             |\n",
      "[-4, -3)   120   |                                                             |\n",
      "[-3, -2)   2208  |****                                                         |\n",
      "[-2, -1)   13518 |***********************                                      |\n",
      "[-1, 0)    34392 |**********************************************************   |\n",
      "[0, 1)     33940 |*********************************************************    |\n",
      "[1, 2)     13600 |***********************                                      |\n",
      "[2, 3)     2094  |****                                                         |\n",
      "[3, 4)     123   |                                                             |\n",
      "[4, 5)     3     |                                                             |\n",
      "[5, inf]   0     |                                                             |\n",
      "                 +-------------------------------------------------------------+\n"
     ]
    }
   ],
   "source": [
    "f = uproot.open(\"tmp.root\")\n",
    "f[\"another\"].show()"
   ]
  },
  {
   "cell_type": "markdown",
   "metadata": {
    "slideshow": {
     "slide_type": "slide"
    }
   },
   "source": [
    "uproot could become a clearinghouse for histograms from different libraries."
   ]
  },
  {
   "cell_type": "code",
   "execution_count": 9,
   "metadata": {
    "slideshow": {
     "slide_type": "-"
    }
   },
   "outputs": [],
   "source": [
    "%matplotlib inline\n",
    "import physt                       # physt is a pure Python histogram library: https://physt.readthedocs.io"
   ]
  },
  {
   "cell_type": "code",
   "execution_count": 10,
   "metadata": {
    "slideshow": {
     "slide_type": "-"
    }
   },
   "outputs": [
    {
     "data": {
      "image/png": "[encoded data removed]",
      "text/plain": [
       "<Figure size 432x288 with 1 Axes>"
      ]
     },
     "metadata": {
      "needs_background": "light"
     },
     "output_type": "display_data"
    }
   ],
   "source": [
    "h = physt.h1(numpy.random.normal(0, 1, 100000), bins=16, range=(-4, 4), name=\"physt histogram\")\n",
    "h.plot();"
   ]
  },
  {
   "cell_type": "code",
   "execution_count": 11,
   "metadata": {
    "slideshow": {
     "slide_type": "fragment"
    }
   },
   "outputs": [],
   "source": [
    "f = uproot.recreate(\"tmp.root\")   # save the physt histogram as a TH1D (making the necessary translations)\n",
    "f[\"name\"] = h"
   ]
  },
  {
   "cell_type": "code",
   "execution_count": 12,
   "metadata": {
    "slideshow": {
     "slide_type": "slide"
    }
   },
   "outputs": [
    {
     "data": {
      "image/png": "[encoded data removed]",
      "text/plain": [
       "<Figure size 432x288 with 1 Axes>"
      ]
     },
     "metadata": {
      "needs_background": "light"
     },
     "output_type": "display_data"
    }
   ],
   "source": [
    "f = uproot.open(\"tmp.root\")       # read the ROOT histogram back and convert it to physt\n",
    "f[\"name\"].physt().plot();"
   ]
  },
  {
   "cell_type": "code",
   "execution_count": 13,
   "metadata": {
    "slideshow": {
     "slide_type": "fragment"
    }
   },
   "outputs": [
    {
     "data": {
      "text/plain": [
       "(array([   23,   112,   473,  1652,  4370,  9061, 15024, 19213, 19091, 15019,  9128,  4501,  1671,   512,   128,    16], dtype=int32),\n",
       " array([-4. , -3.5, -3. , -2.5, -2. , -1.5, -1. , -0.5,  0. ,  0.5,  1. ,  1.5,  2. ,  2.5,  3. ,  3.5,  4. ]))"
      ]
     },
     "execution_count": 13,
     "metadata": {},
     "output_type": "execute_result"
    }
   ],
   "source": [
    "f[\"name\"].numpy()                  # or Numpy, a format Matplotlib recognizes"
   ]
  },
  {
   "cell_type": "code",
   "execution_count": 14,
   "metadata": {
    "slideshow": {
     "slide_type": "slide"
    }
   },
   "outputs": [
    {
     "data": {
      "image/png": "[encoded data removed]",
      "text/plain": [
       "<IPython.core.display.Image object>"
      ]
     },
     "metadata": {},
     "output_type": "display_data"
    }
   ],
   "source": [
    "f = ROOT.TFile(\"tmp.root\")         # but look, it's really a ROOT file; ROOT recognizes it as a histogram\n",
    "h = f.Get(\"name\")\n",
    "h.Draw()\n",
    "c.Draw()"
   ]
  },
  {
   "cell_type": "markdown",
   "metadata": {
    "slideshow": {
     "slide_type": "slide"
    }
   },
   "source": [
    "This can also include new ways of representing histograms."
   ]
  },
  {
   "cell_type": "code",
   "execution_count": 15,
   "metadata": {
    "scrolled": true,
    "slideshow": {
     "slide_type": "-"
    }
   },
   "outputs": [
    {
     "name": "stdout",
     "output_type": "stream",
     "text": [
      "dependent_variables:\n",
      "- header: {name: counts, units: null}\n",
      "  qualifiers: []\n",
      "  values:\n",
      "  - errors:\n",
      "    - {label: stat, symerror: 4.795831523312719}\n",
      "    value: 23.0\n",
      "  - errors:\n",
      "    - {label: stat, symerror: 10.583005244258363}\n",
      "    value: 112.0\n",
      "  - errors:\n",
      "    - {label: stat, symerror: 21.748563170931547}\n",
      "    value: 473.0\n",
      "  - errors:\n",
      "    - {label: stat, symerror: 40.64480286580315}\n",
      "    value: 1652.0\n",
      "  - errors:\n",
      "    - {label: stat, symerror: 66.10597552415364}\n",
      "    value: 4370.0\n",
      "  - errors:\n",
      "    - {label: stat, symerror: 95.1892851112981}\n",
      "    value: 9061.0\n",
      "  - errors:\n",
      "    - {label: stat, symerror: 122.5724275683565}\n",
      "    value: 15024.0\n",
      "  - errors:\n",
      "    - {label: stat, symerror: 138.61096637712328}\n",
      "    value: 19213.0\n",
      "  - errors:\n",
      "    - {label: stat, symerror: 138.17018491700733}\n",
      "    value: 19091.0\n",
      "  - errors:\n",
      "    - {label: stat, symerror: 122.55202976695246}\n",
      "    value: 15019.0\n",
      "  - errors:\n",
      "    - {label: stat, symerror: 95.5405672999695}\n",
      "    value: 9128.0\n",
      "  - errors:\n",
      "    - {label: stat, symerror: 67.08949247087803}\n",
      "    value: 4501.0\n",
      "  - errors:\n",
      "    - {label: stat, symerror: 40.87786687193939}\n",
      "    value: 1671.0\n",
      "  - errors:\n",
      "    - {label: stat, symerror: 22.627416997969522}\n",
      "    value: 512.0\n",
      "  - errors:\n",
      "    - {label: stat, symerror: 11.313708498984761}\n",
      "    value: 128.0\n",
      "  - errors:\n",
      "    - {label: stat, symerror: 4.0}\n",
      "    value: 16.0\n",
      "independent_variables:\n",
      "- header: {name: physt histogram, units: null}\n",
      "  values:\n",
      "  - {high: -3.5, low: -4.0}\n",
      "  - {high: -3.0, low: -3.5}\n",
      "  - {high: -2.5, low: -3.0}\n",
      "  - {high: -2.0, low: -2.5}\n",
      "  - {high: -1.5, low: -2.0}\n",
      "  - {high: -1.0, low: -1.5}\n",
      "  - {high: -0.5, low: -1.0}\n",
      "  - {high: 0.0, low: -0.5}\n",
      "  - {high: 0.5, low: 0.0}\n",
      "  - {high: 1.0, low: 0.5}\n",
      "  - {high: 1.5, low: 1.0}\n",
      "  - {high: 2.0, low: 1.5}\n",
      "  - {high: 2.5, low: 2.0}\n",
      "  - {high: 3.0, low: 2.5}\n",
      "  - {high: 3.5, low: 3.0}\n",
      "  - {high: 4.0, low: 3.5}\n",
      "\n"
     ]
    }
   ],
   "source": [
    "f = uproot.open(\"tmp.root\")\n",
    "print(f[\"name\"].hepdata())      # YAML format for the HEPData archival site"
   ]
  },
  {
   "cell_type": "markdown",
   "metadata": {
    "slideshow": {
     "slide_type": "slide"
    }
   },
   "source": [
    "Including an idea I've been working on: Pandas DataFrames with an interval index _are_ histograms."
   ]
  },
  {
   "cell_type": "code",
   "execution_count": 16,
   "metadata": {
    "slideshow": {
     "slide_type": "-"
    }
   },
   "outputs": [
    {
     "data": {
      "text/html": [
       "<div>\n",
       "<style scoped>\n",
       "    .dataframe tbody tr th:only-of-type {\n",
       "        vertical-align: middle;\n",
       "    }\n",
       "\n",
       "    .dataframe tbody tr th {\n",
       "        vertical-align: top;\n",
       "    }\n",
       "\n",
       "    .dataframe thead th {\n",
       "        text-align: right;\n",
       "    }\n",
       "</style>\n",
       "<table border=\"1\" class=\"dataframe\">\n",
       "  <thead>\n",
       "    <tr style=\"text-align: right;\">\n",
       "      <th></th>\n",
       "      <th>count</th>\n",
       "      <th>variance</th>\n",
       "    </tr>\n",
       "    <tr>\n",
       "      <th>physt histogram</th>\n",
       "      <th></th>\n",
       "      <th></th>\n",
       "    </tr>\n",
       "  </thead>\n",
       "  <tbody>\n",
       "    <tr>\n",
       "      <th>[-inf, -4.0)</th>\n",
       "      <td>5</td>\n",
       "      <td>0.0</td>\n",
       "    </tr>\n",
       "    <tr>\n",
       "      <th>[-4.0, -3.5)</th>\n",
       "      <td>23</td>\n",
       "      <td>23.0</td>\n",
       "    </tr>\n",
       "    <tr>\n",
       "      <th>[-3.5, -3.0)</th>\n",
       "      <td>112</td>\n",
       "      <td>112.0</td>\n",
       "    </tr>\n",
       "    <tr>\n",
       "      <th>[-3.0, -2.5)</th>\n",
       "      <td>473</td>\n",
       "      <td>473.0</td>\n",
       "    </tr>\n",
       "    <tr>\n",
       "      <th>[-2.5, -2.0)</th>\n",
       "      <td>1652</td>\n",
       "      <td>1652.0</td>\n",
       "    </tr>\n",
       "    <tr>\n",
       "      <th>[-2.0, -1.5)</th>\n",
       "      <td>4370</td>\n",
       "      <td>4370.0</td>\n",
       "    </tr>\n",
       "    <tr>\n",
       "      <th>[-1.5, -1.0)</th>\n",
       "      <td>9061</td>\n",
       "      <td>9061.0</td>\n",
       "    </tr>\n",
       "    <tr>\n",
       "      <th>[-1.0, -0.5)</th>\n",
       "      <td>15024</td>\n",
       "      <td>15024.0</td>\n",
       "    </tr>\n",
       "    <tr>\n",
       "      <th>[-0.5, 0.0)</th>\n",
       "      <td>19213</td>\n",
       "      <td>19213.0</td>\n",
       "    </tr>\n",
       "    <tr>\n",
       "      <th>[0.0, 0.5)</th>\n",
       "      <td>19091</td>\n",
       "      <td>19091.0</td>\n",
       "    </tr>\n",
       "    <tr>\n",
       "      <th>[0.5, 1.0)</th>\n",
       "      <td>15019</td>\n",
       "      <td>15019.0</td>\n",
       "    </tr>\n",
       "    <tr>\n",
       "      <th>[1.0, 1.5)</th>\n",
       "      <td>9128</td>\n",
       "      <td>9128.0</td>\n",
       "    </tr>\n",
       "    <tr>\n",
       "      <th>[1.5, 2.0)</th>\n",
       "      <td>4501</td>\n",
       "      <td>4501.0</td>\n",
       "    </tr>\n",
       "    <tr>\n",
       "      <th>[2.0, 2.5)</th>\n",
       "      <td>1671</td>\n",
       "      <td>1671.0</td>\n",
       "    </tr>\n",
       "    <tr>\n",
       "      <th>[2.5, 3.0)</th>\n",
       "      <td>512</td>\n",
       "      <td>512.0</td>\n",
       "    </tr>\n",
       "    <tr>\n",
       "      <th>[3.0, 3.5)</th>\n",
       "      <td>128</td>\n",
       "      <td>128.0</td>\n",
       "    </tr>\n",
       "    <tr>\n",
       "      <th>[3.5, 4.0)</th>\n",
       "      <td>16</td>\n",
       "      <td>16.0</td>\n",
       "    </tr>\n",
       "    <tr>\n",
       "      <th>[4.0, inf)</th>\n",
       "      <td>1</td>\n",
       "      <td>0.0</td>\n",
       "    </tr>\n",
       "  </tbody>\n",
       "</table>\n",
       "</div>"
      ],
      "text/plain": [
       "                 count  variance\n",
       "physt histogram                 \n",
       "[-inf, -4.0)         5       0.0\n",
       "[-4.0, -3.5)        23      23.0\n",
       "[-3.5, -3.0)       112     112.0\n",
       "[-3.0, -2.5)       473     473.0\n",
       "[-2.5, -2.0)      1652    1652.0\n",
       "[-2.0, -1.5)      4370    4370.0\n",
       "[-1.5, -1.0)      9061    9061.0\n",
       "[-1.0, -0.5)     15024   15024.0\n",
       "[-0.5, 0.0)      19213   19213.0\n",
       "[0.0, 0.5)       19091   19091.0\n",
       "[0.5, 1.0)       15019   15019.0\n",
       "[1.0, 1.5)        9128    9128.0\n",
       "[1.5, 2.0)        4501    4501.0\n",
       "[2.0, 2.5)        1671    1671.0\n",
       "[2.5, 3.0)         512     512.0\n",
       "[3.0, 3.5)         128     128.0\n",
       "[3.5, 4.0)          16      16.0\n",
       "[4.0, inf)           1       0.0"
      ]
     },
     "execution_count": 16,
     "metadata": {},
     "output_type": "execute_result"
    }
   ],
   "source": [
    "f = uproot.open(\"tmp.root\")\n",
    "h = f[\"name\"].pandas()              # read the histogram as a DataFrame with interval index\n",
    "h"
   ]
  },
  {
   "cell_type": "code",
   "execution_count": 17,
   "metadata": {
    "slideshow": {
     "slide_type": "fragment"
    }
   },
   "outputs": [],
   "source": [
    "f = uproot.recreate(\"tmp.root\")     # write DataFrames in the same format as ROOT histograms\n",
    "f[\"another\"] = h"
   ]
  },
  {
   "cell_type": "markdown",
   "metadata": {
    "slideshow": {
     "slide_type": "slide"
    }
   },
   "source": [
    "Given the way Pandas handles indexes (interval indexes in particular), Pandas-as-histograms are sparse histograms."
   ]
  },
  {
   "cell_type": "code",
   "execution_count": 18,
   "metadata": {
    "slideshow": {
     "slide_type": "-"
    }
   },
   "outputs": [],
   "source": [
    "f = uproot.recreate(\"tmp.root\")\n",
    "f[\"one\"]   = numpy.histogram(numpy.random.normal(1, 0.6, 10000), bins=8, range=(0, 8))\n",
    "f[\"two\"]   = numpy.histogram(numpy.random.normal(3, 0.4, 10000), bins=8, range=(0, 8))\n",
    "f[\"three\"] = numpy.histogram(numpy.random.normal(9, 0.6, 100000), bins=8, range=(0, 8))\n",
    "one   = f[\"one\"].pandas()\n",
    "two   = f[\"two\"].pandas()\n",
    "three = f[\"three\"].pandas()"
   ]
  },
  {
   "cell_type": "code",
   "execution_count": 19,
   "metadata": {},
   "outputs": [
    {
     "data": {
      "text/html": [
       "<div>\n",
       "<style scoped>\n",
       "    .dataframe tbody tr th:only-of-type {\n",
       "        vertical-align: middle;\n",
       "    }\n",
       "\n",
       "    .dataframe tbody tr th {\n",
       "        vertical-align: top;\n",
       "    }\n",
       "\n",
       "    .dataframe thead th {\n",
       "        text-align: right;\n",
       "    }\n",
       "</style>\n",
       "<table border=\"1\" class=\"dataframe\">\n",
       "  <thead>\n",
       "    <tr style=\"text-align: right;\">\n",
       "      <th></th>\n",
       "      <th>count</th>\n",
       "      <th>variance</th>\n",
       "    </tr>\n",
       "  </thead>\n",
       "  <tbody>\n",
       "    <tr>\n",
       "      <th>[0.0, 1.0)</th>\n",
       "      <td>4474</td>\n",
       "      <td>4474</td>\n",
       "    </tr>\n",
       "    <tr>\n",
       "      <th>[1.0, 2.0)</th>\n",
       "      <td>4517</td>\n",
       "      <td>4517</td>\n",
       "    </tr>\n",
       "    <tr>\n",
       "      <th>[2.0, 3.0)</th>\n",
       "      <td>476</td>\n",
       "      <td>476</td>\n",
       "    </tr>\n",
       "    <tr>\n",
       "      <th>[3.0, 4.0)</th>\n",
       "      <td>1</td>\n",
       "      <td>1</td>\n",
       "    </tr>\n",
       "  </tbody>\n",
       "</table>\n",
       "</div>"
      ],
      "text/plain": [
       "            count  variance\n",
       "[0.0, 1.0)   4474      4474\n",
       "[1.0, 2.0)   4517      4517\n",
       "[2.0, 3.0)    476       476\n",
       "[3.0, 4.0)      1         1"
      ]
     },
     "metadata": {},
     "output_type": "display_data"
    },
    {
     "data": {
      "text/html": [
       "<div>\n",
       "<style scoped>\n",
       "    .dataframe tbody tr th:only-of-type {\n",
       "        vertical-align: middle;\n",
       "    }\n",
       "\n",
       "    .dataframe tbody tr th {\n",
       "        vertical-align: top;\n",
       "    }\n",
       "\n",
       "    .dataframe thead th {\n",
       "        text-align: right;\n",
       "    }\n",
       "</style>\n",
       "<table border=\"1\" class=\"dataframe\">\n",
       "  <thead>\n",
       "    <tr style=\"text-align: right;\">\n",
       "      <th></th>\n",
       "      <th>count</th>\n",
       "      <th>variance</th>\n",
       "    </tr>\n",
       "  </thead>\n",
       "  <tbody>\n",
       "    <tr>\n",
       "      <th>[1.0, 2.0)</th>\n",
       "      <td>62</td>\n",
       "      <td>62</td>\n",
       "    </tr>\n",
       "    <tr>\n",
       "      <th>[2.0, 3.0)</th>\n",
       "      <td>4897</td>\n",
       "      <td>4897</td>\n",
       "    </tr>\n",
       "    <tr>\n",
       "      <th>[3.0, 4.0)</th>\n",
       "      <td>4987</td>\n",
       "      <td>4987</td>\n",
       "    </tr>\n",
       "    <tr>\n",
       "      <th>[4.0, 5.0)</th>\n",
       "      <td>54</td>\n",
       "      <td>54</td>\n",
       "    </tr>\n",
       "  </tbody>\n",
       "</table>\n",
       "</div>"
      ],
      "text/plain": [
       "            count  variance\n",
       "[1.0, 2.0)     62        62\n",
       "[2.0, 3.0)   4897      4897\n",
       "[3.0, 4.0)   4987      4987\n",
       "[4.0, 5.0)     54        54"
      ]
     },
     "metadata": {},
     "output_type": "display_data"
    },
    {
     "data": {
      "text/html": [
       "<div>\n",
       "<style scoped>\n",
       "    .dataframe tbody tr th:only-of-type {\n",
       "        vertical-align: middle;\n",
       "    }\n",
       "\n",
       "    .dataframe tbody tr th {\n",
       "        vertical-align: top;\n",
       "    }\n",
       "\n",
       "    .dataframe thead th {\n",
       "        text-align: right;\n",
       "    }\n",
       "</style>\n",
       "<table border=\"1\" class=\"dataframe\">\n",
       "  <thead>\n",
       "    <tr style=\"text-align: right;\">\n",
       "      <th></th>\n",
       "      <th>count</th>\n",
       "      <th>variance</th>\n",
       "    </tr>\n",
       "  </thead>\n",
       "  <tbody>\n",
       "    <tr>\n",
       "      <th>[6.0, 7.0)</th>\n",
       "      <td>42</td>\n",
       "      <td>42</td>\n",
       "    </tr>\n",
       "    <tr>\n",
       "      <th>[7.0, 8.0)</th>\n",
       "      <td>4686</td>\n",
       "      <td>4686</td>\n",
       "    </tr>\n",
       "  </tbody>\n",
       "</table>\n",
       "</div>"
      ],
      "text/plain": [
       "            count  variance\n",
       "[6.0, 7.0)     42        42\n",
       "[7.0, 8.0)   4686      4686"
      ]
     },
     "metadata": {},
     "output_type": "display_data"
    }
   ],
   "source": [
    "from IPython.display import display\n",
    "display(one); display(two); display(three);"
   ]
  },
  {
   "cell_type": "markdown",
   "metadata": {
    "slideshow": {
     "slide_type": "slide"
    }
   },
   "source": [
    "Adding DataFrames matches up intervals and fills in missing values with NaN (0 if we explicitly set it)."
   ]
  },
  {
   "cell_type": "code",
   "execution_count": 20,
   "metadata": {
    "slideshow": {
     "slide_type": "-"
    }
   },
   "outputs": [
    {
     "data": {
      "text/html": [
       "<div>\n",
       "<style scoped>\n",
       "    .dataframe tbody tr th:only-of-type {\n",
       "        vertical-align: middle;\n",
       "    }\n",
       "\n",
       "    .dataframe tbody tr th {\n",
       "        vertical-align: top;\n",
       "    }\n",
       "\n",
       "    .dataframe thead th {\n",
       "        text-align: right;\n",
       "    }\n",
       "</style>\n",
       "<table border=\"1\" class=\"dataframe\">\n",
       "  <thead>\n",
       "    <tr style=\"text-align: right;\">\n",
       "      <th></th>\n",
       "      <th>count</th>\n",
       "      <th>variance</th>\n",
       "    </tr>\n",
       "  </thead>\n",
       "  <tbody>\n",
       "    <tr>\n",
       "      <th>[0.0, 1.0)</th>\n",
       "      <td>4474.0</td>\n",
       "      <td>4474.0</td>\n",
       "    </tr>\n",
       "    <tr>\n",
       "      <th>[1.0, 2.0)</th>\n",
       "      <td>4579.0</td>\n",
       "      <td>4579.0</td>\n",
       "    </tr>\n",
       "    <tr>\n",
       "      <th>[2.0, 3.0)</th>\n",
       "      <td>5373.0</td>\n",
       "      <td>5373.0</td>\n",
       "    </tr>\n",
       "    <tr>\n",
       "      <th>[3.0, 4.0)</th>\n",
       "      <td>4988.0</td>\n",
       "      <td>4988.0</td>\n",
       "    </tr>\n",
       "    <tr>\n",
       "      <th>[4.0, 5.0)</th>\n",
       "      <td>54.0</td>\n",
       "      <td>54.0</td>\n",
       "    </tr>\n",
       "  </tbody>\n",
       "</table>\n",
       "</div>"
      ],
      "text/plain": [
       "             count  variance\n",
       "[0.0, 1.0)  4474.0    4474.0\n",
       "[1.0, 2.0)  4579.0    4579.0\n",
       "[2.0, 3.0)  5373.0    5373.0\n",
       "[3.0, 4.0)  4988.0    4988.0\n",
       "[4.0, 5.0)    54.0      54.0"
      ]
     },
     "metadata": {},
     "output_type": "display_data"
    },
    {
     "data": {
      "text/html": [
       "<div>\n",
       "<style scoped>\n",
       "    .dataframe tbody tr th:only-of-type {\n",
       "        vertical-align: middle;\n",
       "    }\n",
       "\n",
       "    .dataframe tbody tr th {\n",
       "        vertical-align: top;\n",
       "    }\n",
       "\n",
       "    .dataframe thead th {\n",
       "        text-align: right;\n",
       "    }\n",
       "</style>\n",
       "<table border=\"1\" class=\"dataframe\">\n",
       "  <thead>\n",
       "    <tr style=\"text-align: right;\">\n",
       "      <th></th>\n",
       "      <th>count</th>\n",
       "      <th>variance</th>\n",
       "    </tr>\n",
       "  </thead>\n",
       "  <tbody>\n",
       "    <tr>\n",
       "      <th>[1.0, 2.0)</th>\n",
       "      <td>62.0</td>\n",
       "      <td>62.0</td>\n",
       "    </tr>\n",
       "    <tr>\n",
       "      <th>[2.0, 3.0)</th>\n",
       "      <td>4897.0</td>\n",
       "      <td>4897.0</td>\n",
       "    </tr>\n",
       "    <tr>\n",
       "      <th>[3.0, 4.0)</th>\n",
       "      <td>4987.0</td>\n",
       "      <td>4987.0</td>\n",
       "    </tr>\n",
       "    <tr>\n",
       "      <th>[4.0, 5.0)</th>\n",
       "      <td>54.0</td>\n",
       "      <td>54.0</td>\n",
       "    </tr>\n",
       "    <tr>\n",
       "      <th>[6.0, 7.0)</th>\n",
       "      <td>42.0</td>\n",
       "      <td>42.0</td>\n",
       "    </tr>\n",
       "    <tr>\n",
       "      <th>[7.0, 8.0)</th>\n",
       "      <td>4686.0</td>\n",
       "      <td>4686.0</td>\n",
       "    </tr>\n",
       "  </tbody>\n",
       "</table>\n",
       "</div>"
      ],
      "text/plain": [
       "             count  variance\n",
       "[1.0, 2.0)    62.0      62.0\n",
       "[2.0, 3.0)  4897.0    4897.0\n",
       "[3.0, 4.0)  4987.0    4987.0\n",
       "[4.0, 5.0)    54.0      54.0\n",
       "[6.0, 7.0)    42.0      42.0\n",
       "[7.0, 8.0)  4686.0    4686.0"
      ]
     },
     "metadata": {},
     "output_type": "display_data"
    },
    {
     "data": {
      "text/html": [
       "<div>\n",
       "<style scoped>\n",
       "    .dataframe tbody tr th:only-of-type {\n",
       "        vertical-align: middle;\n",
       "    }\n",
       "\n",
       "    .dataframe tbody tr th {\n",
       "        vertical-align: top;\n",
       "    }\n",
       "\n",
       "    .dataframe thead th {\n",
       "        text-align: right;\n",
       "    }\n",
       "</style>\n",
       "<table border=\"1\" class=\"dataframe\">\n",
       "  <thead>\n",
       "    <tr style=\"text-align: right;\">\n",
       "      <th></th>\n",
       "      <th>count</th>\n",
       "      <th>variance</th>\n",
       "    </tr>\n",
       "  </thead>\n",
       "  <tbody>\n",
       "    <tr>\n",
       "      <th>[0.0, 1.0)</th>\n",
       "      <td>4474.0</td>\n",
       "      <td>4474.0</td>\n",
       "    </tr>\n",
       "    <tr>\n",
       "      <th>[1.0, 2.0)</th>\n",
       "      <td>4579.0</td>\n",
       "      <td>4579.0</td>\n",
       "    </tr>\n",
       "    <tr>\n",
       "      <th>[2.0, 3.0)</th>\n",
       "      <td>5373.0</td>\n",
       "      <td>5373.0</td>\n",
       "    </tr>\n",
       "    <tr>\n",
       "      <th>[3.0, 4.0)</th>\n",
       "      <td>4988.0</td>\n",
       "      <td>4988.0</td>\n",
       "    </tr>\n",
       "    <tr>\n",
       "      <th>[4.0, 5.0)</th>\n",
       "      <td>54.0</td>\n",
       "      <td>54.0</td>\n",
       "    </tr>\n",
       "    <tr>\n",
       "      <th>[6.0, 7.0)</th>\n",
       "      <td>42.0</td>\n",
       "      <td>42.0</td>\n",
       "    </tr>\n",
       "    <tr>\n",
       "      <th>[7.0, 8.0)</th>\n",
       "      <td>4686.0</td>\n",
       "      <td>4686.0</td>\n",
       "    </tr>\n",
       "  </tbody>\n",
       "</table>\n",
       "</div>"
      ],
      "text/plain": [
       "             count  variance\n",
       "[0.0, 1.0)  4474.0    4474.0\n",
       "[1.0, 2.0)  4579.0    4579.0\n",
       "[2.0, 3.0)  5373.0    5373.0\n",
       "[3.0, 4.0)  4988.0    4988.0\n",
       "[4.0, 5.0)    54.0      54.0\n",
       "[6.0, 7.0)    42.0      42.0\n",
       "[7.0, 8.0)  4686.0    4686.0"
      ]
     },
     "metadata": {},
     "output_type": "display_data"
    }
   ],
   "source": [
    "import functools\n",
    "def add(*args):\n",
    "    return functools.reduce(lambda x, y: x.add(y, fill_value=0), args)\n",
    "\n",
    "display(add(one, two)); display(add(two, three)); display(add(one, two, three))"
   ]
  },
  {
   "cell_type": "code",
   "execution_count": 21,
   "metadata": {
    "slideshow": {
     "slide_type": "fragment"
    }
   },
   "outputs": [
    {
     "data": {
      "image/png": "[encoded data removed]",
      "text/plain": [
       "<Figure size 432x288 with 1 Axes>"
      ]
     },
     "metadata": {
      "needs_background": "light"
     },
     "output_type": "display_data"
    }
   ],
   "source": [
    "f[\"all\"] = add(one, two, three)\n",
    "f[\"all\"].physt().plot();"
   ]
  },
  {
   "cell_type": "markdown",
   "metadata": {
    "slideshow": {
     "slide_type": "slide"
    }
   },
   "source": [
    "## Modularized file-writing and histogram-conversion\n",
    "\n",
    "   * all of the histogram-writing code (what bytes go to the file) is in **uproot**\n",
    "   * all of the code that recognizes different histogram libraries and converts them is in **uproot-methods**\n",
    "\n",
    "**uproot-methods** can be updated independently from (and more rapidly than) **uproot**.\n",
    "\n",
    "<img style=\"margin-left: auto; margin-right: auto; width: 70%\" src=\"abstraction-layers.png\"></img>"
   ]
  },
  {
   "cell_type": "markdown",
   "metadata": {
    "slideshow": {
     "slide_type": "slide"
    }
   },
   "source": [
    "<img style=\"float: right; width: 40%\" src=\"pratyush.jpg\"></img>\n",
    "\n",
    "## Credit\n",
    "\n",
    "The ROOT-writing feature was developed by Pratyush Das, a DIANA-HEP undergraduate fellow.\n",
    "\n",
    "(Most of the work was writing _anything_ to a ROOT file; histograms were done in the last week!)"
   ]
  },
  {
   "cell_type": "markdown",
   "metadata": {
    "slideshow": {
     "slide_type": "slide"
    }
   },
   "source": [
    "## Jagged array operations\n",
    "\n",
    "Also originally part of uproot, separate **awkward-arrays** into a new library to be generalized and applied beyond ROOT.\n",
    "\n",
    "<img style=\"margin-left: auto; margin-right: auto; width: 70%\" src=\"abstraction-layers.png\"></img>"
   ]
  },
  {
   "cell_type": "markdown",
   "metadata": {
    "slideshow": {
     "slide_type": "slide"
    }
   },
   "source": [
    "Jagged arrays are a minimal unit of nested structure: a list containing lists of varying lengths."
   ]
  },
  {
   "cell_type": "code",
   "execution_count": 22,
   "metadata": {},
   "outputs": [],
   "source": [
    "f = uproot.open(\"HZZ-objects.root\")\n",
    "t = f[\"events\"]"
   ]
  },
  {
   "cell_type": "code",
   "execution_count": 23,
   "metadata": {},
   "outputs": [
    {
     "data": {
      "text/plain": [
       "<JaggedArray [[4.2001534 2.1510613] [2.1880474] [1.4128217 3.3835042] ... [3.7629452], [0.5508107], [0.]] at 7ff3173e8e80>"
      ]
     },
     "execution_count": 23,
     "metadata": {},
     "output_type": "execute_result"
    }
   ],
   "source": [
    "a = t.array(\"muoniso\")     # muon isolation variable; multiple per event\n",
    "a"
   ]
  },
  {
   "cell_type": "markdown",
   "metadata": {
    "slideshow": {
     "slide_type": "slide"
    }
   },
   "source": [
    "The implementation is a façade: these are not millions of list objects in memory but two arrays with methods to make them _behave like_ nested lists."
   ]
  },
  {
   "cell_type": "code",
   "execution_count": 24,
   "metadata": {},
   "outputs": [
    {
     "data": {
      "text/plain": [
       "array([   0,    2,    3, ..., 3823, 3824, 3825])"
      ]
     },
     "execution_count": 24,
     "metadata": {},
     "output_type": "execute_result"
    }
   ],
   "source": [
    "a.offsets"
   ]
  },
  {
   "cell_type": "code",
   "execution_count": 25,
   "metadata": {},
   "outputs": [
    {
     "data": {
      "text/plain": [
       "array([4.2001534, 2.1510613, 2.1880474, ..., 3.7629452, 0.5508107, 0.       ], dtype=float32)"
      ]
     },
     "execution_count": 25,
     "metadata": {},
     "output_type": "execute_result"
    }
   ],
   "source": [
    "a.content"
   ]
  },
  {
   "cell_type": "code",
   "execution_count": 26,
   "metadata": {},
   "outputs": [
    {
     "name": "stdout",
     "output_type": "stream",
     "text": [
      "0 [4.2001534 2.1510613]\n",
      "1 [2.1880474]\n",
      "2 [1.4128217 3.3835042]\n",
      "3 [2.7284882 0.5522966]\n",
      "4 [0.        0.8563976]\n",
      "5 [0.        1.4929442]\n",
      "6 [0.6231756 0.       ]\n",
      "7 [2.4025257]\n",
      "8 [0. 0.]\n",
      "9 [0.        1.7698176]\n",
      "10 [2.0015755 0.6041591]\n",
      "11 [0.         0.76338214]\n",
      "12 [1.7191544]\n",
      "13 [0.]\n",
      "14 [0.6410858 1.2613294]\n",
      "15 [0.        2.0141196]\n",
      "16 [0.88719386 1.5272698 ]\n",
      "17 [5.685393]\n",
      "18 [0.76651436 0.        ]\n",
      "19 [1.1567837 2.0942292 0.6321085]\n"
     ]
    }
   ],
   "source": [
    "for i, x in enumerate(a):\n",
    "    if i == 20:\n",
    "        break\n",
    "    print(i, x)"
   ]
  },
  {
   "cell_type": "markdown",
   "metadata": {
    "slideshow": {
     "slide_type": "slide"
    }
   },
   "source": [
    "Introducing additional types, like \"table\" as a struct of arrays presented as an array of structs, allows us to make tables of jagged arrays or jagged arrays of tables."
   ]
  },
  {
   "cell_type": "code",
   "execution_count": 27,
   "metadata": {},
   "outputs": [
    {
     "data": {
      "text/plain": [
       "<JaggedArrayMethods [[TLorentzVector(-52.899, -11.655, -8.1608, 54.779) TLorentzVector(37.738, 0.69347, -11.308, 39.402)] [TLorentzVector(-0.81646, -24.404, 20.2, 31.69)] [TLorentzVector(48.988, -21.723, 11.168, 54.74) TLorentzVector(0.82757, 29.801, 36.965, 47.489)] ... [TLorentzVector(-29.757, -15.304, -52.664, 62.395)], [TLorentzVector(1.1419, 63.61, 162.18, 174.21)], [TLorentzVector(23.913, -35.665, 54.719, 69.556)]] at 7ff312948550>"
      ]
     },
     "execution_count": 27,
     "metadata": {},
     "output_type": "execute_result"
    }
   ],
   "source": [
    "a = t.array(\"muonp4\")\n",
    "a"
   ]
  },
  {
   "cell_type": "code",
   "execution_count": 28,
   "metadata": {},
   "outputs": [
    {
     "data": {
      "text/plain": [
       "<Table [<TLorentzVector 0> <TLorentzVector 1> <TLorentzVector 2> ... <TLorentzVector 3822>, <TLorentzVector 3823>, <TLorentzVector 3824>] at 7ff312948518>"
      ]
     },
     "execution_count": 28,
     "metadata": {},
     "output_type": "execute_result"
    }
   ],
   "source": [
    "a.content.content"
   ]
  },
  {
   "cell_type": "code",
   "execution_count": 29,
   "metadata": {},
   "outputs": [
    {
     "data": {
      "text/plain": [
       "['fX', 'fY', 'fZ', 'fE']"
      ]
     },
     "execution_count": 29,
     "metadata": {},
     "output_type": "execute_result"
    }
   ],
   "source": [
    "a.content.content.columns"
   ]
  },
  {
   "cell_type": "code",
   "execution_count": 30,
   "metadata": {},
   "outputs": [
    {
     "data": {
      "text/plain": [
       "array([48.98783112,  0.82756668])"
      ]
     },
     "execution_count": 30,
     "metadata": {},
     "output_type": "execute_result"
    }
   ],
   "source": [
    "a[2][\"fX\"]       # subscript commutativity: hide the AoS ↔ SoA distinction"
   ]
  },
  {
   "cell_type": "code",
   "execution_count": 31,
   "metadata": {},
   "outputs": [
    {
     "data": {
      "text/plain": [
       "array([48.98783112,  0.82756668])"
      ]
     },
     "execution_count": 31,
     "metadata": {},
     "output_type": "execute_result"
    }
   ],
   "source": [
    "a[\"fX\"][2]"
   ]
  },
  {
   "cell_type": "markdown",
   "metadata": {
    "slideshow": {
     "slide_type": "slide"
    }
   },
   "source": [
    "We can also mix-in methods from **uproot-methods** to make physics-aware objects, arrays, and jagged arrays:"
   ]
  },
  {
   "cell_type": "code",
   "execution_count": 32,
   "metadata": {},
   "outputs": [
    {
     "data": {
      "text/plain": [
       "(TLorentzVector(-52.899, -11.655, -8.1608, 54.779),\n",
       " TLorentzVector(37.738, 0.69347, -11.308, 39.402))"
      ]
     },
     "execution_count": 32,
     "metadata": {},
     "output_type": "execute_result"
    }
   ],
   "source": [
    "one = a[0][0]; two = a[0][1]; one, two"
   ]
  },
  {
   "cell_type": "code",
   "execution_count": 33,
   "metadata": {},
   "outputs": [
    {
     "data": {
      "text/plain": [
       "TLorentzVector(-15.162, -10.961, -19.468, 94.181)"
      ]
     },
     "execution_count": 33,
     "metadata": {},
     "output_type": "execute_result"
    }
   ],
   "source": [
    "one + two"
   ]
  },
  {
   "cell_type": "code",
   "execution_count": 34,
   "metadata": {},
   "outputs": [
    {
     "data": {
      "text/plain": [
       "90.22779776988638"
      ]
     },
     "execution_count": 34,
     "metadata": {},
     "output_type": "execute_result"
    }
   ],
   "source": [
    "(one + two).mass"
   ]
  },
  {
   "cell_type": "code",
   "execution_count": 35,
   "metadata": {
    "slideshow": {
     "slide_type": "fragment"
    }
   },
   "outputs": [],
   "source": [
    "hastwo = (a.counts >= 2); ones = a[hastwo, 0]; twos = a[hastwo, 1]"
   ]
  },
  {
   "cell_type": "code",
   "execution_count": 36,
   "metadata": {},
   "outputs": [
    {
     "data": {
      "text/plain": [
       "<ObjectArrayMethods [TLorentzVector(-15.162, -10.961, -19.468, 94.181) TLorentzVector(49.815, 8.0774, 48.133, 102.23) TLorentzVector(98.78, -99.792, 738.94, 757.5) ... TLorentzVector(22.797, -5.2167, 32.613, 100.43), TLorentzVector(28.806, 16.557, -24.978, 95.018), TLorentzVector(2.9387, 18.416, -261.92, 273.35)] at 7ff312e11e10>"
      ]
     },
     "execution_count": 36,
     "metadata": {},
     "output_type": "execute_result"
    }
   ],
   "source": [
    "ones + twos                # the plus operation \"commutes\" through the array"
   ]
  },
  {
   "cell_type": "code",
   "execution_count": 37,
   "metadata": {},
   "outputs": [
    {
     "data": {
      "text/plain": [
       "array([90.22779777, 74.74654928, 89.75736376, ..., 92.06495256, 85.44384208, 75.96066262])"
      ]
     },
     "execution_count": 37,
     "metadata": {},
     "output_type": "execute_result"
    }
   ],
   "source": [
    "(ones + twos).mass         # the mass operation \"commutes\" through the array"
   ]
  },
  {
   "cell_type": "markdown",
   "metadata": {
    "slideshow": {
     "slide_type": "slide"
    }
   },
   "source": [
    "<img src=\"apl-timeline.png\" align=\"right\" style=\"margin-left: 50px; width: 40%\"></img>\n",
    "\n",
    "### Array programming\n",
    "\n",
    "Expresses regular operations over rectangular data structures in shorthand.\n",
    "\n",
    "   * Multidimensional slices: `rgb_pixels[0, 50:100, ::3]`\n",
    "   * Elementwise operations: `all_pz = all_pt * sinh(all_eta)`\n",
    "   * Broadcasting: `all_phi - 2*pi`\n",
    "   * Masking: `data[trigger & (pt > 40)]`\n",
    "   * Fancy indexing: `all_eta[argsort(all_pt)]`\n",
    "   * Array reduction: `array.sum()` → scalar"
   ]
  },
  {
   "cell_type": "markdown",
   "metadata": {
    "slideshow": {
     "slide_type": "slide"
    }
   },
   "source": [
    "Our data are not rectangular, but the syntax can be extended by defining rules for jaggedness."
   ]
  },
  {
   "cell_type": "code",
   "execution_count": 38,
   "metadata": {},
   "outputs": [
    {
     "data": {
      "text/plain": [
       "<ObjectArrayMethods [TLorentzVector(-52.899, -11.655, -8.1608, 54.779) TLorentzVector(22.088, -85.835, 403.85, 413.46) TLorentzVector(9.2281, 40.554, -14.642, 44.093) ... TLorentzVector(74.756, -14.698, -113.75, 136.9), TLorentzVector(53.006, -24.486, 13.952, 60.032), TLorentzVector(34.507, 28.84, -150.66, 157.23)] at 7ff312e11d68>"
      ]
     },
     "execution_count": 38,
     "metadata": {},
     "output_type": "execute_result"
    }
   ],
   "source": [
    "a2 = a[hastwo]\n",
    "a2[::2, 0]                                                      # Multidimensional slices"
   ]
  },
  {
   "cell_type": "code",
   "execution_count": 39,
   "metadata": {
    "slideshow": {
     "slide_type": "fragment"
    }
   },
   "outputs": [
    {
     "data": {
      "text/plain": [
       "<JaggedArray [[ -8.1607933 -11.3075819] [20.19996834] [11.16828537 36.96519089] ... [-52.66374969], [162.17631531], [54.71943665]] at 7ff3129484e0>"
      ]
     },
     "execution_count": 39,
     "metadata": {},
     "output_type": "execute_result"
    }
   ],
   "source": [
    "pt = a.pt; eta = a.eta\n",
    "pt * numpy.sinh(eta)                                            # Elementwise operations"
   ]
  },
  {
   "cell_type": "code",
   "execution_count": 40,
   "metadata": {
    "slideshow": {
     "slide_type": "fragment"
    }
   },
   "outputs": [
    {
     "data": {
      "text/plain": [
       "<JaggedArray [[-3.33385136 -0.39073772] [-1.02075184] [-2.99699827 -1.0365802 ] ... [-3.89186587], [2.13301998], [-0.79975049]] at 7ff312948320>"
      ]
     },
     "execution_count": 40,
     "metadata": {},
     "output_type": "execute_result"
    }
   ],
   "source": [
    "multi_per_event = a.phi; one_per_event = t.array(\"MET\").phi\n",
    "multi_per_event - one_per_event                                 # Broadcasting"
   ]
  },
  {
   "cell_type": "code",
   "execution_count": 41,
   "metadata": {
    "slideshow": {
     "slide_type": "slide"
    }
   },
   "outputs": [
    {
     "data": {
      "text/plain": [
       "<JaggedArrayMethods [[TLorentzVector(-52.899, -11.655, -8.1608, 54.779)] [] [TLorentzVector(48.988, -21.723, 11.168, 54.74)] ... [], [TLorentzVector(1.1419, 63.61, 162.18, 174.21)], [TLorentzVector(23.913, -35.665, 54.719, 69.556)]] at 7ff3129484a8>"
      ]
     },
     "execution_count": 41,
     "metadata": {},
     "output_type": "execute_result"
    }
   ],
   "source": [
    "a[a.pt > 40]                                                    # Masking by jagged (selects particles)"
   ]
  },
  {
   "cell_type": "code",
   "execution_count": 42,
   "metadata": {},
   "outputs": [
    {
     "data": {
      "text/plain": [
       "<JaggedArrayMethods [[TLorentzVector(-52.899, -11.655, -8.1608, 54.779) TLorentzVector(37.738, 0.69347, -11.308, 39.402)] [TLorentzVector(48.988, -21.723, 11.168, 54.74) TLorentzVector(0.82757, 29.801, 36.965, 47.489)] [TLorentzVector(22.088, -85.835, 403.85, 413.46) TLorentzVector(76.692, -13.956, 335.09, 344.04)] ... [TLorentzVector(-39.286, -14.607, 61.716, 74.603)], [TLorentzVector(1.1419, 63.61, 162.18, 174.21)], [TLorentzVector(23.913, -35.665, 54.719, 69.556)]] at 7ff3173b25f8>"
      ]
     },
     "execution_count": 42,
     "metadata": {},
     "output_type": "execute_result"
    }
   ],
   "source": [
    "a[a.pt.max() > 40]                                              # Masking by flat (selects events)"
   ]
  },
  {
   "cell_type": "code",
   "execution_count": 43,
   "metadata": {
    "slideshow": {
     "slide_type": "slide"
    }
   },
   "outputs": [
    {
     "data": {
      "text/plain": [
       "<JaggedArray [[1] [0] [1] ... [0], [0], [0]] at 7ff31a7407b8>"
      ]
     },
     "execution_count": 43,
     "metadata": {},
     "output_type": "execute_result"
    }
   ],
   "source": [
    "i = abs(a.eta).argmax()\n",
    "i"
   ]
  },
  {
   "cell_type": "code",
   "execution_count": 44,
   "metadata": {},
   "outputs": [
    {
     "data": {
      "text/plain": [
       "<JaggedArrayMethods [[TLorentzVector(37.738, 0.69347, -11.308, 39.402)] [TLorentzVector(-0.81646, -24.404, 20.2, 31.69)] [TLorentzVector(0.82757, 29.801, 36.965, 47.489)] ... [TLorentzVector(-29.757, -15.304, -52.664, 62.395)], [TLorentzVector(1.1419, 63.61, 162.18, 174.21)], [TLorentzVector(23.913, -35.665, 54.719, 69.556)]] at 7ff3129483c8>"
      ]
     },
     "execution_count": 44,
     "metadata": {},
     "output_type": "execute_result"
    }
   ],
   "source": [
    "a[i]                                                            # Fancy indexing"
   ]
  },
  {
   "cell_type": "code",
   "execution_count": 45,
   "metadata": {},
   "outputs": [
    {
     "data": {
      "text/plain": [
       "array([0.29527553, 0.75381369, 1.0412953 , ..., 1.23504687, 1.66533108, 1.06269886])"
      ]
     },
     "execution_count": 45,
     "metadata": {},
     "output_type": "execute_result"
    }
   ],
   "source": [
    "abs(a.eta).max()                                                # Jagged reduction"
   ]
  },
  {
   "cell_type": "code",
   "execution_count": 46,
   "metadata": {
    "slideshow": {
     "slide_type": "slide"
    }
   },
   "outputs": [],
   "source": [
    "import awkward                                                                 # Simple, synthetic examples\n",
    "a = awkward.JaggedArray.fromiter([[   1,     2,    3], [], [    4,    5]])     # to illustrate the idea\n",
    "b = awkward.JaggedArray.fromiter([[  10,    20,   30], [], [   40,   50]])\n",
    "m = awkward.JaggedArray.fromiter([[True, False, True], [], [False, True]])\n",
    "flat  = numpy.array([  100,  200,  300])\n",
    "mflat = numpy.array([False, True, True])\n",
    "i = awkward.JaggedArray.fromiter([[2, 1], [], [1, 1, 0, 1]])"
   ]
  },
  {
   "cell_type": "code",
   "execution_count": 47,
   "metadata": {},
   "outputs": [
    {
     "data": {
      "text/plain": [
       "<JaggedArray [[11 22 33] [] [44 55]] at 7ff3129482b0>"
      ]
     },
     "execution_count": 47,
     "metadata": {},
     "output_type": "execute_result"
    }
   ],
   "source": [
    "a + b                                                                          # Elementwise operations"
   ]
  },
  {
   "cell_type": "code",
   "execution_count": 48,
   "metadata": {},
   "outputs": [
    {
     "data": {
      "text/plain": [
       "<JaggedArray [[101 102 103] [] [304 305]] at 7ff312948978>"
      ]
     },
     "execution_count": 48,
     "metadata": {},
     "output_type": "execute_result"
    }
   ],
   "source": [
    "a + flat                                                                       # Broadcasting"
   ]
  },
  {
   "cell_type": "code",
   "execution_count": 49,
   "metadata": {},
   "outputs": [
    {
     "data": {
      "text/plain": [
       "<JaggedArray [[1 3] [] [5]] at 7ff3129487f0>"
      ]
     },
     "execution_count": 49,
     "metadata": {},
     "output_type": "execute_result"
    }
   ],
   "source": [
    "a[m]                                                                           # Masking by jagged (selects particles)"
   ]
  },
  {
   "cell_type": "code",
   "execution_count": 50,
   "metadata": {},
   "outputs": [
    {
     "data": {
      "text/plain": [
       "<JaggedArray [[] [4 5]] at 7ff312948ba8>"
      ]
     },
     "execution_count": 50,
     "metadata": {},
     "output_type": "execute_result"
    }
   ],
   "source": [
    "a[mflat]                                                                       # Masking by flat (selects events)"
   ]
  },
  {
   "cell_type": "code",
   "execution_count": 51,
   "metadata": {},
   "outputs": [
    {
     "data": {
      "text/plain": [
       "<JaggedArray [[3 2] [] [5 5 4 5]] at 7ff312948b00>"
      ]
     },
     "execution_count": 51,
     "metadata": {},
     "output_type": "execute_result"
    }
   ],
   "source": [
    "a[i]                                                                           # Fancy indexing"
   ]
  },
  {
   "cell_type": "code",
   "execution_count": 52,
   "metadata": {},
   "outputs": [
    {
     "data": {
      "text/plain": [
       "array([6, 0, 9])"
      ]
     },
     "execution_count": 52,
     "metadata": {},
     "output_type": "execute_result"
    }
   ],
   "source": [
    "a.sum()                                                                        # Jagged reduction"
   ]
  },
  {
   "cell_type": "markdown",
   "metadata": {
    "slideshow": {
     "slide_type": "slide"
    }
   },
   "source": [
    "<img src=\"logscales.png\" style=\"margin-left: auto; margin-right: auto; width: 90%\"></src>"
   ]
  },
  {
   "cell_type": "markdown",
   "metadata": {
    "slideshow": {
     "slide_type": "slide"
    }
   },
   "source": [
    "Okay, but what about nested for loops? We want something like a jagged \"cross join.\""
   ]
  },
  {
   "cell_type": "code",
   "execution_count": 53,
   "metadata": {},
   "outputs": [],
   "source": [
    "import awkward\n",
    "a = awkward.JaggedArray.fromiter([[1, 2, 3], [], [4, 5], [6], [7, 8, 9]])\n",
    "b = awkward.JaggedArray.fromiter([[100, 200], [300], [400], [500, 600, 700], [800, 900]])"
   ]
  },
  {
   "cell_type": "code",
   "execution_count": 54,
   "metadata": {
    "slideshow": {
     "slide_type": "-"
    }
   },
   "outputs": [
    {
     "data": {
      "text/plain": [
       "[[{'0': 1, '1': 100},\n",
       "  {'0': 1, '1': 200},\n",
       "  {'0': 2, '1': 100},\n",
       "  {'0': 2, '1': 200},\n",
       "  {'0': 3, '1': 100},\n",
       "  {'0': 3, '1': 200}],\n",
       " [],\n",
       " [{'0': 4, '1': 400}, {'0': 5, '1': 400}],\n",
       " [{'0': 6, '1': 500}, {'0': 6, '1': 600}, {'0': 6, '1': 700}],\n",
       " [{'0': 7, '1': 800},\n",
       "  {'0': 7, '1': 900},\n",
       "  {'0': 8, '1': 800},\n",
       "  {'0': 8, '1': 900},\n",
       "  {'0': 9, '1': 800},\n",
       "  {'0': 9, '1': 900}]]"
      ]
     },
     "execution_count": 54,
     "metadata": {},
     "output_type": "execute_result"
    }
   ],
   "source": [
    "a.cross(b).tolist()"
   ]
  },
  {
   "cell_type": "code",
   "execution_count": 55,
   "metadata": {
    "slideshow": {
     "slide_type": "fragment"
    }
   },
   "outputs": [
    {
     "name": "stdout",
     "output_type": "stream",
     "text": [
      "[[1 1 2 2 3 3] [] [4 5] [6 6 6] [7 7 8 8 9 9]]\n",
      "[[100 200 100 200 100 200] [] [400 400] [500 600 700] [800 900 800 900 800 900]]\n"
     ]
    }
   ],
   "source": [
    "print(a.cross(b)._0)\n",
    "print(a.cross(b)._1)"
   ]
  },
  {
   "cell_type": "code",
   "execution_count": 56,
   "metadata": {
    "slideshow": {
     "slide_type": "slide"
    }
   },
   "outputs": [
    {
     "data": {
      "text/plain": [
       "<JaggedArray [[] [<Row 0>] [] ... [<Row 4057>], [<Row 4058> <Row 4059>], []] at 7ff31295a400>"
      ]
     },
     "execution_count": 56,
     "metadata": {},
     "output_type": "execute_result"
    }
   ],
   "source": [
    "leptoquarks = t.array(\"muonp4\").cross(t.array(\"jetp4\"))\n",
    "leptoquarks                                                          # all muon-jet pairs in each event"
   ]
  },
  {
   "cell_type": "code",
   "execution_count": 57,
   "metadata": {
    "slideshow": {
     "slide_type": "fragment"
    }
   },
   "outputs": [
    {
     "data": {
      "text/plain": [
       "<JaggedArrayMethods [[] [TLorentzVector(-39.691, -4.5408, 19.305, 75.828)] [] ... [TLorentzVector(-33.472, -52.506, -11.652, 118.35)], [TLorentzVector(-35.219, 73.783, 388.61, 403.79) TLorentzVector(-14.115, 36.434, 174.3, 208.13)], []] at 7ff312e11c88>"
      ]
     },
     "execution_count": 57,
     "metadata": {},
     "output_type": "execute_result"
    }
   ],
   "source": [
    "leptoquarks._0 + leptoquarks._1                                      # the muon in each pair plus the jet in each pair"
   ]
  },
  {
   "cell_type": "code",
   "execution_count": 58,
   "metadata": {
    "slideshow": {
     "slide_type": "fragment"
    }
   },
   "outputs": [
    {
     "data": {
      "text/plain": [
       "<JaggedArray [[] [61.49117266] [] ... [99.96350949], [ 73.10963363 106.82646499], []] at 7ff312e11d30>"
      ]
     },
     "execution_count": 58,
     "metadata": {},
     "output_type": "execute_result"
    }
   ],
   "source": [
    "(leptoquarks._0 + leptoquarks._1).mass                               # the mass of each pair"
   ]
  },
  {
   "cell_type": "code",
   "execution_count": 59,
   "metadata": {
    "slideshow": {
     "slide_type": "fragment"
    }
   },
   "outputs": [
    {
     "data": {
      "image/png": "[encoded data removed]",
      "text/plain": [
       "<Figure size 432x288 with 1 Axes>"
      ]
     },
     "metadata": {
      "needs_background": "light"
     },
     "output_type": "display_data"
    }
   ],
   "source": [
    "physt.h1((leptoquarks._0 + leptoquarks._1).mass.flatten()).plot();   # a one-line search for leptoquarks"
   ]
  },
  {
   "cell_type": "markdown",
   "metadata": {
    "slideshow": {
     "slide_type": "slide"
    }
   },
   "source": [
    "What about nested for loops _without duplicates?_"
   ]
  },
  {
   "cell_type": "code",
   "execution_count": 60,
   "metadata": {},
   "outputs": [],
   "source": [
    "import awkward\n",
    "a = awkward.JaggedArray.fromiter([[], [1], [1, 2], [1, 2, 3], [1, 2, 3, 4]])"
   ]
  },
  {
   "cell_type": "code",
   "execution_count": 61,
   "metadata": {
    "scrolled": true
   },
   "outputs": [
    {
     "data": {
      "text/plain": [
       "[[],\n",
       " [{'0': 1, '1': 1}],\n",
       " [{'0': 1, '1': 1}, {'0': 1, '1': 2}, {'0': 2, '1': 2}],\n",
       " [{'0': 1, '1': 1},\n",
       "  {'0': 1, '1': 2},\n",
       "  {'0': 1, '1': 3},\n",
       "  {'0': 2, '1': 2},\n",
       "  {'0': 2, '1': 3},\n",
       "  {'0': 3, '1': 3}],\n",
       " [{'0': 1, '1': 1},\n",
       "  {'0': 1, '1': 2},\n",
       "  {'0': 1, '1': 3},\n",
       "  {'0': 1, '1': 4},\n",
       "  {'0': 2, '1': 2},\n",
       "  {'0': 2, '1': 3},\n",
       "  {'0': 2, '1': 4},\n",
       "  {'0': 3, '1': 3},\n",
       "  {'0': 3, '1': 4},\n",
       "  {'0': 4, '1': 4}]]"
      ]
     },
     "execution_count": 61,
     "metadata": {},
     "output_type": "execute_result"
    }
   ],
   "source": [
    "a.pairs().tolist()"
   ]
  },
  {
   "cell_type": "code",
   "execution_count": 62,
   "metadata": {},
   "outputs": [
    {
     "data": {
      "text/plain": [
       "[[],\n",
       " [],\n",
       " [{'0': 1, '1': 2}],\n",
       " [{'0': 1, '1': 2}, {'0': 1, '1': 3}, {'0': 2, '1': 3}],\n",
       " [{'0': 1, '1': 2},\n",
       "  {'0': 1, '1': 3},\n",
       "  {'0': 1, '1': 4},\n",
       "  {'0': 2, '1': 3},\n",
       "  {'0': 2, '1': 4},\n",
       "  {'0': 3, '1': 4}]]"
      ]
     },
     "execution_count": 62,
     "metadata": {},
     "output_type": "execute_result"
    }
   ],
   "source": [
    "a.pairs(same=False).tolist()"
   ]
  },
  {
   "cell_type": "code",
   "execution_count": 63,
   "metadata": {
    "slideshow": {
     "slide_type": "slide"
    }
   },
   "outputs": [
    {
     "data": {
      "text/plain": [
       "<JaggedArray [[90.22779777] [] [74.74654928] ... [], [], []] at 7ff31295a438>"
      ]
     },
     "execution_count": 63,
     "metadata": {},
     "output_type": "execute_result"
    }
   ],
   "source": [
    "zcandidates = t.array(\"muonp4\").pairs(same=False)\n",
    "(zcandidates._0 + zcandidates._1).mass"
   ]
  },
  {
   "cell_type": "code",
   "execution_count": 64,
   "metadata": {
    "slideshow": {
     "slide_type": "fragment"
    }
   },
   "outputs": [
    {
     "data": {
      "image/png": "[encoded data removed]",
      "text/plain": [
       "<Figure size 432x288 with 1 Axes>"
      ]
     },
     "metadata": {
      "needs_background": "light"
     },
     "output_type": "display_data"
    }
   ],
   "source": [
    "physt.h1((zcandidates._0 + zcandidates._1).mass.flatten(), bins=100).plot();"
   ]
  },
  {
   "cell_type": "code",
   "execution_count": 65,
   "metadata": {
    "slideshow": {
     "slide_type": "fragment"
    }
   },
   "outputs": [],
   "source": [
    "charges = t.array(\"muonq\").pairs(same=False)\n",
    "cut = (charges._0 * charges._1 < 0)"
   ]
  },
  {
   "cell_type": "code",
   "execution_count": 66,
   "metadata": {
    "scrolled": false,
    "slideshow": {
     "slide_type": "fragment"
    }
   },
   "outputs": [
    {
     "data": {
      "image/png": "[encoded data removed]",
      "text/plain": [
       "<Figure size 432x288 with 1 Axes>"
      ]
     },
     "metadata": {
      "needs_background": "light"
     },
     "output_type": "display_data"
    }
   ],
   "source": [
    "physt.h1((zcandidates[cut]._0 + zcandidates[cut]._1).mass.flatten(), bins=100).plot();"
   ]
  },
  {
   "cell_type": "markdown",
   "metadata": {
    "slideshow": {
     "slide_type": "slide"
    }
   },
   "source": [
    "<img style=\"float: right; width: 10%\" src=\"jaydeep.jpg\"></img>\n",
    "\n",
    "## Credit\n",
    "\n",
    "Broadcasting, cross, pairs, and a vectorized jagged reduction algorithm were developed by Jaydeep Nandi, a Google Summer of Code student.\n",
    "\n",
    "None of them involve for loops, not even for loops in C, and are good candidates for GPU acceleration.\n",
    "\n",
    "<img style=\"margin-left: auto; margin-right: auto; width: 35%\" src=\"sum_rates_logy.png\"></img>"
   ]
  },
  {
   "cell_type": "markdown",
   "metadata": {
    "slideshow": {
     "slide_type": "slide"
    }
   },
   "source": [
    "<div style=\"margin-left: auto; margin-right: auto; width: 70%\">\n",
    "<p>Are there other looping constructs that can't be expressed like this, which would force you to write a for loop?</p>\n",
    "\n",
    "<p style=\"font-weight: bold\">Probably.</p>\n",
    "\n",
    "<p>But when you encounter such instances, let me know and we'll think about new primitives beyond \"cross\" and \"pairs\" for those cases.</p>\n",
    "</div>"
   ]
  },
  {
   "cell_type": "markdown",
   "metadata": {
    "slideshow": {
     "slide_type": "slide"
    }
   },
   "source": [
    "Purely for streamlined expression (syntactic sugar), a few higher-order functions have been defined.\n",
    "\n",
    "   * `array.apply(function)` performs `function(array)`\n",
    "   * `array.filter(function)` performs `array[function(array)]`\n",
    "   * `array.maxby(function)` performs `array[function(array).argmax()]`\n",
    "   * `array.minby(function)` performs `array[function(array).argmin()]`"
   ]
  },
  {
   "cell_type": "code",
   "execution_count": 67,
   "metadata": {
    "slideshow": {
     "slide_type": "fragment"
    }
   },
   "outputs": [
    {
     "data": {
      "image/png": "[encoded data removed]",
      "text/plain": [
       "<Figure size 432x288 with 1 Axes>"
      ]
     },
     "metadata": {
      "needs_background": "light"
     },
     "output_type": "display_data"
    }
   ],
   "source": [
    "physt.h1(t.array(\"muonp4\")                          # get the muon 4-vectors\n",
    "          .filter(lambda muon: abs(muon.eta) < 1)   # select central muons (select particles, not events)\n",
    "          .pairs(same=False)                        # form all non-duplicate pairs\n",
    "          .apply(lambda a, b: a + b)                # compute Z candidates from as 4-vector sums\n",
    "          .maxby(lambda z: z.pt)                    # select one per event, the highest pT\n",
    "          .flatten()                                # flatten [x] → x and [] → nothing (ignore empty events)\n",
    "          .mass,                                    # compute the masses of what remains\n",
    "         bins=100).plot();"
   ]
  },
  {
   "cell_type": "markdown",
   "metadata": {
    "slideshow": {
     "slide_type": "slide"
    }
   },
   "source": [
    "## Where is this going?\n",
    "\n",
    "**awkward-array** is distinct from **uproot**, with potential uses on data beyond ROOT files.\n",
    "\n",
    "In the next few months, I hope to...\n",
    "\n",
    "   * add support for other \"awkward\" array types: chunked, masked, indexed\n",
    "   * add Pandas extensions so that Pandas columns can be \"awkward\"\n",
    "   * add Numba extensions so you can write fast for loops if you need to\n",
    "   * add Dask extensions so you can distribute work across a cluster\n",
    "   * use Apache Arrow as input, which could allow efficient processing of nested data in PySpark (depending on Spark developments to provide Arrow buffers)"
   ]
  },
  {
   "cell_type": "markdown",
   "metadata": {
    "slideshow": {
     "slide_type": "slide"
    }
   },
   "source": [
    "In the meantime, try it out!\n",
    "\n",
    "<div style=\"display: block; width: 80%; margin-left: auto; margin-right: auto; margin-top: 100px; margin-bottom: 100px\">\n",
    "    <tt>pip install uproot</tt>\n",
    "</div>\n",
    "\n",
    "Live tutorials (Binder) are available on uproot's GitHub site.\n",
    "\n",
    "**Thanks!**"
   ]
  }
 ],
 "metadata": {
  "celltoolbar": "Slideshow",
  "kernelspec": {
   "display_name": "Python 3",
   "language": "python",
   "name": "python3"
  },
  "language_info": {
   "codemirror_mode": {
    "name": "ipython",
    "version": 3
   },
   "file_extension": ".py",
   "mimetype": "text/x-python",
   "name": "python",
   "nbconvert_exporter": "python",
   "pygments_lexer": "ipython3",
   "version": "3.7.0"
  }
 },
 "nbformat": 4,
 "nbformat_minor": 2
}
