{
 "cells": [
  {
   "cell_type": "markdown",
   "metadata": {
    "slideshow": {
     "slide_type": "slide"
    }
   },
   "source": [
    "# Calculations on nested structures"
   ]
  },
  {
   "cell_type": "code",
   "execution_count": 1,
   "metadata": {
    "slideshow": {
     "slide_type": "slide"
    }
   },
   "outputs": [],
   "source": [
    "import numpy\n",
    "MHT_pt = numpy.empty(55432, dtype=numpy.float32)\n",
    "MHT_phi = numpy.empty(55432, dtype=numpy.float32)\n",
    "\n",
    "def calculateMHT(events, MHT_pt, MHT_phi):\n",
    "    i = 0\n",
    "    for event in events:\n",
    "        mht_px = 0.0\n",
    "        mht_py = 0.0\n",
    "        mht_pz = 0.0\n",
    "        for electron in event.Electron:\n",
    "            mht_px += electron.pt * cosh(electron.eta) * sin(electron.phi)\n",
    "            mht_py += electron.pt * cosh(electron.eta) * cos(electron.phi)\n",
    "            mht_pz += electron.pt * sinh(electron.eta)\n",
    "        for muon in event.Muon:\n",
    "            mht_px += muon.pt * cosh(muon.eta) * sin(muon.phi)\n",
    "            mht_py += muon.pt * cosh(muon.eta) * cos(muon.phi)\n",
    "            mht_pz += muon.pt * sinh(muon.eta)\n",
    "        for jet in event.Jet:\n",
    "            if jet.pt > 150:\n",
    "                mht_px += jet.pt * cosh(jet.eta) * sin(jet.phi)\n",
    "                mht_py += jet.pt * cosh(jet.eta) * cos(jet.phi)\n",
    "                mht_pz += jet.pt * sinh(jet.eta)\n",
    "\n",
    "        MHT_pt[i] = sqrt(mht_px**2 + mht_py**2)\n",
    "        MHT_phi[i] = -atan2(MHT_pt[i], mht_pz)\n",
    "        i += 1"
   ]
  },
  {
   "cell_type": "code",
   "execution_count": 2,
   "metadata": {
    "slideshow": {
     "slide_type": "slide"
    }
   },
   "outputs": [
    {
     "name": "stdout",
     "output_type": "stream",
     "text": [
      "Time for one run: 2.46075606346 seconds\n"
     ]
    }
   ],
   "source": [
    "import time\n",
    "import math\n",
    "import uproot\n",
    "tree = uproot.open(\"~/storage/data/nano-TTLHE-2017-09-04-uncompressed.root\")[\"Events\"]\n",
    "\n",
    "startTime = time.time()\n",
    "tree.arrowed.run(calculateMHT, (MHT_pt, MHT_phi), env=math.__dict__)\n",
    "endTime = time.time()\n",
    "\n",
    "print(\"Time for one run: {0} seconds\".format(endTime - startTime))"
   ]
  },
  {
   "cell_type": "code",
   "execution_count": null,
   "metadata": {
    "slideshow": {
     "slide_type": "fragment"
    }
   },
   "outputs": [],
   "source": [
    "import pandas\n",
    "pandas.DataFrame({\"MHT_pt\": MHT_pt, \"MHT_phi\": MHT_phi})"
   ]
  },
  {
   "cell_type": "code",
   "execution_count": null,
   "metadata": {
    "scrolled": true,
    "slideshow": {
     "slide_type": "slide"
    }
   },
   "outputs": [],
   "source": [
    "import time\n",
    "from PhysicsTools.NanoAODTools.postprocessing.framework.postprocessor import PostProcessor\n",
    "from PhysicsTools.NanoAODTools.postprocessing.examples.mhtProducer import *\n",
    "\n",
    "p = PostProcessor(\".\", [\"/home/pivarski/storage/data/nano-TTLHE-2017-09-04-uncompressed.root\"], \"Jet_pt > 150\", \"keep_and_drop.txt\", [mht()], compression=\"ZLIB:0\", friend=True)\n",
    "\n",
    "startTime = time.time()\n",
    "p.run()\n",
    "endTime = time.time()\n",
    "\n",
    "print(\"Time for one run: {0} seconds\".format(endTime - startTime))"
   ]
  },
  {
   "cell_type": "markdown",
   "metadata": {
    "slideshow": {
     "slide_type": "slide"
    }
   },
   "source": [
    "Just as `tree` has a `.pandas` connector, it has a `.arrowed` connector to present itself as an Arrow dataset, which is used to compile the function.\n",
    "\n",
    "This includes a ROOT branch ⟷ nested schema mapping."
   ]
  },
  {
   "cell_type": "code",
   "execution_count": null,
   "metadata": {
    "slideshow": {
     "slide_type": "-"
    }
   },
   "outputs": [],
   "source": [
    "print(tree.arrowed.schema().format())"
   ]
  },
  {
   "cell_type": "markdown",
   "metadata": {
    "slideshow": {
     "slide_type": "slide"
    }
   },
   "source": [
    "Using this mapping, we walk through the structure of the code and replace object references with array lookups."
   ]
  },
  {
   "cell_type": "code",
   "execution_count": null,
   "metadata": {
    "scrolled": true,
    "slideshow": {
     "slide_type": "-"
    }
   },
   "outputs": [],
   "source": [
    "tree.arrowed.run(calculateMHT, (MHT_pt, MHT_phi), env=math.__dict__, debug=True)"
   ]
  },
  {
   "cell_type": "markdown",
   "metadata": {
    "slideshow": {
     "slide_type": "slide"
    }
   },
   "source": [
    "This is a formal process, like a compilation pass. To be rigorous, we need to do type inference through the code tree."
   ]
  },
  {
   "cell_type": "markdown",
   "metadata": {
    "slideshow": {
     "slide_type": "fragment"
    }
   },
   "source": [
    "Finally, the transformed code, which consists of nothing but numbers and arrays of numbers, is passed to Numba, a numerical Python compiler.\n",
    "\n",
    "<table>\n",
    "<tr style=\"background: white\"><td><center><img src=\"http://numba.pydata.org/_static/numba_blue_icon_rgb.png\" width=\"200\"></center></td></tr>\n",
    "<tr><td style=\"font-size: 18pt\">Numba <a href=\"http://numba.pydata.org/\">numba.pydata.org</a></td></tr>\n",
    "</table>"
   ]
  },
  {
   "cell_type": "markdown",
   "metadata": {
    "slideshow": {
     "slide_type": "slide"
    }
   },
   "source": [
    "Even without the full compilation, the transformation by itself speeds up access considerably."
   ]
  },
  {
   "cell_type": "code",
   "execution_count": null,
   "metadata": {},
   "outputs": [],
   "source": [
    "startTime = time.time()\n",
    "tree.arrowed.run(calculateMHT, (MHT_pt, MHT_phi), env=math.__dict__, numba=None)\n",
    "endTime = time.time()\n",
    "\n",
    "print(\"Time for one run: {0} seconds\".format(endTime - startTime))"
   ]
  },
  {
   "cell_type": "markdown",
   "metadata": {
    "slideshow": {
     "slide_type": "slide"
    }
   },
   "source": [
    "Compilation results in fast code, but it's hard to debug. The thing we like about Python is the ease of *exploring* data. For interacting with individual objects, use proxies:"
   ]
  },
  {
   "cell_type": "code",
   "execution_count": null,
   "metadata": {
    "collapsed": true,
    "slideshow": {
     "slide_type": "-"
    }
   },
   "outputs": [],
   "source": [
    "events = tree.arrowed.proxy()"
   ]
  },
  {
   "cell_type": "code",
   "execution_count": null,
   "metadata": {
    "slideshow": {
     "slide_type": "-"
    }
   },
   "outputs": [],
   "source": [
    "events"
   ]
  },
  {
   "cell_type": "markdown",
   "metadata": {
    "slideshow": {
     "slide_type": "fragment"
    }
   },
   "source": [
    "A proxy pretends to be a Python object, fetching the data you ask for on demand. Every time you look at a particle attribute, it reads one TBasket from the ROOT file or reuses a previously read one.\n",
    "\n",
    "Compilation is for high throughput; proxies are for low latency."
   ]
  },
  {
   "cell_type": "markdown",
   "metadata": {
    "slideshow": {
     "slide_type": "slide"
    }
   },
   "source": [
    "Compiled functions can return proxies."
   ]
  },
  {
   "cell_type": "code",
   "execution_count": null,
   "metadata": {
    "collapsed": true,
    "slideshow": {
     "slide_type": "-"
    }
   },
   "outputs": [],
   "source": [
    "def event_with_bigjet(events):\n",
    "    for event in events:\n",
    "        for jet in event.Jet:\n",
    "            if jet.pt > 1000:\n",
    "                return event\n",
    "\n",
    "event = tree.arrowed.run(event_with_bigjet)"
   ]
  },
  {
   "cell_type": "code",
   "execution_count": null,
   "metadata": {
    "slideshow": {
     "slide_type": "-"
    }
   },
   "outputs": [],
   "source": [
    "[jet.pt for jet in event.Jet]"
   ]
  },
  {
   "cell_type": "markdown",
   "metadata": {
    "slideshow": {
     "slide_type": "slide"
    }
   },
   "source": [
    "You *can* use existing code in these compiled functions. If the code references other Python functions, it will (someday) extend the compilation process to include those other functions. It can also call functions defined in C.\n",
    "\n",
    "Here's the catch: C, not C++.\n",
    "\n",
    "C functions can be loaded from `.so` files without name mangling and executed as pointers, needing only the argument signature. C++ files require more vital information from the header files."
   ]
  },
  {
   "cell_type": "markdown",
   "metadata": {
    "slideshow": {
     "slide_type": "slide"
    }
   },
   "source": [
    "**Solution:** use ROOT's Cling to make C functions on demand."
   ]
  },
  {
   "cell_type": "code",
   "execution_count": 3,
   "metadata": {
    "slideshow": {
     "slide_type": "-"
    }
   },
   "outputs": [
    {
     "data": {
      "application/javascript": [
       "\n",
       "require(['notebook'],\n",
       "  function() {\n",
       "    IPython.CodeCell.config_defaults.highlight_modes['magic_text/x-c++src'] = {'reg':[/^%%cpp/]};\n",
       "    console.log(\"JupyROOT - %%cpp magic configured\");\n",
       "  }\n",
       ");\n"
      ]
     },
     "metadata": {},
     "output_type": "display_data"
    },
    {
     "name": "stdout",
     "output_type": "stream",
     "text": [
      "Welcome to JupyROOT 6.08/04\n"
     ]
    }
   ],
   "source": [
    "import ROOT\n",
    "import ctypes\n",
    "\n",
    "# we want a ROOT histogram\n",
    "h = ROOT.TH1I(\"h\", \"\", 150, 0, 150)\n",
    "\n",
    "# make a function (to get a function pointer) that fills h\n",
    "ROOT.gInterpreter.Declare(\"void h_Fill(double x) { h->Fill(x); }\")\n",
    "\n",
    "# turn it into an integer and pass it from C++ to Python\n",
    "ROOT.gInterpreter.Declare(\"size_t ptr_h_Fill = reinterpret_cast<size_t>(h_Fill);\")\n",
    "\n",
    "# use Python's ctypes to interpret that integer as a callable function\n",
    "h_Fill = ctypes.CFUNCTYPE(None, ctypes.c_double)(ROOT.ptr_h_Fill)"
   ]
  },
  {
   "cell_type": "code",
   "execution_count": 4,
   "metadata": {
    "slideshow": {
     "slide_type": "slide"
    }
   },
   "outputs": [],
   "source": [
    "def process(events):\n",
    "    for event in events:\n",
    "        for jet in event.Jet:\n",
    "            h_Fill(jet.pt)\n",
    "\n",
    "tree.arrowed.run(process, env={\"h_Fill\": h_Fill})"
   ]
  },
  {
   "cell_type": "code",
   "execution_count": 5,
   "metadata": {
    "slideshow": {
     "slide_type": "-"
    }
   },
   "outputs": [
    {
     "data": {
      "image/png": "[encoded data removed]",
      "text/plain": [
       "<IPython.core.display.Image object>"
      ]
     },
     "metadata": {},
     "output_type": "display_data"
    }
   ],
   "source": [
    "c = ROOT.TCanvas()\n",
    "h.Draw()\n",
    "c.Draw()"
   ]
  },
  {
   "cell_type": "code",
   "execution_count": 6,
   "metadata": {
    "collapsed": true,
    "slideshow": {
     "slide_type": "slide"
    }
   },
   "outputs": [],
   "source": [
    "ROOT.TLorentzVector   # cause ROOT to dyload the library\n",
    "ROOT.gInterpreter.Declare(\"\"\"\n",
    "double mass(double pt1, double eta1, double phi1, double pt2, double eta2, double phi2) {\n",
    "    TLorentzVector v1, v2;\n",
    "    v1.SetPtEtaPhiM(pt1, eta1, phi1, 0);\n",
    "    v2.SetPtEtaPhiM(pt2, eta2, phi2, 0);\n",
    "    return (v1 + v2).M();\n",
    "}\n",
    "size_t ptr_mass = reinterpret_cast<size_t>(mass);\n",
    "\"\"\")\n",
    "\n",
    "mass = ctypes.CFUNCTYPE(ctypes.c_double,                                    # return type\n",
    "                        ctypes.c_double, ctypes.c_double, ctypes.c_double,  # parameter types\n",
    "                        ctypes.c_double, ctypes.c_double, ctypes.c_double\n",
    "                       )(ROOT.ptr_mass)"
   ]
  },
  {
   "cell_type": "code",
   "execution_count": 12,
   "metadata": {
    "slideshow": {
     "slide_type": "slide"
    }
   },
   "outputs": [],
   "source": [
    "h.Reset()\n",
    "tree = uproot.open(\"~/storage/data/SingleElectronRun2015D_16Dec2015_v1_0000_1.root\")[\"Events\"]\n",
    "\n",
    "def calc_masses(events):\n",
    "    i = 0\n",
    "    for event in events:\n",
    "        e1 = None\n",
    "        e2 = None\n",
    "        for electron in event.Electron:\n",
    "            if e1 is None or electron.pt > e1.pt:\n",
    "                e2 = e1\n",
    "                e1 = electron\n",
    "                continue\n",
    "            if e2 is None or electron.pt > e2.pt:\n",
    "                e2 = electron\n",
    "        if e1 is not None and e2 is not None:\n",
    "            h_Fill(mass(e1.pt, e1.eta, e1.phi, e2.pt, e2.eta, e2.phi))\n",
    "        i += 1\n",
    "\n",
    "tree.arrowed.run(calc_masses, env={\"mass\": mass, \"h_Fill\": h_Fill})"
   ]
  },
  {
   "cell_type": "code",
   "execution_count": 13,
   "metadata": {
    "slideshow": {
     "slide_type": "slide"
    }
   },
   "outputs": [
    {
     "data": {
      "image/png": "[encoded data removed]",
      "text/plain": [
       "<IPython.core.display.Image object>"
      ]
     },
     "metadata": {},
     "output_type": "display_data"
    }
   ],
   "source": [
    "h.Draw()\n",
    "c.Draw()"
   ]
  },
  {
   "cell_type": "markdown",
   "metadata": {
    "slideshow": {
     "slide_type": "slide"
    }
   },
   "source": [
    "The interface I've shown is not how it will eventually look. This `run` function is "
   ]
  }
 ],
 "metadata": {
  "celltoolbar": "Slideshow",
  "kernelspec": {
   "display_name": "Python 2",
   "language": "python",
   "name": "python2"
  },
  "language_info": {
   "codemirror_mode": {
    "name": "ipython",
    "version": 2
   },
   "file_extension": ".py",
   "mimetype": "text/x-python",
   "name": "python",
   "nbconvert_exporter": "python",
   "pygments_lexer": "ipython2",
   "version": "2.7.6"
  }
 },
 "nbformat": 4,
 "nbformat_minor": 1
}
