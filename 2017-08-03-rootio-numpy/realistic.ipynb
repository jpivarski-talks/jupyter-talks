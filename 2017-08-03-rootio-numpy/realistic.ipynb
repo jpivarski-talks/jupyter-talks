{
 "cells": [
  {
   "cell_type": "markdown",
   "metadata": {
    "slideshow": {
     "slide_type": "slide"
    }
   },
   "source": [
    "# Profiling the reader with a realistic example"
   ]
  },
  {
   "cell_type": "code",
   "execution_count": 1,
   "metadata": {
    "slideshow": {
     "slide_type": "-"
    }
   },
   "outputs": [
    {
     "data": {
      "application/javascript": [
       "\n",
       "Jupyter.CodeCell.options_default.highlight_modes['magic_text/x-c++src'] = {'reg':[/^%%cpp/]};\n",
       "console.log(\"JupyROOT - %%cpp magic configured\");\n"
      ]
     },
     "metadata": {},
     "output_type": "display_data"
    },
    {
     "name": "stdout",
     "output_type": "stream",
     "text": [
      "Welcome to JupyROOT 6.11/01\n"
     ]
    }
   ],
   "source": [
    "import ctypes\n",
    "import time\n",
    "import glob\n",
    "\n",
    "import numba\n",
    "import ROOT\n",
    "c = ROOT.TCanvas()"
   ]
  },
  {
   "cell_type": "markdown",
   "metadata": {
    "slideshow": {
     "slide_type": "slide"
    }
   },
   "source": [
    "The function we'll use as a test is going to make a histogram of Z mass for a large dataset. To keep the histogramming part from slowing down the I/O part, we need direct access to histogram filling."
   ]
  },
  {
   "cell_type": "code",
   "execution_count": 2,
   "metadata": {
    "collapsed": true,
    "slideshow": {
     "slide_type": "-"
    }
   },
   "outputs": [],
   "source": [
    "h = ROOT.TH1I(\"h\", \"\", 1000, 0, 500)\n",
    "\n",
    "# make a function (to get a function pointer) that fills h\n",
    "ROOT.gInterpreter.Declare(\"void h_Fill(double x) { h->Fill(x); }\")\n",
    "\n",
    "# turn it into an integer and pass it from C++ to Python\n",
    "ROOT.gInterpreter.Declare(\"size_t ptr_h_Fill = reinterpret_cast<size_t>(h_Fill);\")\n",
    "\n",
    "# use Python's ctypes to interpret that integer as a callable function\n",
    "h_Fill = ctypes.CFUNCTYPE(None, ctypes.c_double)(ROOT.ptr_h_Fill)"
   ]
  },
  {
   "cell_type": "markdown",
   "metadata": {
    "slideshow": {
     "slide_type": "slide"
    }
   },
   "source": [
    "`fillmany_pyroot` is a Python function that calls a PyROOT proxy.\n",
    "\n",
    "`fillmany_direct` is a LLVM-compiled function that directly calls `h_Fill`."
   ]
  },
  {
   "cell_type": "code",
   "execution_count": 3,
   "metadata": {
    "collapsed": true,
    "slideshow": {
     "slide_type": "-"
    }
   },
   "outputs": [],
   "source": [
    "def fillmany_pyroot(howmany):\n",
    "    for i in xrange(howmany):\n",
    "        h.Fill(250)   # note the dot!\n",
    "\n",
    "@numba.njit\n",
    "def fillmany_direct(howmany):\n",
    "    for i in xrange(howmany):\n",
    "        h_Fill(250)   # note the underscore!\n",
    "\n",
    "# call it once to compile it (instead of explicitly spelling out the signature)\n",
    "fillmany_direct(0)"
   ]
  },
  {
   "cell_type": "markdown",
   "metadata": {
    "slideshow": {
     "slide_type": "slide"
    }
   },
   "source": [
    "Compiled code without proxies is faster."
   ]
  },
  {
   "cell_type": "code",
   "execution_count": 4,
   "metadata": {
    "slideshow": {
     "slide_type": "-"
    }
   },
   "outputs": [
    {
     "name": "stdout",
     "output_type": "stream",
     "text": [
      "CPU times: user 12.5 s, sys: 3.13 s, total: 15.6 s\n",
      "Wall time: 10.6 s\n"
     ]
    }
   ],
   "source": [
    "%time fillmany_pyroot(10000000)"
   ]
  },
  {
   "cell_type": "code",
   "execution_count": 5,
   "metadata": {
    "slideshow": {
     "slide_type": "-"
    }
   },
   "outputs": [
    {
     "name": "stdout",
     "output_type": "stream",
     "text": [
      "CPU times: user 148 ms, sys: 0 ns, total: 148 ms\n",
      "Wall time: 149 ms\n"
     ]
    }
   ],
   "source": [
    "%time fillmany_direct(10000000)"
   ]
  },
  {
   "cell_type": "markdown",
   "metadata": {
    "slideshow": {
     "slide_type": "slide"
    }
   },
   "source": [
    "It also has the desired effect of filling the histogram."
   ]
  },
  {
   "cell_type": "code",
   "execution_count": 6,
   "metadata": {
    "slideshow": {
     "slide_type": "-"
    }
   },
   "outputs": [
    {
     "data": {
      "image/png": "[encoded data removed]",
      "text/plain": [
       "<IPython.core.display.Image object>"
      ]
     },
     "metadata": {},
     "output_type": "display_data"
    }
   ],
   "source": [
    "h.Draw(); c.Draw()"
   ]
  },
  {
   "cell_type": "markdown",
   "metadata": {
    "slideshow": {
     "slide_type": "slide"
    }
   },
   "source": [
    "Okay! We're ready to run a sample analysis!"
   ]
  },
  {
   "cell_type": "code",
   "execution_count": 7,
   "metadata": {
    "slideshow": {
     "slide_type": "-"
    }
   },
   "outputs": [
    {
     "data": {
      "image/png": "[encoded data removed]",
      "text/plain": [
       "<IPython.core.display.Image object>"
      ]
     },
     "metadata": {},
     "output_type": "display_data"
    }
   ],
   "source": [
    "# first clear the histogram\n",
    "h.Reset(); h.Draw(); c.Draw()"
   ]
  },
  {
   "cell_type": "markdown",
   "metadata": {
    "slideshow": {
     "slide_type": "slide"
    }
   },
   "source": [
    "We could do the mass calculation in compiled Python.\n",
    "\n",
    "Then again, we could do it in ROOT."
   ]
  },
  {
   "cell_type": "code",
   "execution_count": 8,
   "metadata": {
    "collapsed": true,
    "slideshow": {
     "slide_type": "-"
    }
   },
   "outputs": [],
   "source": [
    "ROOT.TLorentzVector  # cause ROOT to dyload the library\n",
    "\n",
    "ROOT.gInterpreter.Declare(\"\"\"\n",
    "TLorentzVector v1, v2;\n",
    "double mass(double pt1, double eta1, double phi1, double pt2, double eta2, double phi2) {\n",
    "    v1.SetPtEtaPhiM(pt1, eta1, phi1, 0);\n",
    "    v2.SetPtEtaPhiM(pt2, eta2, phi2, 0);\n",
    "    return (v1 + v2).M();\n",
    "}\n",
    "\n",
    "size_t ptr_mass = reinterpret_cast<size_t>(mass);\n",
    "\"\"\")\n",
    "\n",
    "mass = ctypes.CFUNCTYPE(ctypes.c_double,                                    # return type\n",
    "                        ctypes.c_double, ctypes.c_double, ctypes.c_double,  # parameter types\n",
    "                        ctypes.c_double, ctypes.c_double, ctypes.c_double\n",
    "                       )(ROOT.ptr_mass)"
   ]
  },
  {
   "cell_type": "markdown",
   "metadata": {
    "slideshow": {
     "slide_type": "slide"
    }
   },
   "source": [
    "Load the first file for testing."
   ]
  },
  {
   "cell_type": "code",
   "execution_count": 9,
   "metadata": {
    "slideshow": {
     "slide_type": "-"
    }
   },
   "outputs": [
    {
     "name": "stderr",
     "output_type": "stream",
     "text": [
      "Warning in <TClass::Init>: no dictionary for class baconhep::TEventInfo is available\n",
      "Warning in <TClass::Init>: no dictionary for class baconhep::TGenEventInfo is available\n",
      "Warning in <TClass::Init>: no dictionary for class baconhep::TGenParticle is available\n",
      "Warning in <TClass::Init>: no dictionary for class baconhep::TElectron is available\n",
      "Warning in <TClass::Init>: no dictionary for class baconhep::TMuon is available\n",
      "Warning in <TClass::Init>: no dictionary for class baconhep::TTau is available\n",
      "Warning in <TClass::Init>: no dictionary for class baconhep::TPhoton is available\n",
      "Warning in <TClass::Init>: no dictionary for class baconhep::TVertex is available\n",
      "Warning in <TClass::Init>: no dictionary for class baconhep::TJet is available\n",
      "Warning in <TClass::Init>: no dictionary for class baconhep::TAddJet is available\n"
     ]
    }
   ],
   "source": [
    "f = ROOT.TFile(\"/mnt/data/DYJetsToLL_M_50_HT_100to200_13TeV_2/DYJetsToLL_M_50_HT_100to200_13TeV_2_0.root\")\n",
    "t = f.Get(\"Events\")"
   ]
  },
  {
   "cell_type": "markdown",
   "metadata": {
    "slideshow": {
     "slide_type": "-"
    }
   },
   "source": [
    "It was created as a `TClonesArray` of class instances, but we'll read the counter and items manually."
   ]
  },
  {
   "cell_type": "markdown",
   "metadata": {
    "slideshow": {
     "slide_type": "slide"
    }
   },
   "source": [
    "This was built up by experimentation on the first file, then wrapped up as a function (with Numba signature)."
   ]
  },
  {
   "cell_type": "code",
   "execution_count": 10,
   "metadata": {
    "collapsed": true,
    "slideshow": {
     "slide_type": "-"
    }
   },
   "outputs": [],
   "source": [
    "#           return type     (argument types)\n",
    "@numba.njit(numba.types.none(numba.types.int32[:],\n",
    "                             numba.types.float32[:],\n",
    "                             numba.types.float32[:],\n",
    "                             numba.types.float32[:]))\n",
    "def fillbatch(counter, pt, eta, phi):\n",
    "    muindex = 0\n",
    "    for entry in range(len(counter)):\n",
    "        numMuons = counter[entry]              # counter tells us how many muons there are\n",
    "\n",
    "        for i in range(numMuons):              # example of looping too complex for Numpy or SQL\n",
    "            mu1 = muindex + i\n",
    "            for j in range(i + 1, numMuons):\n",
    "                mu2 = muindex + j\n",
    "                h_Fill(mass(pt[mu1], eta[mu1], phi[mu1], pt[mu2], eta[mu2], phi[mu2]))\n",
    "\n",
    "        muindex += numMuons                    # muindex steps forward with non-uniform stride"
   ]
  },
  {
   "cell_type": "markdown",
   "metadata": {
    "slideshow": {
     "slide_type": "slide"
    }
   },
   "source": [
    "It's pretty fast. The data are probably in cache right now (OS or ROOT)."
   ]
  },
  {
   "cell_type": "code",
   "execution_count": 11,
   "metadata": {
    "slideshow": {
     "slide_type": "-"
    }
   },
   "outputs": [
    {
     "name": "stdout",
     "output_type": "stream",
     "text": [
      "0.0391390323639\n"
     ]
    }
   ],
   "source": [
    "startTime = time.time()\n",
    "for start, end, counter, pt, eta, phi in t.GetNumpyIterator(\"Muon_\", \"Muon.pt\", \"Muon.eta\", \"Muon.phi\"):\n",
    "    fillbatch(counter, pt, eta, phi)\n",
    "print(time.time() - startTime)"
   ]
  },
  {
   "cell_type": "markdown",
   "metadata": {
    "slideshow": {
     "slide_type": "slide"
    }
   },
   "source": [
    "So we do a scan over all the files (21.4 GB). See next page for results."
   ]
  },
  {
   "cell_type": "code",
   "execution_count": 12,
   "metadata": {
    "collapsed": true,
    "slideshow": {
     "slide_type": "-"
    }
   },
   "outputs": [],
   "source": [
    "h.Reset()\n",
    "\n",
    "startTime = time.time()\n",
    "totalEvents = 0\n",
    "totalBytes = 0\n",
    "totalTime = 0.0\n",
    "for fname in sorted(glob.glob(\"/mnt/data/*/*.root\")):\n",
    "    f = ROOT.TFile(fname)\n",
    "    t = f.Get(\"Events\")\n",
    "\n",
    "    for start, end, counter, pt, eta, phi in t.GetNumpyIterator(\"Muon_\", \"Muon.pt\", \"Muon.eta\", \"Muon.phi\"):\n",
    "        fillbatch(counter, pt, eta, phi)\n",
    "        totalEvents += end - start\n",
    "        totalBytes += counter.sum() * 4 * 4  # one int32 and three float32\n",
    "\n",
    "totalTime = time.time() - startTime\n",
    "ev_per_s = totalEvents/totalTime/1e6\n",
    "mb_per_s = totalBytes/totalTime/1024**2"
   ]
  },
  {
   "cell_type": "code",
   "execution_count": 13,
   "metadata": {
    "slideshow": {
     "slide_type": "slide"
    }
   },
   "outputs": [
    {
     "name": "stdout",
     "output_type": "stream",
     "text": [
      "\n",
      "Total events: 5389283, total time: 4.97489714622 s, total size: 102 MB\n",
      "Single-threaded rate: 1.1 MHz, 20.7 MB/s\n"
     ]
    },
    {
     "data": {
      "image/png": "[encoded data removed]",
      "text/plain": [
       "<IPython.core.display.Image object>"
      ]
     },
     "metadata": {},
     "output_type": "display_data"
    }
   ],
   "source": [
    "print(\"\"\"\\nTotal events: {}, total time: {} s, total size: {} MB\n",
    "Single-threaded rate: {:.1f} MHz, {:.1f} MB/s\"\"\".format(\n",
    "    totalEvents, totalTime, totalBytes/1024**2, ev_per_s, mb_per_s))\n",
    "\n",
    "c.SetLogy(); h.Draw(); c.Draw()"
   ]
  }
 ],
 "metadata": {
  "celltoolbar": "Slideshow",
  "kernelspec": {
   "display_name": "Python 2",
   "language": "python",
   "name": "python2"
  },
  "language_info": {
   "codemirror_mode": {
    "name": "ipython",
    "version": 2
   },
   "file_extension": ".py",
   "mimetype": "text/x-python",
   "name": "python",
   "nbconvert_exporter": "python",
   "pygments_lexer": "ipython2",
   "version": "2.7.13"
  }
 },
 "nbformat": 4,
 "nbformat_minor": 2
}
