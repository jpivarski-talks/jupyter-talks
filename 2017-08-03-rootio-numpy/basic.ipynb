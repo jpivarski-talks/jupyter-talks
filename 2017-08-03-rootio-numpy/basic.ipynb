{
 "cells": [
  {
   "cell_type": "markdown",
   "metadata": {
    "slideshow": {
     "slide_type": "slide"
    }
   },
   "source": [
    "# Illustration of the BulkRead → Numpy interface"
   ]
  },
  {
   "cell_type": "markdown",
   "metadata": {
    "slideshow": {
     "slide_type": "slide"
    }
   },
   "source": [
    "For this demo, we only need to import ROOT and load a sample file with a TTree."
   ]
  },
  {
   "cell_type": "code",
   "execution_count": null,
   "metadata": {
    "collapsed": true,
    "scrolled": true,
    "slideshow": {
     "slide_type": "-"
    }
   },
   "outputs": [],
   "source": [
    "import ROOT\n",
    "\n",
    "f = ROOT.TFile(\"/mnt/data/DYJetsToLL_M_50_HT_100to200_13TeV_2/DYJetsToLL_M_50_HT_100to200_13TeV_2_0.root\")\n",
    "t = f.Get(\"Events\")"
   ]
  },
  {
   "cell_type": "markdown",
   "metadata": {
    "slideshow": {
     "slide_type": "slide"
    }
   },
   "source": [
    "`TTree` has a new method in Python only: `GetNumpyIterator`. As arguments, it takes strings (branch names) or PyROOT `TBranch` and `TLeaf` objects.\n",
    "\n",
    "It returns an iterator over _clusters_ that yields\n",
    "\n",
    "   * the first entry number (inclusive)\n",
    "   * the last entry number (exclusive)\n",
    "   * a Numpy array for each branch's cluster data; they may have different lengths!"
   ]
  },
  {
   "cell_type": "code",
   "execution_count": null,
   "metadata": {
    "collapsed": true,
    "slideshow": {
     "slide_type": "slide"
    }
   },
   "outputs": [],
   "source": [
    "it = t.GetNumpyIterator(\"evtNum\", \"nPU\", \"pfMET\")"
   ]
  },
  {
   "cell_type": "code",
   "execution_count": null,
   "metadata": {
    "collapsed": true,
    "slideshow": {
     "slide_type": "-"
    }
   },
   "outputs": [],
   "source": [
    "next(it)"
   ]
  },
  {
   "cell_type": "code",
   "execution_count": null,
   "metadata": {
    "collapsed": true,
    "slideshow": {
     "slide_type": "slide"
    }
   },
   "outputs": [],
   "source": [
    "for start, stop, evtNum, nPU, pfMET in it:\n",
    "    print(start, stop, evtNum, nPU, pfMET)"
   ]
  },
  {
   "cell_type": "markdown",
   "metadata": {
    "slideshow": {
     "slide_type": "slide"
    }
   },
   "source": [
    "Also works for branches with counters (but you have to ask for the counter explicitly)."
   ]
  },
  {
   "cell_type": "code",
   "execution_count": null,
   "metadata": {
    "collapsed": true,
    "slideshow": {
     "slide_type": "-"
    }
   },
   "outputs": [],
   "source": [
    "it = t.GetNumpyIterator(\"Muon_\", \"Muon.pt\", \"Muon.eta\", \"Muon.phi\")\n",
    "next(it)"
   ]
  },
  {
   "cell_type": "code",
   "execution_count": null,
   "metadata": {
    "collapsed": true,
    "slideshow": {
     "slide_type": "fragment"
    }
   },
   "outputs": [],
   "source": [
    "start, stop, counter, pt, eta, phi = next(it)\n",
    "print(\"first 15: \" + \" \".join(\"{:.1f}\".format(x) for x in pt[:15]))\n",
    "print(\"last 300: \" + \" \".join(\"{}\".format(int(x)) for x in pt[-300:]))  # why the zeros?"
   ]
  },
  {
   "cell_type": "markdown",
   "metadata": {
    "slideshow": {
     "slide_type": "slide"
    }
   },
   "source": [
    "The branch data you get from a leaf with a counter needs to be clipped by the counter."
   ]
  },
  {
   "cell_type": "code",
   "execution_count": null,
   "metadata": {
    "collapsed": true,
    "slideshow": {
     "slide_type": "-"
    }
   },
   "outputs": [],
   "source": [
    "start, stop, numMuons, pt, eta, phi = next(it)\n",
    "\n",
    "total = numMuons.sum()   # (vectorized by Numpy)\n",
    "\n",
    "print(pt[:total])\n",
    "print(eta[:total])\n",
    "print(phi[:total])"
   ]
  },
  {
   "cell_type": "markdown",
   "metadata": {
    "slideshow": {
     "slide_type": "-"
    }
   },
   "source": [
    "This is a low-level interface!"
   ]
  },
  {
   "cell_type": "markdown",
   "metadata": {
    "slideshow": {
     "slide_type": "slide"
    }
   },
   "source": [
    "String arguments are first interpreted as branches, and failing that, leaves. For more control, pass PyROOT objects."
   ]
  },
  {
   "cell_type": "code",
   "execution_count": null,
   "metadata": {
    "collapsed": true,
    "slideshow": {
     "slide_type": "-"
    }
   },
   "outputs": [],
   "source": [
    "leaf = t.GetLeaf(\"Muon_\")         # counter is a TLeaf\n",
    "branch = t.GetBranch(\"Muon.pt\")   # data is a TBranch (that happens to contain only one TLeaf)\n",
    "\n",
    "for start, end, numMuons, pt in t.GetNumpyIterator(leaf, branch):\n",
    "    break\n",
    "\n",
    "total = numMuons.sum()\n",
    "pt[:total]"
   ]
  },
  {
   "cell_type": "markdown",
   "metadata": {
    "slideshow": {
     "slide_type": "slide"
    }
   },
   "source": [
    "What if you want to fill a big array (e.g. Pandas data frame)?\n",
    "\n",
    "A second method, `GetNumpyIteratorInfo`, has the same arguments and returns everything you need to allocate such an array.\n",
    "\n",
    "   * `TBranch`/`TLeaf` name\n",
    "   * Numpy data type\n",
    "   * Total `TBranch`/`TLeaf` size (as a Numpy shape, which supports multiple dimensions)\n",
    "   * name of counter or `None`"
   ]
  },
  {
   "cell_type": "code",
   "execution_count": null,
   "metadata": {
    "collapsed": true,
    "slideshow": {
     "slide_type": "-"
    }
   },
   "outputs": [],
   "source": [
    "t.GetNumpyIteratorInfo(\"nPU\", \"pfMET\", \"Muon_\", \"Muon.pt\", \"Muon.eta\", \"Muon.phi\")"
   ]
  },
  {
   "cell_type": "markdown",
   "metadata": {
    "slideshow": {
     "slide_type": "slide"
    }
   },
   "source": [
    "The higher-level interface would allocate the array (possibly calling external Python libraries) and then iterate over the clusters to fill it, _in Python._\n",
    "\n",
    "Slow Python statements are only invoked once per cluster, once every ~2000 events."
   ]
  },
  {
   "cell_type": "markdown",
   "metadata": {
    "slideshow": {
     "slide_type": "slide"
    }
   },
   "source": [
    "What's missing?\n",
    "\n",
    "   * Handling branches containing subbranches? Probably not; this ought to be solved in the high-level interface.\n",
    "   * Handling branches with multiple leaves: should produce Numpy record arrays. It looks like this hasn't been handled in the bulk reader yet, either.\n",
    "   * A high-level interface, which ought to be written in Python. Put it next to ROOT.py and Cppyy.py?\n",
    "   * Testing `TTrees` with different data, deciding where to draw the line in what's supported."
   ]
  }
 ],
 "metadata": {
  "celltoolbar": "Slideshow",
  "kernelspec": {
   "display_name": "Python 2",
   "language": "python",
   "name": "python2"
  },
  "language_info": {
   "codemirror_mode": {
    "name": "ipython",
    "version": 2
   },
   "file_extension": ".py",
   "mimetype": "text/x-python",
   "name": "python",
   "nbconvert_exporter": "python",
   "pygments_lexer": "ipython2",
   "version": "2.7.13"
  }
 },
 "nbformat": 4,
 "nbformat_minor": 2
}
