{
 "cells": [
  {
   "cell_type": "markdown",
   "metadata": {
    "slideshow": {
     "slide_type": "slide"
    }
   },
   "source": [
    "# Illustration of the BulkRead → Numpy interface"
   ]
  },
  {
   "cell_type": "markdown",
   "metadata": {
    "slideshow": {
     "slide_type": "slide"
    }
   },
   "source": [
    "For this demo, we only need to import ROOT and load a sample file with a TTree."
   ]
  },
  {
   "cell_type": "code",
   "execution_count": 1,
   "metadata": {
    "scrolled": true,
    "slideshow": {
     "slide_type": "-"
    }
   },
   "outputs": [
    {
     "data": {
      "application/javascript": [
       "\n",
       "Jupyter.CodeCell.options_default.highlight_modes['magic_text/x-c++src'] = {'reg':[/^%%cpp/]};\n",
       "console.log(\"JupyROOT - %%cpp magic configured\");\n"
      ]
     },
     "metadata": {},
     "output_type": "display_data"
    },
    {
     "name": "stdout",
     "output_type": "stream",
     "text": [
      "Welcome to JupyROOT 6.11/01\n"
     ]
    }
   ],
   "source": [
    "import ROOT\n",
    "\n",
    "f = ROOT.TFile(\"/mnt/data/DYJetsToLL_M_50_HT_100to200_13TeV_2/DYJetsToLL_M_50_HT_100to200_13TeV_2_0.root\")\n",
    "t = f.Get(\"Events\")"
   ]
  },
  {
   "cell_type": "markdown",
   "metadata": {
    "slideshow": {
     "slide_type": "slide"
    }
   },
   "source": [
    "`TTree` has a new method in Python only: `GetNumpyIterator`. As arguments, it takes strings (branch names) or PyROOT `TBranch` and `TLeaf` objects.\n",
    "\n",
    "It returns an iterator over _clusters_ that yields\n",
    "\n",
    "   * the first entry number (inclusive)\n",
    "   * the last entry number (exclusive)\n",
    "   * a Numpy array for each branch's cluster data; they may have different lengths!"
   ]
  },
  {
   "cell_type": "code",
   "execution_count": 2,
   "metadata": {
    "collapsed": true,
    "slideshow": {
     "slide_type": "slide"
    }
   },
   "outputs": [],
   "source": [
    "it = t.GetNumpyIterator(\"evtNum\", \"nPU\", \"pfMET\")"
   ]
  },
  {
   "cell_type": "code",
   "execution_count": 3,
   "metadata": {
    "slideshow": {
     "slide_type": "-"
    }
   },
   "outputs": [
    {
     "data": {
      "text/plain": [
       "(0L,\n",
       " 2008L,\n",
       " array([    7,    17,    25, ..., 22210, 22217, 22231], dtype=uint32),\n",
       " array([17, 11, 12, ..., 17,  9,  7], dtype=uint32),\n",
       " array([ 18.57892227,   4.96862411,  21.03972626, ...,  18.01696777,\n",
       "         39.97037506,  27.76272392], dtype=float32))"
      ]
     },
     "execution_count": 3,
     "metadata": {},
     "output_type": "execute_result"
    }
   ],
   "source": [
    "next(it)"
   ]
  },
  {
   "cell_type": "code",
   "execution_count": 4,
   "metadata": {
    "slideshow": {
     "slide_type": "slide"
    }
   },
   "outputs": [
    {
     "name": "stdout",
     "output_type": "stream",
     "text": [
      "(2008L, 3904L, array([5565798, 5565816, 5565817, ..., 5661162, 5661178, 5661182], dtype=uint32), array([15, 15, 19, ..., 20, 11, 10], dtype=uint32), array([ 19.87429047,  55.72983932,   4.62053728, ...,  66.39812469,\n",
      "        23.06248093,  34.19698334], dtype=float32))\n",
      "(3904L, 5846L, array([211484, 211487, 211492, ..., 191586, 191592, 191595], dtype=uint32), array([ 5, 13, 13, ...,  9, 14,  5], dtype=uint32), array([ 13.88227844,   8.45461082,  32.39862823, ...,  34.93431091,\n",
      "        35.23172379,   5.10090208], dtype=float32))\n",
      "(5846L, 7832L, array([323571, 323578, 323579, ..., 477783, 477787, 477794], dtype=uint32), array([14,  8, 22, ..., 23, 10, 11], dtype=uint32), array([  41.2771225 ,   10.54334831,  162.40769958, ...,   18.25775337,\n",
      "         40.62509155,    3.33152866], dtype=float32))\n",
      "(7832L, 9805L, array([545372, 545402, 545404, ..., 515940, 515949, 515950], dtype=uint32), array([11, 11, 13, ..., 11, 19,  9], dtype=uint32), array([ 173.39450073,   36.2428627 ,   13.97952175, ...,   51.99732971,\n",
      "         42.99184799,   47.61255264], dtype=float32))\n",
      "(9805L, 11776L, array([754457, 754499, 754508, ..., 771081, 771101, 771123], dtype=uint32), array([22, 11, 15, ..., 16, 11, 14], dtype=uint32), array([  62.15273666,   14.30949211,   33.15290833, ...,   80.42221069,\n",
      "         23.15044975,  127.6912384 ], dtype=float32))\n",
      "(11776L, 13728L, array([1095511, 1095523, 1095526, ..., 1163023, 1163037, 1163080], dtype=uint32), array([ 7,  9, 10, ..., 21, 14, 12], dtype=uint32), array([ 23.43156052,  23.86360359,   5.72076988, ...,  24.73533058,\n",
      "        94.24971771,  23.57709312], dtype=float32))\n",
      "(13728L, 15679L, array([1171832, 1171840, 1171847, ..., 1192453, 1192470, 1192494], dtype=uint32), array([ 6, 11, 16, ...,  8, 15, 10], dtype=uint32), array([ 14.82974625,  24.44087982,  25.92445946, ...,  88.42467499,\n",
      "        15.61793137,  12.26801586], dtype=float32))\n",
      "(15679L, 17558L, array([1222719, 1222732, 1222755, ..., 1406349, 1406352, 1406354], dtype=uint32), array([12, 11, 11, ..., 17, 15, 12], dtype=uint32), array([ 14.24161243,  29.11589813,  31.82416916, ...,  62.25518036,\n",
      "        39.31830978,  23.89405632], dtype=float32))\n",
      "(17558L, 19487L, array([1476331, 1476364, 1476377, ..., 1557374, 1557380, 1557397], dtype=uint32), array([18, 11,  9, ...,  3, 11,  7], dtype=uint32), array([ 39.16451263,  45.44124985,  42.93904495, ...,  26.72091866,\n",
      "        20.8278656 ,  29.6300869 ], dtype=float32))\n",
      "(19487L, 21487L, array([2101989, 2101990, 2101992, ..., 1680616, 1680622, 1680625], dtype=uint32), array([17, 16,  4, ..., 22,  8, 22], dtype=uint32), array([ 72.14271545,  38.62114334,  17.5275383 , ...,  25.76329803,\n",
      "        38.15451431,  22.52514458], dtype=float32))\n",
      "(21487L, 23437L, array([2726078, 2726079, 2726088, ..., 2534449, 2534450, 2534452], dtype=uint32), array([ 6, 10,  7, ..., 17, 12,  8], dtype=uint32), array([ 16.58638   ,  14.54567337,  25.83215141, ...,  43.55544281,\n",
      "        12.86560059,  22.58133507], dtype=float32))\n",
      "(23437L, 25431L, array([6941951, 6941982, 6942017, ..., 7488083, 7488092, 7488104], dtype=uint32), array([10, 11, 15, ..., 14, 15, 12], dtype=uint32), array([ 30.94003105,  10.23356819,  27.44685936, ...,   5.52398157,\n",
      "        46.89149857,  25.02091599], dtype=float32))\n",
      "(25431L, 27381L, array([3327873, 3327884, 3327888, ..., 4318407, 4318424, 4318427], dtype=uint32), array([ 9, 16, 13, ...,  9, 16,  6], dtype=uint32), array([ 24.44491196,  21.35451126,   9.9159956 , ...,  29.30707169,\n",
      "        31.76727676,  16.69638824], dtype=float32))\n",
      "(27381L, 29360L, array([4318452, 4318467, 4318477, ..., 5407557, 5407585, 5407589], dtype=uint32), array([11, 14, 10, ..., 14, 16, 17], dtype=uint32), array([ 28.26109314,  15.76121902,  14.21169662, ...,  21.06003189,\n",
      "        68.52567291,  20.36172295], dtype=float32))\n",
      "(29360L, 31342L, array([5662787, 5662805, 5662810, ..., 5791552, 5791560, 5791565], dtype=uint32), array([16, 10, 19, ..., 13, 13, 11], dtype=uint32), array([ 37.15089798,  32.79498291,  21.66537666, ...,  15.03074551,\n",
      "        30.46939468,   1.36261392], dtype=float32))\n",
      "(31342L, 33295L, array([6131048, 6131056, 6131065, ..., 6490350, 6490362, 6490368], dtype=uint32), array([14, 15,  5, ...,  7, 13,  9], dtype=uint32), array([ 27.2762146 ,  32.17618179,   6.68109035, ...,  19.03248787,\n",
      "        29.17580414,   2.94646287], dtype=float32))\n",
      "(33295L, 35278L, array([6643832, 6643852, 6643863, ..., 7523067, 7523073, 7523082], dtype=uint32), array([15, 18, 12, ..., 11, 11, 19], dtype=uint32), array([  37.0026207 ,   14.66094875,  124.02802277, ...,   25.66366959,\n",
      "          3.42854333,   69.65403748], dtype=float32))\n",
      "(35278L, 37281L, array([8395997, 8396006, 8396007, ..., 8238574, 8238583, 8238584], dtype=uint32), array([14,  9, 11, ...,  3, 10, 17], dtype=uint32), array([ 22.17008209,  12.02631664,  32.52536011, ...,   6.35795021,\n",
      "        22.29147339,  33.69920731], dtype=float32))\n",
      "(37281L, 39325L, array([8410308, 8410311, 8410323, ..., 8570072, 8570084, 8570092], dtype=uint32), array([12, 14,  8, ..., 18, 10,  7], dtype=uint32), array([   6.1304903 ,    5.25183725,   13.34484291, ...,   85.43928528,\n",
      "         77.66841125,  138.61422729], dtype=float32))\n",
      "(39325L, 41239L, array([9112299, 9112306, 9112309, ..., 9543951, 9543964, 9543966], dtype=uint32), array([12,  6, 12, ..., 16, 13, 11], dtype=uint32), array([ 28.79167747,   1.4330318 ,  28.05107117, ...,   3.47092366,\n",
      "        28.68157768,  21.61361694], dtype=float32))\n",
      "(41239L, 43272L, array([9652102, 9652125, 9652147, ...,   84247,   84254,   84270], dtype=uint32), array([ 4, 10,  8, ..., 16, 15,  8], dtype=uint32), array([ 18.3151474 ,  11.41702938,   9.79705143, ...,  38.47200012,\n",
      "        13.52791405,  17.0560894 ], dtype=float32))\n",
      "(43272L, 45250L, array([612957, 612964, 612975, ..., 676500, 676521, 676543], dtype=uint32), array([16, 17, 10, ..., 11, 17, 11], dtype=uint32), array([ 11.20064449,  31.68902397,  23.89902687, ...,  15.87443829,\n",
      "        31.38753319,  32.32985687], dtype=float32))\n",
      "(45250L, 47227L, array([8258463, 8258473, 8258477, ..., 7567587, 7567589, 7567596], dtype=uint32), array([11, 15,  9, ...,  8, 10,  9], dtype=uint32), array([ 105.2869873 ,   11.87666321,   10.97808266, ...,   14.60032654,\n",
      "         31.19152451,   48.21918869], dtype=float32))\n",
      "(47227L, 49204L, array([775944, 775973, 775998, ..., 698001, 698007, 698009], dtype=uint32), array([10, 16, 18, ...,  1,  8, 11], dtype=uint32), array([ 31.9887104 ,  28.49995041,  18.56632423, ...,  59.01874924,\n",
      "        23.94907761,  28.30139351], dtype=float32))\n",
      "(49204L, 51157L, array([1019194, 1019206, 1019212, ..., 1298208, 1298212, 1298227], dtype=uint32), array([14, 14, 12, ..., 16, 10, 19], dtype=uint32), array([  3.79459214,  10.48621941,  28.76361847, ...,  21.23762894,\n",
      "        26.66621208,  10.7687397 ], dtype=float32))\n",
      "(51157L, 53111L, array([1964449, 1964450, 1964464, ..., 1631282, 1631293, 1631323], dtype=uint32), array([13, 10, 17, ...,  5, 30,  9], dtype=uint32), array([  14.95900726,    6.75566769,   70.49531555, ...,  106.97051239,\n",
      "         66.24263763,   41.85046387], dtype=float32))\n",
      "(53111L, 55029L, array([2187047, 2187060, 2187061, ..., 2287177, 2287179, 2287188], dtype=uint32), array([ 8, 20, 13, ...,  8, 29, 11], dtype=uint32), array([ 36.95555115,  76.21806335,  11.60135078, ...,  51.01631546,\n",
      "        26.55916214,  17.31840897], dtype=float32))\n",
      "(55029L, 56987L, array([2305502, 2305526, 2305552, ..., 2375435, 2375455, 2375460], dtype=uint32), array([11,  9, 11, ...,  8, 25, 16], dtype=uint32), array([ 16.93367577,  61.48940277,  24.18313408, ...,  22.43344498,\n",
      "        29.1283741 ,  16.02696419], dtype=float32))\n",
      "(56987L, 58945L, array([2380249, 2380251, 2380272, ..., 2569392, 2569405, 2569437], dtype=uint32), array([17, 11, 23, ...,  9, 15, 11], dtype=uint32), array([ 30.82837868,  46.31118011,  38.27848053, ...,  26.83982658,\n",
      "        86.44139099,  17.4324894 ], dtype=float32))\n",
      "(58945L, 60950L, array([2695870, 2695874, 2695878, ..., 2785647, 2785652, 2785658], dtype=uint32), array([13,  2,  8, ..., 13, 11,  6], dtype=uint32), array([ 29.77593231,  21.22069359,  12.32139492, ...,  26.36453056,\n",
      "        50.67815018,  68.36720276], dtype=float32))\n",
      "(60950L, 62929L, array([2808749, 2808754, 2808761, ..., 2960543, 2960548, 2960578], dtype=uint32), array([15, 12, 12, ..., 18, 11, 13], dtype=uint32), array([ 39.17673874,  21.0875473 ,  16.35846519, ...,  13.21852398,\n",
      "         7.51736784,  15.85819721], dtype=float32))\n",
      "(62929L, 64848L, array([3031341, 3031355, 3031372, ..., 3110030, 3110032, 3110040], dtype=uint32), array([13, 11, 16, ...,  8, 13,  9], dtype=uint32), array([  5.63501596,  24.02478218,  17.84488297, ...,  27.94301987,\n",
      "         8.86561489,  35.12659836], dtype=float32))\n",
      "(64848L, 66743L, array([3193532, 3193547, 3193570, ..., 3117140, 3117165, 3117173], dtype=uint32), array([10, 14, 14, ..., 17, 12, 10], dtype=uint32), array([ 15.22179031,  35.42992401,  51.9045105 , ...,  43.85564423,\n",
      "        31.35753822,   3.25281644], dtype=float32))\n",
      "(66743L, 68707L, array([8908779, 8908796, 8908815, ..., 9153606, 9153607, 9153616], dtype=uint32), array([14, 13, 10, ..., 17, 14, 11], dtype=uint32), array([ 18.79085922,   8.56400967,  33.94505692, ...,  20.85605621,\n",
      "        77.89707947,   3.86541963], dtype=float32))\n",
      "(68707L, 70645L, array([3448712, 3448722, 3448742, ..., 3258695, 3258696, 3258700], dtype=uint32), array([14,  9,  5, ...,  7, 15, 10], dtype=uint32), array([ 45.32212067,  63.34187317,   9.24927807, ...,  48.60739517,\n",
      "        15.99959564,   8.35704231], dtype=float32))\n",
      "(70645L, 72584L, array([3508338, 3508345, 3508352, ..., 3771461, 3771463, 3771469], dtype=uint32), array([14, 14, 10, ..., 11,  8, 14], dtype=uint32), array([ 27.90693283,  45.16542053,  59.71987152, ...,  55.34862518,\n",
      "        48.42422104,  22.81912613], dtype=float32))\n",
      "(72584L, 74641L, array([3858156, 3858159, 3858164, ..., 4725445, 4725459, 4725477], dtype=uint32), array([ 8, 14, 10, ..., 16, 16, 13], dtype=uint32), array([ 12.40374565,  21.34300804,  15.44181919, ...,  25.43638992,\n",
      "        15.64149857,  29.59427071], dtype=float32))\n",
      "(74641L, 76612L, array([5126181, 5126209, 5126218, ..., 5105465, 5105480, 5105482], dtype=uint32), array([ 7, 13, 21, ..., 15,  7,  8], dtype=uint32), array([ 22.39896774,  39.94380951,  10.01640987, ...,   5.05008698,\n",
      "        33.61975098,  15.946558  ], dtype=float32))\n",
      "(76612L, 78538L, array([5446549, 5446551, 5446559, ..., 5625375, 5625410, 5625413], dtype=uint32), array([20, 15, 13, ..., 15,  8, 12], dtype=uint32), array([ 29.50798607,  41.9263649 ,  31.66663742, ...,  52.29842758,\n",
      "        43.81449127,  39.53369904], dtype=float32))\n",
      "(78538L, 80564L, array([6752735, 6752736, 6752755, ..., 6282067, 6282070, 6282082], dtype=uint32), array([ 5, 17, 26, ...,  8,  8, 12], dtype=uint32), array([  97.99394989,   23.18665695,   34.56028366, ...,   44.2227478 ,\n",
      "         19.33782196,  106.42494202], dtype=float32))\n",
      "(80564L, 82532L, array([6934787, 6934805, 6934822, ..., 7105693, 7105694, 7105698], dtype=uint32), array([15, 13,  4, ...,  8, 11,  9], dtype=uint32), array([ 35.0255928 ,   7.25175953,  32.10048676, ...,   6.65189362,\n",
      "        18.70637321,   4.65798807], dtype=float32))\n",
      "(82532L, 84512L, array([7984983, 7985055, 7985063, ...,   61978,   61990,   62000], dtype=uint32), array([ 7, 13,  9, ..., 12,  7,  9], dtype=uint32), array([ 32.44736481,  30.22868538,  15.1569891 , ...,  20.04563904,\n",
      "        23.53850937,  38.90011597], dtype=float32))\n",
      "(84512L, 86507L, array([199575, 199603, 199615, ..., 794991, 794996, 794998], dtype=uint32), array([14, 17, 13, ..., 11, 11,  8], dtype=uint32), array([ 24.29775047,  20.33970642,  27.17573547, ...,  71.97003174,\n",
      "        30.58718681,  23.80433846], dtype=float32))\n",
      "(86507L, 88609L, array([1130498, 1130518, 1130522, ..., 1830076, 1830087, 1830088], dtype=uint32), array([12, 15,  8, ..., 16,  9, 15], dtype=uint32), array([ 28.35197449,  26.77493858,  32.31952667, ...,  15.40197945,\n",
      "        30.60972786,  29.61149979], dtype=float32))\n",
      "(88609L, 90646L, array([ 9448576,  9448581,  9448585, ..., 10180754, 10180760, 10180769], dtype=uint32), array([11, 14, 11, ..., 11, 11,  9], dtype=uint32), array([ 32.13816833,  18.18977356,  27.45051003, ...,  11.76202106,\n",
      "        14.3030262 ,  26.31723595], dtype=float32))\n",
      "(90646L, 92613L, array([1908808, 1908817, 1908834, ..., 2448591, 2448595, 2448599], dtype=uint32), array([11, 16, 18, ..., 11, 14, 12], dtype=uint32), array([ 87.07283783,   5.55022287,  24.48976898, ...,  88.64138031,\n",
      "        58.52104568,  24.37457466], dtype=float32))\n",
      "(92613L, 94615L, array([2769788, 2769797, 2769839, ..., 2864351, 2864355, 2864358], dtype=uint32), array([ 4,  9, 10, ..., 13, 12,  6], dtype=uint32), array([ 42.00570297,  37.56687164,  39.38079834, ...,  57.13947296,\n",
      "        26.53739357,  20.11339378], dtype=float32))\n",
      "(94615L, 96611L, array([2887447, 2887450, 2887459, ..., 3385077, 3385087, 3385095], dtype=uint32), array([10,  6,  9, ..., 18, 12, 12], dtype=uint32), array([ 19.95522118,   3.79152775,  18.14852142, ...,  24.53368759,\n",
      "        37.87617493,  77.78607178], dtype=float32))\n",
      "(96611L, 98580L, array([4663477, 4663489, 4663497, ..., 4342257, 4342275, 4342282], dtype=uint32), array([ 8,  5, 13, ..., 21, 36,  7], dtype=uint32), array([  17.79691887,   52.86392212,   35.79088211, ...,  125.10892487,\n",
      "         45.1829567 ,   48.07670975], dtype=float32))\n"
     ]
    }
   ],
   "source": [
    "for start, stop, evtNum, nPU, pfMET in it:\n",
    "    print(start, stop, evtNum, nPU, pfMET)"
   ]
  },
  {
   "cell_type": "markdown",
   "metadata": {
    "slideshow": {
     "slide_type": "slide"
    }
   },
   "source": [
    "Also works for branches with counters (but you have to ask for the counter explicitly)."
   ]
  },
  {
   "cell_type": "code",
   "execution_count": 5,
   "metadata": {
    "slideshow": {
     "slide_type": "-"
    }
   },
   "outputs": [
    {
     "data": {
      "text/plain": [
       "(0L,\n",
       " 2008L,\n",
       " array([2, 0, 2, ..., 0, 0, 0], dtype=int32),\n",
       " array([  6.83854828e+01,   2.22999859e+01,   4.49833145e+01, ...,\n",
       "          1.16027513e-42,   1.16027513e-42,   1.16027513e-42], dtype=float32),\n",
       " array([ -1.11078656e+00,  -1.83841538e+00,  -3.87242258e-01, ...,\n",
       "          1.16167643e-42,   1.16167643e-42,   1.16167643e-42], dtype=float32),\n",
       " array([  9.89233196e-01,  -1.49590659e+00,  -2.65068436e+00, ...,\n",
       "          1.16167643e-42,   1.16167643e-42,   1.16167643e-42], dtype=float32))"
      ]
     },
     "execution_count": 5,
     "metadata": {},
     "output_type": "execute_result"
    }
   ],
   "source": [
    "it = t.GetNumpyIterator(\"Muon_\", \"Muon.pt\", \"Muon.eta\", \"Muon.phi\")\n",
    "next(it)"
   ]
  },
  {
   "cell_type": "code",
   "execution_count": 6,
   "metadata": {
    "slideshow": {
     "slide_type": "fragment"
    }
   },
   "outputs": [
    {
     "name": "stdout",
     "output_type": "stream",
     "text": [
      "first 15: 24.6 5.0 40.3 4.8 3.7 55.5 4.6 35.0 19.1 6.0 5.2 16.4 3.7 67.6 54.4\n",
      "last 300: 11 90 38 8 4 13 105 22 64 19 3 9 8 10 5 3 5 9 5 69 6 64 63 7 0 0 0 0 0 0 0 0 0 0 0 0 0 0 0 0 0 0 0 0 0 0 0 0 0 0 0 0 0 0 0 0 0 0 0 0 0 0 0 0 0 0 0 0 0 0 0 0 0 0 0 0 0 0 0 0 0 0 0 0 0 0 0 0 0 0 0 0 0 0 0 0 0 0 0 0 0 0 0 0 0 0 0 0 0 0 0 0 0 0 0 0 0 0 0 0 0 0 0 0 0 0 0 0 0 0 0 0 0 0 0 0 0 0 0 0 0 0 0 0 0 0 0 0 0 0 0 0 0 0 0 0 0 0 0 0 0 0 0 0 0 0 0 0 0 0 0 0 0 0 0 0 0 0 0 0 0 0 0 0 0 0 0 0 0 0 0 0 0 0 0 0 0 0 0 0 0 0 0 0 0 0 0 0 0 0 0 0 0 0 0 0 0 0 0 0 0 0 0 0 0 0 0 0 0 0 0 0 0 0 0 0 0 0 0 0 0 0 0 0 0 0 0 0 0 0 0 0 0 0 0 0 0 0 0 0 0 0 0 0 0 0 0 0 0 0 0 0 0 0 0 0 0 0 0 0 0 0 0 0 0 0 0 0 0 0 0 0 0 0 0 0 0 0 0 0\n"
     ]
    }
   ],
   "source": [
    "start, stop, counter, pt, eta, phi = next(it)\n",
    "print(\"first 15: \" + \" \".join(\"{:.1f}\".format(x) for x in pt[:15]))\n",
    "print(\"last 300: \" + \" \".join(\"{}\".format(int(x)) for x in pt[-300:]))  # why the zeros?"
   ]
  },
  {
   "cell_type": "markdown",
   "metadata": {
    "slideshow": {
     "slide_type": "slide"
    }
   },
   "source": [
    "The branch data you get from a leaf with a counter needs to be clipped by the counter."
   ]
  },
  {
   "cell_type": "code",
   "execution_count": 7,
   "metadata": {
    "slideshow": {
     "slide_type": "-"
    }
   },
   "outputs": [
    {
     "name": "stdout",
     "output_type": "stream",
     "text": [
      "[   4.54250288   60.07530212   20.19425011 ...,  106.60784149    9.09115505\n",
      "   10.407094  ]\n",
      "[ 2.1142087  -2.24989772 -0.55641216 ...,  0.19803496  2.3346858\n",
      "  0.72767466]\n",
      "[-2.8570509   1.65407753 -2.3271699  ...,  1.62292087  0.2934818\n",
      " -1.28502655]\n"
     ]
    }
   ],
   "source": [
    "start, stop, numMuons, pt, eta, phi = next(it)\n",
    "\n",
    "total = numMuons.sum()   # (vectorized by Numpy)\n",
    "\n",
    "print(pt[:total])\n",
    "print(eta[:total])\n",
    "print(phi[:total])"
   ]
  },
  {
   "cell_type": "markdown",
   "metadata": {
    "slideshow": {
     "slide_type": "-"
    }
   },
   "source": [
    "This is a low-level interface!"
   ]
  },
  {
   "cell_type": "markdown",
   "metadata": {
    "slideshow": {
     "slide_type": "slide"
    }
   },
   "source": [
    "String arguments are first interpreted as branches, and failing that, leaves. For more control, pass PyROOT objects."
   ]
  },
  {
   "cell_type": "code",
   "execution_count": 8,
   "metadata": {
    "slideshow": {
     "slide_type": "-"
    }
   },
   "outputs": [
    {
     "data": {
      "text/plain": [
       "array([ 68.38548279,  22.29998589,  44.98331451, ...,  16.44164467,\n",
       "        17.07163429,   6.40282822], dtype=float32)"
      ]
     },
     "execution_count": 8,
     "metadata": {},
     "output_type": "execute_result"
    }
   ],
   "source": [
    "leaf = t.GetLeaf(\"Muon_\")         # counter is a TLeaf\n",
    "branch = t.GetBranch(\"Muon.pt\")   # data is a TBranch (that happens to contain only one TLeaf)\n",
    "\n",
    "for start, end, numMuons, pt in t.GetNumpyIterator(leaf, branch):\n",
    "    break\n",
    "\n",
    "total = numMuons.sum()\n",
    "pt[:total]"
   ]
  },
  {
   "cell_type": "markdown",
   "metadata": {
    "slideshow": {
     "slide_type": "slide"
    }
   },
   "source": [
    "A second method, `GetNumpyIteratorInfo`, has the same arguments and returns everything you need to allocate such an array.\n",
    "\n",
    "   * `TBranch`/`TLeaf` name\n",
    "   * Numpy data type\n",
    "   * Total `TBranch`/`TLeaf` size (as a Numpy shape, which supports multiple dimensions)\n",
    "   * name of counter or `None`"
   ]
  },
  {
   "cell_type": "code",
   "execution_count": 9,
   "metadata": {
    "slideshow": {
     "slide_type": "-"
    }
   },
   "outputs": [
    {
     "data": {
      "text/plain": [
       "((u'nPU', dtype('uint32'), (101861L,), None),\n",
       " (u'pfMET', dtype('float32'), (101889L,), None),\n",
       " (u'Muon', dtype('int32'), (233936L,), None),\n",
       " (u'Muon.pt', dtype('float32'), (191095L,), 'Muon_'),\n",
       " (u'Muon.eta', dtype('float32'), (190986L,), 'Muon_'),\n",
       " (u'Muon.phi', dtype('float32'), (190986L,), 'Muon_'))"
      ]
     },
     "execution_count": 9,
     "metadata": {},
     "output_type": "execute_result"
    }
   ],
   "source": [
    "t.GetNumpyIteratorInfo(\"nPU\", \"pfMET\", \"Muon_\", \"Muon.pt\", \"Muon.eta\", \"Muon.phi\")"
   ]
  },
  {
   "cell_type": "markdown",
   "metadata": {
    "slideshow": {
     "slide_type": "slide"
    }
   },
   "source": [
    "This second function gives us enough information to allocate (whole branch) arrays wherever we like and then fill them with a Python loop over clusters.\n",
    "\n",
    "Slow Python statements are only invoked once per cluster, once every ~2000 events."
   ]
  },
  {
   "cell_type": "markdown",
   "metadata": {
    "slideshow": {
     "slide_type": "fragment"
    }
   },
   "source": [
    "By default, the iterator _allocates_ and _fills_ cluster-sized Numpy arrays in the loop. If we pass `return_new_buffers=False`, it wraps internal data as a read-only view.\n",
    "\n",
    "This is not the default because it's dangerous: a user could view freed memory by looking at an array object outside the loop."
   ]
  },
  {
   "cell_type": "markdown",
   "metadata": {
    "slideshow": {
     "slide_type": "slide"
    }
   },
   "source": [
    "What's missing?\n",
    "\n",
    "   * ~~Handling branches containing subbranches?~~ Probably not; this ought to be handled in the high-level interface so that the low-level is only concerned with delivering data quickly.\n",
    "   * Branches with multiple leaves should yield Numpy record arrays. It looks like this hasn't been handled in the bulk reader yet, either.\n",
    "   * A high-level interface, which ought to be written in Python. Put it next to ROOT.py and Cppyy.py?\n",
    "   * Testing `TTrees` containing different data structures, deciding where to draw the line in what's supported and what's out of scope."
   ]
  },
  {
   "cell_type": "markdown",
   "metadata": {
    "slideshow": {
     "slide_type": "slide"
    }
   },
   "source": [
    "Code differences (with respect to Brian's `root-bulkapi-fastread-v2` branch):\n",
    "\n",
    "   * [GitHub diff](https://github.com/bbockelm/root/compare/root-bulkapi-fastread-v2...jpivarski:root-bulkapi-fastread-v2)"
   ]
  }
 ],
 "metadata": {
  "celltoolbar": "Slideshow",
  "kernelspec": {
   "display_name": "Python 2",
   "language": "python",
   "name": "python2"
  },
  "language_info": {
   "codemirror_mode": {
    "name": "ipython",
    "version": 2
   },
   "file_extension": ".py",
   "mimetype": "text/x-python",
   "name": "python",
   "nbconvert_exporter": "python",
   "pygments_lexer": "ipython2",
   "version": "2.7.13"
  }
 },
 "nbformat": 4,
 "nbformat_minor": 2
}
