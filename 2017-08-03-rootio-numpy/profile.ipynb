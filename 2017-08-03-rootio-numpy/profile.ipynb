{
 "cells": [
  {
   "cell_type": "markdown",
   "metadata": {
    "slideshow": {
     "slide_type": "slide"
    }
   },
   "source": [
    "# Profiling on a fast disk\n",
    "\n",
    "(This is why we're using an AWS instance; it's an `i2.2xlarge` with a large, fast SSD.)"
   ]
  },
  {
   "cell_type": "code",
   "execution_count": 1,
   "metadata": {
    "slideshow": {
     "slide_type": "-"
    }
   },
   "outputs": [
    {
     "data": {
      "application/javascript": [
       "\n",
       "Jupyter.CodeCell.options_default.highlight_modes['magic_text/x-c++src'] = {'reg':[/^%%cpp/]};\n",
       "console.log(\"JupyROOT - %%cpp magic configured\");\n"
      ]
     },
     "metadata": {},
     "output_type": "display_data"
    },
    {
     "name": "stdout",
     "output_type": "stream",
     "text": [
      "Welcome to JupyROOT 6.11/01\n"
     ]
    }
   ],
   "source": [
    "import time\n",
    "import glob\n",
    "\n",
    "import numpy\n",
    "import ROOT"
   ]
  },
  {
   "cell_type": "markdown",
   "metadata": {
    "slideshow": {
     "slide_type": "slide"
    }
   },
   "source": [
    "Start with some large files."
   ]
  },
  {
   "cell_type": "code",
   "execution_count": 2,
   "metadata": {
    "collapsed": true,
    "slideshow": {
     "slide_type": "-"
    }
   },
   "outputs": [],
   "source": [
    "# filelist = sorted(glob.glob(\"/mnt/data/SingleElectronRun2015D_16Dec2015_v1/SingleElectron/CRAB3/160418_185159/000*/*.root\"))\n",
    "filelist = sorted(glob.glob(\"/mnt/data/SingleElectron_uncompressed/000*/*.root\"))\n",
    "fname = filelist[0]"
   ]
  },
  {
   "cell_type": "code",
   "execution_count": 3,
   "metadata": {
    "slideshow": {
     "slide_type": "-"
    }
   },
   "outputs": [
    {
     "name": "stderr",
     "output_type": "stream",
     "text": [
      "Warning in <TClass::Init>: no dictionary for class baconhep::TEventInfo is available\n",
      "Warning in <TClass::Init>: no dictionary for class baconhep::TElectron is available\n"
     ]
    }
   ],
   "source": [
    "f = ROOT.TFile(fname)\n",
    "t = f.Get(\"Events\")"
   ]
  },
  {
   "cell_type": "markdown",
   "metadata": {
    "slideshow": {
     "slide_type": "slide"
    }
   },
   "source": [
    "Take all 4-byte branches of electrons (data were triggered on electrons)."
   ]
  },
  {
   "cell_type": "code",
   "execution_count": 4,
   "metadata": {
    "collapsed": true,
    "slideshow": {
     "slide_type": "-"
    }
   },
   "outputs": [],
   "source": [
    "branches = [\"Electron_\"]\n",
    "for base in \"Electron\", \"Info\":    \n",
    "    for b in t.GetBranch(base).GetListOfBranches():\n",
    "        try:\n",
    "            if t.GetNumpyIteratorInfo(b)[0][1].itemsize == 4:   # if the type has 4 bytes\n",
    "                branches.append(b.GetName())                    # put it in the list\n",
    "        except ValueError:                                      # unless it's an unhandled type\n",
    "            pass                                                # (such as std::bitset)"
   ]
  },
  {
   "cell_type": "code",
   "execution_count": 5,
   "metadata": {
    "slideshow": {
     "slide_type": "fragment"
    }
   },
   "outputs": [
    {
     "data": {
      "text/plain": [
       "88"
      ]
     },
     "execution_count": 5,
     "metadata": {},
     "output_type": "execute_result"
    }
   ],
   "source": [
    "len(branches)"
   ]
  },
  {
   "cell_type": "code",
   "execution_count": 6,
   "metadata": {
    "slideshow": {
     "slide_type": "fragment"
    }
   },
   "outputs": [
    {
     "data": {
      "text/plain": [
       "{dtype('uint32'), dtype('int32'), dtype('float32')}"
      ]
     },
     "execution_count": 6,
     "metadata": {},
     "output_type": "execute_result"
    }
   ],
   "source": [
    "set(x[1] for x in t.GetNumpyIteratorInfo(*branches))"
   ]
  },
  {
   "cell_type": "markdown",
   "metadata": {
    "slideshow": {
     "slide_type": "slide"
    }
   },
   "source": [
    "Maybe you want to (X) out of presentation mode to see the output better."
   ]
  },
  {
   "cell_type": "code",
   "execution_count": null,
   "metadata": {
    "scrolled": true,
    "slideshow": {
     "slide_type": "-"
    }
   },
   "outputs": [
    {
     "name": "stdout",
     "output_type": "stream",
     "text": [
      "events: 24225\ttime: 0.230262041092\trate: 105.206224548 kHz, 35.3170309457 MB/s\n",
      "events: 214194\ttime: 1.9312081337\trate: 110.91191895 kHz, 37.232394667 MB/s\n",
      "events: 377177\ttime: 3.32416319847\trate: 113.465247486 kHz, 38.0895301011 MB/s\n",
      "events: 556816\ttime: 4.62975716591\trate: 120.268942851 kHz, 40.3734854541 MB/s\n",
      "events: 738987\ttime: 5.53619909286\trate: 133.482735647 kHz, 44.8092679478 MB/s\n",
      "events: 930036\ttime: 6.39372205734\trate: 145.460811662 kHz, 48.8302285241 MB/s\n",
      "events: 1100021\ttime: 7.47809815407\trate: 147.099032045 kHz, 49.380168228 MB/s\n",
      "events: 1271044\ttime: 8.50694608688\trate: 149.412490337 kHz, 50.1567808137 MB/s\n",
      "events: 1450551\ttime: 9.48562002182\trate: 152.921052779 kHz, 51.3345819266 MB/s\n",
      "events: 1631415\ttime: 10.1970560551\trate: 159.988823361 kHz, 53.7071855766 MB/s\n",
      "events: 1809581\ttime: 10.7910871506\trate: 167.692186593 kHz, 56.2931534585 MB/s\n",
      "events: 1971691\ttime: 11.3749570847\trate: 173.336126486 kHz, 58.1877866012 MB/s\n",
      "events: 2178278\ttime: 11.9752480984\trate: 181.898360861 kHz, 61.0620718223 MB/s\n",
      "events: 2355351\ttime: 13.1639780998\trate: 178.923953089 kHz, 60.0635828852 MB/s\n",
      "events: 2534512\ttime: 14.5615971088\trate: 174.054534064 kHz, 58.4289512542 MB/s\n",
      "events: 2693511\ttime: 16.8451621532\trate: 159.898193647 kHz, 53.6767617835 MB/s\n",
      "events: 2874249\ttime: 17.8481521606\trate: 161.039023767 kHz, 54.0597308789 MB/s\n",
      "events: 3052195\ttime: 18.8973560333\trate: 161.514393581 kHz, 54.2193093685 MB/s\n",
      "events: 3230076\ttime: 21.4227161407\trate: 150.778079623 kHz, 50.6152000686 MB/s\n",
      "events: 3409388\ttime: 22.8071591854\trate: 149.487622386 kHz, 50.1820021437 MB/s\n",
      "events: 3585916\ttime: 25.2789862156\trate: 141.853631685 kHz, 47.6193221599 MB/s\n",
      "events: 3761835\ttime: 26.7408890724\trate: 140.677259825 kHz, 47.2244219384 MB/s\n",
      "events: 3993898\ttime: 33.7271010876\trate: 118.418063552 kHz, 39.7521575643 MB/s\n",
      "events: 4170559\ttime: 37.6665401459\trate: 110.723177224 kHz, 37.1690353231 MB/s\n",
      "events: 4353229\ttime: 39.4763031006\trate: 110.274485149 kHz, 37.018412373 MB/s\n",
      "events: 4536834\ttime: 40.8138651848\trate: 111.159136226 kHz, 37.3153838651 MB/s\n",
      "events: 4712077\ttime: 42.4826672077\trate: 110.917635584 kHz, 37.2343137033 MB/s\n",
      "events: 4925345\ttime: 44.5172610283\trate: 110.638994543 kHz, 37.1407757562 MB/s\n",
      "events: 5090248\ttime: 46.5080280304\trate: 109.448803047 kHz, 36.7412363744 MB/s\n",
      "events: 5272887\ttime: 48.1406190395\trate: 109.530934691 kHz, 36.7688074219 MB/s\n",
      "events: 5445094\ttime: 52.3406941891\trate: 104.031749757 kHz, 34.9227675577 MB/s\n",
      "events: 5627566\ttime: 62.7075841427\trate: 89.7429884589 kHz, 30.1261252761 MB/s\n",
      "events: 5812792\ttime: 65.8015291691\trate: 88.3382510012 kHz, 29.6545642399 MB/s\n",
      "events: 5989242\ttime: 69.1625401974\trate: 86.596616939 kHz, 29.0699092508 MB/s\n",
      "events: 6168338\ttime: 71.0473752022\trate: 86.8200687562 kHz, 29.1449205419 MB/s\n",
      "events: 6347249\ttime: 72.8737711906\trate: 87.0992250888 kHz, 29.238631469 MB/s\n",
      "events: 6529082\ttime: 74.2995631695\trate: 87.8751061444 kHz, 29.499089587 MB/s\n",
      "events: 6704904\ttime: 76.4342460632\trate: 87.7212028029 kHz, 29.4474252573 MB/s\n",
      "events: 6877965\ttime: 78.5268490314\trate: 87.5874313669 kHz, 29.4025190746 MB/s\n",
      "events: 7038765\ttime: 79.755628109\trate: 88.2541479127 kHz, 29.6263313916 MB/s\n",
      "events: 7220067\ttime: 81.3997471333\trate: 88.6988873341 kHz, 29.775627462 MB/s\n",
      "events: 7400168\ttime: 86.287332058\trate: 85.7619284721 kHz, 28.7897098753 MB/s\n",
      "events: 7577473\ttime: 89.7087571621\trate: 84.4674838858 kHz, 28.3551734236 MB/s\n",
      "events: 7754201\ttime: 91.551415205\trate: 84.6977731872 kHz, 28.4324800128 MB/s\n",
      "events: 7922303\ttime: 92.7645821571\trate: 85.4022388262 kHz, 28.6689644497 MB/s\n",
      "events: 8110545\ttime: 94.2037060261\trate: 86.0958166312 kHz, 28.9017939131 MB/s\n",
      "events: 8291028\ttime: 95.3338820934\trate: 86.9683245656 kHz, 29.1946890326 MB/s\n",
      "events: 8469648\ttime: 96.7991740704\trate: 87.4971101907 kHz, 29.3721988555 MB/s\n",
      "events: 8648566\ttime: 98.5655360222\trate: 87.7443206726 kHz, 29.4551857727 MB/s\n",
      "events: 8832364\ttime: 101.386956215\trate: 87.1153877159 kHz, 29.2440571556 MB/s\n",
      "events: 9010323\ttime: 103.068243027\trate: 87.4209430121 kHz, 29.3466300395 MB/s\n",
      "events: 9188127\ttime: 104.518796206\trate: 87.9088482988 kHz, 29.5104166042 MB/s\n",
      "events: 9364502\ttime: 106.08100605\trate: 88.2768965782 kHz, 29.6339679675 MB/s\n",
      "events: 9540722\ttime: 108.937442064\trate: 87.5798239725 kHz, 29.3999653228 MB/s\n",
      "events: 9711026\ttime: 113.89363122\trate: 85.2639949749 kHz, 28.6225569068 MB/s\n",
      "events: 9888885\ttime: 115.133370161\trate: 85.8906934294 kHz, 28.8329354164 MB/s\n",
      "events: 10070047\ttime: 116.722043991\trate: 86.2737376392 kHz, 28.9615208139 MB/s\n",
      "events: 10251986\ttime: 118.498336077\trate: 86.5158646056 kHz, 29.0428012287 MB/s\n",
      "events: 10434835\ttime: 121.037286043\trate: 86.2117397136 kHz, 28.940708522 MB/s\n",
      "events: 10616160\ttime: 126.187685013\trate: 84.1299212274 kHz, 28.2418558808 MB/s\n",
      "events: 10791434\ttime: 127.689037085\trate: 84.5133947784 kHz, 28.3705854053 MB/s\n",
      "events: 10965144\ttime: 132.835911989\trate: 82.5465330557 kHz, 27.7103229862 MB/s\n",
      "events: 11145351\ttime: 136.879868031\trate: 81.4243260193 kHz, 27.3336055363 MB/s\n",
      "events: 11334342\ttime: 142.020090103\trate: 79.8080186526 kHz, 26.7910218866 MB/s\n",
      "events: 11509553\ttime: 146.671813011\trate: 78.4714715371 kHz, 26.3423518954 MB/s\n",
      "events: 11693403\ttime: 148.570577145\trate: 78.7060481606 kHz, 26.4210977102 MB/s\n",
      "events: 11872144\ttime: 153.319298029\trate: 77.4341139871 kHz, 25.9941178546 MB/s\n",
      "events: 12049547\ttime: 160.225956202\trate: 75.2034644427 kHz, 25.2453036154 MB/s\n",
      "events: 12233576\ttime: 166.407564163\trate: 73.5157446809 kHz, 24.6787472989 MB/s\n",
      "events: 12410455\ttime: 169.803548098\trate: 73.0871359229 kHz, 24.5348661851 MB/s\n",
      "events: 12597681\ttime: 173.374531031\trate: 72.6616586941 kHz, 24.3920363048 MB/s\n",
      "events: 12768352\ttime: 177.159025192\trate: 72.0728282747 kHz, 24.1943698432 MB/s\n",
      "events: 12940465\ttime: 183.201708078\trate: 70.6350674114 kHz, 23.711723069 MB/s\n",
      "events: 13142225\ttime: 187.074844122\trate: 70.251161035 kHz, 23.5828482478 MB/s\n",
      "events: 13301451\ttime: 190.279914141\trate: 69.9046510509 kHz, 23.4665271472 MB/s\n",
      "events: 13479267\ttime: 192.67327404\trate: 69.9591942222 kHz, 23.4848369276 MB/s\n",
      "events: 13653762\ttime: 195.438490152\trate: 69.8621954629 kHz, 23.4522750883 MB/s\n",
      "events: 13827746\ttime: 198.009390116\trate: 69.8337891547 kHz, 23.4427392792 MB/s\n",
      "events: 14005579\ttime: 201.492503166\trate: 69.5091816317 kHz, 23.3337706893 MB/s\n",
      "events: 14181575\ttime: 206.107834101\trate: 68.8065791476 kHz, 23.0979117012 MB/s\n",
      "events: 14359408\ttime: 208.538125038\trate: 68.8574714929 kHz, 23.1149959235 MB/s\n",
      "events: 14537686\ttime: 216.13658309\trate: 67.2615704023 kHz, 22.5792625252 MB/s\n",
      "events: 14715418\ttime: 219.518342018\trate: 67.0350270721 kHz, 22.5032134336 MB/s\n",
      "events: 14907301\ttime: 222.133795023\trate: 67.1095588965 kHz, 22.5282332721 MB/s\n",
      "events: 15082111\ttime: 225.116744041\trate: 66.9968423016 kHz, 22.4903950597 MB/s\n",
      "events: 15260769\ttime: 226.978146076\trate: 67.2345301247 kHz, 22.5701852835 MB/s\n",
      "events: 15444695\ttime: 231.420658112\trate: 66.7386184364 kHz, 22.4037110229 MB/s\n",
      "events: 15622624\ttime: 233.457607985\trate: 66.9184617065 kHz, 22.4640832145 MB/s\n",
      "events: 15798691\ttime: 235.612780094\trate: 67.053624993 kHz, 22.5094566322 MB/s\n",
      "events: 15977023\ttime: 238.458706141\trate: 67.0012148375 kHz, 22.491862891 MB/s\n",
      "events: 16157148\ttime: 243.910278082\trate: 66.2421777674 kHz, 22.2370591871 MB/s\n",
      "events: 16333948\ttime: 247.048642159\trate: 66.1163237219 kHz, 22.1948108197 MB/s\n",
      "events: 16522431\ttime: 250.009526014\trate: 66.0872058093 kHz, 22.1850361298 MB/s\n",
      "events: 16694855\ttime: 252.581133127\trate: 66.0969993812 kHz, 22.1883237669 MB/s\n",
      "events: 16869888\ttime: 255.8299582\trate: 65.9418002437 kHz, 22.136224447 MB/s\n",
      "events: 17048591\ttime: 265.094999075\trate: 64.3112509081 kHz, 21.588859863 MB/s\n",
      "events: 17235173\ttime: 278.774612188\trate: 61.8247582328 kHz, 20.7541607837 MB/s\n",
      "events: 17414431\ttime: 287.097452164\trate: 60.6568636146 kHz, 20.3621063159 MB/s\n",
      "events: 17592630\ttime: 291.899301052\trate: 60.269517387 kHz, 20.2320767595 MB/s\n",
      "events: 17770016\ttime: 294.686486006\trate: 60.3014282767 kHz, 20.2427890333 MB/s\n",
      "events: 17954564\ttime: 297.916781187\trate: 60.2670448051 kHz, 20.2312467302 MB/s\n",
      "events: 18136010\ttime: 301.767911196\trate: 60.0991998392 kHz, 20.1749022898 MB/s\n",
      "events: 18313074\ttime: 303.896965027\trate: 60.2607992429 kHz, 20.2291501365 MB/s\n"
     ]
    }
   ],
   "source": [
    "totalEvents = 0\n",
    "totalBytes = 0\n",
    "startTime = time.time()\n",
    "\n",
    "for findex, fname in enumerate(filelist):\n",
    "    f = ROOT.TFile(fname)\n",
    "    t = f.Get(\"Events\")\n",
    "\n",
    "    for stuff in t.GetNumpyIterator(*branches, return_new_buffers=False):\n",
    "        start, end = stuff[:2]\n",
    "        data = stuff[2:]\n",
    "        totalEvents += end - start\n",
    "        totalBytes += sum(4 * len(x) for x in data)        # all the branches are 4 bytes wide\n",
    "\n",
    "    if findex % 10 == 0:                                   # print out every 10 files\n",
    "        elapsedTime = time.time() - startTime\n",
    "        ev_per_s = totalEvents / elapsedTime\n",
    "        mb_per_s = totalBytes / elapsedTime / 1024**2\n",
    "        print(\"events: {}\\ttime: {}\\trate: {} kHz, {} MB/s\".format(\n",
    "            totalEvents, elapsedTime, ev_per_s*1e-3, mb_per_s))"
   ]
  },
  {
   "cell_type": "markdown",
   "metadata": {
    "slideshow": {
     "slide_type": "slide"
    }
   },
   "source": [
    "   * If we do this over recently accessed data, we see the effect of Linux file-page caching (scaling up to 100 MB/s).\n",
    "   * If we let it run for a while, the starting rate of 45 MB/s sinks to 15 MB/s or less.\n",
    "   * This slow-down is not \"cured\" unless we re-start the process (Python+ROOT). However, I don't see any evidence of a memory leak in `htop`.\n",
    "   * Moreover, the disk's raw sequential rate is 380 MB/s."
   ]
  },
  {
   "cell_type": "code",
   "execution_count": 14,
   "metadata": {
    "slideshow": {
     "slide_type": "fragment"
    }
   },
   "outputs": [
    {
     "name": "stdout",
     "output_type": "stream",
     "text": [
      "0.00user 1.14system 0:09.44elapsed 12%CPU (0avgtext+0avgdata 1860maxresident)k\r\n",
      "7265312inputs+0outputs (0major+138minor)pagefaults 0swaps\r\n"
     ]
    }
   ],
   "source": [
    "!time cat /mnt/data/DYJetsToLL_M_50_HT_200to400_13TeV_2/* > /dev/null"
   ]
  },
  {
   "cell_type": "code",
   "execution_count": 16,
   "metadata": {
    "slideshow": {
     "slide_type": "-"
    }
   },
   "outputs": [
    {
     "name": "stdout",
     "output_type": "stream",
     "text": [
      "3548\t/mnt/data/DYJetsToLL_M_50_HT_200to400_13TeV_2\r\n"
     ]
    }
   ],
   "source": [
    "!du -ms /mnt/data/DYJetsToLL_M_50_HT_200to400_13TeV_2"
   ]
  },
  {
   "cell_type": "code",
   "execution_count": 17,
   "metadata": {},
   "outputs": [
    {
     "data": {
      "text/plain": [
       "375.8474576271187"
      ]
     },
     "execution_count": 17,
     "metadata": {},
     "output_type": "execute_result"
    }
   ],
   "source": [
    "3548 / (9.44)"
   ]
  }
 ],
 "metadata": {
  "celltoolbar": "Slideshow",
  "kernelspec": {
   "display_name": "Python 2",
   "language": "python",
   "name": "python2"
  },
  "language_info": {
   "codemirror_mode": {
    "name": "ipython",
    "version": 2
   },
   "file_extension": ".py",
   "mimetype": "text/x-python",
   "name": "python",
   "nbconvert_exporter": "python",
   "pygments_lexer": "ipython2",
   "version": "2.7.13"
  }
 },
 "nbformat": 4,
 "nbformat_minor": 2
}
