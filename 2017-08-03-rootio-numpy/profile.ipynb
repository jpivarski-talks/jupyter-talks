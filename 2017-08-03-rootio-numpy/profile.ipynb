{
 "cells": [
  {
   "cell_type": "markdown",
   "metadata": {
    "slideshow": {
     "slide_type": "slide"
    }
   },
   "source": [
    "# Profiling on a fast disk\n",
    "\n",
    "(This is why we're using an AWS instance; it's an `i2.2xlarge` with a large, fast SSD.)"
   ]
  },
  {
   "cell_type": "code",
   "execution_count": null,
   "metadata": {
    "slideshow": {
     "slide_type": "-"
    }
   },
   "outputs": [],
   "source": [
    "import time\n",
    "import glob\n",
    "\n",
    "import numpy\n",
    "import ROOT"
   ]
  },
  {
   "cell_type": "markdown",
   "metadata": {
    "slideshow": {
     "slide_type": "slide"
    }
   },
   "source": [
    "Start with some large files."
   ]
  },
  {
   "cell_type": "code",
   "execution_count": null,
   "metadata": {
    "collapsed": true,
    "slideshow": {
     "slide_type": "-"
    }
   },
   "outputs": [],
   "source": [
    "# filelist = sorted(glob.glob(\"/mnt/data/SingleElectronRun2015D_16Dec2015_v1/SingleElectron/CRAB3/160418_185159/000*/*.root\"))\n",
    "filelist = sorted(glob.glob(\"/mnt/data/SingleElectron_uncompressed/000*/*.root\"))\n",
    "fname = filelist[0]"
   ]
  },
  {
   "cell_type": "code",
   "execution_count": null,
   "metadata": {
    "slideshow": {
     "slide_type": "-"
    }
   },
   "outputs": [],
   "source": [
    "f = ROOT.TFile(fname)\n",
    "t = f.Get(\"Events\")"
   ]
  },
  {
   "cell_type": "markdown",
   "metadata": {
    "slideshow": {
     "slide_type": "slide"
    }
   },
   "source": [
    "Take all 4-byte branches of electrons (data were triggered on electrons)."
   ]
  },
  {
   "cell_type": "code",
   "execution_count": null,
   "metadata": {
    "collapsed": true,
    "slideshow": {
     "slide_type": "-"
    }
   },
   "outputs": [],
   "source": [
    "branches = [\"Electron_\"]\n",
    "for base in \"Electron\", \"Info\":    \n",
    "    for b in t.GetBranch(base).GetListOfBranches():\n",
    "        try:\n",
    "            if t.GetNumpyIteratorInfo(b)[0][1].itemsize == 4:\n",
    "                branches.append(b.GetName())\n",
    "        except ValueError:\n",
    "            pass"
   ]
  },
  {
   "cell_type": "code",
   "execution_count": null,
   "metadata": {
    "slideshow": {
     "slide_type": "fragment"
    }
   },
   "outputs": [],
   "source": [
    "len(branches)"
   ]
  },
  {
   "cell_type": "code",
   "execution_count": null,
   "metadata": {
    "slideshow": {
     "slide_type": "fragment"
    }
   },
   "outputs": [],
   "source": [
    "set(x[1] for x in t.GetNumpyIteratorInfo(*branches))"
   ]
  },
  {
   "cell_type": "code",
   "execution_count": null,
   "metadata": {
    "slideshow": {
     "slide_type": "slide"
    }
   },
   "outputs": [],
   "source": [
    "totalEvents = 0\n",
    "totalBytes = 0\n",
    "startTime = time.time()\n",
    "\n",
    "for findex, fname in enumerate(filelist):\n",
    "    f = ROOT.TFile(fname)\n",
    "    t = f.Get(\"Events\")\n",
    "\n",
    "    for stuff in t.GetNumpyIterator(*branches, return_new_buffers=False):\n",
    "        start, end = stuff[:2]\n",
    "        data = stuff[2:]\n",
    "        totalEvents += end - start\n",
    "        totalBytes += sum(4 * len(x) for x in data)        # all the branches are 4 bytes wide\n",
    "\n",
    "    if findex % 10 == 0:                                   # print out every 10 files\n",
    "        elapsedTime = time.time() - startTime\n",
    "        ev_per_s = totalEvents / elapsedTime\n",
    "        mb_per_s = totalBytes / elapsedTime / 1024**2\n",
    "        print(\"events: {}\\ttime: {}\\trate: {} kHz, {} MB/s\".format(\n",
    "            totalEvents, elapsedTime, ev_per_s*1e-3, mb_per_s))"
   ]
  },
  {
   "cell_type": "markdown",
   "metadata": {
    "slideshow": {
     "slide_type": "slide"
    }
   },
   "source": [
    "This rate is oddly decreasing (not a memory leak: memory use stays low).\n",
    "\n",
    "Also, it's quite a bit less than the raw I/O rate of 340 MB/s."
   ]
  },
  {
   "cell_type": "code",
   "execution_count": null,
   "metadata": {
    "slideshow": {
     "slide_type": "-"
    }
   },
   "outputs": [],
   "source": [
    "!time cat /mnt/data/DYJetsToLL_M_50_HT_100to200_13TeV_2/* > /dev/null"
   ]
  },
  {
   "cell_type": "code",
   "execution_count": null,
   "metadata": {
    "slideshow": {
     "slide_type": "-"
    }
   },
   "outputs": [],
   "source": [
    "!du -ms /mnt/data/DYJetsToLL_M_50_HT_100to200_13TeV_2"
   ]
  },
  {
   "cell_type": "code",
   "execution_count": null,
   "metadata": {},
   "outputs": [],
   "source": [
    "6140 / 17.96"
   ]
  }
 ],
 "metadata": {
  "celltoolbar": "Slideshow",
  "kernelspec": {
   "display_name": "Python 2",
   "language": "python",
   "name": "python2"
  },
  "language_info": {
   "codemirror_mode": {
    "name": "ipython",
    "version": 2
   },
   "file_extension": ".py",
   "mimetype": "text/x-python",
   "name": "python",
   "nbconvert_exporter": "python",
   "pygments_lexer": "ipython2",
   "version": "2.7.13"
  }
 },
 "nbformat": 4,
 "nbformat_minor": 2
}
