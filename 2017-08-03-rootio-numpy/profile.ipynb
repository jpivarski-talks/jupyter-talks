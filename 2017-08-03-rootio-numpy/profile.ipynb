{
 "cells": [
  {
   "cell_type": "markdown",
   "metadata": {
    "slideshow": {
     "slide_type": "slide"
    }
   },
   "source": [
    "# Profiling on a fast disk\n",
    "\n",
    "(This is why we're using an AWS instance; it's an `i2.2xlarge` with a large, fast SSD.)"
   ]
  },
  {
   "cell_type": "code",
   "execution_count": null,
   "metadata": {
    "slideshow": {
     "slide_type": "-"
    }
   },
   "outputs": [],
   "source": [
    "import time\n",
    "import glob\n",
    "\n",
    "import numpy\n",
    "import ROOT"
   ]
  },
  {
   "cell_type": "markdown",
   "metadata": {
    "slideshow": {
     "slide_type": "slide"
    }
   },
   "source": [
    "Start with some large files."
   ]
  },
  {
   "cell_type": "code",
   "execution_count": null,
   "metadata": {
    "collapsed": true,
    "slideshow": {
     "slide_type": "-"
    }
   },
   "outputs": [],
   "source": [
    "# filelist = sorted(glob.glob(\"/mnt/data/SingleElectronRun2015D_16Dec2015_v1/SingleElectron/CRAB3/160418_185159/000*/*.root\"))\n",
    "filelist = sorted(glob.glob(\"/mnt/data/SingleElectron_uncompressed/000*/*.root\"))\n",
    "fname = filelist[0]"
   ]
  },
  {
   "cell_type": "code",
   "execution_count": null,
   "metadata": {
    "slideshow": {
     "slide_type": "-"
    }
   },
   "outputs": [],
   "source": [
    "f = ROOT.TFile(fname)\n",
    "t = f.Get(\"Events\")"
   ]
  },
  {
   "cell_type": "markdown",
   "metadata": {
    "slideshow": {
     "slide_type": "slide"
    }
   },
   "source": [
    "Take all 4-byte branches of electrons (data were triggered on electrons)."
   ]
  },
  {
   "cell_type": "code",
   "execution_count": null,
   "metadata": {
    "collapsed": true,
    "slideshow": {
     "slide_type": "-"
    }
   },
   "outputs": [],
   "source": [
    "branches = [\"Electron_\"]\n",
    "for base in \"Electron\", \"Info\":    \n",
    "    for b in t.GetBranch(base).GetListOfBranches():\n",
    "        try:\n",
    "            if t.GetNumpyIteratorInfo(b)[0][1].itemsize == 4:   # if the type has 4 bytes\n",
    "                branches.append(b.GetName())                    # put it in the list\n",
    "        except ValueError:                                      # unless it's an unhandled type\n",
    "            pass                                                # (such as std::bitset)"
   ]
  },
  {
   "cell_type": "code",
   "execution_count": null,
   "metadata": {
    "slideshow": {
     "slide_type": "fragment"
    }
   },
   "outputs": [],
   "source": [
    "len(branches)"
   ]
  },
  {
   "cell_type": "code",
   "execution_count": null,
   "metadata": {
    "slideshow": {
     "slide_type": "fragment"
    }
   },
   "outputs": [],
   "source": [
    "set(x[1] for x in t.GetNumpyIteratorInfo(*branches))"
   ]
  },
  {
   "cell_type": "markdown",
   "metadata": {
    "slideshow": {
     "slide_type": "slide"
    }
   },
   "source": [
    "Maybe you want to (X) out of presentation mode to see the output better."
   ]
  },
  {
   "cell_type": "code",
   "execution_count": null,
   "metadata": {
    "scrolled": true,
    "slideshow": {
     "slide_type": "-"
    }
   },
   "outputs": [],
   "source": [
    "totalEvents = 0\n",
    "totalBytes = 0\n",
    "startTime = time.time()\n",
    "\n",
    "for findex, fname in enumerate(filelist):\n",
    "    f = ROOT.TFile(fname)\n",
    "    t = f.Get(\"Events\")\n",
    "\n",
    "    for stuff in t.GetNumpyIterator(*branches, return_new_buffers=False):\n",
    "        start, end = stuff[:2]\n",
    "        data = stuff[2:]\n",
    "        totalEvents += end - start\n",
    "        totalBytes += sum(4 * len(x) for x in data)        # all the branches are 4 bytes wide\n",
    "\n",
    "    if findex % 10 == 0:                                   # print out every 10 files\n",
    "        elapsedTime = time.time() - startTime\n",
    "        ev_per_s = totalEvents / elapsedTime\n",
    "        mb_per_s = totalBytes / elapsedTime / 1024**2\n",
    "        print(\"events: {}\\ttime: {}\\trate: {} kHz, {} MB/s\".format(\n",
    "            totalEvents, elapsedTime, ev_per_s*1e-3, mb_per_s))"
   ]
  },
  {
   "cell_type": "markdown",
   "metadata": {
    "slideshow": {
     "slide_type": "slide"
    }
   },
   "source": [
    "   * If we do this over recently accessed data, we see the effect of Linux file-page caching (scaling up to 100 MB/s).\n",
    "   * If we let it run for a while, the starting rate of 45 MB/s sinks to 15 MB/s or less.\n",
    "   * This slow-down is not \"cured\" unless we re-start the process (Python+ROOT). However, I don't see any evidence of a memory leak in `htop`.\n",
    "   * Moreover, the disk's raw sequential rate is 380 MB/s."
   ]
  },
  {
   "cell_type": "code",
   "execution_count": 14,
   "metadata": {
    "slideshow": {
     "slide_type": "fragment"
    }
   },
   "outputs": [
    {
     "name": "stdout",
     "output_type": "stream",
     "text": [
      "0.00user 1.14system 0:09.44elapsed 12%CPU (0avgtext+0avgdata 1860maxresident)k\r\n",
      "7265312inputs+0outputs (0major+138minor)pagefaults 0swaps\r\n"
     ]
    }
   ],
   "source": [
    "!time cat /mnt/data/DYJetsToLL_M_50_HT_200to400_13TeV_2/* > /dev/null"
   ]
  },
  {
   "cell_type": "code",
   "execution_count": 16,
   "metadata": {
    "slideshow": {
     "slide_type": "-"
    }
   },
   "outputs": [
    {
     "name": "stdout",
     "output_type": "stream",
     "text": [
      "3548\t/mnt/data/DYJetsToLL_M_50_HT_200to400_13TeV_2\r\n"
     ]
    }
   ],
   "source": [
    "!du -ms /mnt/data/DYJetsToLL_M_50_HT_200to400_13TeV_2"
   ]
  },
  {
   "cell_type": "code",
   "execution_count": 17,
   "metadata": {},
   "outputs": [
    {
     "data": {
      "text/plain": [
       "375.8474576271187"
      ]
     },
     "execution_count": 17,
     "metadata": {},
     "output_type": "execute_result"
    }
   ],
   "source": [
    "3548 / (9.44)"
   ]
  }
 ],
 "metadata": {
  "celltoolbar": "Slideshow",
  "kernelspec": {
   "display_name": "Python 3",
   "language": "python",
   "name": "python3"
  },
  "language_info": {
   "codemirror_mode": {
    "name": "ipython",
    "version": 3
   },
   "file_extension": ".py",
   "mimetype": "text/x-python",
   "name": "python",
   "nbconvert_exporter": "python",
   "pygments_lexer": "ipython3",
   "version": "3.6.1"
  }
 },
 "nbformat": 4,
 "nbformat_minor": 2
}
