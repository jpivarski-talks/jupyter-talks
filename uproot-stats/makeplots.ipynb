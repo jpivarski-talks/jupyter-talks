{
 "cells": [
  {
   "cell_type": "code",
   "execution_count": 89,
   "metadata": {},
   "outputs": [],
   "source": [
    "%matplotlib inline\n",
    "import pandas\n",
    "import numpy\n",
    "import datetime"
   ]
  },
  {
   "cell_type": "code",
   "execution_count": 79,
   "metadata": {},
   "outputs": [
    {
     "data": {
      "text/plain": [
       "Index(['timestamp', 'country_code', 'file_version', 'details_distro_name',\n",
       "       'details_distro_version', 'details_system_name',\n",
       "       'details_system_release', 'details_cpu'],\n",
       "      dtype='object')"
      ]
     },
     "execution_count": 79,
     "metadata": {},
     "output_type": "execute_result"
    }
   ],
   "source": [
    "df = pandas.read_csv(\"results-20181013-092352.csv\", parse_dates=[\"timestamp\"])\n",
    "df.columns"
   ]
  },
  {
   "cell_type": "code",
   "execution_count": 80,
   "metadata": {},
   "outputs": [],
   "source": [
    "df.sort_values(\"timestamp\", inplace=True)"
   ]
  },
  {
   "cell_type": "code",
   "execution_count": 81,
   "metadata": {},
   "outputs": [],
   "source": [
    "df[\"unique\"] = (df[\"country_code\"].map(str) +\n",
    "                df[\"details_distro_name\"].map(str) +\n",
    "                df[\"details_distro_version\"].map(str) +\n",
    "                df[\"details_system_name\"].map(str) +\n",
    "                df[\"details_system_release\"].map(str) +\n",
    "                df[\"details_cpu\"].map(str))"
   ]
  },
  {
   "cell_type": "code",
   "execution_count": 82,
   "metadata": {},
   "outputs": [
    {
     "data": {
      "text/plain": [
       "<matplotlib.axes._subplots.AxesSubplot at 0x7f488a2798d0>"
      ]
     },
     "execution_count": 82,
     "metadata": {},
     "output_type": "execute_result"
    },
    {
     "data": {
      "image/png": "[encoded data removed]",
      "text/plain": [
       "<Figure size 432x288 with 1 Axes>"
      ]
     },
     "metadata": {
      "needs_background": "light"
     },
     "output_type": "display_data"
    }
   ],
   "source": [
    "plt = df.groupby(\"unique\").count().hist(\"timestamp\", bins=numpy.arange(0.5, 10.5))[0][0]\n",
    "plt.set_title(\"\")\n",
    "plt.set_xlabel(\"number of times downloaded\")\n",
    "plt.set_xticks(range(11))\n",
    "plt.grid(False)\n",
    "plt"
   ]
  },
  {
   "cell_type": "code",
   "execution_count": 83,
   "metadata": {},
   "outputs": [],
   "source": [
    "df.drop_duplicates(\"unique\", keep=\"last\", inplace=True)"
   ]
  },
  {
   "cell_type": "code",
   "execution_count": 111,
   "metadata": {},
   "outputs": [],
   "source": [
    "df[\"since_inception\"] = df[\"timestamp\"] - datetime.datetime(2017, 9, 14)"
   ]
  },
  {
   "cell_type": "code",
   "execution_count": 151,
   "metadata": {},
   "outputs": [],
   "source": [
    "df[\"weeks_since\"] = df[\"since_inception\"].dt.days / 7"
   ]
  },
  {
   "cell_type": "code",
   "execution_count": 150,
   "metadata": {},
   "outputs": [],
   "source": [
    "df[\"major_version\"] = df[\"file_version\"].apply(lambda x: x[0])"
   ]
  },
  {
   "cell_type": "code",
   "execution_count": 152,
   "metadata": {},
   "outputs": [
    {
     "data": {
      "text/plain": [
       "<matplotlib.axes._subplots.AxesSubplot at 0x7f48892866d8>"
      ]
     },
     "execution_count": 152,
     "metadata": {},
     "output_type": "execute_result"
    },
    {
     "data": {
      "image/png": "[encoded data removed]",
      "text/plain": [
       "<Figure size 432x288 with 1 Axes>"
      ]
     },
     "metadata": {
      "needs_background": "light"
     },
     "output_type": "display_data"
    }
   ],
   "source": [
    "plt = df[\"weeks_since\"].hist(bins=numpy.arange(-0.5, 57.5))\n",
    "plt.set_xlim(-0.5, 56.5)\n",
    "plt.grid(False)\n",
    "plt.set_xlabel(\"weeks since inception\")\n",
    "plt.set_ylabel(\"number of unique downloaders per week\")\n",
    "plt"
   ]
  },
  {
   "cell_type": "code",
   "execution_count": 185,
   "metadata": {},
   "outputs": [],
   "source": [
    "df2 = pandas.DataFrame({\"weeks\": numpy.round(df[\"weeks_since\"]).astype(int),\n",
    "                        \"v1\": df[\"major_version\"] == \"1\",\n",
    "                        \"v2\": df[\"major_version\"] == \"2\",\n",
    "                        \"v3\": df[\"major_version\"] == \"3\"})"
   ]
  },
  {
   "cell_type": "code",
   "execution_count": 187,
   "metadata": {},
   "outputs": [
    {
     "data": {
      "text/plain": [
       "<matplotlib.axes._subplots.AxesSubplot at 0x7f48880a1cf8>"
      ]
     },
     "execution_count": 187,
     "metadata": {},
     "output_type": "execute_result"
    },
    {
     "data": {
      "image/png": "[encoded data removed]",
      "text/plain": [
       "<Figure size 432x288 with 1 Axes>"
      ]
     },
     "metadata": {
      "needs_background": "light"
     },
     "output_type": "display_data"
    }
   ],
   "source": [
    "plt = df2.groupby(\"weeks\").sum().plot.bar(stacked=True, width=1)\n",
    "plt.set_xlim(-0.5, 56.5)\n",
    "plt.set_xlabel(\"weeks since inception\")\n",
    "plt.set_ylabel(\"number of unique downloaders per week\")\n",
    "plt"
   ]
  },
  {
   "cell_type": "code",
   "execution_count": null,
   "metadata": {},
   "outputs": [],
   "source": []
  }
 ],
 "metadata": {
  "kernelspec": {
   "display_name": "Python 3",
   "language": "python",
   "name": "python3"
  },
  "language_info": {
   "codemirror_mode": {
    "name": "ipython",
    "version": 3
   },
   "file_extension": ".py",
   "mimetype": "text/x-python",
   "name": "python",
   "nbconvert_exporter": "python",
   "pygments_lexer": "ipython3",
   "version": "3.7.0"
  }
 },
 "nbformat": 4,
 "nbformat_minor": 2
}
