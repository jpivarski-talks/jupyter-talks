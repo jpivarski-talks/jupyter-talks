{
 "cells": [
  {
   "cell_type": "code",
   "execution_count": 1,
   "metadata": {
    "collapsed": false
   },
   "outputs": [
    {
     "data": {
      "text/html": [
       "\n",
       "    <div class=\"bk-root\">\n",
       "        <a href=\"https://bokeh.pydata.org\" target=\"_blank\" class=\"bk-logo bk-logo-small bk-logo-notebook\"></a>\n",
       "        <span id=\"07f59b9a-d7f7-4848-9219-8285c50c190b\">Loading BokehJS ...</span>\n",
       "    </div>"
      ]
     },
     "execution_count": 1,
     "metadata": {
     },
     "output_type": "execute_result"
    },
    {
     "data": {
      "application/javascript": "\n(function(root) {\n  function now() {\n    return new Date();\n  }\n\n  var force = true;\n\n  if (typeof (root._bokeh_onload_callbacks) === \"undefined\" || force === true) {\n    root._bokeh_onload_callbacks = [];\n    root._bokeh_is_loading = undefined;\n  }\n\n  var JS_MIME_TYPE = 'application/javascript';\n  var HTML_MIME_TYPE = 'text/html';\n  var EXEC_MIME_TYPE = 'application/vnd.bokehjs_exec.v0+json';\n  var CLASS_NAME = 'output_bokeh rendered_html';\n\n  /**\n   * Render data to the DOM node\n   */\n  function render(props, node) {\n    var script = document.createElement(\"script\");\n    node.appendChild(script);\n  }\n\n  /**\n   * Handle when an output is cleared or removed\n   */\n  function handleClearOutput(event, handle) {\n    var cell = handle.cell;\n\n    var id = cell.output_area._bokeh_element_id;\n    var server_id = cell.output_area._bokeh_server_id;\n    // Clean up Bokeh references\n    if (id !== undefined) {\n      Bokeh.index[id].model.document.clear();\n      delete Bokeh.index[id];\n    }\n\n    if (server_id !== undefined) {\n      // Clean up Bokeh references\n      var cmd = \"from bokeh.io.state import curstate; print(curstate().uuid_to_server['\" + server_id + \"'].get_sessions()[0].document.roots[0]._id)\";\n      cell.notebook.kernel.execute(cmd, {\n        iopub: {\n          output: function(msg) {\n            var element_id = msg.content.text.trim();\n            Bokeh.index[element_id].model.document.clear();\n            delete Bokeh.index[element_id];\n          }\n        }\n      });\n      // Destroy server and session\n      var cmd = \"import bokeh.io.notebook as ion; ion.destroy_server('\" + server_id + \"')\";\n      cell.notebook.kernel.execute(cmd);\n    }\n  }\n\n  /**\n   * Handle when a new output is added\n   */\n  function handleAddOutput(event, handle) {\n    var output_area = handle.output_area;\n    var output = handle.output;\n\n    // limit handleAddOutput to display_data with EXEC_MIME_TYPE content only\n    if ((output.output_type != \"display_data\") || (!output.data.hasOwnProperty(EXEC_MIME_TYPE))) {\n      return\n    }\n\n    var toinsert = output_area.element.find(`.${CLASS_NAME.split(' ')[0]}`);\n\n    if (output.metadata[EXEC_MIME_TYPE][\"id\"] !== undefined) {\n      toinsert[0].firstChild.textContent = output.data[JS_MIME_TYPE];\n      // store reference to embed id on output_area\n      output_area._bokeh_element_id = output.metadata[EXEC_MIME_TYPE][\"id\"];\n    }\n    if (output.metadata[EXEC_MIME_TYPE][\"server_id\"] !== undefined) {\n      var bk_div = document.createElement(\"div\");\n      bk_div.innerHTML = output.data[HTML_MIME_TYPE];\n      var script_attrs = bk_div.children[0].attributes;\n      for (var i = 0; i < script_attrs.length; i++) {\n        toinsert[0].firstChild.setAttribute(script_attrs[i].name, script_attrs[i].value);\n      }\n      // store reference to server id on output_area\n      output_area._bokeh_server_id = output.metadata[EXEC_MIME_TYPE][\"server_id\"];\n    }\n  }\n\n  function register_renderer(events, OutputArea) {\n\n    function append_mime(data, metadata, element) {\n      // create a DOM node to render to\n      var toinsert = this.create_output_subarea(\n        metadata,\n        CLASS_NAME,\n        EXEC_MIME_TYPE\n      );\n      this.keyboard_manager.register_events(toinsert);\n      // Render to node\n      var props = {data: data, metadata: metadata[EXEC_MIME_TYPE]};\n      render(props, toinsert[0]);\n      element.append(toinsert);\n      return toinsert\n    }\n\n    /* Handle when an output is cleared or removed */\n    events.on('clear_output.CodeCell', handleClearOutput);\n    events.on('delete.Cell', handleClearOutput);\n\n    /* Handle when a new output is added */\n    events.on('output_added.OutputArea', handleAddOutput);\n\n    /**\n     * Register the mime type and append_mime function with output_area\n     */\n    OutputArea.prototype.register_mime_type(EXEC_MIME_TYPE, append_mime, {\n      /* Is output safe? */\n      safe: true,\n      /* Index of renderer in `output_area.display_order` */\n      index: 0\n    });\n  }\n\n  // register the mime type if in Jupyter Notebook environment and previously unregistered\n  if (root.Jupyter !== undefined) {\n    var events = require('base/js/events');\n    var OutputArea = require('notebook/js/outputarea').OutputArea;\n\n    if (OutputArea.prototype.mime_types().indexOf(EXEC_MIME_TYPE) == -1) {\n      register_renderer(events, OutputArea);\n    }\n  }\n\n  \n  if (typeof (root._bokeh_timeout) === \"undefined\" || force === true) {\n    root._bokeh_timeout = Date.now() + 5000;\n    root._bokeh_failed_load = false;\n  }\n\n  var NB_LOAD_WARNING = {'data': {'text/html':\n     \"<div style='background-color: #fdd'>\\n\"+\n     \"<p>\\n\"+\n     \"BokehJS does not appear to have successfully loaded. If loading BokehJS from CDN, this \\n\"+\n     \"may be due to a slow or bad network connection. Possible fixes:\\n\"+\n     \"</p>\\n\"+\n     \"<ul>\\n\"+\n     \"<li>re-rerun `output_notebook()` to attempt to load from CDN again, or</li>\\n\"+\n     \"<li>use INLINE resources instead, as so:</li>\\n\"+\n     \"</ul>\\n\"+\n     \"<code>\\n\"+\n     \"from bokeh.resources import INLINE\\n\"+\n     \"output_notebook(resources=INLINE)\\n\"+\n     \"</code>\\n\"+\n     \"</div>\"}};\n\n  function display_loaded() {\n    var el = document.getElementById(\"07f59b9a-d7f7-4848-9219-8285c50c190b\");\n    if (el != null) {\n      el.textContent = \"BokehJS is loading...\";\n    }\n    if (root.Bokeh !== undefined) {\n      if (el != null) {\n        el.textContent = \"BokehJS \" + root.Bokeh.version + \" successfully loaded.\";\n      }\n    } else if (Date.now() < root._bokeh_timeout) {\n      setTimeout(display_loaded, 100)\n    }\n  }\n\n\n  function run_callbacks() {\n    try {\n      root._bokeh_onload_callbacks.forEach(function(callback) { callback() });\n    }\n    finally {\n      delete root._bokeh_onload_callbacks\n    }\n    console.info(\"Bokeh: all callbacks have finished\");\n  }\n\n  function load_libs(js_urls, callback) {\n    root._bokeh_onload_callbacks.push(callback);\n    if (root._bokeh_is_loading > 0) {\n      console.log(\"Bokeh: BokehJS is being loaded, scheduling callback at\", now());\n      return null;\n    }\n    if (js_urls == null || js_urls.length === 0) {\n      run_callbacks();\n      return null;\n    }\n    console.log(\"Bokeh: BokehJS not loaded, scheduling load and callback at\", now());\n    root._bokeh_is_loading = js_urls.length;\n    for (var i = 0; i < js_urls.length; i++) {\n      var url = js_urls[i];\n      var s = document.createElement('script');\n      s.src = url;\n      s.async = false;\n      s.onreadystatechange = s.onload = function() {\n        root._bokeh_is_loading--;\n        if (root._bokeh_is_loading === 0) {\n          console.log(\"Bokeh: all BokehJS libraries loaded\");\n          run_callbacks()\n        }\n      };\n      s.onerror = function() {\n        console.warn(\"failed to load library \" + url);\n      };\n      console.log(\"Bokeh: injecting script tag for BokehJS library: \", url);\n      document.getElementsByTagName(\"head\")[0].appendChild(s);\n    }\n  };var element = document.getElementById(\"07f59b9a-d7f7-4848-9219-8285c50c190b\");\n  if (element == null) {\n    console.log(\"Bokeh: ERROR: autoload.js configured with elementid '07f59b9a-d7f7-4848-9219-8285c50c190b' but no matching script tag was found. \")\n    return false;\n  }\n\n  var js_urls = [\"https://cdn.pydata.org/bokeh/release/bokeh-0.12.10.min.js\", \"https://cdn.pydata.org/bokeh/release/bokeh-widgets-0.12.10.min.js\", \"https://cdn.pydata.org/bokeh/release/bokeh-tables-0.12.10.min.js\", \"https://cdn.pydata.org/bokeh/release/bokeh-gl-0.12.10.min.js\"];\n\n  var inline_js = [\n    function(Bokeh) {\n      Bokeh.set_log_level(\"info\");\n    },\n    \n    function(Bokeh) {\n      \n    },\n    function(Bokeh) {\n      console.log(\"Bokeh: injecting CSS: https://cdn.pydata.org/bokeh/release/bokeh-0.12.10.min.css\");\n      Bokeh.embed.inject_css(\"https://cdn.pydata.org/bokeh/release/bokeh-0.12.10.min.css\");\n      console.log(\"Bokeh: injecting CSS: https://cdn.pydata.org/bokeh/release/bokeh-widgets-0.12.10.min.css\");\n      Bokeh.embed.inject_css(\"https://cdn.pydata.org/bokeh/release/bokeh-widgets-0.12.10.min.css\");\n      console.log(\"Bokeh: injecting CSS: https://cdn.pydata.org/bokeh/release/bokeh-tables-0.12.10.min.css\");\n      Bokeh.embed.inject_css(\"https://cdn.pydata.org/bokeh/release/bokeh-tables-0.12.10.min.css\");\n    }\n  ];\n\n  function run_inline_js() {\n    \n    if ((root.Bokeh !== undefined) || (force === true)) {\n      for (var i = 0; i < inline_js.length; i++) {\n        inline_js[i].call(root, root.Bokeh);\n      }if (force === true) {\n        display_loaded();\n      }} else if (Date.now() < root._bokeh_timeout) {\n      setTimeout(run_inline_js, 100);\n    } else if (!root._bokeh_failed_load) {\n      console.log(\"Bokeh: BokehJS failed to load within specified timeout.\");\n      root._bokeh_failed_load = true;\n    } else if (force !== true) {\n      var cell = $(document.getElementById(\"07f59b9a-d7f7-4848-9219-8285c50c190b\")).parents('.cell').data().cell;\n      cell.output_area.append_execute_result(NB_LOAD_WARNING)\n    }\n\n  }\n\n  if (root._bokeh_is_loading === 0) {\n    console.log(\"Bokeh: BokehJS loaded, going straight to plotting\");\n    run_inline_js();\n  } else {\n    load_libs(js_urls, function() {\n      console.log(\"Bokeh: BokehJS plotting callback run at\", now());\n      run_inline_js();\n    });\n  }\n}(window));"
     },
     "execution_count": 1,
     "metadata": {
     },
     "output_type": "execute_result"
    }
   ],
   "source": [
    "import uproot\n",
    "import bokeh\n",
    "from bokeh.plotting import show\n",
    "bokeh.io.output_notebook()"
   ]
  },
  {
   "cell_type": "markdown",
   "metadata": {
    "collapsed": false
   },
   "source": [
    "## Look around to see what's available\n",
    "\n",
    "This is a freemium service: they block off network access, so I uploaded the git repo manually. We'll look at the (small) sample files in the tests."
   ]
  },
  {
   "cell_type": "code",
   "execution_count": 2,
   "metadata": {
    "collapsed": false
   },
   "outputs": [
    {
     "name": "stdout",
     "output_type": "stream",
     "text": [
      "HZZ-lz4.root\t\t\t  sample-5.25.02-zlib.root\r\n",
      "HZZ-lzma.root\t\t\t  sample-5.26.00-uncompressed.root\r\n",
      "HZZ-uncompressed.root\t\t  sample-5.26.00-zlib.root\r\n",
      "HZZ-zlib.root\t\t\t  sample-5.27.02-uncompressed.root\r\n",
      "HZZ.root\t\t\t  sample-5.27.02-zlib.root\r\n",
      "Zmumu-lz4.root\t\t\t  sample-5.28.00-uncompressed.root\r\n",
      "Zmumu-lzma.root\t\t\t  sample-5.28.00-zlib.root\r\n",
      "Zmumu-uncompressed.root\t\t  sample-5.29.02-uncompressed.root\r\n",
      "Zmumu-zlib.root\t\t\t  sample-5.29.02-zlib.root\r\n",
      "Zmumu.root\t\t\t  sample-5.30.00-lzma.root\r\n",
      "foriter.root\t\t\t  sample-5.30.00-uncompressed.root\r\n",
      "foriter2.root\t\t\t  sample-5.30.00-zlib.root\r\n",
      "issue21.root\t\t\t  sample-6.08.04-lzma.root\r\n",
      "issue30.root\t\t\t  sample-6.08.04-uncompressed.root\r\n",
      "issue31.root\t\t\t  sample-6.08.04-zlib.root\r\n",
      "mc10events.root\t\t\t  sample-6.10.05-lz4.root\r\n",
      "nesteddirs.root\t\t\t  sample-6.10.05-lzma.root\r\n",
      "sample-5.23.02-uncompressed.root  sample-6.10.05-uncompressed.root\r\n",
      "sample-5.23.02-zlib.root\t  sample-6.10.05-zlib.root\r\n",
      "sample-5.24.00-uncompressed.root  simple.root\r\n",
      "sample-5.24.00-zlib.root\t  small-evnt-tree-fullsplit.root\r\n",
      "sample-5.25.02-uncompressed.root  small-flat-tree.root\r\n"
     ]
    }
   ],
   "source": [
    "!ls tests/samples"
   ]
  },
  {
   "cell_type": "code",
   "execution_count": 3,
   "metadata": {
    "collapsed": false
   },
   "outputs": [
    {
     "data": {
      "text/plain": [
       "[b'events;1']"
      ]
     },
     "execution_count": 3,
     "metadata": {
     },
     "output_type": "execute_result"
    }
   ],
   "source": [
    "uproot.open(\"tests/samples/Zmumu.root\").keys()"
   ]
  },
  {
   "cell_type": "code",
   "execution_count": 4,
   "metadata": {
    "collapsed": false
   },
   "outputs": [
   ],
   "source": [
    "Zmumu = uproot.open(\"tests/samples/Zmumu.root\")[\"events\"]"
   ]
  },
  {
   "cell_type": "code",
   "execution_count": 5,
   "metadata": {
    "collapsed": false
   },
   "outputs": [
    {
     "name": "stdout",
     "output_type": "stream",
     "text": [
      "Type                       (no streamer)              <uproot.interp.strings.asstrings object at 0x7fef5f2ed5c0>\n",
      "Run                        (no streamer)              asdtype('>i4')\n",
      "Event                      (no streamer)              asdtype('>i4')\n",
      "E1                         (no streamer)              asdtype('>f8')\n",
      "px1                        (no streamer)              asdtype('>f8')\n",
      "py1                        (no streamer)              asdtype('>f8')\n",
      "pz1                        (no streamer)              asdtype('>f8')\n",
      "pt1                        (no streamer)              asdtype('>f8')\n",
      "eta1                       (no streamer)              asdtype('>f8')\n",
      "phi1                       (no streamer)              asdtype('>f8')\n",
      "Q1                         (no streamer)              asdtype('>i4')\n",
      "E2                         (no streamer)              asdtype('>f8')\n",
      "px2                        (no streamer)              asdtype('>f8')\n",
      "py2                        (no streamer)              asdtype('>f8')\n",
      "pz2                        (no streamer)              asdtype('>f8')\n",
      "pt2                        (no streamer)              asdtype('>f8')\n",
      "eta2                       (no streamer)              asdtype('>f8')\n",
      "phi2                       (no streamer)              asdtype('>f8')\n",
      "Q2                         (no streamer)              asdtype('>i4')\n",
      "M                          (no streamer)              asdtype('>f8')\n"
     ]
    }
   ],
   "source": [
    "Zmumu.show()"
   ]
  },
  {
   "cell_type": "markdown",
   "metadata": {
    "collapsed": false
   },
   "source": [
    "## Go straight from TTree to plot"
   ]
  },
  {
   "cell_type": "code",
   "execution_count": 6,
   "metadata": {
    "collapsed": false
   },
   "outputs": [
    {
     "data": {
      "text/html": [
       "\n",
       "<div class=\"bk-root\">\n",
       "    <div class=\"bk-plotdiv\" id=\"b92bd70f-b4d5-49f5-a75a-53b8b885ffbe\"></div>\n",
       "</div>"
      ]
     },
     "execution_count": 6,
     "metadata": {
     },
     "output_type": "execute_result"
    },
    {
     "data": {
      "application/javascript": "(function(root) {\n  function embed_document(root) {\n    var docs_json = {\"0495c7d8-f35f-4e65-830d-d4729d1d74ca\":{\"roots\":{\"references\":[{\"attributes\":{},\"id\":\"73d08e54-7c42-47b7-b7d9-733ba7e21c30\",\"type\":\"BasicTicker\"},{\"attributes\":{},\"id\":\"168243e3-0ad4-4a0c-882c-4358f5b0748f\",\"type\":\"LinearScale\"},{\"attributes\":{\"formatter\":{\"id\":\"a78936df-e5ac-421e-a7c6-4b721c226b9d\",\"type\":\"BasicTickFormatter\"},\"plot\":{\"id\":\"501dd09c-1a4d-47c2-a1d7-c9241a04b13a\",\"subtype\":\"Figure\",\"type\":\"Plot\"},\"ticker\":{\"id\":\"73d08e54-7c42-47b7-b7d9-733ba7e21c30\",\"type\":\"BasicTicker\"}},\"id\":\"a6ee2076-394e-4215-a316-9c8930cde1b0\",\"type\":\"LinearAxis\"},{\"attributes\":{},\"id\":\"1345d821-6384-4d75-a9a8-b7ae1d75bf4c\",\"type\":\"ResetTool\"},{\"attributes\":{},\"id\":\"3b771881-f8ae-4445-9522-5745c762b542\",\"type\":\"WheelZoomTool\"},{\"attributes\":{},\"id\":\"cd33d63b-5a00-4510-a5f4-79a653e32c23\",\"type\":\"BasicTicker\"},{\"attributes\":{},\"id\":\"dbcbe3c1-d699-40bf-a1a6-917d91825a3b\",\"type\":\"SaveTool\"},{\"attributes\":{},\"id\":\"f3e7a005-1f9b-4314-8818-607ed409540b\",\"type\":\"LinearScale\"},{\"attributes\":{\"callback\":null,\"end\":120.0},\"id\":\"eda77171-0f52-4c69-b510-af26a1e4e171\",\"type\":\"Range1d\"},{\"attributes\":{\"fill_alpha\":{\"value\":0.1},\"fill_color\":{\"value\":\"#1f77b4\"},\"line_alpha\":{\"value\":0.1},\"line_color\":{\"value\":\"#1f77b4\"},\"x\":{\"field\":\"x\"},\"y\":{\"field\":\"y\"}},\"id\":\"cd9cfed0-8625-43ac-a1b0-07b6320d826e\",\"type\":\"Patch\"},{\"attributes\":{\"active_drag\":\"auto\",\"active_inspect\":\"auto\",\"active_scroll\":\"auto\",\"active_tap\":\"auto\",\"tools\":[{\"id\":\"a1d96eac-8c55-430b-a929-9e8def0dc61d\",\"type\":\"PanTool\"},{\"id\":\"3b771881-f8ae-4445-9522-5745c762b542\",\"type\":\"WheelZoomTool\"},{\"id\":\"aae687e9-301d-4193-a22b-cb36b2d8f37e\",\"type\":\"BoxZoomTool\"},{\"id\":\"dbcbe3c1-d699-40bf-a1a6-917d91825a3b\",\"type\":\"SaveTool\"},{\"id\":\"1345d821-6384-4d75-a9a8-b7ae1d75bf4c\",\"type\":\"ResetTool\"},{\"id\":\"1942a96f-5943-4887-b1e8-a53212021b10\",\"type\":\"HelpTool\"}]},\"id\":\"e1cc3e26-5a8c-497c-80bc-cfc70751a22a\",\"type\":\"Toolbar\"},{\"attributes\":{\"below\":[{\"id\":\"b3240026-bcb9-4597-8b8b-7384b36d447c\",\"type\":\"LinearAxis\"}],\"left\":[{\"id\":\"a6ee2076-394e-4215-a316-9c8930cde1b0\",\"type\":\"LinearAxis\"}],\"renderers\":[{\"id\":\"b3240026-bcb9-4597-8b8b-7384b36d447c\",\"type\":\"LinearAxis\"},{\"id\":\"42205110-e674-40c9-9672-4d4efdfb4b66\",\"type\":\"Grid\"},{\"id\":\"a6ee2076-394e-4215-a316-9c8930cde1b0\",\"type\":\"LinearAxis\"},{\"id\":\"6e2e25b5-5596-4a56-9456-341c3ea10bbf\",\"type\":\"Grid\"},{\"id\":\"f5cb270d-453f-4f66-ade7-349e25b94299\",\"type\":\"BoxAnnotation\"},{\"id\":\"6f4ce3c9-d52e-475d-ae61-6f5cfb4f7a62\",\"type\":\"GlyphRenderer\"}],\"title\":{\"id\":\"92f6214c-837b-4058-834e-b8f1db4326f3\",\"type\":\"Title\"},\"toolbar\":{\"id\":\"e1cc3e26-5a8c-497c-80bc-cfc70751a22a\",\"type\":\"Toolbar\"},\"x_range\":{\"id\":\"eda77171-0f52-4c69-b510-af26a1e4e171\",\"type\":\"Range1d\"},\"x_scale\":{\"id\":\"f3e7a005-1f9b-4314-8818-607ed409540b\",\"type\":\"LinearScale\"},\"y_range\":{\"id\":\"12bf4a72-776f-42ad-8c1b-015fed97bf9e\",\"type\":\"Range1d\"},\"y_scale\":{\"id\":\"168243e3-0ad4-4a0c-882c-4358f5b0748f\",\"type\":\"LinearScale\"}},\"id\":\"501dd09c-1a4d-47c2-a1d7-c9241a04b13a\",\"subtype\":\"Figure\",\"type\":\"Plot\"},{\"attributes\":{\"formatter\":{\"id\":\"e0060218-d162-475b-ab71-a69e3a9e5bee\",\"type\":\"BasicTickFormatter\"},\"plot\":{\"id\":\"501dd09c-1a4d-47c2-a1d7-c9241a04b13a\",\"subtype\":\"Figure\",\"type\":\"Plot\"},\"ticker\":{\"id\":\"cd33d63b-5a00-4510-a5f4-79a653e32c23\",\"type\":\"BasicTicker\"}},\"id\":\"b3240026-bcb9-4597-8b8b-7384b36d447c\",\"type\":\"LinearAxis\"},{\"attributes\":{\"fill_alpha\":{\"value\":0.25},\"fill_color\":{\"value\":\"#1f77b4\"},\"line_color\":{\"value\":\"#1f77b4\"},\"x\":{\"field\":\"x\"},\"y\":{\"field\":\"y\"}},\"id\":\"16d06127-2f8a-4e00-8001-e2c54e1ad146\",\"type\":\"Patch\"},{\"attributes\":{\"bottom_units\":\"screen\",\"fill_alpha\":{\"value\":0.5},\"fill_color\":{\"value\":\"lightgrey\"},\"left_units\":\"screen\",\"level\":\"overlay\",\"line_alpha\":{\"value\":1.0},\"line_color\":{\"value\":\"black\"},\"line_dash\":[4,4],\"line_width\":{\"value\":2},\"plot\":null,\"render_mode\":\"css\",\"right_units\":\"screen\",\"top_units\":\"screen\"},\"id\":\"f5cb270d-453f-4f66-ade7-349e25b94299\",\"type\":\"BoxAnnotation\"},{\"attributes\":{},\"id\":\"a1d96eac-8c55-430b-a929-9e8def0dc61d\",\"type\":\"PanTool\"},{\"attributes\":{\"overlay\":{\"id\":\"f5cb270d-453f-4f66-ade7-349e25b94299\",\"type\":\"BoxAnnotation\"}},\"id\":\"aae687e9-301d-4193-a22b-cb36b2d8f37e\",\"type\":\"BoxZoomTool\"},{\"attributes\":{\"callback\":null,\"end\":696.3},\"id\":\"12bf4a72-776f-42ad-8c1b-015fed97bf9e\",\"type\":\"Range1d\"},{\"attributes\":{},\"id\":\"a78936df-e5ac-421e-a7c6-4b721c226b9d\",\"type\":\"BasicTickFormatter\"},{\"attributes\":{\"data_source\":{\"id\":\"45380ed6-636e-4587-b1b6-eca332628ec4\",\"type\":\"ColumnDataSource\"},\"glyph\":{\"id\":\"16d06127-2f8a-4e00-8001-e2c54e1ad146\",\"type\":\"Patch\"},\"hover_glyph\":null,\"muted_glyph\":null,\"nonselection_glyph\":{\"id\":\"cd9cfed0-8625-43ac-a1b0-07b6320d826e\",\"type\":\"Patch\"},\"selection_glyph\":null,\"view\":{\"id\":\"5ca6dcb2-fea2-4ecb-9c01-91104e4678ed\",\"type\":\"CDSView\"}},\"id\":\"6f4ce3c9-d52e-475d-ae61-6f5cfb4f7a62\",\"type\":\"GlyphRenderer\"},{\"attributes\":{},\"id\":\"1942a96f-5943-4887-b1e8-a53212021b10\",\"type\":\"HelpTool\"},{\"attributes\":{},\"id\":\"e0060218-d162-475b-ab71-a69e3a9e5bee\",\"type\":\"BasicTickFormatter\"},{\"attributes\":{\"source\":{\"id\":\"45380ed6-636e-4587-b1b6-eca332628ec4\",\"type\":\"ColumnDataSource\"}},\"id\":\"5ca6dcb2-fea2-4ecb-9c01-91104e4678ed\",\"type\":\"CDSView\"},{\"attributes\":{\"dimension\":1,\"plot\":{\"id\":\"501dd09c-1a4d-47c2-a1d7-c9241a04b13a\",\"subtype\":\"Figure\",\"type\":\"Plot\"},\"ticker\":{\"id\":\"73d08e54-7c42-47b7-b7d9-733ba7e21c30\",\"type\":\"BasicTicker\"}},\"id\":\"6e2e25b5-5596-4a56-9456-341c3ea10bbf\",\"type\":\"Grid\"},{\"attributes\":{\"callback\":null,\"column_names\":[\"x\",\"y\"],\"data\":{\"x\":{\"__ndarray__\":\"AAAAAAAAAAAAAAAAAAAAADMzMzMzMwNAMzMzMzMzA0AzMzMzMzMTQDMzMzMzMxNAzMzMzMzMHEDMzMzMzMwcQDMzMzMzMyNAMzMzMzMzI0AAAAAAAAAoQAAAAAAAAChAzMzMzMzMLEDMzMzMzMwsQM3MzMzMzDBAzczMzMzMMEAzMzMzMzMzQDMzMzMzMzNAmZmZmZmZNUCZmZmZmZk1QAAAAAAAADhAAAAAAAAAOEBmZmZmZmY6QGZmZmZmZjpAzMzMzMzMPEDMzMzMzMw8QDMzMzMzMz9AMzMzMzMzP0DNzMzMzMxAQM3MzMzMzEBAAAAAAAAAQkAAAAAAAABCQDMzMzMzM0NAMzMzMzMzQ0BmZmZmZmZEQGZmZmZmZkRAmZmZmZmZRUCZmZmZmZlFQM3MzMzMzEZAzczMzMzMRkAAAAAAAABIQAAAAAAAAEhAMzMzMzMzSUAzMzMzMzNJQGZmZmZmZkpAZmZmZmZmSkCZmZmZmZlLQJmZmZmZmUtAzMzMzMzMTEDMzMzMzMxMQAAAAAAAAE5AAAAAAAAATkAzMzMzMzNPQDMzMzMzM09AMzMzMzMzUEAzMzMzMzNQQM3MzMzMzFBAzczMzMzMUEBmZmZmZmZRQGZmZmZmZlFAAAAAAAAAUkAAAAAAAABSQJmZmZmZmVJAmZmZmZmZUkAzMzMzMzNTQDMzMzMzM1NAzczMzMzMU0DNzMzMzMxTQGZmZmZmZlRAZmZmZmZmVEAAAAAAAABVQAAAAAAAAFVAmZmZmZmZVUCZmZmZmZlVQDMzMzMzM1ZAMzMzMzMzVkDNzMzMzMxWQM3MzMzMzFZAZmZmZmZmV0BmZmZmZmZXQAAAAAAAAFhAAAAAAAAAWECZmZmZmZlYQJmZmZmZmVhAMzMzMzMzWUAzMzMzMzNZQM3MzMzMzFlAzczMzMzMWUBmZmZmZmZaQGZmZmZmZlpAAAAAAAAAW0AAAAAAAABbQJmZmZmZmVtAmZmZmZmZW0AzMzMzMzNcQDMzMzMzM1xAzMzMzMzMXEDMzMzMzMxcQGZmZmZmZl1AZmZmZmZmXUAAAAAAAABeQAAAAAAAAF5A\",\"dtype\":\"float64\",\"shape\":[102]},\"y\":{\"__ndarray__\":\"AAAAAAAAAAAAAAAAAAAuQAAAAAAAAC5AAAAAAAAAMUAAAAAAAAAxQAAAAAAAAERAAAAAAAAAREAAAAAAAAA8QAAAAAAAADxAAAAAAAAAMkAAAAAAAAAyQAAAAAAAADJAAAAAAAAAMkAAAAAAAAA4QAAAAAAAADhAAAAAAAAAOEAAAAAAAAA4QAAAAAAAACxAAAAAAAAALEAAAAAAAAAkQAAAAAAAACRAAAAAAAAAMkAAAAAAAAAyQAAAAAAAACxAAAAAAAAALEAAAAAAAAAUQAAAAAAAABRAAAAAAAAALkAAAAAAAAAuQAAAAAAAAABAAAAAAAAAAEAAAAAAAAAQQAAAAAAAABBAAAAAAAAAAEAAAAAAAAAAQAAAAAAAABhAAAAAAAAAGEAAAAAAAAAYQAAAAAAAABhAAAAAAAAAAEAAAAAAAAAAQAAAAAAAAAAAAAAAAAAAAAAAAAAAAAAgQAAAAAAAACBAAAAAAAAAAAAAAAAAAAAAAAAAAAAAAAAAAAAAAAAAAAAAAAAAAAAAQAAAAAAAAABAAAAAAAAAOEAAAAAAAAA4QAAAAAAAADRAAAAAAAAANEAAAAAAAAAYQAAAAAAAABhAAAAAAAAAMkAAAAAAAAAyQAAAAAAAADtAAAAAAAAAO0AAAAAAAAA8QAAAAAAAADxAAAAAAAAALkAAAAAAAAAuQAAAAAAAADlAAAAAAAAAOUAAAAAAAIBLQAAAAAAAgEtAAAAAAAAAPEAAAAAAAAA8QAAAAAAAgFpAAAAAAACAWkAAAAAAAIBvQAAAAAAAgG9AAAAAAADIg0AAAAAAAMiDQAAAAAAAgH1AAAAAAACAfUAAAAAAAMBnQAAAAAAAwGdAAAAAAACAQ0AAAAAAAIBDQAAAAAAAgENAAAAAAACAQ0AAAAAAAAAcQAAAAAAAABxAAAAAAAAAGEAAAAAAAAAYQAAAAAAAABhAAAAAAAAAGEAAAAAAAAAQQAAAAAAAABBAAAAAAAAAEEAAAAAAAAAQQAAAAAAAAAAAAAAAAAAAAAAAAAAAAAAAAAAAAAAAAAAAAAAAAAAAEEAAAAAAAAAQQAAAAAAAAAAA\",\"dtype\":\"float64\",\"shape\":[102]}}},\"id\":\"45380ed6-636e-4587-b1b6-eca332628ec4\",\"type\":\"ColumnDataSource\"},{\"attributes\":{\"plot\":null,\"text\":\"\"},\"id\":\"92f6214c-837b-4058-834e-b8f1db4326f3\",\"type\":\"Title\"},{\"attributes\":{\"plot\":{\"id\":\"501dd09c-1a4d-47c2-a1d7-c9241a04b13a\",\"subtype\":\"Figure\",\"type\":\"Plot\"},\"ticker\":{\"id\":\"cd33d63b-5a00-4510-a5f4-79a653e32c23\",\"type\":\"BasicTicker\"}},\"id\":\"42205110-e674-40c9-9672-4d4efdfb4b66\",\"type\":\"Grid\"}],\"root_ids\":[\"501dd09c-1a4d-47c2-a1d7-c9241a04b13a\"]},\"title\":\"Bokeh Application\",\"version\":\"0.12.10\"}};\n    var render_items = [{\"docid\":\"0495c7d8-f35f-4e65-830d-d4729d1d74ca\",\"elementid\":\"b92bd70f-b4d5-49f5-a75a-53b8b885ffbe\",\"modelid\":\"501dd09c-1a4d-47c2-a1d7-c9241a04b13a\"}];\n\n    root.Bokeh.embed.embed_items(docs_json, render_items);\n  }\n\n  if (root.Bokeh !== undefined) {\n    embed_document(root);\n  } else {\n    var attempts = 0;\n    var timer = setInterval(function(root) {\n      if (root.Bokeh !== undefined) {\n        embed_document(root);\n        clearInterval(timer);\n      }\n      attempts++;\n      if (attempts > 100) {\n        console.log(\"Bokeh: ERROR: Unable to embed document because BokehJS library is missing\")\n        clearInterval(timer);\n      }\n    }, 10, root)\n  }\n})(window);"
     },
     "execution_count": 6,
     "metadata": {
     },
     "output_type": "execute_result"
    }
   ],
   "source": [
    "show(Zmumu.hist(50, 0, 120, \"M\").bokeh.fig())"
   ]
  },
  {
   "cell_type": "markdown",
   "metadata": {
    "collapsed": false
   },
   "source": [
    "## Do the functional chain thing\n",
    "\n",
    "I need to think of some better examples than this silly filter-and-plot!"
   ]
  },
  {
   "cell_type": "code",
   "execution_count": 7,
   "metadata": {
    "collapsed": false
   },
   "outputs": [
    {
     "data": {
      "text/html": [
       "\n",
       "<div class=\"bk-root\">\n",
       "    <div class=\"bk-plotdiv\" id=\"217b8800-a898-436e-8e49-4f7de478a159\"></div>\n",
       "</div>"
      ]
     },
     "execution_count": 7,
     "metadata": {
     },
     "output_type": "execute_result"
    },
    {
     "data": {
      "application/javascript": "(function(root) {\n  function embed_document(root) {\n    var docs_json = {\"b7558d35-b806-4ab6-b034-cbb68cd59891\":{\"roots\":{\"references\":[{\"attributes\":{},\"id\":\"ead23d01-cba0-4ece-b29e-0172eab02ecb\",\"type\":\"PanTool\"},{\"attributes\":{\"formatter\":{\"id\":\"33b4e756-94e5-4203-9ba8-cd8ec7636fa0\",\"type\":\"BasicTickFormatter\"},\"plot\":{\"id\":\"dd45f116-28d0-4fd3-9f84-bf2a21f18a03\",\"subtype\":\"Figure\",\"type\":\"Plot\"},\"ticker\":{\"id\":\"ccaf62c4-d960-4b62-b9f6-5cf453480b3d\",\"type\":\"BasicTicker\"}},\"id\":\"54040e7e-258b-46c9-ae09-0765ba022567\",\"type\":\"LinearAxis\"},{\"attributes\":{},\"id\":\"5d72ddd2-e09f-48c0-99d9-57e9b1400ff2\",\"type\":\"HelpTool\"},{\"attributes\":{},\"id\":\"7f3855a5-b959-46bf-9012-31cf63c18020\",\"type\":\"LinearScale\"},{\"attributes\":{\"dimension\":1,\"plot\":{\"id\":\"dd45f116-28d0-4fd3-9f84-bf2a21f18a03\",\"subtype\":\"Figure\",\"type\":\"Plot\"},\"ticker\":{\"id\":\"a51bb177-b2e9-48a9-8815-edeaefb41c77\",\"type\":\"BasicTicker\"}},\"id\":\"9d6c536c-716e-4cc0-a19f-9fe678480e36\",\"type\":\"Grid\"},{\"attributes\":{\"fill_alpha\":{\"value\":0.25},\"fill_color\":{\"value\":\"#1f77b4\"},\"line_color\":{\"value\":\"#1f77b4\"},\"x\":{\"field\":\"x\"},\"y\":{\"field\":\"y\"}},\"id\":\"bd053d4d-3877-4099-9ebf-ebd8fb4acdf9\",\"type\":\"Patch\"},{\"attributes\":{\"overlay\":{\"id\":\"b19b1ece-827f-41f9-9481-94807bb16b80\",\"type\":\"BoxAnnotation\"}},\"id\":\"93a562f0-3f1d-48f0-aeed-8bb461e23b6d\",\"type\":\"BoxZoomTool\"},{\"attributes\":{},\"id\":\"ccaf62c4-d960-4b62-b9f6-5cf453480b3d\",\"type\":\"BasicTicker\"},{\"attributes\":{},\"id\":\"d60f4284-50ba-468d-82df-8a693048e63f\",\"type\":\"BasicTickFormatter\"},{\"attributes\":{\"below\":[{\"id\":\"54040e7e-258b-46c9-ae09-0765ba022567\",\"type\":\"LinearAxis\"}],\"left\":[{\"id\":\"d88fb949-ba32-4e74-aa78-5690326dceef\",\"type\":\"LinearAxis\"}],\"renderers\":[{\"id\":\"54040e7e-258b-46c9-ae09-0765ba022567\",\"type\":\"LinearAxis\"},{\"id\":\"473c5994-2d59-4d86-852b-26567794c021\",\"type\":\"Grid\"},{\"id\":\"d88fb949-ba32-4e74-aa78-5690326dceef\",\"type\":\"LinearAxis\"},{\"id\":\"9d6c536c-716e-4cc0-a19f-9fe678480e36\",\"type\":\"Grid\"},{\"id\":\"b19b1ece-827f-41f9-9481-94807bb16b80\",\"type\":\"BoxAnnotation\"},{\"id\":\"208b3689-5af1-452d-a279-e8b02a80981f\",\"type\":\"GlyphRenderer\"}],\"title\":{\"id\":\"e6aa07b1-688b-4607-9d03-f110e1ef226e\",\"type\":\"Title\"},\"toolbar\":{\"id\":\"a5d125e5-bd60-442d-a9d7-e2a1ad43d6b4\",\"type\":\"Toolbar\"},\"x_range\":{\"id\":\"8505cb21-baa3-4242-9f08-7200571fb1eb\",\"type\":\"Range1d\"},\"x_scale\":{\"id\":\"d57ecb8b-2230-45db-b4da-36bf4f4b9851\",\"type\":\"LinearScale\"},\"y_range\":{\"id\":\"494a3d88-3e42-4dad-8d2a-e1edd3dc282d\",\"type\":\"Range1d\"},\"y_scale\":{\"id\":\"7f3855a5-b959-46bf-9012-31cf63c18020\",\"type\":\"LinearScale\"}},\"id\":\"dd45f116-28d0-4fd3-9f84-bf2a21f18a03\",\"subtype\":\"Figure\",\"type\":\"Plot\"},{\"attributes\":{},\"id\":\"c3dc7335-04e3-4df2-952d-174bf38c14e3\",\"type\":\"WheelZoomTool\"},{\"attributes\":{},\"id\":\"ca8acb82-fa56-493d-a8ca-b683de513418\",\"type\":\"ResetTool\"},{\"attributes\":{\"callback\":null,\"column_names\":[\"x\",\"y\"],\"data\":{\"x\":{\"__ndarray__\":\"AAAAAAAAAAAAAAAAAAAAADMzMzMzMwNAMzMzMzMzA0AzMzMzMzMTQDMzMzMzMxNAzMzMzMzMHEDMzMzMzMwcQDMzMzMzMyNAMzMzMzMzI0AAAAAAAAAoQAAAAAAAAChAzMzMzMzMLEDMzMzMzMwsQM3MzMzMzDBAzczMzMzMMEAzMzMzMzMzQDMzMzMzMzNAmZmZmZmZNUCZmZmZmZk1QAAAAAAAADhAAAAAAAAAOEBmZmZmZmY6QGZmZmZmZjpAzMzMzMzMPEDMzMzMzMw8QDMzMzMzMz9AMzMzMzMzP0DNzMzMzMxAQM3MzMzMzEBAAAAAAAAAQkAAAAAAAABCQDMzMzMzM0NAMzMzMzMzQ0BmZmZmZmZEQGZmZmZmZkRAmZmZmZmZRUCZmZmZmZlFQM3MzMzMzEZAzczMzMzMRkAAAAAAAABIQAAAAAAAAEhAMzMzMzMzSUAzMzMzMzNJQGZmZmZmZkpAZmZmZmZmSkCZmZmZmZlLQJmZmZmZmUtAzMzMzMzMTEDMzMzMzMxMQAAAAAAAAE5AAAAAAAAATkAzMzMzMzNPQDMzMzMzM09AMzMzMzMzUEAzMzMzMzNQQM3MzMzMzFBAzczMzMzMUEBmZmZmZmZRQGZmZmZmZlFAAAAAAAAAUkAAAAAAAABSQJmZmZmZmVJAmZmZmZmZUkAzMzMzMzNTQDMzMzMzM1NAzczMzMzMU0DNzMzMzMxTQGZmZmZmZlRAZmZmZmZmVEAAAAAAAABVQAAAAAAAAFVAmZmZmZmZVUCZmZmZmZlVQDMzMzMzM1ZAMzMzMzMzVkDNzMzMzMxWQM3MzMzMzFZAZmZmZmZmV0BmZmZmZmZXQAAAAAAAAFhAAAAAAAAAWECZmZmZmZlYQJmZmZmZmVhAMzMzMzMzWUAzMzMzMzNZQM3MzMzMzFlAzczMzMzMWUBmZmZmZmZaQGZmZmZmZlpAAAAAAAAAW0AAAAAAAABbQJmZmZmZmVtAmZmZmZmZW0AzMzMzMzNcQDMzMzMzM1xAzMzMzMzMXEDMzMzMzMxcQGZmZmZmZl1AZmZmZmZmXUAAAAAAAABeQAAAAAAAAF5A\",\"dtype\":\"float64\",\"shape\":[102]},\"y\":{\"__ndarray__\":\"AAAAAAAAAAAAAAAAAAAAAAAAAAAAAAAAAAAAAAAAAEAAAAAAAAAAQAAAAAAAABBAAAAAAAAAEEAAAAAAAAAAAAAAAAAAAAAAAAAAAAAAAAAAAAAAAAAAAAAAAAAAAAAAAAAAAAAAAAAAAAAAAAAAAAAAAAAAAAAAAAAAAAAAGEAAAAAAAAAYQAAAAAAAAABAAAAAAAAAAEAAAAAAAAAAAAAAAAAAAAAAAAAAAAAAAEAAAAAAAAAAQAAAAAAAAAAAAAAAAAAAAAAAAAAAAAAAAAAAAAAAAAAAAAAAAAAAAEAAAAAAAAAAQAAAAAAAAAAAAAAAAAAAAAAAAAAAAAAAAAAAAAAAAAAAAAAAAAAAAEAAAAAAAAAAQAAAAAAAAABAAAAAAAAAAEAAAAAAAAAAQAAAAAAAAABAAAAAAAAAAAAAAAAAAAAAAAAAAAAAAAAAAAAAAAAAAAAAAAAAAAAgQAAAAAAAACBAAAAAAAAAAAAAAAAAAAAAAAAAAAAAAAAAAAAAAAAAAAAAAAAAAAAAAAAAAAAAAAAAAAAAAAAAOEAAAAAAAAA4QAAAAAAAADRAAAAAAAAANEAAAAAAAAAQQAAAAAAAABBAAAAAAAAAMEAAAAAAAAAwQAAAAAAAADtAAAAAAAAAO0AAAAAAAAA8QAAAAAAAADxAAAAAAAAALkAAAAAAAAAuQAAAAAAAADlAAAAAAAAAOUAAAAAAAIBLQAAAAAAAgEtAAAAAAAAAPEAAAAAAAAA8QAAAAAAAgFpAAAAAAACAWkAAAAAAAIBvQAAAAAAAgG9AAAAAAADIg0AAAAAAAMiDQAAAAAAAgH1AAAAAAACAfUAAAAAAAMBnQAAAAAAAwGdAAAAAAACAQ0AAAAAAAIBDQAAAAAAAgENAAAAAAACAQ0AAAAAAAAAcQAAAAAAAABxAAAAAAAAAGEAAAAAAAAAYQAAAAAAAABhAAAAAAAAAGEAAAAAAAAAQQAAAAAAAABBAAAAAAAAAEEAAAAAAAAAQQAAAAAAAAAAAAAAAAAAAAAAAAAAAAAAAAAAAAAAAAAAAAAAAAAAAEEAAAAAAAAAQQAAAAAAAAAAA\",\"dtype\":\"float64\",\"shape\":[102]}}},\"id\":\"000727e8-9689-40d8-8412-51f0311faa77\",\"type\":\"ColumnDataSource\"},{\"attributes\":{\"active_drag\":\"auto\",\"active_inspect\":\"auto\",\"active_scroll\":\"auto\",\"active_tap\":\"auto\",\"tools\":[{\"id\":\"ead23d01-cba0-4ece-b29e-0172eab02ecb\",\"type\":\"PanTool\"},{\"id\":\"c3dc7335-04e3-4df2-952d-174bf38c14e3\",\"type\":\"WheelZoomTool\"},{\"id\":\"93a562f0-3f1d-48f0-aeed-8bb461e23b6d\",\"type\":\"BoxZoomTool\"},{\"id\":\"5f2a4c4e-0456-4c48-86a4-dd5afe8ad28e\",\"type\":\"SaveTool\"},{\"id\":\"ca8acb82-fa56-493d-a8ca-b683de513418\",\"type\":\"ResetTool\"},{\"id\":\"5d72ddd2-e09f-48c0-99d9-57e9b1400ff2\",\"type\":\"HelpTool\"}]},\"id\":\"a5d125e5-bd60-442d-a9d7-e2a1ad43d6b4\",\"type\":\"Toolbar\"},{\"attributes\":{},\"id\":\"a51bb177-b2e9-48a9-8815-edeaefb41c77\",\"type\":\"BasicTicker\"},{\"attributes\":{},\"id\":\"d57ecb8b-2230-45db-b4da-36bf4f4b9851\",\"type\":\"LinearScale\"},{\"attributes\":{\"plot\":null,\"text\":\"\"},\"id\":\"e6aa07b1-688b-4607-9d03-f110e1ef226e\",\"type\":\"Title\"},{\"attributes\":{\"plot\":{\"id\":\"dd45f116-28d0-4fd3-9f84-bf2a21f18a03\",\"subtype\":\"Figure\",\"type\":\"Plot\"},\"ticker\":{\"id\":\"ccaf62c4-d960-4b62-b9f6-5cf453480b3d\",\"type\":\"BasicTicker\"}},\"id\":\"473c5994-2d59-4d86-852b-26567794c021\",\"type\":\"Grid\"},{\"attributes\":{\"formatter\":{\"id\":\"d60f4284-50ba-468d-82df-8a693048e63f\",\"type\":\"BasicTickFormatter\"},\"plot\":{\"id\":\"dd45f116-28d0-4fd3-9f84-bf2a21f18a03\",\"subtype\":\"Figure\",\"type\":\"Plot\"},\"ticker\":{\"id\":\"a51bb177-b2e9-48a9-8815-edeaefb41c77\",\"type\":\"BasicTicker\"}},\"id\":\"d88fb949-ba32-4e74-aa78-5690326dceef\",\"type\":\"LinearAxis\"},{\"attributes\":{\"source\":{\"id\":\"000727e8-9689-40d8-8412-51f0311faa77\",\"type\":\"ColumnDataSource\"}},\"id\":\"2c28df0a-e352-4003-a0bb-40cc03a6344b\",\"type\":\"CDSView\"},{\"attributes\":{},\"id\":\"33b4e756-94e5-4203-9ba8-cd8ec7636fa0\",\"type\":\"BasicTickFormatter\"},{\"attributes\":{\"callback\":null,\"end\":120.0},\"id\":\"8505cb21-baa3-4242-9f08-7200571fb1eb\",\"type\":\"Range1d\"},{\"attributes\":{\"fill_alpha\":{\"value\":0.1},\"fill_color\":{\"value\":\"#1f77b4\"},\"line_alpha\":{\"value\":0.1},\"line_color\":{\"value\":\"#1f77b4\"},\"x\":{\"field\":\"x\"},\"y\":{\"field\":\"y\"}},\"id\":\"e2fc74dd-540a-46ae-8e91-b635809cc1ce\",\"type\":\"Patch\"},{\"attributes\":{\"bottom_units\":\"screen\",\"fill_alpha\":{\"value\":0.5},\"fill_color\":{\"value\":\"lightgrey\"},\"left_units\":\"screen\",\"level\":\"overlay\",\"line_alpha\":{\"value\":1.0},\"line_color\":{\"value\":\"black\"},\"line_dash\":[4,4],\"line_width\":{\"value\":2},\"plot\":null,\"render_mode\":\"css\",\"right_units\":\"screen\",\"top_units\":\"screen\"},\"id\":\"b19b1ece-827f-41f9-9481-94807bb16b80\",\"type\":\"BoxAnnotation\"},{\"attributes\":{\"data_source\":{\"id\":\"000727e8-9689-40d8-8412-51f0311faa77\",\"type\":\"ColumnDataSource\"},\"glyph\":{\"id\":\"bd053d4d-3877-4099-9ebf-ebd8fb4acdf9\",\"type\":\"Patch\"},\"hover_glyph\":null,\"muted_glyph\":null,\"nonselection_glyph\":{\"id\":\"e2fc74dd-540a-46ae-8e91-b635809cc1ce\",\"type\":\"Patch\"},\"selection_glyph\":null,\"view\":{\"id\":\"2c28df0a-e352-4003-a0bb-40cc03a6344b\",\"type\":\"CDSView\"}},\"id\":\"208b3689-5af1-452d-a279-e8b02a80981f\",\"type\":\"GlyphRenderer\"},{\"attributes\":{},\"id\":\"5f2a4c4e-0456-4c48-86a4-dd5afe8ad28e\",\"type\":\"SaveTool\"},{\"attributes\":{\"callback\":null,\"end\":696.3},\"id\":\"494a3d88-3e42-4dad-8d2a-e1edd3dc282d\",\"type\":\"Range1d\"}],\"root_ids\":[\"dd45f116-28d0-4fd3-9f84-bf2a21f18a03\"]},\"title\":\"Bokeh Application\",\"version\":\"0.12.10\"}};\n    var render_items = [{\"docid\":\"b7558d35-b806-4ab6-b034-cbb68cd59891\",\"elementid\":\"217b8800-a898-436e-8e49-4f7de478a159\",\"modelid\":\"dd45f116-28d0-4fd3-9f84-bf2a21f18a03\"}];\n\n    root.Bokeh.embed.embed_items(docs_json, render_items);\n  }\n\n  if (root.Bokeh !== undefined) {\n    embed_document(root);\n  } else {\n    var attempts = 0;\n    var timer = setInterval(function(root) {\n      if (root.Bokeh !== undefined) {\n        embed_document(root);\n        clearInterval(timer);\n      }\n      attempts++;\n      if (attempts > 100) {\n        console.log(\"Bokeh: ERROR: Unable to embed document because BokehJS library is missing\")\n        clearInterval(timer);\n      }\n    }, 10, root)\n  }\n})(window);"
     },
     "execution_count": 7,
     "metadata": {
     },
     "output_type": "execute_result"
    }
   ],
   "source": [
    "show(Zmumu.filter(\"E1 > 10 and E2 > 10\").hist(50, 0, 120, \"M\").bokeh.fig())"
   ]
  },
  {
   "cell_type": "markdown",
   "metadata": {
    "collapsed": false
   },
   "source": [
    "## This Higgz to ZZ file has some jagged arrays in it\n",
    "\n",
    "[See Wikipedia](https://en.wikipedia.org/wiki/Jagged_array) for more about jagged arrays."
   ]
  },
  {
   "cell_type": "code",
   "execution_count": 8,
   "metadata": {
    "collapsed": false
   },
   "outputs": [
    {
     "data": {
      "text/plain": [
       "[b'events;1']"
      ]
     },
     "execution_count": 8,
     "metadata": {
     },
     "output_type": "execute_result"
    }
   ],
   "source": [
    "uproot.open(\"tests/samples/HZZ.root\").keys()"
   ]
  },
  {
   "cell_type": "code",
   "execution_count": 9,
   "metadata": {
    "collapsed": false
   },
   "outputs": [
   ],
   "source": [
    "HZZ = uproot.open(\"tests/samples/HZZ.root\")[\"events\"]"
   ]
  },
  {
   "cell_type": "code",
   "execution_count": 10,
   "metadata": {
    "collapsed": false
   },
   "outputs": [
    {
     "name": "stdout",
     "output_type": "stream",
     "text": [
      "NJet                       (no streamer)              asdtype('>i4')\n",
      "Jet_Px                     (no streamer)              asjagged(asdtype('>f4'))\n",
      "Jet_Py                     (no streamer)              asjagged(asdtype('>f4'))\n",
      "Jet_Pz                     (no streamer)              asjagged(asdtype('>f4'))\n",
      "Jet_E                      (no streamer)              asjagged(asdtype('>f4'))\n",
      "Jet_btag                   (no streamer)              asjagged(asdtype('>f4'))\n",
      "Jet_ID                     (no streamer)              asjagged(asdtype(dtype('bool')))\n",
      "NMuon                      (no streamer)              asdtype('>i4')\n",
      "Muon_Px                    (no streamer)              asjagged(asdtype('>f4'))\n",
      "Muon_Py                    (no streamer)              asjagged(asdtype('>f4'))\n",
      "Muon_Pz                    (no streamer)              asjagged(asdtype('>f4'))\n",
      "Muon_E                     (no streamer)              asjagged(asdtype('>f4'))\n",
      "Muon_Charge                (no streamer)              asjagged(asdtype('>i4'))\n",
      "Muon_Iso                   (no streamer)              asjagged(asdtype('>f4'))\n",
      "NElectron                  (no streamer)              asdtype('>i4')\n",
      "Electron_Px                (no streamer)              asjagged(asdtype('>f4'))\n",
      "Electron_Py                (no streamer)              asjagged(asdtype('>f4'))\n",
      "Electron_Pz                (no streamer)              asjagged(asdtype('>f4'))\n",
      "Electron_E                 (no streamer)              asjagged(asdtype('>f4'))\n",
      "Electron_Charge            (no streamer)              asjagged(asdtype('>i4'))\n",
      "Electron_Iso               (no streamer)              asjagged(asdtype('>f4'))\n",
      "NPhoton                    (no streamer)              asdtype('>i4')\n",
      "Photon_Px                  (no streamer)              asjagged(asdtype('>f4'))\n",
      "Photon_Py                  (no streamer)              asjagged(asdtype('>f4'))\n",
      "Photon_Pz                  (no streamer)              asjagged(asdtype('>f4'))\n",
      "Photon_E                   (no streamer)              asjagged(asdtype('>f4'))\n",
      "Photon_Iso                 (no streamer)              asjagged(asdtype('>f4'))\n",
      "MET_px                     (no streamer)              asdtype('>f4')\n",
      "MET_py                     (no streamer)              asdtype('>f4')\n",
      "MChadronicBottom_px        (no streamer)              asdtype('>f4')\n",
      "MChadronicBottom_py        (no streamer)              asdtype('>f4')\n",
      "MChadronicBottom_pz        (no streamer)              asdtype('>f4')\n",
      "MCleptonicBottom_px        (no streamer)              asdtype('>f4')\n",
      "MCleptonicBottom_py        (no streamer)              asdtype('>f4')\n",
      "MCleptonicBottom_pz        (no streamer)              asdtype('>f4')\n",
      "MChadronicWDecayQuark_px   (no streamer)              asdtype('>f4')\n",
      "MChadronicWDecayQuark_py   (no streamer)              asdtype('>f4')\n",
      "MChadronicWDecayQuark_pz   (no streamer)              asdtype('>f4')\n",
      "MChadronicWDecayQuarkBar_px\n",
      "                           (no streamer)              asdtype('>f4')\n",
      "MChadronicWDecayQuarkBar_py\n",
      "                           (no streamer)              asdtype('>f4')\n",
      "MChadronicWDecayQuarkBar_pz\n",
      "                           (no streamer)              asdtype('>f4')\n",
      "MClepton_px                (no streamer)              asdtype('>f4')\n",
      "MClepton_py                (no streamer)              asdtype('>f4')\n",
      "MClepton_pz                (no streamer)              asdtype('>f4')\n",
      "MCleptonPDGid              (no streamer)              asdtype('>i4')\n",
      "MCneutrino_px              (no streamer)              asdtype('>f4')\n",
      "MCneutrino_py              (no streamer)              asdtype('>f4')\n",
      "MCneutrino_pz              (no streamer)              asdtype('>f4')\n",
      "NPrimaryVertices           (no streamer)              asdtype('>i4')\n",
      "triggerIsoMu24             (no streamer)              asdtype(dtype('bool'))\n",
      "EventWeight                (no streamer)              asdtype('>f4')\n"
     ]
    }
   ],
   "source": [
    "HZZ.show()"
   ]
  },
  {
   "cell_type": "markdown",
   "metadata": {
    "collapsed": false
   },
   "source": [
    "## Making a plot the old fashioned way, by nested for loops\n",
    "\n",
    "There ought to be a clever way to express this functionally, but for now we demonstrate that you can do it, if you want to.\n",
    "\n",
    "The performance of this code should be exactly the same as writing a C program, compiling it, and running it, because that's essentially what's happening with the `@numba.njit`. The beauty of this is that you don't have to leave Python, set up the compilation, etc., etc. You put these functions inline with the rest of your Python-based analysis code."
   ]
  },
  {
   "cell_type": "code",
   "execution_count": 15,
   "metadata": {
    "collapsed": false
   },
   "outputs": [
   ],
   "source": [
    "import numba\n",
    "from math import sqrt\n",
    "\n",
    "@numba.njit\n",
    "def fillhist(dimuon_hist, quadmuon_hist, NMuon, Muon_Px, Muon_Py, Muon_Pz, Muon_E):   # have to pass in the histograms to be able to modify them\n",
    "    for event_i in range(len(NMuon)):\n",
    "        totE  = 0.0\n",
    "        totPx = 0.0\n",
    "        totPy = 0.0\n",
    "        totPz = 0.0\n",
    "        for muon_i in range(NMuon[event_i]):                                          # range(jagged array member) is an optimized function\n",
    "            for muon_j in range(muon_i + 1, NMuon[event_i]):\n",
    "                E  = Muon_E[event_i][muon_i]  + Muon_E[event_i][muon_j]               # subarray extraction is optimized, too\n",
    "                Px = Muon_Px[event_i][muon_i] + Muon_Px[event_i][muon_j]\n",
    "                Py = Muon_Py[event_i][muon_i] + Muon_Py[event_i][muon_j]\n",
    "                Pz = Muon_Pz[event_i][muon_i] + Muon_Pz[event_i][muon_j]\n",
    "                dimuon_hist.fill(sqrt(E**2 - Px**2 - Py**2 - Pz**2))                  # histogram filling (and fillw for weights) are optimized\n",
    "            totE  += Muon_E[event_i][muon_i]\n",
    "            totPx += Muon_Px[event_i][muon_i]\n",
    "            totPy += Muon_Py[event_i][muon_i]\n",
    "            totPz += Muon_Pz[event_i][muon_i]\n",
    "            quadmuon_hist.fill(totE**2 - totPx**2 - totPy**2 - totPz**2)\n",
    "    return dimuon_hist, quadmuon_hist                                                 # have to return the histograms to get the updates"
   ]
  },
  {
   "cell_type": "code",
   "execution_count": 19,
   "metadata": {
    "collapsed": false
   },
   "outputs": [
   ],
   "source": [
    "dimuon_hist, quadmuon_hist = fillhist(uproot.hist(100, 60, 160), uproot.hist(100, 60, 160), *HZZ.arrays([\"NMuon\", \"Muon_Px\", \"Muon_Py\", \"Muon_Pz\", \"Muon_E\"], outputtype=tuple))"
   ]
  },
  {
   "cell_type": "code",
   "execution_count": 20,
   "metadata": {
    "collapsed": false
   },
   "outputs": [
    {
     "data": {
      "text/html": [
       "\n",
       "<div class=\"bk-root\">\n",
       "    <div class=\"bk-plotdiv\" id=\"767819ad-154f-4b53-9374-8d4d6566dc80\"></div>\n",
       "</div>"
      ]
     },
     "execution_count": 20,
     "metadata": {
     },
     "output_type": "execute_result"
    },
    {
     "data": {
      "application/javascript": "(function(root) {\n  function embed_document(root) {\n    var docs_json = {\"2f921743-fd20-4ac2-8350-eed1158618da\":{\"roots\":{\"references\":[{\"attributes\":{\"fill_alpha\":{\"value\":0.25},\"fill_color\":{\"value\":\"#1f77b4\"},\"line_color\":{\"value\":\"#1f77b4\"},\"x\":{\"field\":\"x\"},\"y\":{\"field\":\"y\"}},\"id\":\"8cedf0ee-81e7-4191-8d86-ed46f0ccafc7\",\"type\":\"Patch\"},{\"attributes\":{\"formatter\":{\"id\":\"5d3828c6-9597-4378-ada1-e4f57b701006\",\"type\":\"BasicTickFormatter\"},\"plot\":{\"id\":\"881aff74-a078-4c83-a6c7-db17002ab406\",\"subtype\":\"Figure\",\"type\":\"Plot\"},\"ticker\":{\"id\":\"be0e18a5-06e9-4616-8fd3-8322ef35bab1\",\"type\":\"BasicTicker\"}},\"id\":\"55b1794c-90aa-4acc-aeb5-819f1bba7e03\",\"type\":\"LinearAxis\"},{\"attributes\":{\"fill_alpha\":{\"value\":0.1},\"fill_color\":{\"value\":\"#1f77b4\"},\"line_alpha\":{\"value\":0.1},\"line_color\":{\"value\":\"#1f77b4\"},\"x\":{\"field\":\"x\"},\"y\":{\"field\":\"y\"}},\"id\":\"48863435-065c-40c0-9083-c890c55432c2\",\"type\":\"Patch\"},{\"attributes\":{},\"id\":\"079b7d1a-d49e-44d8-9341-5b7ce40241ea\",\"type\":\"ResetTool\"},{\"attributes\":{},\"id\":\"f51d1f7c-342e-4c34-99d9-799a30973272\",\"type\":\"LinearScale\"},{\"attributes\":{\"source\":{\"id\":\"95159551-f320-467e-b37b-11be6129369f\",\"type\":\"ColumnDataSource\"}},\"id\":\"30357c4f-7c68-49d1-ad78-eb8fbabebf1e\",\"type\":\"CDSView\"},{\"attributes\":{},\"id\":\"be0e18a5-06e9-4616-8fd3-8322ef35bab1\",\"type\":\"BasicTicker\"},{\"attributes\":{\"below\":[{\"id\":\"bb524414-fab6-457b-879f-079cebbeab9c\",\"type\":\"LinearAxis\"}],\"left\":[{\"id\":\"55b1794c-90aa-4acc-aeb5-819f1bba7e03\",\"type\":\"LinearAxis\"}],\"renderers\":[{\"id\":\"bb524414-fab6-457b-879f-079cebbeab9c\",\"type\":\"LinearAxis\"},{\"id\":\"b3c8ca2f-8e35-4db5-a219-ac20d40459ab\",\"type\":\"Grid\"},{\"id\":\"55b1794c-90aa-4acc-aeb5-819f1bba7e03\",\"type\":\"LinearAxis\"},{\"id\":\"2c747156-d140-4447-b2b0-6e0202ff8062\",\"type\":\"Grid\"},{\"id\":\"53449955-155c-4a66-ad5b-7a14adf41968\",\"type\":\"BoxAnnotation\"},{\"id\":\"5041286e-bd9e-48e3-b21b-50d692f88fa4\",\"type\":\"GlyphRenderer\"}],\"title\":{\"id\":\"ee834d17-598f-4edf-9f5a-ba6015a237ee\",\"type\":\"Title\"},\"toolbar\":{\"id\":\"2f1ca5b0-c130-437d-8774-a7f0066f69ec\",\"type\":\"Toolbar\"},\"x_range\":{\"id\":\"e8012652-91ab-408d-8b50-e06911f0e16a\",\"type\":\"Range1d\"},\"x_scale\":{\"id\":\"405d8c21-f3b5-4411-b30e-0c361e57fc2f\",\"type\":\"LinearScale\"},\"y_range\":{\"id\":\"4aa8eb37-a79d-47b9-b63e-47039b7f27eb\",\"type\":\"Range1d\"},\"y_scale\":{\"id\":\"f51d1f7c-342e-4c34-99d9-799a30973272\",\"type\":\"LinearScale\"}},\"id\":\"881aff74-a078-4c83-a6c7-db17002ab406\",\"subtype\":\"Figure\",\"type\":\"Plot\"},{\"attributes\":{},\"id\":\"939b71c4-bdb8-4e67-a013-6b5ea5e0be3a\",\"type\":\"PanTool\"},{\"attributes\":{},\"id\":\"32256bcf-c5f5-4a3d-826f-9a408485bf00\",\"type\":\"SaveTool\"},{\"attributes\":{\"data_source\":{\"id\":\"95159551-f320-467e-b37b-11be6129369f\",\"type\":\"ColumnDataSource\"},\"glyph\":{\"id\":\"8cedf0ee-81e7-4191-8d86-ed46f0ccafc7\",\"type\":\"Patch\"},\"hover_glyph\":null,\"muted_glyph\":null,\"nonselection_glyph\":{\"id\":\"48863435-065c-40c0-9083-c890c55432c2\",\"type\":\"Patch\"},\"selection_glyph\":null,\"view\":{\"id\":\"30357c4f-7c68-49d1-ad78-eb8fbabebf1e\",\"type\":\"CDSView\"}},\"id\":\"5041286e-bd9e-48e3-b21b-50d692f88fa4\",\"type\":\"GlyphRenderer\"},{\"attributes\":{},\"id\":\"f218c26e-49cf-45b7-9c75-46f6f5229cd3\",\"type\":\"WheelZoomTool\"},{\"attributes\":{},\"id\":\"405d8c21-f3b5-4411-b30e-0c361e57fc2f\",\"type\":\"LinearScale\"},{\"attributes\":{\"active_drag\":\"auto\",\"active_inspect\":\"auto\",\"active_scroll\":\"auto\",\"active_tap\":\"auto\",\"tools\":[{\"id\":\"939b71c4-bdb8-4e67-a013-6b5ea5e0be3a\",\"type\":\"PanTool\"},{\"id\":\"f218c26e-49cf-45b7-9c75-46f6f5229cd3\",\"type\":\"WheelZoomTool\"},{\"id\":\"d31c6013-8c13-4f71-a4b2-72a2e9e24323\",\"type\":\"BoxZoomTool\"},{\"id\":\"32256bcf-c5f5-4a3d-826f-9a408485bf00\",\"type\":\"SaveTool\"},{\"id\":\"079b7d1a-d49e-44d8-9341-5b7ce40241ea\",\"type\":\"ResetTool\"},{\"id\":\"dadb0c33-a159-4770-bf1f-bd195dc75363\",\"type\":\"HelpTool\"}]},\"id\":\"2f1ca5b0-c130-437d-8774-a7f0066f69ec\",\"type\":\"Toolbar\"},{\"attributes\":{\"plot\":{\"id\":\"881aff74-a078-4c83-a6c7-db17002ab406\",\"subtype\":\"Figure\",\"type\":\"Plot\"},\"ticker\":{\"id\":\"b9976cda-8c0f-47f2-8136-42fe4d8148bd\",\"type\":\"BasicTicker\"}},\"id\":\"b3c8ca2f-8e35-4db5-a219-ac20d40459ab\",\"type\":\"Grid\"},{\"attributes\":{},\"id\":\"0db81837-1e74-4b24-8886-ff2354503f53\",\"type\":\"BasicTickFormatter\"},{\"attributes\":{\"overlay\":{\"id\":\"53449955-155c-4a66-ad5b-7a14adf41968\",\"type\":\"BoxAnnotation\"}},\"id\":\"d31c6013-8c13-4f71-a4b2-72a2e9e24323\",\"type\":\"BoxZoomTool\"},{\"attributes\":{},\"id\":\"b9976cda-8c0f-47f2-8136-42fe4d8148bd\",\"type\":\"BasicTicker\"},{\"attributes\":{\"bottom_units\":\"screen\",\"fill_alpha\":{\"value\":0.5},\"fill_color\":{\"value\":\"lightgrey\"},\"left_units\":\"screen\",\"level\":\"overlay\",\"line_alpha\":{\"value\":1.0},\"line_color\":{\"value\":\"black\"},\"line_dash\":[4,4],\"line_width\":{\"value\":2},\"plot\":null,\"render_mode\":\"css\",\"right_units\":\"screen\",\"top_units\":\"screen\"},\"id\":\"53449955-155c-4a66-ad5b-7a14adf41968\",\"type\":\"BoxAnnotation\"},{\"attributes\":{\"dimension\":1,\"plot\":{\"id\":\"881aff74-a078-4c83-a6c7-db17002ab406\",\"subtype\":\"Figure\",\"type\":\"Plot\"},\"ticker\":{\"id\":\"be0e18a5-06e9-4616-8fd3-8322ef35bab1\",\"type\":\"BasicTicker\"}},\"id\":\"2c747156-d140-4447-b2b0-6e0202ff8062\",\"type\":\"Grid\"},{\"attributes\":{},\"id\":\"5d3828c6-9597-4378-ada1-e4f57b701006\",\"type\":\"BasicTickFormatter\"},{\"attributes\":{\"plot\":null,\"text\":\"\"},\"id\":\"ee834d17-598f-4edf-9f5a-ba6015a237ee\",\"type\":\"Title\"},{\"attributes\":{\"callback\":null,\"end\":160.0,\"start\":60.0},\"id\":\"e8012652-91ab-408d-8b50-e06911f0e16a\",\"type\":\"Range1d\"},{\"attributes\":{\"formatter\":{\"id\":\"0db81837-1e74-4b24-8886-ff2354503f53\",\"type\":\"BasicTickFormatter\"},\"plot\":{\"id\":\"881aff74-a078-4c83-a6c7-db17002ab406\",\"subtype\":\"Figure\",\"type\":\"Plot\"},\"ticker\":{\"id\":\"b9976cda-8c0f-47f2-8136-42fe4d8148bd\",\"type\":\"BasicTicker\"}},\"id\":\"bb524414-fab6-457b-879f-079cebbeab9c\",\"type\":\"LinearAxis\"},{\"attributes\":{\"callback\":null,\"column_names\":[\"x\",\"y\"],\"data\":{\"x\":{\"__ndarray__\":\"AAAAAAAATkAAAAAAAABOQAAAAAAAgE5AAAAAAACATkAAAAAAAABPQAAAAAAAAE9AAAAAAACAT0AAAAAAAIBPQAAAAAAAAFBAAAAAAAAAUEAAAAAAAEBQQAAAAAAAQFBAAAAAAACAUEAAAAAAAIBQQAAAAAAAwFBAAAAAAADAUEAAAAAAAABRQAAAAAAAAFFAAAAAAABAUUAAAAAAAEBRQAAAAAAAgFFAAAAAAACAUUAAAAAAAMBRQAAAAAAAwFFAAAAAAAAAUkAAAAAAAABSQAAAAAAAQFJAAAAAAABAUkAAAAAAAIBSQAAAAAAAgFJAAAAAAADAUkAAAAAAAMBSQAAAAAAAAFNAAAAAAAAAU0AAAAAAAEBTQAAAAAAAQFNAAAAAAACAU0AAAAAAAIBTQAAAAAAAwFNAAAAAAADAU0AAAAAAAABUQAAAAAAAAFRAAAAAAABAVEAAAAAAAEBUQAAAAAAAgFRAAAAAAACAVEAAAAAAAMBUQAAAAAAAwFRAAAAAAAAAVUAAAAAAAABVQAAAAAAAQFVAAAAAAABAVUAAAAAAAIBVQAAAAAAAgFVAAAAAAADAVUAAAAAAAMBVQAAAAAAAAFZAAAAAAAAAVkAAAAAAAEBWQAAAAAAAQFZAAAAAAACAVkAAAAAAAIBWQAAAAAAAwFZAAAAAAADAVkAAAAAAAABXQAAAAAAAAFdAAAAAAABAV0AAAAAAAEBXQAAAAAAAgFdAAAAAAACAV0AAAAAAAMBXQAAAAAAAwFdAAAAAAAAAWEAAAAAAAABYQAAAAAAAQFhAAAAAAABAWEAAAAAAAIBYQAAAAAAAgFhAAAAAAADAWEAAAAAAAMBYQAAAAAAAAFlAAAAAAAAAWUAAAAAAAEBZQAAAAAAAQFlAAAAAAACAWUAAAAAAAIBZQAAAAAAAwFlAAAAAAADAWUAAAAAAAABaQAAAAAAAAFpAAAAAAABAWkAAAAAAAEBaQAAAAAAAgFpAAAAAAACAWkAAAAAAAMBaQAAAAAAAwFpAAAAAAAAAW0AAAAAAAABbQAAAAAAAQFtAAAAAAABAW0AAAAAAAIBbQAAAAAAAgFtAAAAAAADAW0AAAAAAAMBbQAAAAAAAAFxAAAAAAAAAXEAAAAAAAEBcQAAAAAAAQFxAAAAAAACAXEAAAAAAAIBcQAAAAAAAwFxAAAAAAADAXEAAAAAAAABdQAAAAAAAAF1AAAAAAABAXUAAAAAAAEBdQAAAAAAAgF1AAAAAAACAXUAAAAAAAMBdQAAAAAAAwF1AAAAAAAAAXkAAAAAAAABeQAAAAAAAQF5AAAAAAABAXkAAAAAAAIBeQAAAAAAAgF5AAAAAAADAXkAAAAAAAMBeQAAAAAAAAF9AAAAAAAAAX0AAAAAAAEBfQAAAAAAAQF9AAAAAAACAX0AAAAAAAIBfQAAAAAAAwF9AAAAAAADAX0AAAAAAAABgQAAAAAAAAGBAAAAAAAAgYEAAAAAAACBgQAAAAAAAQGBAAAAAAABAYEAAAAAAAGBgQAAAAAAAYGBAAAAAAACAYEAAAAAAAIBgQAAAAAAAoGBAAAAAAACgYEAAAAAAAMBgQAAAAAAAwGBAAAAAAADgYEAAAAAAAOBgQAAAAAAAAGFAAAAAAAAAYUAAAAAAACBhQAAAAAAAIGFAAAAAAABAYUAAAAAAAEBhQAAAAAAAYGFAAAAAAABgYUAAAAAAAIBhQAAAAAAAgGFAAAAAAACgYUAAAAAAAKBhQAAAAAAAwGFAAAAAAADAYUAAAAAAAOBhQAAAAAAA4GFAAAAAAAAAYkAAAAAAAABiQAAAAAAAIGJAAAAAAAAgYkAAAAAAAEBiQAAAAAAAQGJAAAAAAABgYkAAAAAAAGBiQAAAAAAAgGJAAAAAAACAYkAAAAAAAKBiQAAAAAAAoGJAAAAAAADAYkAAAAAAAMBiQAAAAAAA4GJAAAAAAADgYkAAAAAAAABjQAAAAAAAAGNAAAAAAAAgY0AAAAAAACBjQAAAAAAAQGNAAAAAAABAY0AAAAAAAGBjQAAAAAAAYGNAAAAAAACAY0AAAAAAAIBjQAAAAAAAoGNAAAAAAACgY0AAAAAAAMBjQAAAAAAAwGNAAAAAAADgY0AAAAAAAOBjQAAAAAAAAGRAAAAAAAAAZEA=\",\"dtype\":\"float64\",\"shape\":[202]},\"y\":{\"__ndarray__\":\"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\",\"dtype\":\"float64\",\"shape\":[202]}}},\"id\":\"95159551-f320-467e-b37b-11be6129369f\",\"type\":\"ColumnDataSource\"},{\"attributes\":{\"callback\":null,\"end\":218.9},\"id\":\"4aa8eb37-a79d-47b9-b63e-47039b7f27eb\",\"type\":\"Range1d\"},{\"attributes\":{},\"id\":\"dadb0c33-a159-4770-bf1f-bd195dc75363\",\"type\":\"HelpTool\"}],\"root_ids\":[\"881aff74-a078-4c83-a6c7-db17002ab406\"]},\"title\":\"Bokeh Application\",\"version\":\"0.12.10\"}};\n    var render_items = [{\"docid\":\"2f921743-fd20-4ac2-8350-eed1158618da\",\"elementid\":\"767819ad-154f-4b53-9374-8d4d6566dc80\",\"modelid\":\"881aff74-a078-4c83-a6c7-db17002ab406\"}];\n\n    root.Bokeh.embed.embed_items(docs_json, render_items);\n  }\n\n  if (root.Bokeh !== undefined) {\n    embed_document(root);\n  } else {\n    var attempts = 0;\n    var timer = setInterval(function(root) {\n      if (root.Bokeh !== undefined) {\n        embed_document(root);\n        clearInterval(timer);\n      }\n      attempts++;\n      if (attempts > 100) {\n        console.log(\"Bokeh: ERROR: Unable to embed document because BokehJS library is missing\")\n        clearInterval(timer);\n      }\n    }, 10, root)\n  }\n})(window);"
     },
     "execution_count": 20,
     "metadata": {
     },
     "output_type": "execute_result"
    }
   ],
   "source": [
    "show(dimuon_hist.bokeh.fig())"
   ]
  },
  {
   "cell_type": "code",
   "execution_count": 21,
   "metadata": {
    "collapsed": false
   },
   "outputs": [
    {
     "data": {
      "text/html": [
       "\n",
       "<div class=\"bk-root\">\n",
       "    <div class=\"bk-plotdiv\" id=\"92e84033-dd8e-4ec7-9184-14d7717d70bc\"></div>\n",
       "</div>"
      ]
     },
     "execution_count": 21,
     "metadata": {
     },
     "output_type": "execute_result"
    },
    {
     "data": {
      "application/javascript": "(function(root) {\n  function embed_document(root) {\n    var docs_json = {\"dd6961e6-4733-4997-a4d0-5c8a2d7007eb\":{\"roots\":{\"references\":[{\"attributes\":{\"formatter\":{\"id\":\"29e1e4a1-e079-477a-857f-d59aaff895eb\",\"type\":\"BasicTickFormatter\"},\"plot\":{\"id\":\"2194bf04-e277-49b7-8e9a-727ca0dbda0d\",\"subtype\":\"Figure\",\"type\":\"Plot\"},\"ticker\":{\"id\":\"5edb9adc-bfed-421d-98c0-17a4dfe0b773\",\"type\":\"BasicTicker\"}},\"id\":\"568bfa0a-594d-46ce-8cb2-df4c70f4a0a4\",\"type\":\"LinearAxis\"},{\"attributes\":{},\"id\":\"29e1e4a1-e079-477a-857f-d59aaff895eb\",\"type\":\"BasicTickFormatter\"},{\"attributes\":{\"source\":{\"id\":\"80c90d78-4bff-45de-a650-460baaa09081\",\"type\":\"ColumnDataSource\"}},\"id\":\"78cf0b9a-995a-47a0-bab2-740b27488a6b\",\"type\":\"CDSView\"},{\"attributes\":{\"callback\":null,\"end\":160.0,\"start\":60.0},\"id\":\"a8d32281-2c51-4726-9c55-5cab5f94ebb0\",\"type\":\"Range1d\"},{\"attributes\":{},\"id\":\"d2b47a5c-2b33-483d-86e8-2522c722bf75\",\"type\":\"SaveTool\"},{\"attributes\":{},\"id\":\"de7a83e8-af2b-4694-9923-27f3061b5276\",\"type\":\"ResetTool\"},{\"attributes\":{\"overlay\":{\"id\":\"d50b34b6-7489-4580-9279-c3fb82299e8b\",\"type\":\"BoxAnnotation\"}},\"id\":\"4f0855bd-0455-4e0d-b37f-f489c583f847\",\"type\":\"BoxZoomTool\"},{\"attributes\":{\"formatter\":{\"id\":\"3674e41a-3520-4bd2-95a2-bd471820beb5\",\"type\":\"BasicTickFormatter\"},\"plot\":{\"id\":\"2194bf04-e277-49b7-8e9a-727ca0dbda0d\",\"subtype\":\"Figure\",\"type\":\"Plot\"},\"ticker\":{\"id\":\"d5c23cd9-7407-4d22-a287-e423cdd267de\",\"type\":\"BasicTicker\"}},\"id\":\"f4ca5c59-1cd3-42c2-9dda-7918d4855377\",\"type\":\"LinearAxis\"},{\"attributes\":{\"data_source\":{\"id\":\"80c90d78-4bff-45de-a650-460baaa09081\",\"type\":\"ColumnDataSource\"},\"glyph\":{\"id\":\"2c779497-0a1c-42fe-9989-fe3b94f7d7db\",\"type\":\"Patch\"},\"hover_glyph\":null,\"muted_glyph\":null,\"nonselection_glyph\":{\"id\":\"7bf60d93-7cf2-4d31-b07e-178010f0888e\",\"type\":\"Patch\"},\"selection_glyph\":null,\"view\":{\"id\":\"78cf0b9a-995a-47a0-bab2-740b27488a6b\",\"type\":\"CDSView\"}},\"id\":\"8d931f94-bccc-4034-a2f1-c207e07c8114\",\"type\":\"GlyphRenderer\"},{\"attributes\":{\"callback\":null,\"column_names\":[\"x\",\"y\"],\"data\":{\"x\":{\"__ndarray__\":\"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\",\"dtype\":\"float64\",\"shape\":[202]},\"y\":{\"__ndarray__\":\"AAAAAAAAAAAAAAAAAAAAAAAAAAAAAAAAAAAAAAAAAAAAAAAAAAAAAAAAAAAAAAAAAAAAAAAAAAAAAAAAAAAAAAAAAAAAAAAAAAAAAAAAAAAAAAAAAAAAAAAAAAAAAAAAAAAAAAAAAAAAAAAAAAAAAAAAAAAAAAAAAAAAAAAAAAAAAAAAAAAAAAAAAAAAAAAAAAAAAAAAAAAAAAAAAAAAAAAAAAAAAAAAAAAAAAAAAAAAAAAAAAAAAAAAAAAAAAAAAAAAAAAAAAAAAAAAAAAAAAAAAAAAAAAAAAAAAAAAAAAAAAAAAAAAAAAAAAAAAAAAAAAAAAAAAAAAAAAAAAAAAAAAAAAAAAAAAAAAAAAAAAAAAAAAAAAAAAAAAAAAAAAAAAAAAAAAAAAAAAAAAAAAAAAAAAAAAAAAAAAAAAAAAAAAAAAAAAAAAAAAAAAAAAAAAAAAAAAAAAAAAAAAAAAAAAAAAAAAAAAAAAAAAAAAAAAAAAAAAAAAAAAAAAAAAAAAAAAAAAAAAAAAAAAAAAAAAAAAAAAAAAAAAAAAAAAAAAAAAAAAAAAAAAAAAAAAAAAAAAAAAAAAAAAAAAAAAAAAAAAAAAAAAAAAAAAAAAAAAAAAAAAAAAAAAAAAAAAAAAAAAAAAAAAAAAAAAAAAAAAAAAAAAAAAAAAAAAAAAAAAAAAAAAAAAAAAAAAAAAAAAAAAAAAAAAAAAAAAAAAAAAAAAAAAAAAAAAAAAAAAAAAAAAAAAAAAAAAAAAAAAAAAAAAAAAAAAAAAAAAAAAAAAAAAAAAAAAAAAAAAAAAAAAAAAAAAAAAAAAAAAAAAAAAAAAAAAAAAAAAAAAAAAAAAAAAAAAAAAAAAAAAAAAAAAAAAAAAAAAAAAAAAAAAAAAAAAAAAAAAAAAAAAAAAAAAAAAAAAAAAAAAAAAAAAAAAAAAAAAAAAAAAAAAAAAAAAAAAAAAAAAAAAAAAAAAAAAAAAAAAAAAAAAAAAAAAAAAAAAAAAAAAAAAAAAAAAAAAAAAAAAAAAAAAAAAAAAAAAAAAAAAAAAAAAAAAAAAAAAAAAAAAAAAAAAAAAAAAAAAAAAAAAAAAAAAAAAAAAAAAAAAAAAAAAAAAAAAAAAAAAAAAAAAAAAAAAAAAAAAAAAAAAAAAAAAAAAAAAAAAAAAAAAAAAAAAAAAAAAAAAAAAAAAAAAAAAAAAAAAAAAAAAAAAAAAAAAAAAAAAAAAAAAAAAAAAAAAAAAAAAAAAAAAAAAAAAAAAAAAAAAAAAAAAAAAAAAAAAAAAAAAAAAAAAAAAAAAAAAAAAAAAAAAAAAAAAAAAAAAAAAAAAAAAAAAAAAAAAAAAAAAAAAAAAAAAAAAAAAAAAAAAAAAAAAAAAAAAAAAAAAAAAAAAAAAAAAAAAAAAAAAAAAAAAAAAAAAAAAAAAAAAAAAAAAAAAAAAAAAAAAAAAAAAAAAAAAAAAAAAAAAAAAAAAAAAAAAAAAAAAAAAAAAAAAAAAAAAAAAAAAAAAAAAAAAAAAAAAAAAAAAAAAAAAAAAAAAAAAAAAAAAAAAAAAAAAAAAAAAAAAAAAAAAAAAAAAAAAAAAAAAAAAAAAAAAAAAAAAAAAAAAAAAAAAAAAAAAAAAAAAAAAAAAAAAAAAAAAAAAAAAAAAAAAAAAAAAAAAAAAPA/AAAAAAAA8D8AAAAAAAAAAAAAAAAAAAAAAAAAAAAAAAAAAAAAAAAAAAAAAAAAAAAAAAAAAAAAAAAAAAAAAAAAAAAAAAAAAAAAAAAAAAAAAAAAAAAAAAAAAAAAAAAAAAAAAAAAAAAAAAAAAAAAAAAAAAAAAAAAAAAAAAAAAAAAAAAAAAAAAAAAAAAAAAAAAAAAAAAAAAAAAAAAAAAAAAAAAAAAAAAAAAAAAAAAAAAAAAAAAAAAAAAAAAAAAAAAAAAAAAAAAAAAAAAAAAAAAAAAAAAAAAAAAAAAAAAAAAAAAAAAAAAAAAAAAAAAAAAAAAAAAAAAAAAAAAAAAAAAAAAAAAAAAAAAAAAAAAAAAAAAAAAAAAAAAAAAAAAAAAAAAAAAAAAAAAAAAAAAAAAAAAAAAAAAAAAAAAAAAAAAAAAAAAAAAAAAAAAAAAAAAAAAAAAAAAAAAAAAAAAAAAAAAAAAAAAAAAAAAAAAAAAAAAAAAAA=\",\"dtype\":\"float64\",\"shape\":[202]}}},\"id\":\"80c90d78-4bff-45de-a650-460baaa09081\",\"type\":\"ColumnDataSource\"},{\"attributes\":{},\"id\":\"5edb9adc-bfed-421d-98c0-17a4dfe0b773\",\"type\":\"BasicTicker\"},{\"attributes\":{\"fill_alpha\":{\"value\":0.1},\"fill_color\":{\"value\":\"#1f77b4\"},\"line_alpha\":{\"value\":0.1},\"line_color\":{\"value\":\"#1f77b4\"},\"x\":{\"field\":\"x\"},\"y\":{\"field\":\"y\"}},\"id\":\"7bf60d93-7cf2-4d31-b07e-178010f0888e\",\"type\":\"Patch\"},{\"attributes\":{},\"id\":\"ba73c208-aa03-4c65-953b-91fac7efeb00\",\"type\":\"WheelZoomTool\"},{\"attributes\":{\"bottom_units\":\"screen\",\"fill_alpha\":{\"value\":0.5},\"fill_color\":{\"value\":\"lightgrey\"},\"left_units\":\"screen\",\"level\":\"overlay\",\"line_alpha\":{\"value\":1.0},\"line_color\":{\"value\":\"black\"},\"line_dash\":[4,4],\"line_width\":{\"value\":2},\"plot\":null,\"render_mode\":\"css\",\"right_units\":\"screen\",\"top_units\":\"screen\"},\"id\":\"d50b34b6-7489-4580-9279-c3fb82299e8b\",\"type\":\"BoxAnnotation\"},{\"attributes\":{},\"id\":\"8f1e449a-882f-437d-9147-e3ab0fce9547\",\"type\":\"PanTool\"},{\"attributes\":{\"plot\":{\"id\":\"2194bf04-e277-49b7-8e9a-727ca0dbda0d\",\"subtype\":\"Figure\",\"type\":\"Plot\"},\"ticker\":{\"id\":\"d5c23cd9-7407-4d22-a287-e423cdd267de\",\"type\":\"BasicTicker\"}},\"id\":\"e007d721-55c5-4a2e-9d82-e59f8ededa98\",\"type\":\"Grid\"},{\"attributes\":{\"dimension\":1,\"plot\":{\"id\":\"2194bf04-e277-49b7-8e9a-727ca0dbda0d\",\"subtype\":\"Figure\",\"type\":\"Plot\"},\"ticker\":{\"id\":\"5edb9adc-bfed-421d-98c0-17a4dfe0b773\",\"type\":\"BasicTicker\"}},\"id\":\"b8f263f7-eafd-4e81-bc04-40332b0dab79\",\"type\":\"Grid\"},{\"attributes\":{},\"id\":\"3674e41a-3520-4bd2-95a2-bd471820beb5\",\"type\":\"BasicTickFormatter\"},{\"attributes\":{},\"id\":\"fc098b2f-3ad3-460c-8e88-93697c771915\",\"type\":\"LinearScale\"},{\"attributes\":{},\"id\":\"401f8146-5141-409e-9e7c-f2289c64eacc\",\"type\":\"HelpTool\"},{\"attributes\":{\"below\":[{\"id\":\"f4ca5c59-1cd3-42c2-9dda-7918d4855377\",\"type\":\"LinearAxis\"}],\"left\":[{\"id\":\"568bfa0a-594d-46ce-8cb2-df4c70f4a0a4\",\"type\":\"LinearAxis\"}],\"renderers\":[{\"id\":\"f4ca5c59-1cd3-42c2-9dda-7918d4855377\",\"type\":\"LinearAxis\"},{\"id\":\"e007d721-55c5-4a2e-9d82-e59f8ededa98\",\"type\":\"Grid\"},{\"id\":\"568bfa0a-594d-46ce-8cb2-df4c70f4a0a4\",\"type\":\"LinearAxis\"},{\"id\":\"b8f263f7-eafd-4e81-bc04-40332b0dab79\",\"type\":\"Grid\"},{\"id\":\"d50b34b6-7489-4580-9279-c3fb82299e8b\",\"type\":\"BoxAnnotation\"},{\"id\":\"8d931f94-bccc-4034-a2f1-c207e07c8114\",\"type\":\"GlyphRenderer\"}],\"title\":{\"id\":\"223e5d15-4815-4918-a3af-4055eb851b25\",\"type\":\"Title\"},\"toolbar\":{\"id\":\"38caf18d-ba2b-4c55-9515-722e54332374\",\"type\":\"Toolbar\"},\"x_range\":{\"id\":\"a8d32281-2c51-4726-9c55-5cab5f94ebb0\",\"type\":\"Range1d\"},\"x_scale\":{\"id\":\"fc098b2f-3ad3-460c-8e88-93697c771915\",\"type\":\"LinearScale\"},\"y_range\":{\"id\":\"db2e0cad-d0fc-449c-97e1-03127c3e555d\",\"type\":\"Range1d\"},\"y_scale\":{\"id\":\"4e21db64-0542-4a4c-8449-b96e7d226bac\",\"type\":\"LinearScale\"}},\"id\":\"2194bf04-e277-49b7-8e9a-727ca0dbda0d\",\"subtype\":\"Figure\",\"type\":\"Plot\"},{\"attributes\":{\"active_drag\":\"auto\",\"active_inspect\":\"auto\",\"active_scroll\":\"auto\",\"active_tap\":\"auto\",\"tools\":[{\"id\":\"8f1e449a-882f-437d-9147-e3ab0fce9547\",\"type\":\"PanTool\"},{\"id\":\"ba73c208-aa03-4c65-953b-91fac7efeb00\",\"type\":\"WheelZoomTool\"},{\"id\":\"4f0855bd-0455-4e0d-b37f-f489c583f847\",\"type\":\"BoxZoomTool\"},{\"id\":\"d2b47a5c-2b33-483d-86e8-2522c722bf75\",\"type\":\"SaveTool\"},{\"id\":\"de7a83e8-af2b-4694-9923-27f3061b5276\",\"type\":\"ResetTool\"},{\"id\":\"401f8146-5141-409e-9e7c-f2289c64eacc\",\"type\":\"HelpTool\"}]},\"id\":\"38caf18d-ba2b-4c55-9515-722e54332374\",\"type\":\"Toolbar\"},{\"attributes\":{},\"id\":\"d5c23cd9-7407-4d22-a287-e423cdd267de\",\"type\":\"BasicTicker\"},{\"attributes\":{\"callback\":null,\"end\":1.1},\"id\":\"db2e0cad-d0fc-449c-97e1-03127c3e555d\",\"type\":\"Range1d\"},{\"attributes\":{},\"id\":\"4e21db64-0542-4a4c-8449-b96e7d226bac\",\"type\":\"LinearScale\"},{\"attributes\":{\"fill_alpha\":{\"value\":0.25},\"fill_color\":{\"value\":\"#1f77b4\"},\"line_color\":{\"value\":\"#1f77b4\"},\"x\":{\"field\":\"x\"},\"y\":{\"field\":\"y\"}},\"id\":\"2c779497-0a1c-42fe-9989-fe3b94f7d7db\",\"type\":\"Patch\"},{\"attributes\":{\"plot\":null,\"text\":\"\"},\"id\":\"223e5d15-4815-4918-a3af-4055eb851b25\",\"type\":\"Title\"}],\"root_ids\":[\"2194bf04-e277-49b7-8e9a-727ca0dbda0d\"]},\"title\":\"Bokeh Application\",\"version\":\"0.12.10\"}};\n    var render_items = [{\"docid\":\"dd6961e6-4733-4997-a4d0-5c8a2d7007eb\",\"elementid\":\"92e84033-dd8e-4ec7-9184-14d7717d70bc\",\"modelid\":\"2194bf04-e277-49b7-8e9a-727ca0dbda0d\"}];\n\n    root.Bokeh.embed.embed_items(docs_json, render_items);\n  }\n\n  if (root.Bokeh !== undefined) {\n    embed_document(root);\n  } else {\n    var attempts = 0;\n    var timer = setInterval(function(root) {\n      if (root.Bokeh !== undefined) {\n        embed_document(root);\n        clearInterval(timer);\n      }\n      attempts++;\n      if (attempts > 100) {\n        console.log(\"Bokeh: ERROR: Unable to embed document because BokehJS library is missing\")\n        clearInterval(timer);\n      }\n    }, 10, root)\n  }\n})(window);"
     },
     "execution_count": 21,
     "metadata": {
     },
     "output_type": "execute_result"
    }
   ],
   "source": [
    "show(quadmuon_hist.bokeh.fig())"
   ]
  },
  {
   "cell_type": "markdown",
   "metadata": {
    "collapsed": false
   },
   "source": [
    "## I guess this is Monte Carlo!"
   ]
  }
 ],
 "metadata": {
  "kernelspec": {
   "display_name": "Python 3 (Anaconda)",
   "language": "python",
   "name": "anaconda3"
  },
  "language_info": {
   "codemirror_mode": {
    "name": "ipython",
    "version": 3
   },
   "file_extension": ".py",
   "mimetype": "text/x-python",
   "name": "python",
   "nbconvert_exporter": "python",
   "pygments_lexer": "ipython3",
   "version": "3.5.4"
  }
 },
 "nbformat": 4,
 "nbformat_minor": 0
}