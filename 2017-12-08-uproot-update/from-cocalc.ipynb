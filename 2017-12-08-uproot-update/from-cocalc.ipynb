{
 "cells": [
  {
   "cell_type": "code",
   "execution_count": 1,
   "metadata": {},
   "outputs": [
    {
     "data": {
      "text/html": [
       "\n",
       "    <div class=\"bk-root\">\n",
       "        <a href=\"https://bokeh.pydata.org\" target=\"_blank\" class=\"bk-logo bk-logo-small bk-logo-notebook\"></a>\n",
       "        <span id=\"0d9ffe84-2fca-4b0b-a1dc-d2ef6da5f7ec\">Loading BokehJS ...</span>\n",
       "    </div>"
      ]
     },
     "metadata": {},
     "output_type": "display_data"
    },
    {
     "data": {
      "application/javascript": [
       "\n",
       "(function(root) {\n",
       "  function now() {\n",
       "    return new Date();\n",
       "  }\n",
       "\n",
       "  var force = true;\n",
       "\n",
       "  if (typeof (root._bokeh_onload_callbacks) === \"undefined\" || force === true) {\n",
       "    root._bokeh_onload_callbacks = [];\n",
       "    root._bokeh_is_loading = undefined;\n",
       "  }\n",
       "\n",
       "  var JS_MIME_TYPE = 'application/javascript';\n",
       "  var HTML_MIME_TYPE = 'text/html';\n",
       "  var EXEC_MIME_TYPE = 'application/vnd.bokehjs_exec.v0+json';\n",
       "  var CLASS_NAME = 'output_bokeh rendered_html';\n",
       "\n",
       "  /**\n",
       "   * Render data to the DOM node\n",
       "   */\n",
       "  function render(props, node) {\n",
       "    var script = document.createElement(\"script\");\n",
       "    node.appendChild(script);\n",
       "  }\n",
       "\n",
       "  /**\n",
       "   * Handle when an output is cleared or removed\n",
       "   */\n",
       "  function handleClearOutput(event, handle) {\n",
       "    var cell = handle.cell;\n",
       "\n",
       "    var id = cell.output_area._bokeh_element_id;\n",
       "    var server_id = cell.output_area._bokeh_server_id;\n",
       "    // Clean up Bokeh references\n",
       "    if (id !== undefined) {\n",
       "      Bokeh.index[id].model.document.clear();\n",
       "      delete Bokeh.index[id];\n",
       "    }\n",
       "\n",
       "    if (server_id !== undefined) {\n",
       "      // Clean up Bokeh references\n",
       "      var cmd = \"from bokeh.io.state import curstate; print(curstate().uuid_to_server['\" + server_id + \"'].get_sessions()[0].document.roots[0]._id)\";\n",
       "      cell.notebook.kernel.execute(cmd, {\n",
       "        iopub: {\n",
       "          output: function(msg) {\n",
       "            var element_id = msg.content.text.trim();\n",
       "            Bokeh.index[element_id].model.document.clear();\n",
       "            delete Bokeh.index[element_id];\n",
       "          }\n",
       "        }\n",
       "      });\n",
       "      // Destroy server and session\n",
       "      var cmd = \"import bokeh.io.notebook as ion; ion.destroy_server('\" + server_id + \"')\";\n",
       "      cell.notebook.kernel.execute(cmd);\n",
       "    }\n",
       "  }\n",
       "\n",
       "  /**\n",
       "   * Handle when a new output is added\n",
       "   */\n",
       "  function handleAddOutput(event, handle) {\n",
       "    var output_area = handle.output_area;\n",
       "    var output = handle.output;\n",
       "\n",
       "    // limit handleAddOutput to display_data with EXEC_MIME_TYPE content only\n",
       "    if ((output.output_type != \"display_data\") || (!output.data.hasOwnProperty(EXEC_MIME_TYPE))) {\n",
       "      return\n",
       "    }\n",
       "\n",
       "    var toinsert = output_area.element.find(\".\" + CLASS_NAME.split(' ')[0]);\n",
       "\n",
       "    if (output.metadata[EXEC_MIME_TYPE][\"id\"] !== undefined) {\n",
       "      toinsert[0].firstChild.textContent = output.data[JS_MIME_TYPE];\n",
       "      // store reference to embed id on output_area\n",
       "      output_area._bokeh_element_id = output.metadata[EXEC_MIME_TYPE][\"id\"];\n",
       "    }\n",
       "    if (output.metadata[EXEC_MIME_TYPE][\"server_id\"] !== undefined) {\n",
       "      var bk_div = document.createElement(\"div\");\n",
       "      bk_div.innerHTML = output.data[HTML_MIME_TYPE];\n",
       "      var script_attrs = bk_div.children[0].attributes;\n",
       "      for (var i = 0; i < script_attrs.length; i++) {\n",
       "        toinsert[0].firstChild.setAttribute(script_attrs[i].name, script_attrs[i].value);\n",
       "      }\n",
       "      // store reference to server id on output_area\n",
       "      output_area._bokeh_server_id = output.metadata[EXEC_MIME_TYPE][\"server_id\"];\n",
       "    }\n",
       "  }\n",
       "\n",
       "  function register_renderer(events, OutputArea) {\n",
       "\n",
       "    function append_mime(data, metadata, element) {\n",
       "      // create a DOM node to render to\n",
       "      var toinsert = this.create_output_subarea(\n",
       "        metadata,\n",
       "        CLASS_NAME,\n",
       "        EXEC_MIME_TYPE\n",
       "      );\n",
       "      this.keyboard_manager.register_events(toinsert);\n",
       "      // Render to node\n",
       "      var props = {data: data, metadata: metadata[EXEC_MIME_TYPE]};\n",
       "      render(props, toinsert[0]);\n",
       "      element.append(toinsert);\n",
       "      return toinsert\n",
       "    }\n",
       "\n",
       "    /* Handle when an output is cleared or removed */\n",
       "    events.on('clear_output.CodeCell', handleClearOutput);\n",
       "    events.on('delete.Cell', handleClearOutput);\n",
       "\n",
       "    /* Handle when a new output is added */\n",
       "    events.on('output_added.OutputArea', handleAddOutput);\n",
       "\n",
       "    /**\n",
       "     * Register the mime type and append_mime function with output_area\n",
       "     */\n",
       "    OutputArea.prototype.register_mime_type(EXEC_MIME_TYPE, append_mime, {\n",
       "      /* Is output safe? */\n",
       "      safe: true,\n",
       "      /* Index of renderer in `output_area.display_order` */\n",
       "      index: 0\n",
       "    });\n",
       "  }\n",
       "\n",
       "  // register the mime type if in Jupyter Notebook environment and previously unregistered\n",
       "  if (root.Jupyter !== undefined) {\n",
       "    var events = require('base/js/events');\n",
       "    var OutputArea = require('notebook/js/outputarea').OutputArea;\n",
       "\n",
       "    if (OutputArea.prototype.mime_types().indexOf(EXEC_MIME_TYPE) == -1) {\n",
       "      register_renderer(events, OutputArea);\n",
       "    }\n",
       "  }\n",
       "\n",
       "  \n",
       "  if (typeof (root._bokeh_timeout) === \"undefined\" || force === true) {\n",
       "    root._bokeh_timeout = Date.now() + 5000;\n",
       "    root._bokeh_failed_load = false;\n",
       "  }\n",
       "\n",
       "  var NB_LOAD_WARNING = {'data': {'text/html':\n",
       "     \"<div style='background-color: #fdd'>\\n\"+\n",
       "     \"<p>\\n\"+\n",
       "     \"BokehJS does not appear to have successfully loaded. If loading BokehJS from CDN, this \\n\"+\n",
       "     \"may be due to a slow or bad network connection. Possible fixes:\\n\"+\n",
       "     \"</p>\\n\"+\n",
       "     \"<ul>\\n\"+\n",
       "     \"<li>re-rerun `output_notebook()` to attempt to load from CDN again, or</li>\\n\"+\n",
       "     \"<li>use INLINE resources instead, as so:</li>\\n\"+\n",
       "     \"</ul>\\n\"+\n",
       "     \"<code>\\n\"+\n",
       "     \"from bokeh.resources import INLINE\\n\"+\n",
       "     \"output_notebook(resources=INLINE)\\n\"+\n",
       "     \"</code>\\n\"+\n",
       "     \"</div>\"}};\n",
       "\n",
       "  function display_loaded() {\n",
       "    var el = document.getElementById(\"0d9ffe84-2fca-4b0b-a1dc-d2ef6da5f7ec\");\n",
       "    if (el != null) {\n",
       "      el.textContent = \"BokehJS is loading...\";\n",
       "    }\n",
       "    if (root.Bokeh !== undefined) {\n",
       "      if (el != null) {\n",
       "        el.textContent = \"BokehJS \" + root.Bokeh.version + \" successfully loaded.\";\n",
       "      }\n",
       "    } else if (Date.now() < root._bokeh_timeout) {\n",
       "      setTimeout(display_loaded, 100)\n",
       "    }\n",
       "  }\n",
       "\n",
       "\n",
       "  function run_callbacks() {\n",
       "    try {\n",
       "      root._bokeh_onload_callbacks.forEach(function(callback) { callback() });\n",
       "    }\n",
       "    finally {\n",
       "      delete root._bokeh_onload_callbacks\n",
       "    }\n",
       "    console.info(\"Bokeh: all callbacks have finished\");\n",
       "  }\n",
       "\n",
       "  function load_libs(js_urls, callback) {\n",
       "    root._bokeh_onload_callbacks.push(callback);\n",
       "    if (root._bokeh_is_loading > 0) {\n",
       "      console.log(\"Bokeh: BokehJS is being loaded, scheduling callback at\", now());\n",
       "      return null;\n",
       "    }\n",
       "    if (js_urls == null || js_urls.length === 0) {\n",
       "      run_callbacks();\n",
       "      return null;\n",
       "    }\n",
       "    console.log(\"Bokeh: BokehJS not loaded, scheduling load and callback at\", now());\n",
       "    root._bokeh_is_loading = js_urls.length;\n",
       "    for (var i = 0; i < js_urls.length; i++) {\n",
       "      var url = js_urls[i];\n",
       "      var s = document.createElement('script');\n",
       "      s.src = url;\n",
       "      s.async = false;\n",
       "      s.onreadystatechange = s.onload = function() {\n",
       "        root._bokeh_is_loading--;\n",
       "        if (root._bokeh_is_loading === 0) {\n",
       "          console.log(\"Bokeh: all BokehJS libraries loaded\");\n",
       "          run_callbacks()\n",
       "        }\n",
       "      };\n",
       "      s.onerror = function() {\n",
       "        console.warn(\"failed to load library \" + url);\n",
       "      };\n",
       "      console.log(\"Bokeh: injecting script tag for BokehJS library: \", url);\n",
       "      document.getElementsByTagName(\"head\")[0].appendChild(s);\n",
       "    }\n",
       "  };var element = document.getElementById(\"0d9ffe84-2fca-4b0b-a1dc-d2ef6da5f7ec\");\n",
       "  if (element == null) {\n",
       "    console.log(\"Bokeh: ERROR: autoload.js configured with elementid '0d9ffe84-2fca-4b0b-a1dc-d2ef6da5f7ec' but no matching script tag was found. \")\n",
       "    return false;\n",
       "  }\n",
       "\n",
       "  var js_urls = [\"https://cdn.pydata.org/bokeh/release/bokeh-0.12.11.min.js\", \"https://cdn.pydata.org/bokeh/release/bokeh-widgets-0.12.11.min.js\", \"https://cdn.pydata.org/bokeh/release/bokeh-tables-0.12.11.min.js\", \"https://cdn.pydata.org/bokeh/release/bokeh-gl-0.12.11.min.js\"];\n",
       "\n",
       "  var inline_js = [\n",
       "    function(Bokeh) {\n",
       "      Bokeh.set_log_level(\"info\");\n",
       "    },\n",
       "    \n",
       "    function(Bokeh) {\n",
       "      \n",
       "    },\n",
       "    function(Bokeh) {\n",
       "      console.log(\"Bokeh: injecting CSS: https://cdn.pydata.org/bokeh/release/bokeh-0.12.11.min.css\");\n",
       "      Bokeh.embed.inject_css(\"https://cdn.pydata.org/bokeh/release/bokeh-0.12.11.min.css\");\n",
       "      console.log(\"Bokeh: injecting CSS: https://cdn.pydata.org/bokeh/release/bokeh-widgets-0.12.11.min.css\");\n",
       "      Bokeh.embed.inject_css(\"https://cdn.pydata.org/bokeh/release/bokeh-widgets-0.12.11.min.css\");\n",
       "      console.log(\"Bokeh: injecting CSS: https://cdn.pydata.org/bokeh/release/bokeh-tables-0.12.11.min.css\");\n",
       "      Bokeh.embed.inject_css(\"https://cdn.pydata.org/bokeh/release/bokeh-tables-0.12.11.min.css\");\n",
       "    }\n",
       "  ];\n",
       "\n",
       "  function run_inline_js() {\n",
       "    \n",
       "    if ((root.Bokeh !== undefined) || (force === true)) {\n",
       "      for (var i = 0; i < inline_js.length; i++) {\n",
       "        inline_js[i].call(root, root.Bokeh);\n",
       "      }if (force === true) {\n",
       "        display_loaded();\n",
       "      }} else if (Date.now() < root._bokeh_timeout) {\n",
       "      setTimeout(run_inline_js, 100);\n",
       "    } else if (!root._bokeh_failed_load) {\n",
       "      console.log(\"Bokeh: BokehJS failed to load within specified timeout.\");\n",
       "      root._bokeh_failed_load = true;\n",
       "    } else if (force !== true) {\n",
       "      var cell = $(document.getElementById(\"0d9ffe84-2fca-4b0b-a1dc-d2ef6da5f7ec\")).parents('.cell').data().cell;\n",
       "      cell.output_area.append_execute_result(NB_LOAD_WARNING)\n",
       "    }\n",
       "\n",
       "  }\n",
       "\n",
       "  if (root._bokeh_is_loading === 0) {\n",
       "    console.log(\"Bokeh: BokehJS loaded, going straight to plotting\");\n",
       "    run_inline_js();\n",
       "  } else {\n",
       "    load_libs(js_urls, function() {\n",
       "      console.log(\"Bokeh: BokehJS plotting callback run at\", now());\n",
       "      run_inline_js();\n",
       "    });\n",
       "  }\n",
       "}(window));"
      ],
      "application/vnd.bokehjs_load.v0+json": "\n(function(root) {\n  function now() {\n    return new Date();\n  }\n\n  var force = true;\n\n  if (typeof (root._bokeh_onload_callbacks) === \"undefined\" || force === true) {\n    root._bokeh_onload_callbacks = [];\n    root._bokeh_is_loading = undefined;\n  }\n\n  \n\n  \n  if (typeof (root._bokeh_timeout) === \"undefined\" || force === true) {\n    root._bokeh_timeout = Date.now() + 5000;\n    root._bokeh_failed_load = false;\n  }\n\n  var NB_LOAD_WARNING = {'data': {'text/html':\n     \"<div style='background-color: #fdd'>\\n\"+\n     \"<p>\\n\"+\n     \"BokehJS does not appear to have successfully loaded. If loading BokehJS from CDN, this \\n\"+\n     \"may be due to a slow or bad network connection. Possible fixes:\\n\"+\n     \"</p>\\n\"+\n     \"<ul>\\n\"+\n     \"<li>re-rerun `output_notebook()` to attempt to load from CDN again, or</li>\\n\"+\n     \"<li>use INLINE resources instead, as so:</li>\\n\"+\n     \"</ul>\\n\"+\n     \"<code>\\n\"+\n     \"from bokeh.resources import INLINE\\n\"+\n     \"output_notebook(resources=INLINE)\\n\"+\n     \"</code>\\n\"+\n     \"</div>\"}};\n\n  function display_loaded() {\n    var el = document.getElementById(\"0d9ffe84-2fca-4b0b-a1dc-d2ef6da5f7ec\");\n    if (el != null) {\n      el.textContent = \"BokehJS is loading...\";\n    }\n    if (root.Bokeh !== undefined) {\n      if (el != null) {\n        el.textContent = \"BokehJS \" + root.Bokeh.version + \" successfully loaded.\";\n      }\n    } else if (Date.now() < root._bokeh_timeout) {\n      setTimeout(display_loaded, 100)\n    }\n  }\n\n\n  function run_callbacks() {\n    try {\n      root._bokeh_onload_callbacks.forEach(function(callback) { callback() });\n    }\n    finally {\n      delete root._bokeh_onload_callbacks\n    }\n    console.info(\"Bokeh: all callbacks have finished\");\n  }\n\n  function load_libs(js_urls, callback) {\n    root._bokeh_onload_callbacks.push(callback);\n    if (root._bokeh_is_loading > 0) {\n      console.log(\"Bokeh: BokehJS is being loaded, scheduling callback at\", now());\n      return null;\n    }\n    if (js_urls == null || js_urls.length === 0) {\n      run_callbacks();\n      return null;\n    }\n    console.log(\"Bokeh: BokehJS not loaded, scheduling load and callback at\", now());\n    root._bokeh_is_loading = js_urls.length;\n    for (var i = 0; i < js_urls.length; i++) {\n      var url = js_urls[i];\n      var s = document.createElement('script');\n      s.src = url;\n      s.async = false;\n      s.onreadystatechange = s.onload = function() {\n        root._bokeh_is_loading--;\n        if (root._bokeh_is_loading === 0) {\n          console.log(\"Bokeh: all BokehJS libraries loaded\");\n          run_callbacks()\n        }\n      };\n      s.onerror = function() {\n        console.warn(\"failed to load library \" + url);\n      };\n      console.log(\"Bokeh: injecting script tag for BokehJS library: \", url);\n      document.getElementsByTagName(\"head\")[0].appendChild(s);\n    }\n  };var element = document.getElementById(\"0d9ffe84-2fca-4b0b-a1dc-d2ef6da5f7ec\");\n  if (element == null) {\n    console.log(\"Bokeh: ERROR: autoload.js configured with elementid '0d9ffe84-2fca-4b0b-a1dc-d2ef6da5f7ec' but no matching script tag was found. \")\n    return false;\n  }\n\n  var js_urls = [\"https://cdn.pydata.org/bokeh/release/bokeh-0.12.11.min.js\", \"https://cdn.pydata.org/bokeh/release/bokeh-widgets-0.12.11.min.js\", \"https://cdn.pydata.org/bokeh/release/bokeh-tables-0.12.11.min.js\", \"https://cdn.pydata.org/bokeh/release/bokeh-gl-0.12.11.min.js\"];\n\n  var inline_js = [\n    function(Bokeh) {\n      Bokeh.set_log_level(\"info\");\n    },\n    \n    function(Bokeh) {\n      \n    },\n    function(Bokeh) {\n      console.log(\"Bokeh: injecting CSS: https://cdn.pydata.org/bokeh/release/bokeh-0.12.11.min.css\");\n      Bokeh.embed.inject_css(\"https://cdn.pydata.org/bokeh/release/bokeh-0.12.11.min.css\");\n      console.log(\"Bokeh: injecting CSS: https://cdn.pydata.org/bokeh/release/bokeh-widgets-0.12.11.min.css\");\n      Bokeh.embed.inject_css(\"https://cdn.pydata.org/bokeh/release/bokeh-widgets-0.12.11.min.css\");\n      console.log(\"Bokeh: injecting CSS: https://cdn.pydata.org/bokeh/release/bokeh-tables-0.12.11.min.css\");\n      Bokeh.embed.inject_css(\"https://cdn.pydata.org/bokeh/release/bokeh-tables-0.12.11.min.css\");\n    }\n  ];\n\n  function run_inline_js() {\n    \n    if ((root.Bokeh !== undefined) || (force === true)) {\n      for (var i = 0; i < inline_js.length; i++) {\n        inline_js[i].call(root, root.Bokeh);\n      }if (force === true) {\n        display_loaded();\n      }} else if (Date.now() < root._bokeh_timeout) {\n      setTimeout(run_inline_js, 100);\n    } else if (!root._bokeh_failed_load) {\n      console.log(\"Bokeh: BokehJS failed to load within specified timeout.\");\n      root._bokeh_failed_load = true;\n    } else if (force !== true) {\n      var cell = $(document.getElementById(\"0d9ffe84-2fca-4b0b-a1dc-d2ef6da5f7ec\")).parents('.cell').data().cell;\n      cell.output_area.append_execute_result(NB_LOAD_WARNING)\n    }\n\n  }\n\n  if (root._bokeh_is_loading === 0) {\n    console.log(\"Bokeh: BokehJS loaded, going straight to plotting\");\n    run_inline_js();\n  } else {\n    load_libs(js_urls, function() {\n      console.log(\"Bokeh: BokehJS plotting callback run at\", now());\n      run_inline_js();\n    });\n  }\n}(window));"
     },
     "metadata": {},
     "output_type": "display_data"
    }
   ],
   "source": [
    "import uproot\n",
    "import bokeh\n",
    "from bokeh.plotting import show\n",
    "bokeh.io.output_notebook()"
   ]
  },
  {
   "cell_type": "markdown",
   "metadata": {},
   "source": [
    "## Look around to see what's available\n",
    "\n",
    "This is a freemium service: they block off network access, so I uploaded the git repo manually. We'll look at the (small) sample files in the tests."
   ]
  },
  {
   "cell_type": "code",
   "execution_count": 2,
   "metadata": {},
   "outputs": [
    {
     "name": "stdout",
     "output_type": "stream",
     "text": [
      "foriter2.root\t\t\t  sample-5.28.00-uncompressed.root\r\n",
      "foriter.root\t\t\t  sample-5.28.00-zlib.root\r\n",
      "HZZ-lz4.root\t\t\t  sample-5.29.02-uncompressed.root\r\n",
      "HZZ-lzma.root\t\t\t  sample-5.29.02-zlib.root\r\n",
      "HZZ.root\t\t\t  sample-5.30.00-lzma.root\r\n",
      "HZZ-uncompressed.root\t\t  sample-5.30.00-uncompressed.root\r\n",
      "HZZ-zlib.root\t\t\t  sample-5.30.00-zlib.root\r\n",
      "issue21.root\t\t\t  sample-6.08.04-lzma.root\r\n",
      "issue30.root\t\t\t  sample-6.08.04-uncompressed.root\r\n",
      "issue31.root\t\t\t  sample-6.08.04-zlib.root\r\n",
      "mc10events.root\t\t\t  sample-6.10.05-lz4.root\r\n",
      "nesteddirs.root\t\t\t  sample-6.10.05-lzma.root\r\n",
      "sample-5.23.02-uncompressed.root  sample-6.10.05-uncompressed.root\r\n",
      "sample-5.23.02-zlib.root\t  sample-6.10.05-zlib.root\r\n",
      "sample-5.24.00-uncompressed.root  simple.root\r\n",
      "sample-5.24.00-zlib.root\t  small-evnt-tree-fullsplit.root\r\n",
      "sample-5.25.02-uncompressed.root  small-flat-tree.root\r\n",
      "sample-5.25.02-zlib.root\t  Zmumu-lz4.root\r\n",
      "sample-5.26.00-uncompressed.root  Zmumu-lzma.root\r\n",
      "sample-5.26.00-zlib.root\t  Zmumu.root\r\n",
      "sample-5.27.02-uncompressed.root  Zmumu-uncompressed.root\r\n",
      "sample-5.27.02-zlib.root\t  Zmumu-zlib.root\r\n"
     ]
    }
   ],
   "source": [
    "!ls tests/samples"
   ]
  },
  {
   "cell_type": "code",
   "execution_count": 3,
   "metadata": {},
   "outputs": [
    {
     "data": {
      "text/plain": [
       "['events;1']"
      ]
     },
     "execution_count": 3,
     "metadata": {},
     "output_type": "execute_result"
    }
   ],
   "source": [
    "uproot.open(\"tests/samples/Zmumu.root\").keys()"
   ]
  },
  {
   "cell_type": "code",
   "execution_count": 4,
   "metadata": {
    "collapsed": true
   },
   "outputs": [],
   "source": [
    "Zmumu = uproot.open(\"tests/samples/Zmumu.root\")[\"events\"]"
   ]
  },
  {
   "cell_type": "code",
   "execution_count": 5,
   "metadata": {},
   "outputs": [
    {
     "name": "stdout",
     "output_type": "stream",
     "text": [
      "Type                       (no streamer)              asstrings()\n",
      "Run                        (no streamer)              asdtype('>i4')\n",
      "Event                      (no streamer)              asdtype('>i4')\n",
      "E1                         (no streamer)              asdtype('>f8')\n",
      "px1                        (no streamer)              asdtype('>f8')\n",
      "py1                        (no streamer)              asdtype('>f8')\n",
      "pz1                        (no streamer)              asdtype('>f8')\n",
      "pt1                        (no streamer)              asdtype('>f8')\n",
      "eta1                       (no streamer)              asdtype('>f8')\n",
      "phi1                       (no streamer)              asdtype('>f8')\n",
      "Q1                         (no streamer)              asdtype('>i4')\n",
      "E2                         (no streamer)              asdtype('>f8')\n",
      "px2                        (no streamer)              asdtype('>f8')\n",
      "py2                        (no streamer)              asdtype('>f8')\n",
      "pz2                        (no streamer)              asdtype('>f8')\n",
      "pt2                        (no streamer)              asdtype('>f8')\n",
      "eta2                       (no streamer)              asdtype('>f8')\n",
      "phi2                       (no streamer)              asdtype('>f8')\n",
      "Q2                         (no streamer)              asdtype('>i4')\n",
      "M                          (no streamer)              asdtype('>f8')\n"
     ]
    }
   ],
   "source": [
    "Zmumu.show()"
   ]
  },
  {
   "cell_type": "markdown",
   "metadata": {},
   "source": [
    "## Go straight from TTree to plot"
   ]
  },
  {
   "cell_type": "code",
   "execution_count": 6,
   "metadata": {},
   "outputs": [
    {
     "data": {
      "text/html": [
       "\n",
       "<div class=\"bk-root\">\n",
       "    <div class=\"bk-plotdiv\" id=\"8b4d3ac7-779d-434c-b815-2101ab827a8f\"></div>\n",
       "</div>"
      ]
     },
     "metadata": {},
     "output_type": "display_data"
    },
    {
     "data": {
      "application/javascript": [
       "(function(root) {\n",
       "  function embed_document(root) {\n",
       "    var docs_json = {\"a8fbcb35-1b69-47c6-be10-9783c9a0598a\":{\"roots\":{\"references\":[{\"attributes\":{\"fill_alpha\":0.25,\"fill_color\":\"#1f77b4\",\"line_color\":\"#1f77b4\",\"x\":{\"field\":\"x\"},\"y\":{\"field\":\"y\"}},\"id\":\"194ae0bd-b168-4c51-95ab-bc2416712e63\",\"type\":\"Patch\"},{\"attributes\":{},\"id\":\"c08ea12e-049b-44ca-b2d7-6c952aa107a6\",\"type\":\"PanTool\"},{\"attributes\":{\"formatter\":{\"id\":\"7604d6dc-876d-4ccf-a86f-536d8ad15f64\",\"type\":\"BasicTickFormatter\"},\"plot\":{\"id\":\"12c9bab1-656c-4921-ba78-12b9f57a7695\",\"subtype\":\"Figure\",\"type\":\"Plot\"},\"ticker\":{\"id\":\"138f9905-b964-40ce-bfb1-b1be97d88379\",\"type\":\"BasicTicker\"}},\"id\":\"74cb48c5-d749-4e57-8f67-59b339483dad\",\"type\":\"LinearAxis\"},{\"attributes\":{\"active_drag\":\"auto\",\"active_inspect\":\"auto\",\"active_scroll\":\"auto\",\"active_tap\":\"auto\",\"tools\":[{\"id\":\"c08ea12e-049b-44ca-b2d7-6c952aa107a6\",\"type\":\"PanTool\"},{\"id\":\"4d295301-e4ab-439d-a65d-5eb27b8912c3\",\"type\":\"WheelZoomTool\"},{\"id\":\"63222931-3bbc-403a-a6ca-d2aee91ede15\",\"type\":\"BoxZoomTool\"},{\"id\":\"5aaa745a-0284-4c3e-9b5d-8ea46991bfbd\",\"type\":\"SaveTool\"},{\"id\":\"b245096a-c18e-48ec-83e9-842d5d4469e4\",\"type\":\"ResetTool\"},{\"id\":\"790ed9cc-daf9-4c6c-aa96-e0015d254988\",\"type\":\"HelpTool\"}]},\"id\":\"1f54f8e0-275e-4540-81d8-5ac18eb82559\",\"type\":\"Toolbar\"},{\"attributes\":{\"bottom_units\":\"screen\",\"fill_alpha\":{\"value\":0.5},\"fill_color\":{\"value\":\"lightgrey\"},\"left_units\":\"screen\",\"level\":\"overlay\",\"line_alpha\":{\"value\":1.0},\"line_color\":{\"value\":\"black\"},\"line_dash\":[4,4],\"line_width\":{\"value\":2},\"plot\":null,\"render_mode\":\"css\",\"right_units\":\"screen\",\"top_units\":\"screen\"},\"id\":\"3d16237c-ed82-4d3c-bcdd-9a203502298d\",\"type\":\"BoxAnnotation\"},{\"attributes\":{},\"id\":\"7b9357e9-641a-4594-8fbb-023d989e68c7\",\"type\":\"BasicTicker\"},{\"attributes\":{\"dimension\":1,\"plot\":{\"id\":\"12c9bab1-656c-4921-ba78-12b9f57a7695\",\"subtype\":\"Figure\",\"type\":\"Plot\"},\"ticker\":{\"id\":\"138f9905-b964-40ce-bfb1-b1be97d88379\",\"type\":\"BasicTicker\"}},\"id\":\"f09a800d-89ff-43cb-b215-01b19e0895cb\",\"type\":\"Grid\"},{\"attributes\":{},\"id\":\"138f9905-b964-40ce-bfb1-b1be97d88379\",\"type\":\"BasicTicker\"},{\"attributes\":{\"plot\":null,\"text\":\"\"},\"id\":\"fa4a81a9-353e-4e29-8c4b-c114510ccd15\",\"type\":\"Title\"},{\"attributes\":{},\"id\":\"b245096a-c18e-48ec-83e9-842d5d4469e4\",\"type\":\"ResetTool\"},{\"attributes\":{},\"id\":\"7604d6dc-876d-4ccf-a86f-536d8ad15f64\",\"type\":\"BasicTickFormatter\"},{\"attributes\":{},\"id\":\"641fe454-60b6-45ed-a96d-b4b48cd6c9ae\",\"type\":\"BasicTickFormatter\"},{\"attributes\":{},\"id\":\"9ed6348f-58fd-4dfa-bb43-cd76c7296f9d\",\"type\":\"LinearScale\"},{\"attributes\":{\"callback\":null,\"end\":696.3},\"id\":\"709b2c4f-5ca0-4481-a25a-05fb62aa7bb5\",\"type\":\"Range1d\"},{\"attributes\":{},\"id\":\"5aaa745a-0284-4c3e-9b5d-8ea46991bfbd\",\"type\":\"SaveTool\"},{\"attributes\":{\"formatter\":{\"id\":\"641fe454-60b6-45ed-a96d-b4b48cd6c9ae\",\"type\":\"BasicTickFormatter\"},\"plot\":{\"id\":\"12c9bab1-656c-4921-ba78-12b9f57a7695\",\"subtype\":\"Figure\",\"type\":\"Plot\"},\"ticker\":{\"id\":\"7b9357e9-641a-4594-8fbb-023d989e68c7\",\"type\":\"BasicTicker\"}},\"id\":\"6ebfc782-6c73-4c29-a5d4-6f79e6e41b40\",\"type\":\"LinearAxis\"},{\"attributes\":{\"below\":[{\"id\":\"6ebfc782-6c73-4c29-a5d4-6f79e6e41b40\",\"type\":\"LinearAxis\"}],\"left\":[{\"id\":\"74cb48c5-d749-4e57-8f67-59b339483dad\",\"type\":\"LinearAxis\"}],\"renderers\":[{\"id\":\"6ebfc782-6c73-4c29-a5d4-6f79e6e41b40\",\"type\":\"LinearAxis\"},{\"id\":\"f286b1a4-8fe8-48e4-9972-67acae750533\",\"type\":\"Grid\"},{\"id\":\"74cb48c5-d749-4e57-8f67-59b339483dad\",\"type\":\"LinearAxis\"},{\"id\":\"f09a800d-89ff-43cb-b215-01b19e0895cb\",\"type\":\"Grid\"},{\"id\":\"3d16237c-ed82-4d3c-bcdd-9a203502298d\",\"type\":\"BoxAnnotation\"},{\"id\":\"6980d320-05b5-4ffc-a2c9-448110d31b8c\",\"type\":\"GlyphRenderer\"}],\"title\":{\"id\":\"fa4a81a9-353e-4e29-8c4b-c114510ccd15\",\"type\":\"Title\"},\"toolbar\":{\"id\":\"1f54f8e0-275e-4540-81d8-5ac18eb82559\",\"type\":\"Toolbar\"},\"x_range\":{\"id\":\"7801dbd4-c30b-45f2-a9d7-d9d1fad03a01\",\"type\":\"Range1d\"},\"x_scale\":{\"id\":\"9ed6348f-58fd-4dfa-bb43-cd76c7296f9d\",\"type\":\"LinearScale\"},\"y_range\":{\"id\":\"709b2c4f-5ca0-4481-a25a-05fb62aa7bb5\",\"type\":\"Range1d\"},\"y_scale\":{\"id\":\"26bf8827-c5f3-43eb-a9a0-8b2509720b09\",\"type\":\"LinearScale\"}},\"id\":\"12c9bab1-656c-4921-ba78-12b9f57a7695\",\"subtype\":\"Figure\",\"type\":\"Plot\"},{\"attributes\":{\"callback\":null,\"end\":120.0},\"id\":\"7801dbd4-c30b-45f2-a9d7-d9d1fad03a01\",\"type\":\"Range1d\"},{\"attributes\":{\"callback\":null,\"column_names\":[\"y\",\"x\"],\"data\":{\"x\":{\"__ndarray__\":\"AAAAAAAAAAAAAAAAAAAAADMzMzMzMwNAMzMzMzMzA0AzMzMzMzMTQDMzMzMzMxNAzMzMzMzMHEDMzMzMzMwcQDMzMzMzMyNAMzMzMzMzI0AAAAAAAAAoQAAAAAAAAChAzMzMzMzMLEDMzMzMzMwsQM3MzMzMzDBAzczMzMzMMEAzMzMzMzMzQDMzMzMzMzNAmZmZmZmZNUCZmZmZmZk1QAAAAAAAADhAAAAAAAAAOEBmZmZmZmY6QGZmZmZmZjpAzMzMzMzMPEDMzMzMzMw8QDMzMzMzMz9AMzMzMzMzP0DNzMzMzMxAQM3MzMzMzEBAAAAAAAAAQkAAAAAAAABCQDMzMzMzM0NAMzMzMzMzQ0BmZmZmZmZEQGZmZmZmZkRAmZmZmZmZRUCZmZmZmZlFQM3MzMzMzEZAzczMzMzMRkAAAAAAAABIQAAAAAAAAEhAMzMzMzMzSUAzMzMzMzNJQGZmZmZmZkpAZmZmZmZmSkCZmZmZmZlLQJmZmZmZmUtAzMzMzMzMTEDMzMzMzMxMQAAAAAAAAE5AAAAAAAAATkAzMzMzMzNPQDMzMzMzM09AMzMzMzMzUEAzMzMzMzNQQM3MzMzMzFBAzczMzMzMUEBmZmZmZmZRQGZmZmZmZlFAAAAAAAAAUkAAAAAAAABSQJmZmZmZmVJAmZmZmZmZUkAzMzMzMzNTQDMzMzMzM1NAzczMzMzMU0DNzMzMzMxTQGZmZmZmZlRAZmZmZmZmVEAAAAAAAABVQAAAAAAAAFVAmZmZmZmZVUCZmZmZmZlVQDMzMzMzM1ZAMzMzMzMzVkDNzMzMzMxWQM3MzMzMzFZAZmZmZmZmV0BmZmZmZmZXQAAAAAAAAFhAAAAAAAAAWECZmZmZmZlYQJmZmZmZmVhAMzMzMzMzWUAzMzMzMzNZQM3MzMzMzFlAzczMzMzMWUBmZmZmZmZaQGZmZmZmZlpAAAAAAAAAW0AAAAAAAABbQJmZmZmZmVtAmZmZmZmZW0AzMzMzMzNcQDMzMzMzM1xAzMzMzMzMXEDMzMzMzMxcQGZmZmZmZl1AZmZmZmZmXUAAAAAAAABeQAAAAAAAAF5A\",\"dtype\":\"float64\",\"shape\":[102]},\"y\":{\"__ndarray__\":\"AAAAAAAAAAAAAAAAAAAuQAAAAAAAAC5AAAAAAAAAMUAAAAAAAAAxQAAAAAAAAERAAAAAAAAAREAAAAAAAAA8QAAAAAAAADxAAAAAAAAAMkAAAAAAAAAyQAAAAAAAADJAAAAAAAAAMkAAAAAAAAA4QAAAAAAAADhAAAAAAAAAOEAAAAAAAAA4QAAAAAAAACxAAAAAAAAALEAAAAAAAAAkQAAAAAAAACRAAAAAAAAAMkAAAAAAAAAyQAAAAAAAACxAAAAAAAAALEAAAAAAAAAUQAAAAAAAABRAAAAAAAAALkAAAAAAAAAuQAAAAAAAAABAAAAAAAAAAEAAAAAAAAAQQAAAAAAAABBAAAAAAAAAAEAAAAAAAAAAQAAAAAAAABhAAAAAAAAAGEAAAAAAAAAYQAAAAAAAABhAAAAAAAAAAEAAAAAAAAAAQAAAAAAAAAAAAAAAAAAAAAAAAAAAAAAgQAAAAAAAACBAAAAAAAAAAAAAAAAAAAAAAAAAAAAAAAAAAAAAAAAAAAAAAAAAAAAAQAAAAAAAAABAAAAAAAAAOEAAAAAAAAA4QAAAAAAAADRAAAAAAAAANEAAAAAAAAAYQAAAAAAAABhAAAAAAAAAMkAAAAAAAAAyQAAAAAAAADtAAAAAAAAAO0AAAAAAAAA8QAAAAAAAADxAAAAAAAAALkAAAAAAAAAuQAAAAAAAADlAAAAAAAAAOUAAAAAAAIBLQAAAAAAAgEtAAAAAAAAAPEAAAAAAAAA8QAAAAAAAgFpAAAAAAACAWkAAAAAAAIBvQAAAAAAAgG9AAAAAAADIg0AAAAAAAMiDQAAAAAAAgH1AAAAAAACAfUAAAAAAAMBnQAAAAAAAwGdAAAAAAACAQ0AAAAAAAIBDQAAAAAAAgENAAAAAAACAQ0AAAAAAAAAcQAAAAAAAABxAAAAAAAAAGEAAAAAAAAAYQAAAAAAAABhAAAAAAAAAGEAAAAAAAAAQQAAAAAAAABBAAAAAAAAAEEAAAAAAAAAQQAAAAAAAAAAAAAAAAAAAAAAAAAAAAAAAAAAAAAAAAAAAAAAAAAAAEEAAAAAAAAAQQAAAAAAAAAAA\",\"dtype\":\"float64\",\"shape\":[102]}}},\"id\":\"730e13f2-d236-4b55-9ce4-f689f894aa46\",\"type\":\"ColumnDataSource\"},{\"attributes\":{},\"id\":\"790ed9cc-daf9-4c6c-aa96-e0015d254988\",\"type\":\"HelpTool\"},{\"attributes\":{},\"id\":\"26bf8827-c5f3-43eb-a9a0-8b2509720b09\",\"type\":\"LinearScale\"},{\"attributes\":{\"plot\":{\"id\":\"12c9bab1-656c-4921-ba78-12b9f57a7695\",\"subtype\":\"Figure\",\"type\":\"Plot\"},\"ticker\":{\"id\":\"7b9357e9-641a-4594-8fbb-023d989e68c7\",\"type\":\"BasicTicker\"}},\"id\":\"f286b1a4-8fe8-48e4-9972-67acae750533\",\"type\":\"Grid\"},{\"attributes\":{\"fill_alpha\":0.1,\"fill_color\":\"#1f77b4\",\"line_alpha\":0.1,\"line_color\":\"#1f77b4\",\"x\":{\"field\":\"x\"},\"y\":{\"field\":\"y\"}},\"id\":\"1b96cf79-dcc4-42d0-95a6-c1367f994a6e\",\"type\":\"Patch\"},{\"attributes\":{\"overlay\":{\"id\":\"3d16237c-ed82-4d3c-bcdd-9a203502298d\",\"type\":\"BoxAnnotation\"}},\"id\":\"63222931-3bbc-403a-a6ca-d2aee91ede15\",\"type\":\"BoxZoomTool\"},{\"attributes\":{\"data_source\":{\"id\":\"730e13f2-d236-4b55-9ce4-f689f894aa46\",\"type\":\"ColumnDataSource\"},\"glyph\":{\"id\":\"194ae0bd-b168-4c51-95ab-bc2416712e63\",\"type\":\"Patch\"},\"hover_glyph\":null,\"muted_glyph\":null,\"nonselection_glyph\":{\"id\":\"1b96cf79-dcc4-42d0-95a6-c1367f994a6e\",\"type\":\"Patch\"},\"selection_glyph\":null,\"view\":{\"id\":\"b8bd48d0-ab5c-4638-9fd8-6fcbf64def1b\",\"type\":\"CDSView\"}},\"id\":\"6980d320-05b5-4ffc-a2c9-448110d31b8c\",\"type\":\"GlyphRenderer\"},{\"attributes\":{\"source\":{\"id\":\"730e13f2-d236-4b55-9ce4-f689f894aa46\",\"type\":\"ColumnDataSource\"}},\"id\":\"b8bd48d0-ab5c-4638-9fd8-6fcbf64def1b\",\"type\":\"CDSView\"},{\"attributes\":{},\"id\":\"4d295301-e4ab-439d-a65d-5eb27b8912c3\",\"type\":\"WheelZoomTool\"}],\"root_ids\":[\"12c9bab1-656c-4921-ba78-12b9f57a7695\"]},\"title\":\"Bokeh Application\",\"version\":\"0.12.11\"}};\n",
       "    var render_items = [{\"docid\":\"a8fbcb35-1b69-47c6-be10-9783c9a0598a\",\"elementid\":\"8b4d3ac7-779d-434c-b815-2101ab827a8f\",\"modelid\":\"12c9bab1-656c-4921-ba78-12b9f57a7695\"}];\n",
       "    root.Bokeh.embed.embed_items(docs_json, render_items);\n",
       "  }\n",
       "  if (root.Bokeh !== undefined) {\n",
       "    embed_document(root);\n",
       "  } else {\n",
       "    var attempts = 0;\n",
       "    var timer = setInterval(function(root) {\n",
       "      if (root.Bokeh !== undefined) {\n",
       "        embed_document(root);\n",
       "        clearInterval(timer);\n",
       "      }\n",
       "      attempts++;\n",
       "      if (attempts > 100) {\n",
       "        console.log(\"Bokeh: ERROR: Unable to embed document because BokehJS library is missing\")\n",
       "        clearInterval(timer);\n",
       "      }\n",
       "    }, 10, root)\n",
       "  }\n",
       "})(window);"
      ],
      "application/vnd.bokehjs_exec.v0+json": ""
     },
     "metadata": {
      "application/vnd.bokehjs_exec.v0+json": {
       "id": "12c9bab1-656c-4921-ba78-12b9f57a7695"
      }
     },
     "output_type": "display_data"
    }
   ],
   "source": [
    "show(Zmumu.hist(50, 0, 120, \"M\").bokeh.fig())"
   ]
  },
  {
   "cell_type": "markdown",
   "metadata": {},
   "source": [
    "## Do the functional chain thing\n",
    "\n",
    "I need to think of some better examples than this silly filter-and-plot!"
   ]
  },
  {
   "cell_type": "code",
   "execution_count": 7,
   "metadata": {},
   "outputs": [
    {
     "data": {
      "text/html": [
       "\n",
       "<div class=\"bk-root\">\n",
       "    <div class=\"bk-plotdiv\" id=\"68d0edbe-6dc1-4e12-a458-e849ad04a417\"></div>\n",
       "</div>"
      ]
     },
     "metadata": {},
     "output_type": "display_data"
    },
    {
     "data": {
      "application/javascript": [
       "(function(root) {\n",
       "  function embed_document(root) {\n",
       "    var docs_json = {\"c297036e-7116-480f-866f-30ee96647035\":{\"roots\":{\"references\":[{\"attributes\":{},\"id\":\"9889000d-1584-4c25-baf5-395dfb5aeea2\",\"type\":\"PanTool\"},{\"attributes\":{\"bottom_units\":\"screen\",\"fill_alpha\":{\"value\":0.5},\"fill_color\":{\"value\":\"lightgrey\"},\"left_units\":\"screen\",\"level\":\"overlay\",\"line_alpha\":{\"value\":1.0},\"line_color\":{\"value\":\"black\"},\"line_dash\":[4,4],\"line_width\":{\"value\":2},\"plot\":null,\"render_mode\":\"css\",\"right_units\":\"screen\",\"top_units\":\"screen\"},\"id\":\"c94dbe8d-a517-4504-822f-6070d29b4e0b\",\"type\":\"BoxAnnotation\"},{\"attributes\":{\"dimension\":1,\"plot\":{\"id\":\"12bf5c00-85f4-4f39-8772-de276edf9f77\",\"subtype\":\"Figure\",\"type\":\"Plot\"},\"ticker\":{\"id\":\"ff424540-48f0-4111-9905-6e65c974f6a5\",\"type\":\"BasicTicker\"}},\"id\":\"e74d1db9-7c14-4bd1-aca1-54670d77bc88\",\"type\":\"Grid\"},{\"attributes\":{},\"id\":\"a9a08936-e2aa-49a2-8d70-8cb4aad45ffc\",\"type\":\"SaveTool\"},{\"attributes\":{\"callback\":null,\"end\":696.3},\"id\":\"37b434be-9f65-47ef-8296-a15ef0b9d400\",\"type\":\"Range1d\"},{\"attributes\":{\"formatter\":{\"id\":\"fd85b691-76e1-4a6e-a5d8-9fe01ae1aaae\",\"type\":\"BasicTickFormatter\"},\"plot\":{\"id\":\"12bf5c00-85f4-4f39-8772-de276edf9f77\",\"subtype\":\"Figure\",\"type\":\"Plot\"},\"ticker\":{\"id\":\"ff424540-48f0-4111-9905-6e65c974f6a5\",\"type\":\"BasicTicker\"}},\"id\":\"843cb6c2-0b62-4470-9328-db2e25b0ec81\",\"type\":\"LinearAxis\"},{\"attributes\":{\"active_drag\":\"auto\",\"active_inspect\":\"auto\",\"active_scroll\":\"auto\",\"active_tap\":\"auto\",\"tools\":[{\"id\":\"9889000d-1584-4c25-baf5-395dfb5aeea2\",\"type\":\"PanTool\"},{\"id\":\"078a24f6-9397-4a76-ac75-48e763a33f42\",\"type\":\"WheelZoomTool\"},{\"id\":\"96549c5c-e00b-4376-a69a-dc6f9e4aa496\",\"type\":\"BoxZoomTool\"},{\"id\":\"a9a08936-e2aa-49a2-8d70-8cb4aad45ffc\",\"type\":\"SaveTool\"},{\"id\":\"d42fa5c4-2852-4b03-b110-a167d24f65a7\",\"type\":\"ResetTool\"},{\"id\":\"c4b134d1-ffb2-48f1-95de-b3dca15e4266\",\"type\":\"HelpTool\"}]},\"id\":\"b2ffb6d8-8141-488f-aa05-25bb09d23720\",\"type\":\"Toolbar\"},{\"attributes\":{},\"id\":\"fd85b691-76e1-4a6e-a5d8-9fe01ae1aaae\",\"type\":\"BasicTickFormatter\"},{\"attributes\":{\"fill_alpha\":0.25,\"fill_color\":\"#1f77b4\",\"line_color\":\"#1f77b4\",\"x\":{\"field\":\"x\"},\"y\":{\"field\":\"y\"}},\"id\":\"49385554-b28f-453e-91a4-f0f9a0b487ff\",\"type\":\"Patch\"},{\"attributes\":{\"data_source\":{\"id\":\"f70a886d-ad69-4288-81d6-7164d24c63a5\",\"type\":\"ColumnDataSource\"},\"glyph\":{\"id\":\"49385554-b28f-453e-91a4-f0f9a0b487ff\",\"type\":\"Patch\"},\"hover_glyph\":null,\"muted_glyph\":null,\"nonselection_glyph\":{\"id\":\"cc552157-bf1e-4dd9-b746-3fac983695aa\",\"type\":\"Patch\"},\"selection_glyph\":null,\"view\":{\"id\":\"1552aab0-8368-4e40-ad94-e292abddb6dc\",\"type\":\"CDSView\"}},\"id\":\"b7138c44-18ac-4636-9c1a-ae825a77b3b7\",\"type\":\"GlyphRenderer\"},{\"attributes\":{\"below\":[{\"id\":\"6bc6271b-24ae-4da2-adbb-233a4a46fdc0\",\"type\":\"LinearAxis\"}],\"left\":[{\"id\":\"843cb6c2-0b62-4470-9328-db2e25b0ec81\",\"type\":\"LinearAxis\"}],\"renderers\":[{\"id\":\"6bc6271b-24ae-4da2-adbb-233a4a46fdc0\",\"type\":\"LinearAxis\"},{\"id\":\"a1a6dc24-f74e-4486-b25c-7d31efa92334\",\"type\":\"Grid\"},{\"id\":\"843cb6c2-0b62-4470-9328-db2e25b0ec81\",\"type\":\"LinearAxis\"},{\"id\":\"e74d1db9-7c14-4bd1-aca1-54670d77bc88\",\"type\":\"Grid\"},{\"id\":\"c94dbe8d-a517-4504-822f-6070d29b4e0b\",\"type\":\"BoxAnnotation\"},{\"id\":\"b7138c44-18ac-4636-9c1a-ae825a77b3b7\",\"type\":\"GlyphRenderer\"}],\"title\":{\"id\":\"b3b9d3a3-f95a-46fc-acba-93abd403efb1\",\"type\":\"Title\"},\"toolbar\":{\"id\":\"b2ffb6d8-8141-488f-aa05-25bb09d23720\",\"type\":\"Toolbar\"},\"x_range\":{\"id\":\"b120e34b-74ce-4dd0-9b20-a036709e9cb9\",\"type\":\"Range1d\"},\"x_scale\":{\"id\":\"911d4682-b939-41a1-91c7-9f85f2c49df6\",\"type\":\"LinearScale\"},\"y_range\":{\"id\":\"37b434be-9f65-47ef-8296-a15ef0b9d400\",\"type\":\"Range1d\"},\"y_scale\":{\"id\":\"862d9e74-6363-42ca-b3e2-6027e81650ee\",\"type\":\"LinearScale\"}},\"id\":\"12bf5c00-85f4-4f39-8772-de276edf9f77\",\"subtype\":\"Figure\",\"type\":\"Plot\"},{\"attributes\":{},\"id\":\"ff424540-48f0-4111-9905-6e65c974f6a5\",\"type\":\"BasicTicker\"},{\"attributes\":{},\"id\":\"d42fa5c4-2852-4b03-b110-a167d24f65a7\",\"type\":\"ResetTool\"},{\"attributes\":{\"plot\":null,\"text\":\"\"},\"id\":\"b3b9d3a3-f95a-46fc-acba-93abd403efb1\",\"type\":\"Title\"},{\"attributes\":{},\"id\":\"1e6cefb4-87e9-4bdf-97d7-ea642aec82f9\",\"type\":\"BasicTickFormatter\"},{\"attributes\":{\"formatter\":{\"id\":\"1e6cefb4-87e9-4bdf-97d7-ea642aec82f9\",\"type\":\"BasicTickFormatter\"},\"plot\":{\"id\":\"12bf5c00-85f4-4f39-8772-de276edf9f77\",\"subtype\":\"Figure\",\"type\":\"Plot\"},\"ticker\":{\"id\":\"77d612d9-f758-45a9-8ae4-3e869ad8ae8a\",\"type\":\"BasicTicker\"}},\"id\":\"6bc6271b-24ae-4da2-adbb-233a4a46fdc0\",\"type\":\"LinearAxis\"},{\"attributes\":{},\"id\":\"c4b134d1-ffb2-48f1-95de-b3dca15e4266\",\"type\":\"HelpTool\"},{\"attributes\":{},\"id\":\"77d612d9-f758-45a9-8ae4-3e869ad8ae8a\",\"type\":\"BasicTicker\"},{\"attributes\":{},\"id\":\"862d9e74-6363-42ca-b3e2-6027e81650ee\",\"type\":\"LinearScale\"},{\"attributes\":{\"callback\":null,\"end\":120.0},\"id\":\"b120e34b-74ce-4dd0-9b20-a036709e9cb9\",\"type\":\"Range1d\"},{\"attributes\":{\"plot\":{\"id\":\"12bf5c00-85f4-4f39-8772-de276edf9f77\",\"subtype\":\"Figure\",\"type\":\"Plot\"},\"ticker\":{\"id\":\"77d612d9-f758-45a9-8ae4-3e869ad8ae8a\",\"type\":\"BasicTicker\"}},\"id\":\"a1a6dc24-f74e-4486-b25c-7d31efa92334\",\"type\":\"Grid\"},{\"attributes\":{\"source\":{\"id\":\"f70a886d-ad69-4288-81d6-7164d24c63a5\",\"type\":\"ColumnDataSource\"}},\"id\":\"1552aab0-8368-4e40-ad94-e292abddb6dc\",\"type\":\"CDSView\"},{\"attributes\":{\"overlay\":{\"id\":\"c94dbe8d-a517-4504-822f-6070d29b4e0b\",\"type\":\"BoxAnnotation\"}},\"id\":\"96549c5c-e00b-4376-a69a-dc6f9e4aa496\",\"type\":\"BoxZoomTool\"},{\"attributes\":{},\"id\":\"078a24f6-9397-4a76-ac75-48e763a33f42\",\"type\":\"WheelZoomTool\"},{\"attributes\":{},\"id\":\"911d4682-b939-41a1-91c7-9f85f2c49df6\",\"type\":\"LinearScale\"},{\"attributes\":{\"fill_alpha\":0.1,\"fill_color\":\"#1f77b4\",\"line_alpha\":0.1,\"line_color\":\"#1f77b4\",\"x\":{\"field\":\"x\"},\"y\":{\"field\":\"y\"}},\"id\":\"cc552157-bf1e-4dd9-b746-3fac983695aa\",\"type\":\"Patch\"},{\"attributes\":{\"callback\":null,\"column_names\":[\"y\",\"x\"],\"data\":{\"x\":{\"__ndarray__\":\"AAAAAAAAAAAAAAAAAAAAADMzMzMzMwNAMzMzMzMzA0AzMzMzMzMTQDMzMzMzMxNAzMzMzMzMHEDMzMzMzMwcQDMzMzMzMyNAMzMzMzMzI0AAAAAAAAAoQAAAAAAAAChAzMzMzMzMLEDMzMzMzMwsQM3MzMzMzDBAzczMzMzMMEAzMzMzMzMzQDMzMzMzMzNAmZmZmZmZNUCZmZmZmZk1QAAAAAAAADhAAAAAAAAAOEBmZmZmZmY6QGZmZmZmZjpAzMzMzMzMPEDMzMzMzMw8QDMzMzMzMz9AMzMzMzMzP0DNzMzMzMxAQM3MzMzMzEBAAAAAAAAAQkAAAAAAAABCQDMzMzMzM0NAMzMzMzMzQ0BmZmZmZmZEQGZmZmZmZkRAmZmZmZmZRUCZmZmZmZlFQM3MzMzMzEZAzczMzMzMRkAAAAAAAABIQAAAAAAAAEhAMzMzMzMzSUAzMzMzMzNJQGZmZmZmZkpAZmZmZmZmSkCZmZmZmZlLQJmZmZmZmUtAzMzMzMzMTEDMzMzMzMxMQAAAAAAAAE5AAAAAAAAATkAzMzMzMzNPQDMzMzMzM09AMzMzMzMzUEAzMzMzMzNQQM3MzMzMzFBAzczMzMzMUEBmZmZmZmZRQGZmZmZmZlFAAAAAAAAAUkAAAAAAAABSQJmZmZmZmVJAmZmZmZmZUkAzMzMzMzNTQDMzMzMzM1NAzczMzMzMU0DNzMzMzMxTQGZmZmZmZlRAZmZmZmZmVEAAAAAAAABVQAAAAAAAAFVAmZmZmZmZVUCZmZmZmZlVQDMzMzMzM1ZAMzMzMzMzVkDNzMzMzMxWQM3MzMzMzFZAZmZmZmZmV0BmZmZmZmZXQAAAAAAAAFhAAAAAAAAAWECZmZmZmZlYQJmZmZmZmVhAMzMzMzMzWUAzMzMzMzNZQM3MzMzMzFlAzczMzMzMWUBmZmZmZmZaQGZmZmZmZlpAAAAAAAAAW0AAAAAAAABbQJmZmZmZmVtAmZmZmZmZW0AzMzMzMzNcQDMzMzMzM1xAzMzMzMzMXEDMzMzMzMxcQGZmZmZmZl1AZmZmZmZmXUAAAAAAAABeQAAAAAAAAF5A\",\"dtype\":\"float64\",\"shape\":[102]},\"y\":{\"__ndarray__\":\"AAAAAAAAAAAAAAAAAAAAAAAAAAAAAAAAAAAAAAAAAEAAAAAAAAAAQAAAAAAAABBAAAAAAAAAEEAAAAAAAAAAAAAAAAAAAAAAAAAAAAAAAAAAAAAAAAAAAAAAAAAAAAAAAAAAAAAAAAAAAAAAAAAAAAAAAAAAAAAAAAAAAAAAGEAAAAAAAAAYQAAAAAAAAABAAAAAAAAAAEAAAAAAAAAAAAAAAAAAAAAAAAAAAAAAAEAAAAAAAAAAQAAAAAAAAAAAAAAAAAAAAAAAAAAAAAAAAAAAAAAAAAAAAAAAAAAAAEAAAAAAAAAAQAAAAAAAAAAAAAAAAAAAAAAAAAAAAAAAAAAAAAAAAAAAAAAAAAAAAEAAAAAAAAAAQAAAAAAAAABAAAAAAAAAAEAAAAAAAAAAQAAAAAAAAABAAAAAAAAAAAAAAAAAAAAAAAAAAAAAAAAAAAAAAAAAAAAAAAAAAAAgQAAAAAAAACBAAAAAAAAAAAAAAAAAAAAAAAAAAAAAAAAAAAAAAAAAAAAAAAAAAAAAAAAAAAAAAAAAAAAAAAAAOEAAAAAAAAA4QAAAAAAAADRAAAAAAAAANEAAAAAAAAAQQAAAAAAAABBAAAAAAAAAMEAAAAAAAAAwQAAAAAAAADtAAAAAAAAAO0AAAAAAAAA8QAAAAAAAADxAAAAAAAAALkAAAAAAAAAuQAAAAAAAADlAAAAAAAAAOUAAAAAAAIBLQAAAAAAAgEtAAAAAAAAAPEAAAAAAAAA8QAAAAAAAgFpAAAAAAACAWkAAAAAAAIBvQAAAAAAAgG9AAAAAAADIg0AAAAAAAMiDQAAAAAAAgH1AAAAAAACAfUAAAAAAAMBnQAAAAAAAwGdAAAAAAACAQ0AAAAAAAIBDQAAAAAAAgENAAAAAAACAQ0AAAAAAAAAcQAAAAAAAABxAAAAAAAAAGEAAAAAAAAAYQAAAAAAAABhAAAAAAAAAGEAAAAAAAAAQQAAAAAAAABBAAAAAAAAAEEAAAAAAAAAQQAAAAAAAAAAAAAAAAAAAAAAAAAAAAAAAAAAAAAAAAAAAAAAAAAAAEEAAAAAAAAAQQAAAAAAAAAAA\",\"dtype\":\"float64\",\"shape\":[102]}}},\"id\":\"f70a886d-ad69-4288-81d6-7164d24c63a5\",\"type\":\"ColumnDataSource\"}],\"root_ids\":[\"12bf5c00-85f4-4f39-8772-de276edf9f77\"]},\"title\":\"Bokeh Application\",\"version\":\"0.12.11\"}};\n",
       "    var render_items = [{\"docid\":\"c297036e-7116-480f-866f-30ee96647035\",\"elementid\":\"68d0edbe-6dc1-4e12-a458-e849ad04a417\",\"modelid\":\"12bf5c00-85f4-4f39-8772-de276edf9f77\"}];\n",
       "    root.Bokeh.embed.embed_items(docs_json, render_items);\n",
       "  }\n",
       "  if (root.Bokeh !== undefined) {\n",
       "    embed_document(root);\n",
       "  } else {\n",
       "    var attempts = 0;\n",
       "    var timer = setInterval(function(root) {\n",
       "      if (root.Bokeh !== undefined) {\n",
       "        embed_document(root);\n",
       "        clearInterval(timer);\n",
       "      }\n",
       "      attempts++;\n",
       "      if (attempts > 100) {\n",
       "        console.log(\"Bokeh: ERROR: Unable to embed document because BokehJS library is missing\")\n",
       "        clearInterval(timer);\n",
       "      }\n",
       "    }, 10, root)\n",
       "  }\n",
       "})(window);"
      ],
      "application/vnd.bokehjs_exec.v0+json": ""
     },
     "metadata": {
      "application/vnd.bokehjs_exec.v0+json": {
       "id": "12bf5c00-85f4-4f39-8772-de276edf9f77"
      }
     },
     "output_type": "display_data"
    }
   ],
   "source": [
    "show(Zmumu.filter(\"E1 > 10 and E2 > 10\").hist(50, 0, 120, \"M\").bokeh.fig())"
   ]
  },
  {
   "cell_type": "markdown",
   "metadata": {},
   "source": [
    "## This Higgz to ZZ file has some jagged arrays in it\n",
    "\n",
    "[See Wikipedia](https://en.wikipedia.org/wiki/Jagged_array) for more about jagged arrays."
   ]
  },
  {
   "cell_type": "code",
   "execution_count": 8,
   "metadata": {},
   "outputs": [
    {
     "data": {
      "text/plain": [
       "['events;1']"
      ]
     },
     "execution_count": 8,
     "metadata": {},
     "output_type": "execute_result"
    }
   ],
   "source": [
    "uproot.open(\"tests/samples/HZZ.root\").keys()"
   ]
  },
  {
   "cell_type": "code",
   "execution_count": 9,
   "metadata": {
    "collapsed": true
   },
   "outputs": [],
   "source": [
    "HZZ = uproot.open(\"tests/samples/HZZ.root\")[\"events\"]"
   ]
  },
  {
   "cell_type": "code",
   "execution_count": 10,
   "metadata": {},
   "outputs": [
    {
     "name": "stdout",
     "output_type": "stream",
     "text": [
      "NJet                       (no streamer)              asdtype('>i4')\n",
      "Jet_Px                     (no streamer)              asjagged(asdtype('>f4'))\n",
      "Jet_Py                     (no streamer)              asjagged(asdtype('>f4'))\n",
      "Jet_Pz                     (no streamer)              asjagged(asdtype('>f4'))\n",
      "Jet_E                      (no streamer)              asjagged(asdtype('>f4'))\n",
      "Jet_btag                   (no streamer)              asjagged(asdtype('>f4'))\n",
      "Jet_ID                     (no streamer)              asjagged(asdtype(dtype('bool')))\n",
      "NMuon                      (no streamer)              asdtype('>i4')\n",
      "Muon_Px                    (no streamer)              asjagged(asdtype('>f4'))\n",
      "Muon_Py                    (no streamer)              asjagged(asdtype('>f4'))\n",
      "Muon_Pz                    (no streamer)              asjagged(asdtype('>f4'))\n",
      "Muon_E                     (no streamer)              asjagged(asdtype('>f4'))\n",
      "Muon_Charge                (no streamer)              asjagged(asdtype('>i4'))\n",
      "Muon_Iso                   (no streamer)              asjagged(asdtype('>f4'))\n",
      "NElectron                  (no streamer)              asdtype('>i4')\n",
      "Electron_Px                (no streamer)              asjagged(asdtype('>f4'))\n",
      "Electron_Py                (no streamer)              asjagged(asdtype('>f4'))\n",
      "Electron_Pz                (no streamer)              asjagged(asdtype('>f4'))\n",
      "Electron_E                 (no streamer)              asjagged(asdtype('>f4'))\n",
      "Electron_Charge            (no streamer)              asjagged(asdtype('>i4'))\n",
      "Electron_Iso               (no streamer)              asjagged(asdtype('>f4'))\n",
      "NPhoton                    (no streamer)              asdtype('>i4')\n",
      "Photon_Px                  (no streamer)              asjagged(asdtype('>f4'))\n",
      "Photon_Py                  (no streamer)              asjagged(asdtype('>f4'))\n",
      "Photon_Pz                  (no streamer)              asjagged(asdtype('>f4'))\n",
      "Photon_E                   (no streamer)              asjagged(asdtype('>f4'))\n",
      "Photon_Iso                 (no streamer)              asjagged(asdtype('>f4'))\n",
      "MET_px                     (no streamer)              asdtype('>f4')\n",
      "MET_py                     (no streamer)              asdtype('>f4')\n",
      "MChadronicBottom_px        (no streamer)              asdtype('>f4')\n",
      "MChadronicBottom_py        (no streamer)              asdtype('>f4')\n",
      "MChadronicBottom_pz        (no streamer)              asdtype('>f4')\n",
      "MCleptonicBottom_px        (no streamer)              asdtype('>f4')\n",
      "MCleptonicBottom_py        (no streamer)              asdtype('>f4')\n",
      "MCleptonicBottom_pz        (no streamer)              asdtype('>f4')\n",
      "MChadronicWDecayQuark_px   (no streamer)              asdtype('>f4')\n",
      "MChadronicWDecayQuark_py   (no streamer)              asdtype('>f4')\n",
      "MChadronicWDecayQuark_pz   (no streamer)              asdtype('>f4')\n",
      "MChadronicWDecayQuarkBar_px\n",
      "                           (no streamer)              asdtype('>f4')\n",
      "MChadronicWDecayQuarkBar_py\n",
      "                           (no streamer)              asdtype('>f4')\n",
      "MChadronicWDecayQuarkBar_pz\n",
      "                           (no streamer)              asdtype('>f4')\n",
      "MClepton_px                (no streamer)              asdtype('>f4')\n",
      "MClepton_py                (no streamer)              asdtype('>f4')\n",
      "MClepton_pz                (no streamer)              asdtype('>f4')\n",
      "MCleptonPDGid              (no streamer)              asdtype('>i4')\n",
      "MCneutrino_px              (no streamer)              asdtype('>f4')\n",
      "MCneutrino_py              (no streamer)              asdtype('>f4')\n",
      "MCneutrino_pz              (no streamer)              asdtype('>f4')\n",
      "NPrimaryVertices           (no streamer)              asdtype('>i4')\n",
      "triggerIsoMu24             (no streamer)              asdtype(dtype('bool'))\n",
      "EventWeight                (no streamer)              asdtype('>f4')\n"
     ]
    }
   ],
   "source": [
    "HZZ.show()"
   ]
  },
  {
   "cell_type": "markdown",
   "metadata": {},
   "source": [
    "## Making a plot the old fashioned way, by nested for loops\n",
    "\n",
    "There ought to be a clever way to express this functionally, but for now we demonstrate that you can do it, if you want to.\n",
    "\n",
    "The performance of this code should be exactly the same as writing a C program, compiling it, and running it, because that's essentially what's happening with the `@numba.njit`. The beauty of this is that you don't have to leave Python, set up the compilation, etc., etc. You put these functions inline with the rest of your Python-based analysis code."
   ]
  },
  {
   "cell_type": "code",
   "execution_count": 11,
   "metadata": {
    "collapsed": true
   },
   "outputs": [],
   "source": [
    "import numba\n",
    "from math import sqrt\n",
    "\n",
    "@numba.njit\n",
    "def fillhist(dimuon_hist, quadmuon_hist, NMuon, Muon_Px, Muon_Py, Muon_Pz, Muon_E):   # have to pass in the histograms to be able to modify them\n",
    "    for event_i in range(len(NMuon)):\n",
    "        totE  = 0.0\n",
    "        totPx = 0.0\n",
    "        totPy = 0.0\n",
    "        totPz = 0.0\n",
    "        for muon_i in range(NMuon[event_i]):                                          # range(jagged array member) is an optimized function\n",
    "            for muon_j in range(muon_i + 1, NMuon[event_i]):\n",
    "                E  = Muon_E[event_i][muon_i]  + Muon_E[event_i][muon_j]               # subarray extraction is optimized, too\n",
    "                Px = Muon_Px[event_i][muon_i] + Muon_Px[event_i][muon_j]\n",
    "                Py = Muon_Py[event_i][muon_i] + Muon_Py[event_i][muon_j]\n",
    "                Pz = Muon_Pz[event_i][muon_i] + Muon_Pz[event_i][muon_j]\n",
    "                dimuon_hist.fill(sqrt(E**2 - Px**2 - Py**2 - Pz**2))                  # histogram filling (and fillw for weights) are optimized\n",
    "            totE  += Muon_E[event_i][muon_i]\n",
    "            totPx += Muon_Px[event_i][muon_i]\n",
    "            totPy += Muon_Py[event_i][muon_i]\n",
    "            totPz += Muon_Pz[event_i][muon_i]\n",
    "            quadmuon_hist.fill(totE**2 - totPx**2 - totPy**2 - totPz**2)\n",
    "    return dimuon_hist, quadmuon_hist                                                 # have to return the histograms to get the updates"
   ]
  },
  {
   "cell_type": "code",
   "execution_count": 12,
   "metadata": {
    "collapsed": true
   },
   "outputs": [],
   "source": [
    "dimuon_hist, quadmuon_hist = fillhist(uproot.hist(100, 60, 160), uproot.hist(100, 60, 160), *HZZ.arrays([\"NMuon\", \"Muon_Px\", \"Muon_Py\", \"Muon_Pz\", \"Muon_E\"], outputtype=tuple))"
   ]
  },
  {
   "cell_type": "code",
   "execution_count": 13,
   "metadata": {},
   "outputs": [
    {
     "data": {
      "text/html": [
       "\n",
       "<div class=\"bk-root\">\n",
       "    <div class=\"bk-plotdiv\" id=\"771d6f8f-4a07-4652-9b4e-b2cc32302e41\"></div>\n",
       "</div>"
      ]
     },
     "metadata": {},
     "output_type": "display_data"
    },
    {
     "data": {
      "application/javascript": [
       "(function(root) {\n",
       "  function embed_document(root) {\n",
       "    var docs_json = {\"2ab3b4ec-895f-412d-b5f9-d25ce7cc581a\":{\"roots\":{\"references\":[{\"attributes\":{\"fill_alpha\":0.1,\"fill_color\":\"#1f77b4\",\"line_alpha\":0.1,\"line_color\":\"#1f77b4\",\"x\":{\"field\":\"x\"},\"y\":{\"field\":\"y\"}},\"id\":\"a0359e3c-dac7-44c9-b24d-32753a0b29f0\",\"type\":\"Patch\"},{\"attributes\":{},\"id\":\"80b257f3-0af6-406a-aced-e2194ab3607a\",\"type\":\"LinearScale\"},{\"attributes\":{\"data_source\":{\"id\":\"a1fc8dd8-a144-4d21-9a58-998046824a11\",\"type\":\"ColumnDataSource\"},\"glyph\":{\"id\":\"caadd91b-6cd5-487b-bc24-8c8d0faa65e5\",\"type\":\"Patch\"},\"hover_glyph\":null,\"muted_glyph\":null,\"nonselection_glyph\":{\"id\":\"a0359e3c-dac7-44c9-b24d-32753a0b29f0\",\"type\":\"Patch\"},\"selection_glyph\":null,\"view\":{\"id\":\"48315184-0017-4df4-b41b-4ec31d8ecb6c\",\"type\":\"CDSView\"}},\"id\":\"00984faa-5904-402b-85c4-4f10b62be5ec\",\"type\":\"GlyphRenderer\"},{\"attributes\":{},\"id\":\"f015568a-a8c5-45a4-bff5-84c29176cd56\",\"type\":\"ResetTool\"},{\"attributes\":{\"plot\":null,\"text\":\"\"},\"id\":\"4dc76635-2a17-4d19-b8a3-8d17eeeb0e3c\",\"type\":\"Title\"},{\"attributes\":{\"callback\":null,\"column_names\":[\"y\",\"x\"],\"data\":{\"x\":{\"__ndarray__\":\"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\",\"dtype\":\"float64\",\"shape\":[202]},\"y\":{\"__ndarray__\":\"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\",\"dtype\":\"float64\",\"shape\":[202]}}},\"id\":\"a1fc8dd8-a144-4d21-9a58-998046824a11\",\"type\":\"ColumnDataSource\"},{\"attributes\":{},\"id\":\"f279c571-97f7-47bf-aafb-b00cfad07d6c\",\"type\":\"WheelZoomTool\"},{\"attributes\":{\"overlay\":{\"id\":\"8431e07e-24a6-4866-93be-de778f607735\",\"type\":\"BoxAnnotation\"}},\"id\":\"4b51e140-5947-4930-957b-45a0a79e3d22\",\"type\":\"BoxZoomTool\"},{\"attributes\":{},\"id\":\"ee00f1db-b130-4794-a57e-24b8261c7c17\",\"type\":\"BasicTickFormatter\"},{\"attributes\":{\"source\":{\"id\":\"a1fc8dd8-a144-4d21-9a58-998046824a11\",\"type\":\"ColumnDataSource\"}},\"id\":\"48315184-0017-4df4-b41b-4ec31d8ecb6c\",\"type\":\"CDSView\"},{\"attributes\":{\"below\":[{\"id\":\"57011657-95c8-4010-b973-986417e7b499\",\"type\":\"LinearAxis\"}],\"left\":[{\"id\":\"46f17a80-9bfa-4707-a4c9-4ab4e3b0b02f\",\"type\":\"LinearAxis\"}],\"renderers\":[{\"id\":\"57011657-95c8-4010-b973-986417e7b499\",\"type\":\"LinearAxis\"},{\"id\":\"4b7585d3-3146-49cb-b0bd-7364f7c1ef7a\",\"type\":\"Grid\"},{\"id\":\"46f17a80-9bfa-4707-a4c9-4ab4e3b0b02f\",\"type\":\"LinearAxis\"},{\"id\":\"ef35c032-317a-44c5-86c6-4d99b5fae48a\",\"type\":\"Grid\"},{\"id\":\"8431e07e-24a6-4866-93be-de778f607735\",\"type\":\"BoxAnnotation\"},{\"id\":\"00984faa-5904-402b-85c4-4f10b62be5ec\",\"type\":\"GlyphRenderer\"}],\"title\":{\"id\":\"4dc76635-2a17-4d19-b8a3-8d17eeeb0e3c\",\"type\":\"Title\"},\"toolbar\":{\"id\":\"e2202506-4672-4039-9ebc-b79b175d04c8\",\"type\":\"Toolbar\"},\"x_range\":{\"id\":\"68475995-5cb3-4ef6-a95f-fa1535ee8aef\",\"type\":\"Range1d\"},\"x_scale\":{\"id\":\"80b257f3-0af6-406a-aced-e2194ab3607a\",\"type\":\"LinearScale\"},\"y_range\":{\"id\":\"bc691810-484c-4700-8ad9-7bbca15ae612\",\"type\":\"Range1d\"},\"y_scale\":{\"id\":\"64bc1efd-3b92-4157-9f09-a52aa4eab2fd\",\"type\":\"LinearScale\"}},\"id\":\"4f38ea59-98c7-4849-8749-d515055a983a\",\"subtype\":\"Figure\",\"type\":\"Plot\"},{\"attributes\":{},\"id\":\"9a5804c2-475f-4a12-b19c-c2b428e654c0\",\"type\":\"BasicTicker\"},{\"attributes\":{\"dimension\":1,\"plot\":{\"id\":\"4f38ea59-98c7-4849-8749-d515055a983a\",\"subtype\":\"Figure\",\"type\":\"Plot\"},\"ticker\":{\"id\":\"9a5804c2-475f-4a12-b19c-c2b428e654c0\",\"type\":\"BasicTicker\"}},\"id\":\"ef35c032-317a-44c5-86c6-4d99b5fae48a\",\"type\":\"Grid\"},{\"attributes\":{\"callback\":null,\"end\":160.0,\"start\":60.0},\"id\":\"68475995-5cb3-4ef6-a95f-fa1535ee8aef\",\"type\":\"Range1d\"},{\"attributes\":{\"callback\":null,\"end\":218.9},\"id\":\"bc691810-484c-4700-8ad9-7bbca15ae612\",\"type\":\"Range1d\"},{\"attributes\":{\"active_drag\":\"auto\",\"active_inspect\":\"auto\",\"active_scroll\":\"auto\",\"active_tap\":\"auto\",\"tools\":[{\"id\":\"fe847bf6-c608-4126-9b11-aacba792a751\",\"type\":\"PanTool\"},{\"id\":\"f279c571-97f7-47bf-aafb-b00cfad07d6c\",\"type\":\"WheelZoomTool\"},{\"id\":\"4b51e140-5947-4930-957b-45a0a79e3d22\",\"type\":\"BoxZoomTool\"},{\"id\":\"518cd44e-06d0-4f39-88a5-391ef927911c\",\"type\":\"SaveTool\"},{\"id\":\"f015568a-a8c5-45a4-bff5-84c29176cd56\",\"type\":\"ResetTool\"},{\"id\":\"19b0ece8-4969-48c2-974d-ae6c178e29d1\",\"type\":\"HelpTool\"}]},\"id\":\"e2202506-4672-4039-9ebc-b79b175d04c8\",\"type\":\"Toolbar\"},{\"attributes\":{\"formatter\":{\"id\":\"67bd9da1-a087-4b82-b569-f6284488363b\",\"type\":\"BasicTickFormatter\"},\"plot\":{\"id\":\"4f38ea59-98c7-4849-8749-d515055a983a\",\"subtype\":\"Figure\",\"type\":\"Plot\"},\"ticker\":{\"id\":\"9a5804c2-475f-4a12-b19c-c2b428e654c0\",\"type\":\"BasicTicker\"}},\"id\":\"46f17a80-9bfa-4707-a4c9-4ab4e3b0b02f\",\"type\":\"LinearAxis\"},{\"attributes\":{},\"id\":\"fe847bf6-c608-4126-9b11-aacba792a751\",\"type\":\"PanTool\"},{\"attributes\":{},\"id\":\"64bc1efd-3b92-4157-9f09-a52aa4eab2fd\",\"type\":\"LinearScale\"},{\"attributes\":{},\"id\":\"19b0ece8-4969-48c2-974d-ae6c178e29d1\",\"type\":\"HelpTool\"},{\"attributes\":{\"bottom_units\":\"screen\",\"fill_alpha\":{\"value\":0.5},\"fill_color\":{\"value\":\"lightgrey\"},\"left_units\":\"screen\",\"level\":\"overlay\",\"line_alpha\":{\"value\":1.0},\"line_color\":{\"value\":\"black\"},\"line_dash\":[4,4],\"line_width\":{\"value\":2},\"plot\":null,\"render_mode\":\"css\",\"right_units\":\"screen\",\"top_units\":\"screen\"},\"id\":\"8431e07e-24a6-4866-93be-de778f607735\",\"type\":\"BoxAnnotation\"},{\"attributes\":{\"fill_alpha\":0.25,\"fill_color\":\"#1f77b4\",\"line_color\":\"#1f77b4\",\"x\":{\"field\":\"x\"},\"y\":{\"field\":\"y\"}},\"id\":\"caadd91b-6cd5-487b-bc24-8c8d0faa65e5\",\"type\":\"Patch\"},{\"attributes\":{\"formatter\":{\"id\":\"ee00f1db-b130-4794-a57e-24b8261c7c17\",\"type\":\"BasicTickFormatter\"},\"plot\":{\"id\":\"4f38ea59-98c7-4849-8749-d515055a983a\",\"subtype\":\"Figure\",\"type\":\"Plot\"},\"ticker\":{\"id\":\"d9ee0527-3283-46bd-a12b-78ad1219359f\",\"type\":\"BasicTicker\"}},\"id\":\"57011657-95c8-4010-b973-986417e7b499\",\"type\":\"LinearAxis\"},{\"attributes\":{},\"id\":\"67bd9da1-a087-4b82-b569-f6284488363b\",\"type\":\"BasicTickFormatter\"},{\"attributes\":{\"plot\":{\"id\":\"4f38ea59-98c7-4849-8749-d515055a983a\",\"subtype\":\"Figure\",\"type\":\"Plot\"},\"ticker\":{\"id\":\"d9ee0527-3283-46bd-a12b-78ad1219359f\",\"type\":\"BasicTicker\"}},\"id\":\"4b7585d3-3146-49cb-b0bd-7364f7c1ef7a\",\"type\":\"Grid\"},{\"attributes\":{},\"id\":\"518cd44e-06d0-4f39-88a5-391ef927911c\",\"type\":\"SaveTool\"},{\"attributes\":{},\"id\":\"d9ee0527-3283-46bd-a12b-78ad1219359f\",\"type\":\"BasicTicker\"}],\"root_ids\":[\"4f38ea59-98c7-4849-8749-d515055a983a\"]},\"title\":\"Bokeh Application\",\"version\":\"0.12.11\"}};\n",
       "    var render_items = [{\"docid\":\"2ab3b4ec-895f-412d-b5f9-d25ce7cc581a\",\"elementid\":\"771d6f8f-4a07-4652-9b4e-b2cc32302e41\",\"modelid\":\"4f38ea59-98c7-4849-8749-d515055a983a\"}];\n",
       "    root.Bokeh.embed.embed_items(docs_json, render_items);\n",
       "  }\n",
       "  if (root.Bokeh !== undefined) {\n",
       "    embed_document(root);\n",
       "  } else {\n",
       "    var attempts = 0;\n",
       "    var timer = setInterval(function(root) {\n",
       "      if (root.Bokeh !== undefined) {\n",
       "        embed_document(root);\n",
       "        clearInterval(timer);\n",
       "      }\n",
       "      attempts++;\n",
       "      if (attempts > 100) {\n",
       "        console.log(\"Bokeh: ERROR: Unable to embed document because BokehJS library is missing\")\n",
       "        clearInterval(timer);\n",
       "      }\n",
       "    }, 10, root)\n",
       "  }\n",
       "})(window);"
      ],
      "application/vnd.bokehjs_exec.v0+json": ""
     },
     "metadata": {
      "application/vnd.bokehjs_exec.v0+json": {
       "id": "4f38ea59-98c7-4849-8749-d515055a983a"
      }
     },
     "output_type": "display_data"
    }
   ],
   "source": [
    "show(dimuon_hist.bokeh.fig())"
   ]
  },
  {
   "cell_type": "code",
   "execution_count": 14,
   "metadata": {},
   "outputs": [
    {
     "data": {
      "text/html": [
       "\n",
       "<div class=\"bk-root\">\n",
       "    <div class=\"bk-plotdiv\" id=\"d2d2bb31-de4f-4640-9909-9c5998fd15a4\"></div>\n",
       "</div>"
      ]
     },
     "metadata": {},
     "output_type": "display_data"
    },
    {
     "data": {
      "application/javascript": [
       "(function(root) {\n",
       "  function embed_document(root) {\n",
       "    var docs_json = {\"5d734c4d-d557-4567-b0c0-6c52bec8da40\":{\"roots\":{\"references\":[{\"attributes\":{\"callback\":null,\"end\":1.1},\"id\":\"62d9904e-fb8a-4e60-8d92-f7ba1ff189b8\",\"type\":\"Range1d\"},{\"attributes\":{},\"id\":\"7afc052f-c982-48e6-bfba-7e65a9c4ce58\",\"type\":\"WheelZoomTool\"},{\"attributes\":{\"overlay\":{\"id\":\"f392e2f4-a6ea-429a-ad8f-a6d268b0defe\",\"type\":\"BoxAnnotation\"}},\"id\":\"144693f6-ae2d-46e7-92fd-65c76926c7db\",\"type\":\"BoxZoomTool\"},{\"attributes\":{\"formatter\":{\"id\":\"a22bbb33-d53f-4b67-ab63-2432fe91a7ac\",\"type\":\"BasicTickFormatter\"},\"plot\":{\"id\":\"2292941c-2989-4010-8792-ecbba51ce29f\",\"subtype\":\"Figure\",\"type\":\"Plot\"},\"ticker\":{\"id\":\"a9590f1f-fa01-40be-8b99-7f09de2abb4c\",\"type\":\"BasicTicker\"}},\"id\":\"ee0d85f7-4a84-49de-bc45-fa4ad642d3e2\",\"type\":\"LinearAxis\"},{\"attributes\":{},\"id\":\"14e2462e-da7a-4ff7-9889-d93f6b52b0be\",\"type\":\"LinearScale\"},{\"attributes\":{\"callback\":null,\"end\":160.0,\"start\":60.0},\"id\":\"32d11037-4ecd-48f6-b0b8-d5f38c0e5ead\",\"type\":\"Range1d\"},{\"attributes\":{\"plot\":{\"id\":\"2292941c-2989-4010-8792-ecbba51ce29f\",\"subtype\":\"Figure\",\"type\":\"Plot\"},\"ticker\":{\"id\":\"2c22dac9-4a3f-4b11-a3ea-792025f575f9\",\"type\":\"BasicTicker\"}},\"id\":\"d363a6de-e4a6-4b36-b876-d8b89d6dc00c\",\"type\":\"Grid\"},{\"attributes\":{},\"id\":\"11c1d15a-c239-4381-b6bc-519b76acbe6e\",\"type\":\"ResetTool\"},{\"attributes\":{\"fill_alpha\":0.1,\"fill_color\":\"#1f77b4\",\"line_alpha\":0.1,\"line_color\":\"#1f77b4\",\"x\":{\"field\":\"x\"},\"y\":{\"field\":\"y\"}},\"id\":\"45d2171a-46cb-456c-b7d1-507f56580f27\",\"type\":\"Patch\"},{\"attributes\":{\"source\":{\"id\":\"e38f2716-ecb5-44ca-a55c-071b5c54e9a0\",\"type\":\"ColumnDataSource\"}},\"id\":\"5a366f58-8f9b-4b42-ab48-9f11f639576d\",\"type\":\"CDSView\"},{\"attributes\":{\"bottom_units\":\"screen\",\"fill_alpha\":{\"value\":0.5},\"fill_color\":{\"value\":\"lightgrey\"},\"left_units\":\"screen\",\"level\":\"overlay\",\"line_alpha\":{\"value\":1.0},\"line_color\":{\"value\":\"black\"},\"line_dash\":[4,4],\"line_width\":{\"value\":2},\"plot\":null,\"render_mode\":\"css\",\"right_units\":\"screen\",\"top_units\":\"screen\"},\"id\":\"f392e2f4-a6ea-429a-ad8f-a6d268b0defe\",\"type\":\"BoxAnnotation\"},{\"attributes\":{\"active_drag\":\"auto\",\"active_inspect\":\"auto\",\"active_scroll\":\"auto\",\"active_tap\":\"auto\",\"tools\":[{\"id\":\"dee86212-f3f5-433b-be39-27a687203dd9\",\"type\":\"PanTool\"},{\"id\":\"7afc052f-c982-48e6-bfba-7e65a9c4ce58\",\"type\":\"WheelZoomTool\"},{\"id\":\"144693f6-ae2d-46e7-92fd-65c76926c7db\",\"type\":\"BoxZoomTool\"},{\"id\":\"82ad5c33-4adc-4d77-a1d7-19390e2467d4\",\"type\":\"SaveTool\"},{\"id\":\"11c1d15a-c239-4381-b6bc-519b76acbe6e\",\"type\":\"ResetTool\"},{\"id\":\"505d938e-77d8-477e-8309-4a566ed26929\",\"type\":\"HelpTool\"}]},\"id\":\"4d6a1951-cc5a-4f50-ac17-bf68d0920b1e\",\"type\":\"Toolbar\"},{\"attributes\":{\"data_source\":{\"id\":\"e38f2716-ecb5-44ca-a55c-071b5c54e9a0\",\"type\":\"ColumnDataSource\"},\"glyph\":{\"id\":\"62cf2f67-321e-4121-a27d-d4a8ece94650\",\"type\":\"Patch\"},\"hover_glyph\":null,\"muted_glyph\":null,\"nonselection_glyph\":{\"id\":\"45d2171a-46cb-456c-b7d1-507f56580f27\",\"type\":\"Patch\"},\"selection_glyph\":null,\"view\":{\"id\":\"5a366f58-8f9b-4b42-ab48-9f11f639576d\",\"type\":\"CDSView\"}},\"id\":\"e7a889f4-b7ff-4999-b820-6ec9262c12f5\",\"type\":\"GlyphRenderer\"},{\"attributes\":{},\"id\":\"b1eabf32-faff-4cd2-87f2-83da431107f3\",\"type\":\"LinearScale\"},{\"attributes\":{},\"id\":\"82ad5c33-4adc-4d77-a1d7-19390e2467d4\",\"type\":\"SaveTool\"},{\"attributes\":{\"callback\":null,\"column_names\":[\"y\",\"x\"],\"data\":{\"x\":{\"__ndarray__\":\"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\",\"dtype\":\"float64\",\"shape\":[202]},\"y\":{\"__ndarray__\":\"AAAAAAAAAAAAAAAAAAAAAAAAAAAAAAAAAAAAAAAAAAAAAAAAAAAAAAAAAAAAAAAAAAAAAAAAAAAAAAAAAAAAAAAAAAAAAAAAAAAAAAAAAAAAAAAAAAAAAAAAAAAAAAAAAAAAAAAAAAAAAAAAAAAAAAAAAAAAAAAAAAAAAAAAAAAAAAAAAAAAAAAAAAAAAAAAAAAAAAAAAAAAAAAAAAAAAAAAAAAAAAAAAAAAAAAAAAAAAAAAAAAAAAAAAAAAAAAAAAAAAAAAAAAAAAAAAAAAAAAAAAAAAAAAAAAAAAAAAAAAAAAAAAAAAAAAAAAAAAAAAAAAAAAAAAAAAAAAAAAAAAAAAAAAAAAAAAAAAAAAAAAAAAAAAAAAAAAAAAAAAAAAAAAAAAAAAAAAAAAAAAAAAAAAAAAAAAAAAAAAAAAAAAAAAAAAAAAAAAAAAAAAAAAAAAAAAAAAAAAAAAAAAAAAAAAAAAAAAAAAAAAAAAAAAAAAAAAAAAAAAAAAAAAAAAAAAAAAAAAAAAAAAAAAAAAAAAAAAAAAAAAAAAAAAAAAAAAAAAAAAAAAAAAAAAAAAAAAAAAAAAAAAAAAAAAAAAAAAAAAAAAAAAAAAAAAAAAAAAAAAAAAAAAAAAAAAAAAAAAAAAAAAAAAAAAAAAAAAAAAAAAAAAAAAAAAAAAAAAAAAAAAAAAAAAAAAAAAAAAAAAAAAAAAAAAAAAAAAAAAAAAAAAAAAAAAAAAAAAAAAAAAAAAAAAAAAAAAAAAAAAAAAAAAAAAAAAAAAAAAAAAAAAAAAAAAAAAAAAAAAAAAAAAAAAAAAAAAAAAAAAAAAAAAAAAAAAAAAAAAAAAAAAAAAAAAAAAAAAAAAAAAAAAAAAAAAAAAAAAAAAAAAAAAAAAAAAAAAAAAAAAAAAAAAAAAAAAAAAAAAAAAAAAAAAAAAAAAAAAAAAAAAAAAAAAAAAAAAAAAAAAAAAAAAAAAAAAAAAAAAAAAAAAAAAAAAAAAAAAAAAAAAAAAAAAAAAAAAAAAAAAAAAAAAAAAAAAAAAAAAAAAAAAAAAAAAAAAAAAAAAAAAAAAAAAAAAAAAAAAAAAAAAAAAAAAAAAAAAAAAAAAAAAAAAAAAAAAAAAAAAAAAAAAAAAAAAAAAAAAAAAAAAAAAAAAAAAAAAAAAAAAAAAAAAAAAAAAAAAAAAAAAAAAAAAAAAAAAAAAAAAAAAAAAAAAAAAAAAAAAAAAAAAAAAAAAAAAAAAAAAAAAAAAAAAAAAAAAAAAAAAAAAAAAAAAAAAAAAAAAAAAAAAAAAAAAAAAAAAAAAAAAAAAAAAAAAAAAAAAAAAAAAAAAAAAAAAAAAAAAAAAAAAAAAAAAAAAAAAAAAAAAAAAAAAAAAAAAAAAAAAAAAAAAAAAAAAAAAAAAAAAAAAAAAAAAAAAAAAAAAAAAAAAAAAAAAAAAAAAAAAAAAAAAAAAAAAAAAAAAAAAAAAAAAAAAAAAAAAAAAAAAAAAAAAAAAAAAAAAAAAAAAAAAAAAAAAAAAAAAAAAAAAAAAAAAAAAAAAAAAAAAAAAAAAAAAAAAAAAAAAAAAAAAAAAAAAAAAAAAAAAAAAAAAAAAAAAAAAAAAAAAAAAAAAAAAAAAAAAAAAAAAAAAAAAAAAAAAAAAAAAAAAAAAAAAAAAAAAAAPA/AAAAAAAA8D8AAAAAAAAAAAAAAAAAAAAAAAAAAAAAAAAAAAAAAAAAAAAAAAAAAAAAAAAAAAAAAAAAAAAAAAAAAAAAAAAAAAAAAAAAAAAAAAAAAAAAAAAAAAAAAAAAAAAAAAAAAAAAAAAAAAAAAAAAAAAAAAAAAAAAAAAAAAAAAAAAAAAAAAAAAAAAAAAAAAAAAAAAAAAAAAAAAAAAAAAAAAAAAAAAAAAAAAAAAAAAAAAAAAAAAAAAAAAAAAAAAAAAAAAAAAAAAAAAAAAAAAAAAAAAAAAAAAAAAAAAAAAAAAAAAAAAAAAAAAAAAAAAAAAAAAAAAAAAAAAAAAAAAAAAAAAAAAAAAAAAAAAAAAAAAAAAAAAAAAAAAAAAAAAAAAAAAAAAAAAAAAAAAAAAAAAAAAAAAAAAAAAAAAAAAAAAAAAAAAAAAAAAAAAAAAAAAAAAAAAAAAAAAAAAAAAAAAAAAAAAAAAAAAAAAAAAAAAAAAA=\",\"dtype\":\"float64\",\"shape\":[202]}}},\"id\":\"e38f2716-ecb5-44ca-a55c-071b5c54e9a0\",\"type\":\"ColumnDataSource\"},{\"attributes\":{\"formatter\":{\"id\":\"f300fdd7-505e-4a10-aed4-c21c687fc94c\",\"type\":\"BasicTickFormatter\"},\"plot\":{\"id\":\"2292941c-2989-4010-8792-ecbba51ce29f\",\"subtype\":\"Figure\",\"type\":\"Plot\"},\"ticker\":{\"id\":\"2c22dac9-4a3f-4b11-a3ea-792025f575f9\",\"type\":\"BasicTicker\"}},\"id\":\"bd5589e1-fd8d-4c1c-95f1-006a04224dac\",\"type\":\"LinearAxis\"},{\"attributes\":{},\"id\":\"2c22dac9-4a3f-4b11-a3ea-792025f575f9\",\"type\":\"BasicTicker\"},{\"attributes\":{\"plot\":null,\"text\":\"\"},\"id\":\"20efcb9c-e1a4-476e-bbc7-8c866b9b5394\",\"type\":\"Title\"},{\"attributes\":{\"dimension\":1,\"plot\":{\"id\":\"2292941c-2989-4010-8792-ecbba51ce29f\",\"subtype\":\"Figure\",\"type\":\"Plot\"},\"ticker\":{\"id\":\"a9590f1f-fa01-40be-8b99-7f09de2abb4c\",\"type\":\"BasicTicker\"}},\"id\":\"1115a259-0420-47d8-9d8d-e05e265fc9ba\",\"type\":\"Grid\"},{\"attributes\":{},\"id\":\"dee86212-f3f5-433b-be39-27a687203dd9\",\"type\":\"PanTool\"},{\"attributes\":{},\"id\":\"505d938e-77d8-477e-8309-4a566ed26929\",\"type\":\"HelpTool\"},{\"attributes\":{\"fill_alpha\":0.25,\"fill_color\":\"#1f77b4\",\"line_color\":\"#1f77b4\",\"x\":{\"field\":\"x\"},\"y\":{\"field\":\"y\"}},\"id\":\"62cf2f67-321e-4121-a27d-d4a8ece94650\",\"type\":\"Patch\"},{\"attributes\":{},\"id\":\"a9590f1f-fa01-40be-8b99-7f09de2abb4c\",\"type\":\"BasicTicker\"},{\"attributes\":{},\"id\":\"a22bbb33-d53f-4b67-ab63-2432fe91a7ac\",\"type\":\"BasicTickFormatter\"},{\"attributes\":{},\"id\":\"f300fdd7-505e-4a10-aed4-c21c687fc94c\",\"type\":\"BasicTickFormatter\"},{\"attributes\":{\"below\":[{\"id\":\"bd5589e1-fd8d-4c1c-95f1-006a04224dac\",\"type\":\"LinearAxis\"}],\"left\":[{\"id\":\"ee0d85f7-4a84-49de-bc45-fa4ad642d3e2\",\"type\":\"LinearAxis\"}],\"renderers\":[{\"id\":\"bd5589e1-fd8d-4c1c-95f1-006a04224dac\",\"type\":\"LinearAxis\"},{\"id\":\"d363a6de-e4a6-4b36-b876-d8b89d6dc00c\",\"type\":\"Grid\"},{\"id\":\"ee0d85f7-4a84-49de-bc45-fa4ad642d3e2\",\"type\":\"LinearAxis\"},{\"id\":\"1115a259-0420-47d8-9d8d-e05e265fc9ba\",\"type\":\"Grid\"},{\"id\":\"f392e2f4-a6ea-429a-ad8f-a6d268b0defe\",\"type\":\"BoxAnnotation\"},{\"id\":\"e7a889f4-b7ff-4999-b820-6ec9262c12f5\",\"type\":\"GlyphRenderer\"}],\"title\":{\"id\":\"20efcb9c-e1a4-476e-bbc7-8c866b9b5394\",\"type\":\"Title\"},\"toolbar\":{\"id\":\"4d6a1951-cc5a-4f50-ac17-bf68d0920b1e\",\"type\":\"Toolbar\"},\"x_range\":{\"id\":\"32d11037-4ecd-48f6-b0b8-d5f38c0e5ead\",\"type\":\"Range1d\"},\"x_scale\":{\"id\":\"b1eabf32-faff-4cd2-87f2-83da431107f3\",\"type\":\"LinearScale\"},\"y_range\":{\"id\":\"62d9904e-fb8a-4e60-8d92-f7ba1ff189b8\",\"type\":\"Range1d\"},\"y_scale\":{\"id\":\"14e2462e-da7a-4ff7-9889-d93f6b52b0be\",\"type\":\"LinearScale\"}},\"id\":\"2292941c-2989-4010-8792-ecbba51ce29f\",\"subtype\":\"Figure\",\"type\":\"Plot\"}],\"root_ids\":[\"2292941c-2989-4010-8792-ecbba51ce29f\"]},\"title\":\"Bokeh Application\",\"version\":\"0.12.11\"}};\n",
       "    var render_items = [{\"docid\":\"5d734c4d-d557-4567-b0c0-6c52bec8da40\",\"elementid\":\"d2d2bb31-de4f-4640-9909-9c5998fd15a4\",\"modelid\":\"2292941c-2989-4010-8792-ecbba51ce29f\"}];\n",
       "    root.Bokeh.embed.embed_items(docs_json, render_items);\n",
       "  }\n",
       "  if (root.Bokeh !== undefined) {\n",
       "    embed_document(root);\n",
       "  } else {\n",
       "    var attempts = 0;\n",
       "    var timer = setInterval(function(root) {\n",
       "      if (root.Bokeh !== undefined) {\n",
       "        embed_document(root);\n",
       "        clearInterval(timer);\n",
       "      }\n",
       "      attempts++;\n",
       "      if (attempts > 100) {\n",
       "        console.log(\"Bokeh: ERROR: Unable to embed document because BokehJS library is missing\")\n",
       "        clearInterval(timer);\n",
       "      }\n",
       "    }, 10, root)\n",
       "  }\n",
       "})(window);"
      ],
      "application/vnd.bokehjs_exec.v0+json": ""
     },
     "metadata": {
      "application/vnd.bokehjs_exec.v0+json": {
       "id": "2292941c-2989-4010-8792-ecbba51ce29f"
      }
     },
     "output_type": "display_data"
    }
   ],
   "source": [
    "show(quadmuon_hist.bokeh.fig())"
   ]
  },
  {
   "cell_type": "markdown",
   "metadata": {},
   "source": [
    "## I guess this is Monte Carlo!"
   ]
  }
 ],
 "metadata": {
  "kernelspec": {
   "display_name": "Python 2",
   "language": "python",
   "name": "python2"
  },
  "language_info": {
   "codemirror_mode": {
    "name": "ipython",
    "version": 2
   },
   "file_extension": ".py",
   "mimetype": "text/x-python",
   "name": "python",
   "nbconvert_exporter": "python",
   "pygments_lexer": "ipython2",
   "version": "2.7.6"
  }
 },
 "nbformat": 4,
 "nbformat_minor": 1
}
