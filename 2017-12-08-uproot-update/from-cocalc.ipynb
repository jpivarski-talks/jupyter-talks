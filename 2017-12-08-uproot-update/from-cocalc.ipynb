{
 "cells": [
  {
   "cell_type": "code",
   "execution_count": 1,
   "metadata": {},
   "outputs": [
    {
     "data": {
      "text/html": [
       "\n",
       "    <div class=\"bk-root\">\n",
       "        <a href=\"https://bokeh.pydata.org\" target=\"_blank\" class=\"bk-logo bk-logo-small bk-logo-notebook\"></a>\n",
       "        <span id=\"ea693c39-fd87-4b7b-ae5b-01a0c075bce1\">Loading BokehJS ...</span>\n",
       "    </div>"
      ]
     },
     "metadata": {},
     "output_type": "display_data"
    },
    {
     "data": {
      "application/javascript": [
       "\n",
       "(function(root) {\n",
       "  function now() {\n",
       "    return new Date();\n",
       "  }\n",
       "\n",
       "  var force = true;\n",
       "\n",
       "  if (typeof (root._bokeh_onload_callbacks) === \"undefined\" || force === true) {\n",
       "    root._bokeh_onload_callbacks = [];\n",
       "    root._bokeh_is_loading = undefined;\n",
       "  }\n",
       "\n",
       "  var JS_MIME_TYPE = 'application/javascript';\n",
       "  var HTML_MIME_TYPE = 'text/html';\n",
       "  var EXEC_MIME_TYPE = 'application/vnd.bokehjs_exec.v0+json';\n",
       "  var CLASS_NAME = 'output_bokeh rendered_html';\n",
       "\n",
       "  /**\n",
       "   * Render data to the DOM node\n",
       "   */\n",
       "  function render(props, node) {\n",
       "    var script = document.createElement(\"script\");\n",
       "    node.appendChild(script);\n",
       "  }\n",
       "\n",
       "  /**\n",
       "   * Handle when an output is cleared or removed\n",
       "   */\n",
       "  function handleClearOutput(event, handle) {\n",
       "    var cell = handle.cell;\n",
       "\n",
       "    var id = cell.output_area._bokeh_element_id;\n",
       "    var server_id = cell.output_area._bokeh_server_id;\n",
       "    // Clean up Bokeh references\n",
       "    if (id !== undefined) {\n",
       "      Bokeh.index[id].model.document.clear();\n",
       "      delete Bokeh.index[id];\n",
       "    }\n",
       "\n",
       "    if (server_id !== undefined) {\n",
       "      // Clean up Bokeh references\n",
       "      var cmd = \"from bokeh.io.state import curstate; print(curstate().uuid_to_server['\" + server_id + \"'].get_sessions()[0].document.roots[0]._id)\";\n",
       "      cell.notebook.kernel.execute(cmd, {\n",
       "        iopub: {\n",
       "          output: function(msg) {\n",
       "            var element_id = msg.content.text.trim();\n",
       "            Bokeh.index[element_id].model.document.clear();\n",
       "            delete Bokeh.index[element_id];\n",
       "          }\n",
       "        }\n",
       "      });\n",
       "      // Destroy server and session\n",
       "      var cmd = \"import bokeh.io.notebook as ion; ion.destroy_server('\" + server_id + \"')\";\n",
       "      cell.notebook.kernel.execute(cmd);\n",
       "    }\n",
       "  }\n",
       "\n",
       "  /**\n",
       "   * Handle when a new output is added\n",
       "   */\n",
       "  function handleAddOutput(event, handle) {\n",
       "    var output_area = handle.output_area;\n",
       "    var output = handle.output;\n",
       "\n",
       "    // limit handleAddOutput to display_data with EXEC_MIME_TYPE content only\n",
       "    if ((output.output_type != \"display_data\") || (!output.data.hasOwnProperty(EXEC_MIME_TYPE))) {\n",
       "      return\n",
       "    }\n",
       "\n",
       "    var toinsert = output_area.element.find(\".\" + CLASS_NAME.split(' ')[0]);\n",
       "\n",
       "    if (output.metadata[EXEC_MIME_TYPE][\"id\"] !== undefined) {\n",
       "      toinsert[0].firstChild.textContent = output.data[JS_MIME_TYPE];\n",
       "      // store reference to embed id on output_area\n",
       "      output_area._bokeh_element_id = output.metadata[EXEC_MIME_TYPE][\"id\"];\n",
       "    }\n",
       "    if (output.metadata[EXEC_MIME_TYPE][\"server_id\"] !== undefined) {\n",
       "      var bk_div = document.createElement(\"div\");\n",
       "      bk_div.innerHTML = output.data[HTML_MIME_TYPE];\n",
       "      var script_attrs = bk_div.children[0].attributes;\n",
       "      for (var i = 0; i < script_attrs.length; i++) {\n",
       "        toinsert[0].firstChild.setAttribute(script_attrs[i].name, script_attrs[i].value);\n",
       "      }\n",
       "      // store reference to server id on output_area\n",
       "      output_area._bokeh_server_id = output.metadata[EXEC_MIME_TYPE][\"server_id\"];\n",
       "    }\n",
       "  }\n",
       "\n",
       "  function register_renderer(events, OutputArea) {\n",
       "\n",
       "    function append_mime(data, metadata, element) {\n",
       "      // create a DOM node to render to\n",
       "      var toinsert = this.create_output_subarea(\n",
       "        metadata,\n",
       "        CLASS_NAME,\n",
       "        EXEC_MIME_TYPE\n",
       "      );\n",
       "      this.keyboard_manager.register_events(toinsert);\n",
       "      // Render to node\n",
       "      var props = {data: data, metadata: metadata[EXEC_MIME_TYPE]};\n",
       "      render(props, toinsert[0]);\n",
       "      element.append(toinsert);\n",
       "      return toinsert\n",
       "    }\n",
       "\n",
       "    /* Handle when an output is cleared or removed */\n",
       "    events.on('clear_output.CodeCell', handleClearOutput);\n",
       "    events.on('delete.Cell', handleClearOutput);\n",
       "\n",
       "    /* Handle when a new output is added */\n",
       "    events.on('output_added.OutputArea', handleAddOutput);\n",
       "\n",
       "    /**\n",
       "     * Register the mime type and append_mime function with output_area\n",
       "     */\n",
       "    OutputArea.prototype.register_mime_type(EXEC_MIME_TYPE, append_mime, {\n",
       "      /* Is output safe? */\n",
       "      safe: true,\n",
       "      /* Index of renderer in `output_area.display_order` */\n",
       "      index: 0\n",
       "    });\n",
       "  }\n",
       "\n",
       "  // register the mime type if in Jupyter Notebook environment and previously unregistered\n",
       "  if (root.Jupyter !== undefined) {\n",
       "    var events = require('base/js/events');\n",
       "    var OutputArea = require('notebook/js/outputarea').OutputArea;\n",
       "\n",
       "    if (OutputArea.prototype.mime_types().indexOf(EXEC_MIME_TYPE) == -1) {\n",
       "      register_renderer(events, OutputArea);\n",
       "    }\n",
       "  }\n",
       "\n",
       "  \n",
       "  if (typeof (root._bokeh_timeout) === \"undefined\" || force === true) {\n",
       "    root._bokeh_timeout = Date.now() + 5000;\n",
       "    root._bokeh_failed_load = false;\n",
       "  }\n",
       "\n",
       "  var NB_LOAD_WARNING = {'data': {'text/html':\n",
       "     \"<div style='background-color: #fdd'>\\n\"+\n",
       "     \"<p>\\n\"+\n",
       "     \"BokehJS does not appear to have successfully loaded. If loading BokehJS from CDN, this \\n\"+\n",
       "     \"may be due to a slow or bad network connection. Possible fixes:\\n\"+\n",
       "     \"</p>\\n\"+\n",
       "     \"<ul>\\n\"+\n",
       "     \"<li>re-rerun `output_notebook()` to attempt to load from CDN again, or</li>\\n\"+\n",
       "     \"<li>use INLINE resources instead, as so:</li>\\n\"+\n",
       "     \"</ul>\\n\"+\n",
       "     \"<code>\\n\"+\n",
       "     \"from bokeh.resources import INLINE\\n\"+\n",
       "     \"output_notebook(resources=INLINE)\\n\"+\n",
       "     \"</code>\\n\"+\n",
       "     \"</div>\"}};\n",
       "\n",
       "  function display_loaded() {\n",
       "    var el = document.getElementById(\"ea693c39-fd87-4b7b-ae5b-01a0c075bce1\");\n",
       "    if (el != null) {\n",
       "      el.textContent = \"BokehJS is loading...\";\n",
       "    }\n",
       "    if (root.Bokeh !== undefined) {\n",
       "      if (el != null) {\n",
       "        el.textContent = \"BokehJS \" + root.Bokeh.version + \" successfully loaded.\";\n",
       "      }\n",
       "    } else if (Date.now() < root._bokeh_timeout) {\n",
       "      setTimeout(display_loaded, 100)\n",
       "    }\n",
       "  }\n",
       "\n",
       "\n",
       "  function run_callbacks() {\n",
       "    try {\n",
       "      root._bokeh_onload_callbacks.forEach(function(callback) { callback() });\n",
       "    }\n",
       "    finally {\n",
       "      delete root._bokeh_onload_callbacks\n",
       "    }\n",
       "    console.info(\"Bokeh: all callbacks have finished\");\n",
       "  }\n",
       "\n",
       "  function load_libs(js_urls, callback) {\n",
       "    root._bokeh_onload_callbacks.push(callback);\n",
       "    if (root._bokeh_is_loading > 0) {\n",
       "      console.log(\"Bokeh: BokehJS is being loaded, scheduling callback at\", now());\n",
       "      return null;\n",
       "    }\n",
       "    if (js_urls == null || js_urls.length === 0) {\n",
       "      run_callbacks();\n",
       "      return null;\n",
       "    }\n",
       "    console.log(\"Bokeh: BokehJS not loaded, scheduling load and callback at\", now());\n",
       "    root._bokeh_is_loading = js_urls.length;\n",
       "    for (var i = 0; i < js_urls.length; i++) {\n",
       "      var url = js_urls[i];\n",
       "      var s = document.createElement('script');\n",
       "      s.src = url;\n",
       "      s.async = false;\n",
       "      s.onreadystatechange = s.onload = function() {\n",
       "        root._bokeh_is_loading--;\n",
       "        if (root._bokeh_is_loading === 0) {\n",
       "          console.log(\"Bokeh: all BokehJS libraries loaded\");\n",
       "          run_callbacks()\n",
       "        }\n",
       "      };\n",
       "      s.onerror = function() {\n",
       "        console.warn(\"failed to load library \" + url);\n",
       "      };\n",
       "      console.log(\"Bokeh: injecting script tag for BokehJS library: \", url);\n",
       "      document.getElementsByTagName(\"head\")[0].appendChild(s);\n",
       "    }\n",
       "  };var element = document.getElementById(\"ea693c39-fd87-4b7b-ae5b-01a0c075bce1\");\n",
       "  if (element == null) {\n",
       "    console.log(\"Bokeh: ERROR: autoload.js configured with elementid 'ea693c39-fd87-4b7b-ae5b-01a0c075bce1' but no matching script tag was found. \")\n",
       "    return false;\n",
       "  }\n",
       "\n",
       "  var js_urls = [\"https://cdn.pydata.org/bokeh/release/bokeh-0.12.11.min.js\", \"https://cdn.pydata.org/bokeh/release/bokeh-widgets-0.12.11.min.js\", \"https://cdn.pydata.org/bokeh/release/bokeh-tables-0.12.11.min.js\", \"https://cdn.pydata.org/bokeh/release/bokeh-gl-0.12.11.min.js\"];\n",
       "\n",
       "  var inline_js = [\n",
       "    function(Bokeh) {\n",
       "      Bokeh.set_log_level(\"info\");\n",
       "    },\n",
       "    \n",
       "    function(Bokeh) {\n",
       "      \n",
       "    },\n",
       "    function(Bokeh) {\n",
       "      console.log(\"Bokeh: injecting CSS: https://cdn.pydata.org/bokeh/release/bokeh-0.12.11.min.css\");\n",
       "      Bokeh.embed.inject_css(\"https://cdn.pydata.org/bokeh/release/bokeh-0.12.11.min.css\");\n",
       "      console.log(\"Bokeh: injecting CSS: https://cdn.pydata.org/bokeh/release/bokeh-widgets-0.12.11.min.css\");\n",
       "      Bokeh.embed.inject_css(\"https://cdn.pydata.org/bokeh/release/bokeh-widgets-0.12.11.min.css\");\n",
       "      console.log(\"Bokeh: injecting CSS: https://cdn.pydata.org/bokeh/release/bokeh-tables-0.12.11.min.css\");\n",
       "      Bokeh.embed.inject_css(\"https://cdn.pydata.org/bokeh/release/bokeh-tables-0.12.11.min.css\");\n",
       "    }\n",
       "  ];\n",
       "\n",
       "  function run_inline_js() {\n",
       "    \n",
       "    if ((root.Bokeh !== undefined) || (force === true)) {\n",
       "      for (var i = 0; i < inline_js.length; i++) {\n",
       "        inline_js[i].call(root, root.Bokeh);\n",
       "      }if (force === true) {\n",
       "        display_loaded();\n",
       "      }} else if (Date.now() < root._bokeh_timeout) {\n",
       "      setTimeout(run_inline_js, 100);\n",
       "    } else if (!root._bokeh_failed_load) {\n",
       "      console.log(\"Bokeh: BokehJS failed to load within specified timeout.\");\n",
       "      root._bokeh_failed_load = true;\n",
       "    } else if (force !== true) {\n",
       "      var cell = $(document.getElementById(\"ea693c39-fd87-4b7b-ae5b-01a0c075bce1\")).parents('.cell').data().cell;\n",
       "      cell.output_area.append_execute_result(NB_LOAD_WARNING)\n",
       "    }\n",
       "\n",
       "  }\n",
       "\n",
       "  if (root._bokeh_is_loading === 0) {\n",
       "    console.log(\"Bokeh: BokehJS loaded, going straight to plotting\");\n",
       "    run_inline_js();\n",
       "  } else {\n",
       "    load_libs(js_urls, function() {\n",
       "      console.log(\"Bokeh: BokehJS plotting callback run at\", now());\n",
       "      run_inline_js();\n",
       "    });\n",
       "  }\n",
       "}(window));"
      ],
      "application/vnd.bokehjs_load.v0+json": "\n(function(root) {\n  function now() {\n    return new Date();\n  }\n\n  var force = true;\n\n  if (typeof (root._bokeh_onload_callbacks) === \"undefined\" || force === true) {\n    root._bokeh_onload_callbacks = [];\n    root._bokeh_is_loading = undefined;\n  }\n\n  \n\n  \n  if (typeof (root._bokeh_timeout) === \"undefined\" || force === true) {\n    root._bokeh_timeout = Date.now() + 5000;\n    root._bokeh_failed_load = false;\n  }\n\n  var NB_LOAD_WARNING = {'data': {'text/html':\n     \"<div style='background-color: #fdd'>\\n\"+\n     \"<p>\\n\"+\n     \"BokehJS does not appear to have successfully loaded. If loading BokehJS from CDN, this \\n\"+\n     \"may be due to a slow or bad network connection. Possible fixes:\\n\"+\n     \"</p>\\n\"+\n     \"<ul>\\n\"+\n     \"<li>re-rerun `output_notebook()` to attempt to load from CDN again, or</li>\\n\"+\n     \"<li>use INLINE resources instead, as so:</li>\\n\"+\n     \"</ul>\\n\"+\n     \"<code>\\n\"+\n     \"from bokeh.resources import INLINE\\n\"+\n     \"output_notebook(resources=INLINE)\\n\"+\n     \"</code>\\n\"+\n     \"</div>\"}};\n\n  function display_loaded() {\n    var el = document.getElementById(\"ea693c39-fd87-4b7b-ae5b-01a0c075bce1\");\n    if (el != null) {\n      el.textContent = \"BokehJS is loading...\";\n    }\n    if (root.Bokeh !== undefined) {\n      if (el != null) {\n        el.textContent = \"BokehJS \" + root.Bokeh.version + \" successfully loaded.\";\n      }\n    } else if (Date.now() < root._bokeh_timeout) {\n      setTimeout(display_loaded, 100)\n    }\n  }\n\n\n  function run_callbacks() {\n    try {\n      root._bokeh_onload_callbacks.forEach(function(callback) { callback() });\n    }\n    finally {\n      delete root._bokeh_onload_callbacks\n    }\n    console.info(\"Bokeh: all callbacks have finished\");\n  }\n\n  function load_libs(js_urls, callback) {\n    root._bokeh_onload_callbacks.push(callback);\n    if (root._bokeh_is_loading > 0) {\n      console.log(\"Bokeh: BokehJS is being loaded, scheduling callback at\", now());\n      return null;\n    }\n    if (js_urls == null || js_urls.length === 0) {\n      run_callbacks();\n      return null;\n    }\n    console.log(\"Bokeh: BokehJS not loaded, scheduling load and callback at\", now());\n    root._bokeh_is_loading = js_urls.length;\n    for (var i = 0; i < js_urls.length; i++) {\n      var url = js_urls[i];\n      var s = document.createElement('script');\n      s.src = url;\n      s.async = false;\n      s.onreadystatechange = s.onload = function() {\n        root._bokeh_is_loading--;\n        if (root._bokeh_is_loading === 0) {\n          console.log(\"Bokeh: all BokehJS libraries loaded\");\n          run_callbacks()\n        }\n      };\n      s.onerror = function() {\n        console.warn(\"failed to load library \" + url);\n      };\n      console.log(\"Bokeh: injecting script tag for BokehJS library: \", url);\n      document.getElementsByTagName(\"head\")[0].appendChild(s);\n    }\n  };var element = document.getElementById(\"ea693c39-fd87-4b7b-ae5b-01a0c075bce1\");\n  if (element == null) {\n    console.log(\"Bokeh: ERROR: autoload.js configured with elementid 'ea693c39-fd87-4b7b-ae5b-01a0c075bce1' but no matching script tag was found. \")\n    return false;\n  }\n\n  var js_urls = [\"https://cdn.pydata.org/bokeh/release/bokeh-0.12.11.min.js\", \"https://cdn.pydata.org/bokeh/release/bokeh-widgets-0.12.11.min.js\", \"https://cdn.pydata.org/bokeh/release/bokeh-tables-0.12.11.min.js\", \"https://cdn.pydata.org/bokeh/release/bokeh-gl-0.12.11.min.js\"];\n\n  var inline_js = [\n    function(Bokeh) {\n      Bokeh.set_log_level(\"info\");\n    },\n    \n    function(Bokeh) {\n      \n    },\n    function(Bokeh) {\n      console.log(\"Bokeh: injecting CSS: https://cdn.pydata.org/bokeh/release/bokeh-0.12.11.min.css\");\n      Bokeh.embed.inject_css(\"https://cdn.pydata.org/bokeh/release/bokeh-0.12.11.min.css\");\n      console.log(\"Bokeh: injecting CSS: https://cdn.pydata.org/bokeh/release/bokeh-widgets-0.12.11.min.css\");\n      Bokeh.embed.inject_css(\"https://cdn.pydata.org/bokeh/release/bokeh-widgets-0.12.11.min.css\");\n      console.log(\"Bokeh: injecting CSS: https://cdn.pydata.org/bokeh/release/bokeh-tables-0.12.11.min.css\");\n      Bokeh.embed.inject_css(\"https://cdn.pydata.org/bokeh/release/bokeh-tables-0.12.11.min.css\");\n    }\n  ];\n\n  function run_inline_js() {\n    \n    if ((root.Bokeh !== undefined) || (force === true)) {\n      for (var i = 0; i < inline_js.length; i++) {\n        inline_js[i].call(root, root.Bokeh);\n      }if (force === true) {\n        display_loaded();\n      }} else if (Date.now() < root._bokeh_timeout) {\n      setTimeout(run_inline_js, 100);\n    } else if (!root._bokeh_failed_load) {\n      console.log(\"Bokeh: BokehJS failed to load within specified timeout.\");\n      root._bokeh_failed_load = true;\n    } else if (force !== true) {\n      var cell = $(document.getElementById(\"ea693c39-fd87-4b7b-ae5b-01a0c075bce1\")).parents('.cell').data().cell;\n      cell.output_area.append_execute_result(NB_LOAD_WARNING)\n    }\n\n  }\n\n  if (root._bokeh_is_loading === 0) {\n    console.log(\"Bokeh: BokehJS loaded, going straight to plotting\");\n    run_inline_js();\n  } else {\n    load_libs(js_urls, function() {\n      console.log(\"Bokeh: BokehJS plotting callback run at\", now());\n      run_inline_js();\n    });\n  }\n}(window));"
     },
     "metadata": {},
     "output_type": "display_data"
    }
   ],
   "source": [
    "import uproot\n",
    "import bokeh\n",
    "from bokeh.plotting import show\n",
    "bokeh.io.output_notebook()"
   ]
  },
  {
   "cell_type": "markdown",
   "metadata": {},
   "source": [
    "## Look around to see what's available\n",
    "\n",
    "This is a freemium service: they block off network access, so I uploaded the git repo manually. We'll look at the (small) sample files in the tests."
   ]
  },
  {
   "cell_type": "code",
   "execution_count": 2,
   "metadata": {},
   "outputs": [
    {
     "name": "stdout",
     "output_type": "stream",
     "text": [
      "foriter2.root\t\t\t  sample-5.28.00-uncompressed.root\r\n",
      "foriter.root\t\t\t  sample-5.28.00-zlib.root\r\n",
      "HZZ-lz4.root\t\t\t  sample-5.29.02-uncompressed.root\r\n",
      "HZZ-lzma.root\t\t\t  sample-5.29.02-zlib.root\r\n",
      "HZZ.root\t\t\t  sample-5.30.00-lzma.root\r\n",
      "HZZ-uncompressed.root\t\t  sample-5.30.00-uncompressed.root\r\n",
      "HZZ-zlib.root\t\t\t  sample-5.30.00-zlib.root\r\n",
      "issue21.root\t\t\t  sample-6.08.04-lzma.root\r\n",
      "issue30.root\t\t\t  sample-6.08.04-uncompressed.root\r\n",
      "issue31.root\t\t\t  sample-6.08.04-zlib.root\r\n",
      "mc10events.root\t\t\t  sample-6.10.05-lz4.root\r\n",
      "nesteddirs.root\t\t\t  sample-6.10.05-lzma.root\r\n",
      "sample-5.23.02-uncompressed.root  sample-6.10.05-uncompressed.root\r\n",
      "sample-5.23.02-zlib.root\t  sample-6.10.05-zlib.root\r\n",
      "sample-5.24.00-uncompressed.root  simple.root\r\n",
      "sample-5.24.00-zlib.root\t  small-evnt-tree-fullsplit.root\r\n",
      "sample-5.25.02-uncompressed.root  small-flat-tree.root\r\n",
      "sample-5.25.02-zlib.root\t  Zmumu-lz4.root\r\n",
      "sample-5.26.00-uncompressed.root  Zmumu-lzma.root\r\n",
      "sample-5.26.00-zlib.root\t  Zmumu.root\r\n",
      "sample-5.27.02-uncompressed.root  Zmumu-uncompressed.root\r\n",
      "sample-5.27.02-zlib.root\t  Zmumu-zlib.root\r\n"
     ]
    }
   ],
   "source": [
    "!ls tests/samples"
   ]
  },
  {
   "cell_type": "code",
   "execution_count": 3,
   "metadata": {},
   "outputs": [
    {
     "data": {
      "text/plain": [
       "['events;1']"
      ]
     },
     "execution_count": 3,
     "metadata": {},
     "output_type": "execute_result"
    }
   ],
   "source": [
    "uproot.open(\"tests/samples/Zmumu.root\").keys()"
   ]
  },
  {
   "cell_type": "code",
   "execution_count": 4,
   "metadata": {},
   "outputs": [],
   "source": [
    "Zmumu = uproot.open(\"tests/samples/Zmumu.root\")[\"events\"]"
   ]
  },
  {
   "cell_type": "code",
   "execution_count": 5,
   "metadata": {},
   "outputs": [
    {
     "name": "stdout",
     "output_type": "stream",
     "text": [
      "Type                       (no streamer)              asstrings()\n",
      "Run                        (no streamer)              asdtype('>i4')\n",
      "Event                      (no streamer)              asdtype('>i4')\n",
      "E1                         (no streamer)              asdtype('>f8')\n",
      "px1                        (no streamer)              asdtype('>f8')\n",
      "py1                        (no streamer)              asdtype('>f8')\n",
      "pz1                        (no streamer)              asdtype('>f8')\n",
      "pt1                        (no streamer)              asdtype('>f8')\n",
      "eta1                       (no streamer)              asdtype('>f8')\n",
      "phi1                       (no streamer)              asdtype('>f8')\n",
      "Q1                         (no streamer)              asdtype('>i4')\n",
      "E2                         (no streamer)              asdtype('>f8')\n",
      "px2                        (no streamer)              asdtype('>f8')\n",
      "py2                        (no streamer)              asdtype('>f8')\n",
      "pz2                        (no streamer)              asdtype('>f8')\n",
      "pt2                        (no streamer)              asdtype('>f8')\n",
      "eta2                       (no streamer)              asdtype('>f8')\n",
      "phi2                       (no streamer)              asdtype('>f8')\n",
      "Q2                         (no streamer)              asdtype('>i4')\n",
      "M                          (no streamer)              asdtype('>f8')\n"
     ]
    }
   ],
   "source": [
    "Zmumu.show()"
   ]
  },
  {
   "cell_type": "markdown",
   "metadata": {},
   "source": [
    "## Go straight from TTree to plot"
   ]
  },
  {
   "cell_type": "code",
   "execution_count": 6,
   "metadata": {},
   "outputs": [
    {
     "data": {
      "text/html": [
       "\n",
       "<div class=\"bk-root\">\n",
       "    <div class=\"bk-plotdiv\" id=\"d5d0e198-fb74-4584-8c71-b0b37a26f08f\"></div>\n",
       "</div>"
      ]
     },
     "metadata": {},
     "output_type": "display_data"
    },
    {
     "data": {
      "application/javascript": [
       "(function(root) {\n",
       "  function embed_document(root) {\n",
       "    var docs_json = {\"b95b5586-dd95-4159-b983-2c2109516045\":{\"roots\":{\"references\":[{\"attributes\":{},\"id\":\"0b229c5a-cc61-4477-8480-439097c06d5a\",\"type\":\"BasicTickFormatter\"},{\"attributes\":{\"active_drag\":\"auto\",\"active_inspect\":\"auto\",\"active_scroll\":\"auto\",\"active_tap\":\"auto\",\"tools\":[{\"id\":\"e2405fd8-c915-494f-a48e-e91fc28f70d0\",\"type\":\"PanTool\"},{\"id\":\"0aec6e47-affb-4b17-8f90-9b6b9d1099ac\",\"type\":\"WheelZoomTool\"},{\"id\":\"b9556df2-a30f-4db7-8681-79eb6b0ae516\",\"type\":\"BoxZoomTool\"},{\"id\":\"c2c60795-1164-4010-befe-5328c3d04da3\",\"type\":\"SaveTool\"},{\"id\":\"0a1de587-7484-4892-9f70-566ee6fc5a87\",\"type\":\"ResetTool\"},{\"id\":\"20199e1d-6ceb-49d0-b124-b7bae0c06925\",\"type\":\"HelpTool\"}]},\"id\":\"4cfe8b99-c3c9-4a34-8c1c-63d458680662\",\"type\":\"Toolbar\"},{\"attributes\":{},\"id\":\"c2c60795-1164-4010-befe-5328c3d04da3\",\"type\":\"SaveTool\"},{\"attributes\":{},\"id\":\"0aec6e47-affb-4b17-8f90-9b6b9d1099ac\",\"type\":\"WheelZoomTool\"},{\"attributes\":{},\"id\":\"ee7256c7-3ff6-4199-90c3-091b206e25da\",\"type\":\"LinearScale\"},{\"attributes\":{\"fill_alpha\":0.1,\"fill_color\":\"#1f77b4\",\"line_alpha\":0.1,\"line_color\":\"#1f77b4\",\"x\":{\"field\":\"x\"},\"y\":{\"field\":\"y\"}},\"id\":\"2d03c925-f909-4e37-966f-07a0598e9d42\",\"type\":\"Patch\"},{\"attributes\":{},\"id\":\"15cf67f8-a322-4192-94f8-cbe6a3ee465d\",\"type\":\"LinearScale\"},{\"attributes\":{\"dimension\":1,\"plot\":{\"id\":\"08b85cb1-38aa-48f0-bd60-699453798287\",\"subtype\":\"Figure\",\"type\":\"Plot\"},\"ticker\":{\"id\":\"2a9e108e-2d20-4bd5-a5a1-2bad925cc671\",\"type\":\"BasicTicker\"}},\"id\":\"1b81e67f-1486-466f-a9c5-ee3c46db1006\",\"type\":\"Grid\"},{\"attributes\":{\"bottom_units\":\"screen\",\"fill_alpha\":{\"value\":0.5},\"fill_color\":{\"value\":\"lightgrey\"},\"left_units\":\"screen\",\"level\":\"overlay\",\"line_alpha\":{\"value\":1.0},\"line_color\":{\"value\":\"black\"},\"line_dash\":[4,4],\"line_width\":{\"value\":2},\"plot\":null,\"render_mode\":\"css\",\"right_units\":\"screen\",\"top_units\":\"screen\"},\"id\":\"5ecdc9d5-a7db-4168-89a7-5807b2f052f7\",\"type\":\"BoxAnnotation\"},{\"attributes\":{},\"id\":\"0a1de587-7484-4892-9f70-566ee6fc5a87\",\"type\":\"ResetTool\"},{\"attributes\":{\"data_source\":{\"id\":\"07fd0f0f-b866-4f27-b855-c2ebbfbd10b3\",\"type\":\"ColumnDataSource\"},\"glyph\":{\"id\":\"5c16a07b-b64d-4c6c-9859-d7a6d0863515\",\"type\":\"Patch\"},\"hover_glyph\":null,\"muted_glyph\":null,\"nonselection_glyph\":{\"id\":\"2d03c925-f909-4e37-966f-07a0598e9d42\",\"type\":\"Patch\"},\"selection_glyph\":null,\"view\":{\"id\":\"3e323890-e3a4-4d81-8e2a-b29b47fb12e0\",\"type\":\"CDSView\"}},\"id\":\"8816eeac-1536-4b97-93bd-43a465a9b843\",\"type\":\"GlyphRenderer\"},{\"attributes\":{\"plot\":null,\"text\":\"\"},\"id\":\"c139ee7a-e0cb-4bbd-bfba-d725b8a626ef\",\"type\":\"Title\"},{\"attributes\":{\"formatter\":{\"id\":\"0b229c5a-cc61-4477-8480-439097c06d5a\",\"type\":\"BasicTickFormatter\"},\"plot\":{\"id\":\"08b85cb1-38aa-48f0-bd60-699453798287\",\"subtype\":\"Figure\",\"type\":\"Plot\"},\"ticker\":{\"id\":\"2a9e108e-2d20-4bd5-a5a1-2bad925cc671\",\"type\":\"BasicTicker\"}},\"id\":\"07ccc5df-d4ec-49cf-87b1-68a4c9448286\",\"type\":\"LinearAxis\"},{\"attributes\":{},\"id\":\"e2405fd8-c915-494f-a48e-e91fc28f70d0\",\"type\":\"PanTool\"},{\"attributes\":{},\"id\":\"2a9e108e-2d20-4bd5-a5a1-2bad925cc671\",\"type\":\"BasicTicker\"},{\"attributes\":{\"below\":[{\"id\":\"84b20991-38a8-4ef4-bd22-1cd3dbc96c9e\",\"type\":\"LinearAxis\"}],\"left\":[{\"id\":\"07ccc5df-d4ec-49cf-87b1-68a4c9448286\",\"type\":\"LinearAxis\"}],\"renderers\":[{\"id\":\"84b20991-38a8-4ef4-bd22-1cd3dbc96c9e\",\"type\":\"LinearAxis\"},{\"id\":\"0765be3f-e37a-47c8-bf93-cf7c41104925\",\"type\":\"Grid\"},{\"id\":\"07ccc5df-d4ec-49cf-87b1-68a4c9448286\",\"type\":\"LinearAxis\"},{\"id\":\"1b81e67f-1486-466f-a9c5-ee3c46db1006\",\"type\":\"Grid\"},{\"id\":\"5ecdc9d5-a7db-4168-89a7-5807b2f052f7\",\"type\":\"BoxAnnotation\"},{\"id\":\"8816eeac-1536-4b97-93bd-43a465a9b843\",\"type\":\"GlyphRenderer\"}],\"title\":{\"id\":\"c139ee7a-e0cb-4bbd-bfba-d725b8a626ef\",\"type\":\"Title\"},\"toolbar\":{\"id\":\"4cfe8b99-c3c9-4a34-8c1c-63d458680662\",\"type\":\"Toolbar\"},\"x_range\":{\"id\":\"439caafd-be1d-4cf1-9137-ad33c222b5cb\",\"type\":\"Range1d\"},\"x_scale\":{\"id\":\"15cf67f8-a322-4192-94f8-cbe6a3ee465d\",\"type\":\"LinearScale\"},\"y_range\":{\"id\":\"b7b6c183-deaa-48f5-aed8-d4e5b8fc6443\",\"type\":\"Range1d\"},\"y_scale\":{\"id\":\"ee7256c7-3ff6-4199-90c3-091b206e25da\",\"type\":\"LinearScale\"}},\"id\":\"08b85cb1-38aa-48f0-bd60-699453798287\",\"subtype\":\"Figure\",\"type\":\"Plot\"},{\"attributes\":{},\"id\":\"1d5fdafe-12b8-4aaf-8133-74e8b0e1b219\",\"type\":\"BasicTicker\"},{\"attributes\":{\"fill_alpha\":0.25,\"fill_color\":\"#1f77b4\",\"line_color\":\"#1f77b4\",\"x\":{\"field\":\"x\"},\"y\":{\"field\":\"y\"}},\"id\":\"5c16a07b-b64d-4c6c-9859-d7a6d0863515\",\"type\":\"Patch\"},{\"attributes\":{\"formatter\":{\"id\":\"519179b0-b963-43cf-bcea-3c85fae52081\",\"type\":\"BasicTickFormatter\"},\"plot\":{\"id\":\"08b85cb1-38aa-48f0-bd60-699453798287\",\"subtype\":\"Figure\",\"type\":\"Plot\"},\"ticker\":{\"id\":\"1d5fdafe-12b8-4aaf-8133-74e8b0e1b219\",\"type\":\"BasicTicker\"}},\"id\":\"84b20991-38a8-4ef4-bd22-1cd3dbc96c9e\",\"type\":\"LinearAxis\"},{\"attributes\":{},\"id\":\"20199e1d-6ceb-49d0-b124-b7bae0c06925\",\"type\":\"HelpTool\"},{\"attributes\":{\"callback\":null,\"end\":696.3},\"id\":\"b7b6c183-deaa-48f5-aed8-d4e5b8fc6443\",\"type\":\"Range1d\"},{\"attributes\":{},\"id\":\"519179b0-b963-43cf-bcea-3c85fae52081\",\"type\":\"BasicTickFormatter\"},{\"attributes\":{\"callback\":null,\"end\":120.0},\"id\":\"439caafd-be1d-4cf1-9137-ad33c222b5cb\",\"type\":\"Range1d\"},{\"attributes\":{\"plot\":{\"id\":\"08b85cb1-38aa-48f0-bd60-699453798287\",\"subtype\":\"Figure\",\"type\":\"Plot\"},\"ticker\":{\"id\":\"1d5fdafe-12b8-4aaf-8133-74e8b0e1b219\",\"type\":\"BasicTicker\"}},\"id\":\"0765be3f-e37a-47c8-bf93-cf7c41104925\",\"type\":\"Grid\"},{\"attributes\":{\"source\":{\"id\":\"07fd0f0f-b866-4f27-b855-c2ebbfbd10b3\",\"type\":\"ColumnDataSource\"}},\"id\":\"3e323890-e3a4-4d81-8e2a-b29b47fb12e0\",\"type\":\"CDSView\"},{\"attributes\":{\"callback\":null,\"column_names\":[\"y\",\"x\"],\"data\":{\"x\":{\"__ndarray__\":\"AAAAAAAAAAAAAAAAAAAAADMzMzMzMwNAMzMzMzMzA0AzMzMzMzMTQDMzMzMzMxNAzMzMzMzMHEDMzMzMzMwcQDMzMzMzMyNAMzMzMzMzI0AAAAAAAAAoQAAAAAAAAChAzMzMzMzMLEDMzMzMzMwsQM3MzMzMzDBAzczMzMzMMEAzMzMzMzMzQDMzMzMzMzNAmZmZmZmZNUCZmZmZmZk1QAAAAAAAADhAAAAAAAAAOEBmZmZmZmY6QGZmZmZmZjpAzMzMzMzMPEDMzMzMzMw8QDMzMzMzMz9AMzMzMzMzP0DNzMzMzMxAQM3MzMzMzEBAAAAAAAAAQkAAAAAAAABCQDMzMzMzM0NAMzMzMzMzQ0BmZmZmZmZEQGZmZmZmZkRAmZmZmZmZRUCZmZmZmZlFQM3MzMzMzEZAzczMzMzMRkAAAAAAAABIQAAAAAAAAEhAMzMzMzMzSUAzMzMzMzNJQGZmZmZmZkpAZmZmZmZmSkCZmZmZmZlLQJmZmZmZmUtAzMzMzMzMTEDMzMzMzMxMQAAAAAAAAE5AAAAAAAAATkAzMzMzMzNPQDMzMzMzM09AMzMzMzMzUEAzMzMzMzNQQM3MzMzMzFBAzczMzMzMUEBmZmZmZmZRQGZmZmZmZlFAAAAAAAAAUkAAAAAAAABSQJmZmZmZmVJAmZmZmZmZUkAzMzMzMzNTQDMzMzMzM1NAzczMzMzMU0DNzMzMzMxTQGZmZmZmZlRAZmZmZmZmVEAAAAAAAABVQAAAAAAAAFVAmZmZmZmZVUCZmZmZmZlVQDMzMzMzM1ZAMzMzMzMzVkDNzMzMzMxWQM3MzMzMzFZAZmZmZmZmV0BmZmZmZmZXQAAAAAAAAFhAAAAAAAAAWECZmZmZmZlYQJmZmZmZmVhAMzMzMzMzWUAzMzMzMzNZQM3MzMzMzFlAzczMzMzMWUBmZmZmZmZaQGZmZmZmZlpAAAAAAAAAW0AAAAAAAABbQJmZmZmZmVtAmZmZmZmZW0AzMzMzMzNcQDMzMzMzM1xAzMzMzMzMXEDMzMzMzMxcQGZmZmZmZl1AZmZmZmZmXUAAAAAAAABeQAAAAAAAAF5A\",\"dtype\":\"float64\",\"shape\":[102]},\"y\":{\"__ndarray__\":\"AAAAAAAAAAAAAAAAAAAuQAAAAAAAAC5AAAAAAAAAMUAAAAAAAAAxQAAAAAAAAERAAAAAAAAAREAAAAAAAAA8QAAAAAAAADxAAAAAAAAAMkAAAAAAAAAyQAAAAAAAADJAAAAAAAAAMkAAAAAAAAA4QAAAAAAAADhAAAAAAAAAOEAAAAAAAAA4QAAAAAAAACxAAAAAAAAALEAAAAAAAAAkQAAAAAAAACRAAAAAAAAAMkAAAAAAAAAyQAAAAAAAACxAAAAAAAAALEAAAAAAAAAUQAAAAAAAABRAAAAAAAAALkAAAAAAAAAuQAAAAAAAAABAAAAAAAAAAEAAAAAAAAAQQAAAAAAAABBAAAAAAAAAAEAAAAAAAAAAQAAAAAAAABhAAAAAAAAAGEAAAAAAAAAYQAAAAAAAABhAAAAAAAAAAEAAAAAAAAAAQAAAAAAAAAAAAAAAAAAAAAAAAAAAAAAgQAAAAAAAACBAAAAAAAAAAAAAAAAAAAAAAAAAAAAAAAAAAAAAAAAAAAAAAAAAAAAAQAAAAAAAAABAAAAAAAAAOEAAAAAAAAA4QAAAAAAAADRAAAAAAAAANEAAAAAAAAAYQAAAAAAAABhAAAAAAAAAMkAAAAAAAAAyQAAAAAAAADtAAAAAAAAAO0AAAAAAAAA8QAAAAAAAADxAAAAAAAAALkAAAAAAAAAuQAAAAAAAADlAAAAAAAAAOUAAAAAAAIBLQAAAAAAAgEtAAAAAAAAAPEAAAAAAAAA8QAAAAAAAgFpAAAAAAACAWkAAAAAAAIBvQAAAAAAAgG9AAAAAAADIg0AAAAAAAMiDQAAAAAAAgH1AAAAAAACAfUAAAAAAAMBnQAAAAAAAwGdAAAAAAACAQ0AAAAAAAIBDQAAAAAAAgENAAAAAAACAQ0AAAAAAAAAcQAAAAAAAABxAAAAAAAAAGEAAAAAAAAAYQAAAAAAAABhAAAAAAAAAGEAAAAAAAAAQQAAAAAAAABBAAAAAAAAAEEAAAAAAAAAQQAAAAAAAAAAAAAAAAAAAAAAAAAAAAAAAAAAAAAAAAAAAAAAAAAAAEEAAAAAAAAAQQAAAAAAAAAAA\",\"dtype\":\"float64\",\"shape\":[102]}}},\"id\":\"07fd0f0f-b866-4f27-b855-c2ebbfbd10b3\",\"type\":\"ColumnDataSource\"},{\"attributes\":{\"overlay\":{\"id\":\"5ecdc9d5-a7db-4168-89a7-5807b2f052f7\",\"type\":\"BoxAnnotation\"}},\"id\":\"b9556df2-a30f-4db7-8681-79eb6b0ae516\",\"type\":\"BoxZoomTool\"}],\"root_ids\":[\"08b85cb1-38aa-48f0-bd60-699453798287\"]},\"title\":\"Bokeh Application\",\"version\":\"0.12.11\"}};\n",
       "    var render_items = [{\"docid\":\"b95b5586-dd95-4159-b983-2c2109516045\",\"elementid\":\"d5d0e198-fb74-4584-8c71-b0b37a26f08f\",\"modelid\":\"08b85cb1-38aa-48f0-bd60-699453798287\"}];\n",
       "    root.Bokeh.embed.embed_items(docs_json, render_items);\n",
       "  }\n",
       "  if (root.Bokeh !== undefined) {\n",
       "    embed_document(root);\n",
       "  } else {\n",
       "    var attempts = 0;\n",
       "    var timer = setInterval(function(root) {\n",
       "      if (root.Bokeh !== undefined) {\n",
       "        embed_document(root);\n",
       "        clearInterval(timer);\n",
       "      }\n",
       "      attempts++;\n",
       "      if (attempts > 100) {\n",
       "        console.log(\"Bokeh: ERROR: Unable to embed document because BokehJS library is missing\")\n",
       "        clearInterval(timer);\n",
       "      }\n",
       "    }, 10, root)\n",
       "  }\n",
       "})(window);"
      ],
      "application/vnd.bokehjs_exec.v0+json": ""
     },
     "metadata": {
      "application/vnd.bokehjs_exec.v0+json": {
       "id": "08b85cb1-38aa-48f0-bd60-699453798287"
      }
     },
     "output_type": "display_data"
    }
   ],
   "source": [
    "show(Zmumu.hist(50, 0, 120, \"M\").bokeh.fig())"
   ]
  },
  {
   "cell_type": "markdown",
   "metadata": {},
   "source": [
    "## Do the functional chain thing\n",
    "\n",
    "I need to think of some better examples than this silly filter-and-plot!"
   ]
  },
  {
   "cell_type": "code",
   "execution_count": 7,
   "metadata": {},
   "outputs": [
    {
     "data": {
      "text/html": [
       "\n",
       "<div class=\"bk-root\">\n",
       "    <div class=\"bk-plotdiv\" id=\"f1177b21-0e52-4bcc-989c-c6c2938f98e0\"></div>\n",
       "</div>"
      ]
     },
     "metadata": {},
     "output_type": "display_data"
    },
    {
     "data": {
      "application/javascript": [
       "(function(root) {\n",
       "  function embed_document(root) {\n",
       "    var docs_json = {\"9a4664c7-0fbc-4299-847b-40222251665d\":{\"roots\":{\"references\":[{\"attributes\":{},\"id\":\"6a9d46e0-724b-4f87-9063-409c2a8854b3\",\"type\":\"BasicTicker\"},{\"attributes\":{\"formatter\":{\"id\":\"a1b0aa19-2777-4074-96c4-ce06d92de99d\",\"type\":\"BasicTickFormatter\"},\"plot\":{\"id\":\"3526fc78-e842-4ae9-9b2f-810de6420c36\",\"subtype\":\"Figure\",\"type\":\"Plot\"},\"ticker\":{\"id\":\"6a9d46e0-724b-4f87-9063-409c2a8854b3\",\"type\":\"BasicTicker\"}},\"id\":\"0838e1f7-d2b5-46ae-931d-9a7d085cdd38\",\"type\":\"LinearAxis\"},{\"attributes\":{\"fill_alpha\":0.1,\"fill_color\":\"#1f77b4\",\"line_alpha\":0.1,\"line_color\":\"#1f77b4\",\"x\":{\"field\":\"x\"},\"y\":{\"field\":\"y\"}},\"id\":\"8c86f4db-2478-44dc-ab46-afa4952e82d8\",\"type\":\"Patch\"},{\"attributes\":{},\"id\":\"a622a24e-dcc8-4040-b7d1-4f1f490e7dc0\",\"type\":\"SaveTool\"},{\"attributes\":{},\"id\":\"8e43bb06-897c-4021-9d4d-323b1c1514d0\",\"type\":\"LinearScale\"},{\"attributes\":{},\"id\":\"84381b36-35bf-474b-bd8f-d2b5d3d9e5b4\",\"type\":\"LinearScale\"},{\"attributes\":{\"plot\":null,\"text\":\"\"},\"id\":\"5bb47aab-e45b-4ad2-96fb-aa88cce995b6\",\"type\":\"Title\"},{\"attributes\":{\"fill_alpha\":0.25,\"fill_color\":\"#1f77b4\",\"line_color\":\"#1f77b4\",\"x\":{\"field\":\"x\"},\"y\":{\"field\":\"y\"}},\"id\":\"4de6d276-745e-4a34-8a8b-f9f29a2b1831\",\"type\":\"Patch\"},{\"attributes\":{\"dimension\":1,\"plot\":{\"id\":\"3526fc78-e842-4ae9-9b2f-810de6420c36\",\"subtype\":\"Figure\",\"type\":\"Plot\"},\"ticker\":{\"id\":\"43a9f6ec-bb69-4c61-addf-bf593bdcb6e2\",\"type\":\"BasicTicker\"}},\"id\":\"3d6a62a5-3b7f-40da-aefa-3ada93bf8c48\",\"type\":\"Grid\"},{\"attributes\":{\"plot\":{\"id\":\"3526fc78-e842-4ae9-9b2f-810de6420c36\",\"subtype\":\"Figure\",\"type\":\"Plot\"},\"ticker\":{\"id\":\"6a9d46e0-724b-4f87-9063-409c2a8854b3\",\"type\":\"BasicTicker\"}},\"id\":\"7daca892-0d44-4854-be56-fe793a668ec3\",\"type\":\"Grid\"},{\"attributes\":{},\"id\":\"b9ce56a6-8c52-4592-8dd2-0ea88bac0989\",\"type\":\"PanTool\"},{\"attributes\":{\"callback\":null,\"end\":120.0},\"id\":\"a953e4bc-1bee-463d-a3f0-ffeb7c4e81f9\",\"type\":\"Range1d\"},{\"attributes\":{\"below\":[{\"id\":\"0838e1f7-d2b5-46ae-931d-9a7d085cdd38\",\"type\":\"LinearAxis\"}],\"left\":[{\"id\":\"17709fd4-e393-494c-9eb8-bbe4ce78fef3\",\"type\":\"LinearAxis\"}],\"renderers\":[{\"id\":\"0838e1f7-d2b5-46ae-931d-9a7d085cdd38\",\"type\":\"LinearAxis\"},{\"id\":\"7daca892-0d44-4854-be56-fe793a668ec3\",\"type\":\"Grid\"},{\"id\":\"17709fd4-e393-494c-9eb8-bbe4ce78fef3\",\"type\":\"LinearAxis\"},{\"id\":\"3d6a62a5-3b7f-40da-aefa-3ada93bf8c48\",\"type\":\"Grid\"},{\"id\":\"7f679258-8158-4a75-a5e7-64a4a0f06c4b\",\"type\":\"BoxAnnotation\"},{\"id\":\"481dd06b-c482-4bfd-a61e-a9ce7ac7e12c\",\"type\":\"GlyphRenderer\"}],\"title\":{\"id\":\"5bb47aab-e45b-4ad2-96fb-aa88cce995b6\",\"type\":\"Title\"},\"toolbar\":{\"id\":\"13e4c0ca-1b31-48a7-a7ab-b71b9010afb2\",\"type\":\"Toolbar\"},\"x_range\":{\"id\":\"a953e4bc-1bee-463d-a3f0-ffeb7c4e81f9\",\"type\":\"Range1d\"},\"x_scale\":{\"id\":\"84381b36-35bf-474b-bd8f-d2b5d3d9e5b4\",\"type\":\"LinearScale\"},\"y_range\":{\"id\":\"3ce2c2e8-0601-4d7f-8df3-dc41d135a00c\",\"type\":\"Range1d\"},\"y_scale\":{\"id\":\"8e43bb06-897c-4021-9d4d-323b1c1514d0\",\"type\":\"LinearScale\"}},\"id\":\"3526fc78-e842-4ae9-9b2f-810de6420c36\",\"subtype\":\"Figure\",\"type\":\"Plot\"},{\"attributes\":{},\"id\":\"43a9f6ec-bb69-4c61-addf-bf593bdcb6e2\",\"type\":\"BasicTicker\"},{\"attributes\":{\"overlay\":{\"id\":\"7f679258-8158-4a75-a5e7-64a4a0f06c4b\",\"type\":\"BoxAnnotation\"}},\"id\":\"d2881e09-4951-4b87-8319-78b8030fd0f2\",\"type\":\"BoxZoomTool\"},{\"attributes\":{},\"id\":\"9f26a1a1-67ad-464f-8869-239d992b377c\",\"type\":\"BasicTickFormatter\"},{\"attributes\":{},\"id\":\"1a82414b-13f6-4128-b61d-aa390a9c2755\",\"type\":\"WheelZoomTool\"},{\"attributes\":{\"formatter\":{\"id\":\"9f26a1a1-67ad-464f-8869-239d992b377c\",\"type\":\"BasicTickFormatter\"},\"plot\":{\"id\":\"3526fc78-e842-4ae9-9b2f-810de6420c36\",\"subtype\":\"Figure\",\"type\":\"Plot\"},\"ticker\":{\"id\":\"43a9f6ec-bb69-4c61-addf-bf593bdcb6e2\",\"type\":\"BasicTicker\"}},\"id\":\"17709fd4-e393-494c-9eb8-bbe4ce78fef3\",\"type\":\"LinearAxis\"},{\"attributes\":{\"data_source\":{\"id\":\"b8ed6929-c622-462a-bd71-cd1ff2e47117\",\"type\":\"ColumnDataSource\"},\"glyph\":{\"id\":\"4de6d276-745e-4a34-8a8b-f9f29a2b1831\",\"type\":\"Patch\"},\"hover_glyph\":null,\"muted_glyph\":null,\"nonselection_glyph\":{\"id\":\"8c86f4db-2478-44dc-ab46-afa4952e82d8\",\"type\":\"Patch\"},\"selection_glyph\":null,\"view\":{\"id\":\"60ce7675-1c25-4f3e-a32b-e4de0c87cf33\",\"type\":\"CDSView\"}},\"id\":\"481dd06b-c482-4bfd-a61e-a9ce7ac7e12c\",\"type\":\"GlyphRenderer\"},{\"attributes\":{\"source\":{\"id\":\"b8ed6929-c622-462a-bd71-cd1ff2e47117\",\"type\":\"ColumnDataSource\"}},\"id\":\"60ce7675-1c25-4f3e-a32b-e4de0c87cf33\",\"type\":\"CDSView\"},{\"attributes\":{},\"id\":\"a1b0aa19-2777-4074-96c4-ce06d92de99d\",\"type\":\"BasicTickFormatter\"},{\"attributes\":{},\"id\":\"f8e80c95-9d97-44d3-9d8d-89f6da769584\",\"type\":\"ResetTool\"},{\"attributes\":{\"active_drag\":\"auto\",\"active_inspect\":\"auto\",\"active_scroll\":\"auto\",\"active_tap\":\"auto\",\"tools\":[{\"id\":\"b9ce56a6-8c52-4592-8dd2-0ea88bac0989\",\"type\":\"PanTool\"},{\"id\":\"1a82414b-13f6-4128-b61d-aa390a9c2755\",\"type\":\"WheelZoomTool\"},{\"id\":\"d2881e09-4951-4b87-8319-78b8030fd0f2\",\"type\":\"BoxZoomTool\"},{\"id\":\"a622a24e-dcc8-4040-b7d1-4f1f490e7dc0\",\"type\":\"SaveTool\"},{\"id\":\"f8e80c95-9d97-44d3-9d8d-89f6da769584\",\"type\":\"ResetTool\"},{\"id\":\"ecc28374-7b94-4d01-89c5-5b7b6a8fecbe\",\"type\":\"HelpTool\"}]},\"id\":\"13e4c0ca-1b31-48a7-a7ab-b71b9010afb2\",\"type\":\"Toolbar\"},{\"attributes\":{\"callback\":null,\"end\":696.3},\"id\":\"3ce2c2e8-0601-4d7f-8df3-dc41d135a00c\",\"type\":\"Range1d\"},{\"attributes\":{\"bottom_units\":\"screen\",\"fill_alpha\":{\"value\":0.5},\"fill_color\":{\"value\":\"lightgrey\"},\"left_units\":\"screen\",\"level\":\"overlay\",\"line_alpha\":{\"value\":1.0},\"line_color\":{\"value\":\"black\"},\"line_dash\":[4,4],\"line_width\":{\"value\":2},\"plot\":null,\"render_mode\":\"css\",\"right_units\":\"screen\",\"top_units\":\"screen\"},\"id\":\"7f679258-8158-4a75-a5e7-64a4a0f06c4b\",\"type\":\"BoxAnnotation\"},{\"attributes\":{\"callback\":null,\"column_names\":[\"y\",\"x\"],\"data\":{\"x\":{\"__ndarray__\":\"AAAAAAAAAAAAAAAAAAAAADMzMzMzMwNAMzMzMzMzA0AzMzMzMzMTQDMzMzMzMxNAzMzMzMzMHEDMzMzMzMwcQDMzMzMzMyNAMzMzMzMzI0AAAAAAAAAoQAAAAAAAAChAzMzMzMzMLEDMzMzMzMwsQM3MzMzMzDBAzczMzMzMMEAzMzMzMzMzQDMzMzMzMzNAmZmZmZmZNUCZmZmZmZk1QAAAAAAAADhAAAAAAAAAOEBmZmZmZmY6QGZmZmZmZjpAzMzMzMzMPEDMzMzMzMw8QDMzMzMzMz9AMzMzMzMzP0DNzMzMzMxAQM3MzMzMzEBAAAAAAAAAQkAAAAAAAABCQDMzMzMzM0NAMzMzMzMzQ0BmZmZmZmZEQGZmZmZmZkRAmZmZmZmZRUCZmZmZmZlFQM3MzMzMzEZAzczMzMzMRkAAAAAAAABIQAAAAAAAAEhAMzMzMzMzSUAzMzMzMzNJQGZmZmZmZkpAZmZmZmZmSkCZmZmZmZlLQJmZmZmZmUtAzMzMzMzMTEDMzMzMzMxMQAAAAAAAAE5AAAAAAAAATkAzMzMzMzNPQDMzMzMzM09AMzMzMzMzUEAzMzMzMzNQQM3MzMzMzFBAzczMzMzMUEBmZmZmZmZRQGZmZmZmZlFAAAAAAAAAUkAAAAAAAABSQJmZmZmZmVJAmZmZmZmZUkAzMzMzMzNTQDMzMzMzM1NAzczMzMzMU0DNzMzMzMxTQGZmZmZmZlRAZmZmZmZmVEAAAAAAAABVQAAAAAAAAFVAmZmZmZmZVUCZmZmZmZlVQDMzMzMzM1ZAMzMzMzMzVkDNzMzMzMxWQM3MzMzMzFZAZmZmZmZmV0BmZmZmZmZXQAAAAAAAAFhAAAAAAAAAWECZmZmZmZlYQJmZmZmZmVhAMzMzMzMzWUAzMzMzMzNZQM3MzMzMzFlAzczMzMzMWUBmZmZmZmZaQGZmZmZmZlpAAAAAAAAAW0AAAAAAAABbQJmZmZmZmVtAmZmZmZmZW0AzMzMzMzNcQDMzMzMzM1xAzMzMzMzMXEDMzMzMzMxcQGZmZmZmZl1AZmZmZmZmXUAAAAAAAABeQAAAAAAAAF5A\",\"dtype\":\"float64\",\"shape\":[102]},\"y\":{\"__ndarray__\":\"AAAAAAAAAAAAAAAAAAAAAAAAAAAAAAAAAAAAAAAAAEAAAAAAAAAAQAAAAAAAABBAAAAAAAAAEEAAAAAAAAAAAAAAAAAAAAAAAAAAAAAAAAAAAAAAAAAAAAAAAAAAAAAAAAAAAAAAAAAAAAAAAAAAAAAAAAAAAAAAAAAAAAAAGEAAAAAAAAAYQAAAAAAAAABAAAAAAAAAAEAAAAAAAAAAAAAAAAAAAAAAAAAAAAAAAEAAAAAAAAAAQAAAAAAAAAAAAAAAAAAAAAAAAAAAAAAAAAAAAAAAAAAAAAAAAAAAAEAAAAAAAAAAQAAAAAAAAAAAAAAAAAAAAAAAAAAAAAAAAAAAAAAAAAAAAAAAAAAAAEAAAAAAAAAAQAAAAAAAAABAAAAAAAAAAEAAAAAAAAAAQAAAAAAAAABAAAAAAAAAAAAAAAAAAAAAAAAAAAAAAAAAAAAAAAAAAAAAAAAAAAAgQAAAAAAAACBAAAAAAAAAAAAAAAAAAAAAAAAAAAAAAAAAAAAAAAAAAAAAAAAAAAAAAAAAAAAAAAAAAAAAAAAAOEAAAAAAAAA4QAAAAAAAADRAAAAAAAAANEAAAAAAAAAQQAAAAAAAABBAAAAAAAAAMEAAAAAAAAAwQAAAAAAAADtAAAAAAAAAO0AAAAAAAAA8QAAAAAAAADxAAAAAAAAALkAAAAAAAAAuQAAAAAAAADlAAAAAAAAAOUAAAAAAAIBLQAAAAAAAgEtAAAAAAAAAPEAAAAAAAAA8QAAAAAAAgFpAAAAAAACAWkAAAAAAAIBvQAAAAAAAgG9AAAAAAADIg0AAAAAAAMiDQAAAAAAAgH1AAAAAAACAfUAAAAAAAMBnQAAAAAAAwGdAAAAAAACAQ0AAAAAAAIBDQAAAAAAAgENAAAAAAACAQ0AAAAAAAAAcQAAAAAAAABxAAAAAAAAAGEAAAAAAAAAYQAAAAAAAABhAAAAAAAAAGEAAAAAAAAAQQAAAAAAAABBAAAAAAAAAEEAAAAAAAAAQQAAAAAAAAAAAAAAAAAAAAAAAAAAAAAAAAAAAAAAAAAAAAAAAAAAAEEAAAAAAAAAQQAAAAAAAAAAA\",\"dtype\":\"float64\",\"shape\":[102]}}},\"id\":\"b8ed6929-c622-462a-bd71-cd1ff2e47117\",\"type\":\"ColumnDataSource\"},{\"attributes\":{},\"id\":\"ecc28374-7b94-4d01-89c5-5b7b6a8fecbe\",\"type\":\"HelpTool\"}],\"root_ids\":[\"3526fc78-e842-4ae9-9b2f-810de6420c36\"]},\"title\":\"Bokeh Application\",\"version\":\"0.12.11\"}};\n",
       "    var render_items = [{\"docid\":\"9a4664c7-0fbc-4299-847b-40222251665d\",\"elementid\":\"f1177b21-0e52-4bcc-989c-c6c2938f98e0\",\"modelid\":\"3526fc78-e842-4ae9-9b2f-810de6420c36\"}];\n",
       "    root.Bokeh.embed.embed_items(docs_json, render_items);\n",
       "  }\n",
       "  if (root.Bokeh !== undefined) {\n",
       "    embed_document(root);\n",
       "  } else {\n",
       "    var attempts = 0;\n",
       "    var timer = setInterval(function(root) {\n",
       "      if (root.Bokeh !== undefined) {\n",
       "        embed_document(root);\n",
       "        clearInterval(timer);\n",
       "      }\n",
       "      attempts++;\n",
       "      if (attempts > 100) {\n",
       "        console.log(\"Bokeh: ERROR: Unable to embed document because BokehJS library is missing\")\n",
       "        clearInterval(timer);\n",
       "      }\n",
       "    }, 10, root)\n",
       "  }\n",
       "})(window);"
      ],
      "application/vnd.bokehjs_exec.v0+json": ""
     },
     "metadata": {
      "application/vnd.bokehjs_exec.v0+json": {
       "id": "3526fc78-e842-4ae9-9b2f-810de6420c36"
      }
     },
     "output_type": "display_data"
    }
   ],
   "source": [
    "show(Zmumu.filter(\"E1 > 10 and E2 > 10\").hist(50, 0, 120, \"M\").bokeh.fig())"
   ]
  },
  {
   "cell_type": "markdown",
   "metadata": {},
   "source": [
    "## This Higgz to ZZ file has some jagged arrays in it\n",
    "\n",
    "[See Wikipedia](https://en.wikipedia.org/wiki/Jagged_array) for more about jagged arrays."
   ]
  },
  {
   "cell_type": "code",
   "execution_count": 8,
   "metadata": {},
   "outputs": [
    {
     "data": {
      "text/plain": [
       "['events;1']"
      ]
     },
     "execution_count": 8,
     "metadata": {},
     "output_type": "execute_result"
    }
   ],
   "source": [
    "uproot.open(\"tests/samples/HZZ.root\").keys()"
   ]
  },
  {
   "cell_type": "code",
   "execution_count": 9,
   "metadata": {},
   "outputs": [],
   "source": [
    "HZZ = uproot.open(\"tests/samples/HZZ.root\")[\"events\"]"
   ]
  },
  {
   "cell_type": "code",
   "execution_count": 10,
   "metadata": {},
   "outputs": [
    {
     "name": "stdout",
     "output_type": "stream",
     "text": [
      "NJet                       (no streamer)              asdtype('>i4')\n",
      "Jet_Px                     (no streamer)              asjagged(asdtype('>f4'))\n",
      "Jet_Py                     (no streamer)              asjagged(asdtype('>f4'))\n",
      "Jet_Pz                     (no streamer)              asjagged(asdtype('>f4'))\n",
      "Jet_E                      (no streamer)              asjagged(asdtype('>f4'))\n",
      "Jet_btag                   (no streamer)              asjagged(asdtype('>f4'))\n",
      "Jet_ID                     (no streamer)              asjagged(asdtype(dtype('bool')))\n",
      "NMuon                      (no streamer)              asdtype('>i4')\n",
      "Muon_Px                    (no streamer)              asjagged(asdtype('>f4'))\n",
      "Muon_Py                    (no streamer)              asjagged(asdtype('>f4'))\n",
      "Muon_Pz                    (no streamer)              asjagged(asdtype('>f4'))\n",
      "Muon_E                     (no streamer)              asjagged(asdtype('>f4'))\n",
      "Muon_Charge                (no streamer)              asjagged(asdtype('>i4'))\n",
      "Muon_Iso                   (no streamer)              asjagged(asdtype('>f4'))\n",
      "NElectron                  (no streamer)              asdtype('>i4')\n",
      "Electron_Px                (no streamer)              asjagged(asdtype('>f4'))\n",
      "Electron_Py                (no streamer)              asjagged(asdtype('>f4'))\n",
      "Electron_Pz                (no streamer)              asjagged(asdtype('>f4'))\n",
      "Electron_E                 (no streamer)              asjagged(asdtype('>f4'))\n",
      "Electron_Charge            (no streamer)              asjagged(asdtype('>i4'))\n",
      "Electron_Iso               (no streamer)              asjagged(asdtype('>f4'))\n",
      "NPhoton                    (no streamer)              asdtype('>i4')\n",
      "Photon_Px                  (no streamer)              asjagged(asdtype('>f4'))\n",
      "Photon_Py                  (no streamer)              asjagged(asdtype('>f4'))\n",
      "Photon_Pz                  (no streamer)              asjagged(asdtype('>f4'))\n",
      "Photon_E                   (no streamer)              asjagged(asdtype('>f4'))\n",
      "Photon_Iso                 (no streamer)              asjagged(asdtype('>f4'))\n",
      "MET_px                     (no streamer)              asdtype('>f4')\n",
      "MET_py                     (no streamer)              asdtype('>f4')\n",
      "MChadronicBottom_px        (no streamer)              asdtype('>f4')\n",
      "MChadronicBottom_py        (no streamer)              asdtype('>f4')\n",
      "MChadronicBottom_pz        (no streamer)              asdtype('>f4')\n",
      "MCleptonicBottom_px        (no streamer)              asdtype('>f4')\n",
      "MCleptonicBottom_py        (no streamer)              asdtype('>f4')\n",
      "MCleptonicBottom_pz        (no streamer)              asdtype('>f4')\n",
      "MChadronicWDecayQuark_px   (no streamer)              asdtype('>f4')\n",
      "MChadronicWDecayQuark_py   (no streamer)              asdtype('>f4')\n",
      "MChadronicWDecayQuark_pz   (no streamer)              asdtype('>f4')\n",
      "MChadronicWDecayQuarkBar_px\n",
      "                           (no streamer)              asdtype('>f4')\n",
      "MChadronicWDecayQuarkBar_py\n",
      "                           (no streamer)              asdtype('>f4')\n",
      "MChadronicWDecayQuarkBar_pz\n",
      "                           (no streamer)              asdtype('>f4')\n",
      "MClepton_px                (no streamer)              asdtype('>f4')\n",
      "MClepton_py                (no streamer)              asdtype('>f4')\n",
      "MClepton_pz                (no streamer)              asdtype('>f4')\n",
      "MCleptonPDGid              (no streamer)              asdtype('>i4')\n",
      "MCneutrino_px              (no streamer)              asdtype('>f4')\n",
      "MCneutrino_py              (no streamer)              asdtype('>f4')\n",
      "MCneutrino_pz              (no streamer)              asdtype('>f4')\n",
      "NPrimaryVertices           (no streamer)              asdtype('>i4')\n",
      "triggerIsoMu24             (no streamer)              asdtype(dtype('bool'))\n",
      "EventWeight                (no streamer)              asdtype('>f4')\n"
     ]
    }
   ],
   "source": [
    "HZZ.show()"
   ]
  },
  {
   "cell_type": "markdown",
   "metadata": {},
   "source": [
    "## Making a plot the old fashioned way, by nested for loops\n",
    "\n",
    "There ought to be a clever way to express this functionally, but for now we demonstrate that you can do it, if you want to.\n",
    "\n",
    "The performance of this code should be exactly the same as writing a C program, compiling it, and running it, because that's essentially what's happening with the `@numba.njit`. The beauty of this is that you don't have to leave Python, set up the compilation, etc., etc. You put these functions inline with the rest of your Python-based analysis code."
   ]
  },
  {
   "cell_type": "code",
   "execution_count": 11,
   "metadata": {},
   "outputs": [],
   "source": [
    "import numba\n",
    "from math import sqrt\n",
    "\n",
    "@numba.njit\n",
    "def fillhist(dimuon_hist, quadmuon_hist, NMuon, Muon_Px, Muon_Py, Muon_Pz, Muon_E):   # have to pass in the histograms to be able to modify them\n",
    "    for event_i in range(len(NMuon)):\n",
    "        totE  = 0.0\n",
    "        totPx = 0.0\n",
    "        totPy = 0.0\n",
    "        totPz = 0.0\n",
    "        for muon_i in range(NMuon[event_i]):                                          # range(jagged array member) is an optimized function\n",
    "            for muon_j in range(muon_i + 1, NMuon[event_i]):\n",
    "                E  = Muon_E[event_i][muon_i]  + Muon_E[event_i][muon_j]               # subarray extraction is optimized, too\n",
    "                Px = Muon_Px[event_i][muon_i] + Muon_Px[event_i][muon_j]\n",
    "                Py = Muon_Py[event_i][muon_i] + Muon_Py[event_i][muon_j]\n",
    "                Pz = Muon_Pz[event_i][muon_i] + Muon_Pz[event_i][muon_j]\n",
    "                dimuon_hist.fill(sqrt(E**2 - Px**2 - Py**2 - Pz**2))                  # histogram filling (and fillw for weights) are optimized\n",
    "            totE  += Muon_E[event_i][muon_i]\n",
    "            totPx += Muon_Px[event_i][muon_i]\n",
    "            totPy += Muon_Py[event_i][muon_i]\n",
    "            totPz += Muon_Pz[event_i][muon_i]\n",
    "            quadmuon_hist.fill(totE**2 - totPx**2 - totPy**2 - totPz**2)\n",
    "    return dimuon_hist, quadmuon_hist                                                 # have to return the histograms to get the updates"
   ]
  },
  {
   "cell_type": "code",
   "execution_count": 12,
   "metadata": {},
   "outputs": [],
   "source": [
    "dimuon_hist, quadmuon_hist = fillhist(uproot.hist(100, 60, 160), uproot.hist(100, 60, 160), *HZZ.arrays([\"NMuon\", \"Muon_Px\", \"Muon_Py\", \"Muon_Pz\", \"Muon_E\"], outputtype=tuple))"
   ]
  },
  {
   "cell_type": "code",
   "execution_count": 13,
   "metadata": {},
   "outputs": [
    {
     "data": {
      "text/html": [
       "\n",
       "<div class=\"bk-root\">\n",
       "    <div class=\"bk-plotdiv\" id=\"bacf35ff-a75c-4213-9ebf-0c20f1bd9f0d\"></div>\n",
       "</div>"
      ]
     },
     "metadata": {},
     "output_type": "display_data"
    },
    {
     "data": {
      "application/javascript": [
       "(function(root) {\n",
       "  function embed_document(root) {\n",
       "    var docs_json = {\"7a167759-0339-4feb-ad3d-394522166c0b\":{\"roots\":{\"references\":[{\"attributes\":{\"fill_alpha\":0.1,\"fill_color\":\"#1f77b4\",\"line_alpha\":0.1,\"line_color\":\"#1f77b4\",\"x\":{\"field\":\"x\"},\"y\":{\"field\":\"y\"}},\"id\":\"44692f40-0461-46b8-bebf-47a36d69239a\",\"type\":\"Patch\"},{\"attributes\":{\"fill_alpha\":0.25,\"fill_color\":\"#1f77b4\",\"line_color\":\"#1f77b4\",\"x\":{\"field\":\"x\"},\"y\":{\"field\":\"y\"}},\"id\":\"43a48d79-d74e-4d5f-81e1-136d79efdf27\",\"type\":\"Patch\"},{\"attributes\":{},\"id\":\"8a6f46c3-3649-431f-88f5-d9e61449cd34\",\"type\":\"BasicTicker\"},{\"attributes\":{},\"id\":\"b591c9c1-0354-4fef-89d6-918c5deef749\",\"type\":\"BasicTickFormatter\"},{\"attributes\":{\"formatter\":{\"id\":\"b591c9c1-0354-4fef-89d6-918c5deef749\",\"type\":\"BasicTickFormatter\"},\"plot\":{\"id\":\"5a3a6e22-6f9b-47f0-87b2-5be69e2cb749\",\"subtype\":\"Figure\",\"type\":\"Plot\"},\"ticker\":{\"id\":\"8f7d3198-19c9-4b1d-80e4-023577702d7d\",\"type\":\"BasicTicker\"}},\"id\":\"659f6991-1d06-4bc1-a4b7-40ca311224c8\",\"type\":\"LinearAxis\"},{\"attributes\":{},\"id\":\"3ec482d0-fdce-43ef-b5d9-7e66744b29fc\",\"type\":\"BasicTickFormatter\"},{\"attributes\":{\"overlay\":{\"id\":\"91e40dd5-6ea9-4c46-96e8-5d4dccda3836\",\"type\":\"BoxAnnotation\"}},\"id\":\"f6687ecd-23c1-4dd6-97c6-1b633245cdd5\",\"type\":\"BoxZoomTool\"},{\"attributes\":{\"dimension\":1,\"plot\":{\"id\":\"5a3a6e22-6f9b-47f0-87b2-5be69e2cb749\",\"subtype\":\"Figure\",\"type\":\"Plot\"},\"ticker\":{\"id\":\"8f7d3198-19c9-4b1d-80e4-023577702d7d\",\"type\":\"BasicTicker\"}},\"id\":\"ba552701-4461-49a6-ae06-28edd3c6ace7\",\"type\":\"Grid\"},{\"attributes\":{},\"id\":\"b7128f88-cfdc-4124-bb31-e536fa82c695\",\"type\":\"WheelZoomTool\"},{\"attributes\":{},\"id\":\"ff1a40f9-275c-402a-9e44-df3671709bcb\",\"type\":\"HelpTool\"},{\"attributes\":{\"active_drag\":\"auto\",\"active_inspect\":\"auto\",\"active_scroll\":\"auto\",\"active_tap\":\"auto\",\"tools\":[{\"id\":\"70d5ef4e-3108-4b79-a1cc-cf602af84e88\",\"type\":\"PanTool\"},{\"id\":\"b7128f88-cfdc-4124-bb31-e536fa82c695\",\"type\":\"WheelZoomTool\"},{\"id\":\"f6687ecd-23c1-4dd6-97c6-1b633245cdd5\",\"type\":\"BoxZoomTool\"},{\"id\":\"f1f57b57-5f18-4546-912f-115f2aaca508\",\"type\":\"SaveTool\"},{\"id\":\"0b8c557a-f23f-46d1-9e5e-fbb3456ad8fe\",\"type\":\"ResetTool\"},{\"id\":\"ff1a40f9-275c-402a-9e44-df3671709bcb\",\"type\":\"HelpTool\"}]},\"id\":\"0b638ada-18c1-4b22-9599-84fd7e5ca263\",\"type\":\"Toolbar\"},{\"attributes\":{},\"id\":\"8f7d3198-19c9-4b1d-80e4-023577702d7d\",\"type\":\"BasicTicker\"},{\"attributes\":{\"callback\":null,\"end\":160.0,\"start\":60.0},\"id\":\"2a1a17da-db30-418c-9e04-3ec5cebfe9da\",\"type\":\"Range1d\"},{\"attributes\":{\"callback\":null,\"column_names\":[\"y\",\"x\"],\"data\":{\"x\":{\"__ndarray__\":\"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\",\"dtype\":\"float64\",\"shape\":[202]},\"y\":{\"__ndarray__\":\"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\",\"dtype\":\"float64\",\"shape\":[202]}}},\"id\":\"40b09f01-bead-4030-a2d9-aa4fbb1dc952\",\"type\":\"ColumnDataSource\"},{\"attributes\":{\"data_source\":{\"id\":\"40b09f01-bead-4030-a2d9-aa4fbb1dc952\",\"type\":\"ColumnDataSource\"},\"glyph\":{\"id\":\"43a48d79-d74e-4d5f-81e1-136d79efdf27\",\"type\":\"Patch\"},\"hover_glyph\":null,\"muted_glyph\":null,\"nonselection_glyph\":{\"id\":\"44692f40-0461-46b8-bebf-47a36d69239a\",\"type\":\"Patch\"},\"selection_glyph\":null,\"view\":{\"id\":\"f36d263f-71fd-4e78-836a-c55ad1f69d95\",\"type\":\"CDSView\"}},\"id\":\"12323185-5ec2-4a30-a71e-9d889164e7a1\",\"type\":\"GlyphRenderer\"},{\"attributes\":{\"callback\":null,\"end\":218.9},\"id\":\"c00998bb-b992-4a5a-8ea8-2f4ae934a91a\",\"type\":\"Range1d\"},{\"attributes\":{\"plot\":null,\"text\":\"\"},\"id\":\"376448d5-3671-42d2-9f54-0bbe09ee0343\",\"type\":\"Title\"},{\"attributes\":{\"formatter\":{\"id\":\"3ec482d0-fdce-43ef-b5d9-7e66744b29fc\",\"type\":\"BasicTickFormatter\"},\"plot\":{\"id\":\"5a3a6e22-6f9b-47f0-87b2-5be69e2cb749\",\"subtype\":\"Figure\",\"type\":\"Plot\"},\"ticker\":{\"id\":\"8a6f46c3-3649-431f-88f5-d9e61449cd34\",\"type\":\"BasicTicker\"}},\"id\":\"2c357c6b-5946-45c7-9e83-c1873d9a2fc2\",\"type\":\"LinearAxis\"},{\"attributes\":{},\"id\":\"978fdffa-90ce-4e01-872f-b68b9f5da5f6\",\"type\":\"LinearScale\"},{\"attributes\":{\"bottom_units\":\"screen\",\"fill_alpha\":{\"value\":0.5},\"fill_color\":{\"value\":\"lightgrey\"},\"left_units\":\"screen\",\"level\":\"overlay\",\"line_alpha\":{\"value\":1.0},\"line_color\":{\"value\":\"black\"},\"line_dash\":[4,4],\"line_width\":{\"value\":2},\"plot\":null,\"render_mode\":\"css\",\"right_units\":\"screen\",\"top_units\":\"screen\"},\"id\":\"91e40dd5-6ea9-4c46-96e8-5d4dccda3836\",\"type\":\"BoxAnnotation\"},{\"attributes\":{\"plot\":{\"id\":\"5a3a6e22-6f9b-47f0-87b2-5be69e2cb749\",\"subtype\":\"Figure\",\"type\":\"Plot\"},\"ticker\":{\"id\":\"8a6f46c3-3649-431f-88f5-d9e61449cd34\",\"type\":\"BasicTicker\"}},\"id\":\"3c33b3ce-7742-408f-8518-7c57b8f4b7c7\",\"type\":\"Grid\"},{\"attributes\":{},\"id\":\"f1f57b57-5f18-4546-912f-115f2aaca508\",\"type\":\"SaveTool\"},{\"attributes\":{},\"id\":\"0b8c557a-f23f-46d1-9e5e-fbb3456ad8fe\",\"type\":\"ResetTool\"},{\"attributes\":{\"source\":{\"id\":\"40b09f01-bead-4030-a2d9-aa4fbb1dc952\",\"type\":\"ColumnDataSource\"}},\"id\":\"f36d263f-71fd-4e78-836a-c55ad1f69d95\",\"type\":\"CDSView\"},{\"attributes\":{},\"id\":\"5a53128e-799b-4301-b7d1-9c5385a29857\",\"type\":\"LinearScale\"},{\"attributes\":{\"below\":[{\"id\":\"2c357c6b-5946-45c7-9e83-c1873d9a2fc2\",\"type\":\"LinearAxis\"}],\"left\":[{\"id\":\"659f6991-1d06-4bc1-a4b7-40ca311224c8\",\"type\":\"LinearAxis\"}],\"renderers\":[{\"id\":\"2c357c6b-5946-45c7-9e83-c1873d9a2fc2\",\"type\":\"LinearAxis\"},{\"id\":\"3c33b3ce-7742-408f-8518-7c57b8f4b7c7\",\"type\":\"Grid\"},{\"id\":\"659f6991-1d06-4bc1-a4b7-40ca311224c8\",\"type\":\"LinearAxis\"},{\"id\":\"ba552701-4461-49a6-ae06-28edd3c6ace7\",\"type\":\"Grid\"},{\"id\":\"91e40dd5-6ea9-4c46-96e8-5d4dccda3836\",\"type\":\"BoxAnnotation\"},{\"id\":\"12323185-5ec2-4a30-a71e-9d889164e7a1\",\"type\":\"GlyphRenderer\"}],\"title\":{\"id\":\"376448d5-3671-42d2-9f54-0bbe09ee0343\",\"type\":\"Title\"},\"toolbar\":{\"id\":\"0b638ada-18c1-4b22-9599-84fd7e5ca263\",\"type\":\"Toolbar\"},\"x_range\":{\"id\":\"2a1a17da-db30-418c-9e04-3ec5cebfe9da\",\"type\":\"Range1d\"},\"x_scale\":{\"id\":\"5a53128e-799b-4301-b7d1-9c5385a29857\",\"type\":\"LinearScale\"},\"y_range\":{\"id\":\"c00998bb-b992-4a5a-8ea8-2f4ae934a91a\",\"type\":\"Range1d\"},\"y_scale\":{\"id\":\"978fdffa-90ce-4e01-872f-b68b9f5da5f6\",\"type\":\"LinearScale\"}},\"id\":\"5a3a6e22-6f9b-47f0-87b2-5be69e2cb749\",\"subtype\":\"Figure\",\"type\":\"Plot\"},{\"attributes\":{},\"id\":\"70d5ef4e-3108-4b79-a1cc-cf602af84e88\",\"type\":\"PanTool\"}],\"root_ids\":[\"5a3a6e22-6f9b-47f0-87b2-5be69e2cb749\"]},\"title\":\"Bokeh Application\",\"version\":\"0.12.11\"}};\n",
       "    var render_items = [{\"docid\":\"7a167759-0339-4feb-ad3d-394522166c0b\",\"elementid\":\"bacf35ff-a75c-4213-9ebf-0c20f1bd9f0d\",\"modelid\":\"5a3a6e22-6f9b-47f0-87b2-5be69e2cb749\"}];\n",
       "    root.Bokeh.embed.embed_items(docs_json, render_items);\n",
       "  }\n",
       "  if (root.Bokeh !== undefined) {\n",
       "    embed_document(root);\n",
       "  } else {\n",
       "    var attempts = 0;\n",
       "    var timer = setInterval(function(root) {\n",
       "      if (root.Bokeh !== undefined) {\n",
       "        embed_document(root);\n",
       "        clearInterval(timer);\n",
       "      }\n",
       "      attempts++;\n",
       "      if (attempts > 100) {\n",
       "        console.log(\"Bokeh: ERROR: Unable to embed document because BokehJS library is missing\")\n",
       "        clearInterval(timer);\n",
       "      }\n",
       "    }, 10, root)\n",
       "  }\n",
       "})(window);"
      ],
      "application/vnd.bokehjs_exec.v0+json": ""
     },
     "metadata": {
      "application/vnd.bokehjs_exec.v0+json": {
       "id": "5a3a6e22-6f9b-47f0-87b2-5be69e2cb749"
      }
     },
     "output_type": "display_data"
    }
   ],
   "source": [
    "show(dimuon_hist.bokeh.fig())"
   ]
  },
  {
   "cell_type": "code",
   "execution_count": 14,
   "metadata": {},
   "outputs": [
    {
     "data": {
      "text/html": [
       "\n",
       "<div class=\"bk-root\">\n",
       "    <div class=\"bk-plotdiv\" id=\"9d47403e-a7c3-434a-b8e1-273220e53093\"></div>\n",
       "</div>"
      ]
     },
     "metadata": {},
     "output_type": "display_data"
    },
    {
     "data": {
      "application/javascript": [
       "(function(root) {\n",
       "  function embed_document(root) {\n",
       "    var docs_json = {\"0d8b2e9f-7dfe-47f2-9916-a5081b72406c\":{\"roots\":{\"references\":[{\"attributes\":{\"formatter\":{\"id\":\"6a8159d4-b4a1-401a-a08f-1d6fac6fb3b1\",\"type\":\"BasicTickFormatter\"},\"plot\":{\"id\":\"038acb70-78f8-4cce-9c60-557605346559\",\"subtype\":\"Figure\",\"type\":\"Plot\"},\"ticker\":{\"id\":\"b729d9f3-7d6e-4f8e-9632-adae55883c6f\",\"type\":\"BasicTicker\"}},\"id\":\"a3a3297a-ebf1-407f-94a3-4fc99e52fae2\",\"type\":\"LinearAxis\"},{\"attributes\":{\"dimension\":1,\"plot\":{\"id\":\"038acb70-78f8-4cce-9c60-557605346559\",\"subtype\":\"Figure\",\"type\":\"Plot\"},\"ticker\":{\"id\":\"00e9ce4b-69e0-4718-83f7-758422998183\",\"type\":\"BasicTicker\"}},\"id\":\"3fab2bb0-c5cb-4630-9505-d4368dae3711\",\"type\":\"Grid\"},{\"attributes\":{},\"id\":\"00e9ce4b-69e0-4718-83f7-758422998183\",\"type\":\"BasicTicker\"},{\"attributes\":{\"callback\":null,\"end\":160.0,\"start\":60.0},\"id\":\"e7612283-300e-4a82-b60e-3084a3421660\",\"type\":\"Range1d\"},{\"attributes\":{\"callback\":null,\"column_names\":[\"y\",\"x\"],\"data\":{\"x\":{\"__ndarray__\":\"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\",\"dtype\":\"float64\",\"shape\":[202]},\"y\":{\"__ndarray__\":\"AAAAAAAAAAAAAAAAAAAAAAAAAAAAAAAAAAAAAAAAAAAAAAAAAAAAAAAAAAAAAAAAAAAAAAAAAAAAAAAAAAAAAAAAAAAAAAAAAAAAAAAAAAAAAAAAAAAAAAAAAAAAAAAAAAAAAAAAAAAAAAAAAAAAAAAAAAAAAAAAAAAAAAAAAAAAAAAAAAAAAAAAAAAAAAAAAAAAAAAAAAAAAAAAAAAAAAAAAAAAAAAAAAAAAAAAAAAAAAAAAAAAAAAAAAAAAAAAAAAAAAAAAAAAAAAAAAAAAAAAAAAAAAAAAAAAAAAAAAAAAAAAAAAAAAAAAAAAAAAAAAAAAAAAAAAAAAAAAAAAAAAAAAAAAAAAAAAAAAAAAAAAAAAAAAAAAAAAAAAAAAAAAAAAAAAAAAAAAAAAAAAAAAAAAAAAAAAAAAAAAAAAAAAAAAAAAAAAAAAAAAAAAAAAAAAAAAAAAAAAAAAAAAAAAAAAAAAAAAAAAAAAAAAAAAAAAAAAAAAAAAAAAAAAAAAAAAAAAAAAAAAAAAAAAAAAAAAAAAAAAAAAAAAAAAAAAAAAAAAAAAAAAAAAAAAAAAAAAAAAAAAAAAAAAAAAAAAAAAAAAAAAAAAAAAAAAAAAAAAAAAAAAAAAAAAAAAAAAAAAAAAAAAAAAAAAAAAAAAAAAAAAAAAAAAAAAAAAAAAAAAAAAAAAAAAAAAAAAAAAAAAAAAAAAAAAAAAAAAAAAAAAAAAAAAAAAAAAAAAAAAAAAAAAAAAAAAAAAAAAAAAAAAAAAAAAAAAAAAAAAAAAAAAAAAAAAAAAAAAAAAAAAAAAAAAAAAAAAAAAAAAAAAAAAAAAAAAAAAAAAAAAAAAAAAAAAAAAAAAAAAAAAAAAAAAAAAAAAAAAAAAAAAAAAAAAAAAAAAAAAAAAAAAAAAAAAAAAAAAAAAAAAAAAAAAAAAAAAAAAAAAAAAAAAAAAAAAAAAAAAAAAAAAAAAAAAAAAAAAAAAAAAAAAAAAAAAAAAAAAAAAAAAAAAAAAAAAAAAAAAAAAAAAAAAAAAAAAAAAAAAAAAAAAAAAAAAAAAAAAAAAAAAAAAAAAAAAAAAAAAAAAAAAAAAAAAAAAAAAAAAAAAAAAAAAAAAAAAAAAAAAAAAAAAAAAAAAAAAAAAAAAAAAAAAAAAAAAAAAAAAAAAAAAAAAAAAAAAAAAAAAAAAAAAAAAAAAAAAAAAAAAAAAAAAAAAAAAAAAAAAAAAAAAAAAAAAAAAAAAAAAAAAAAAAAAAAAAAAAAAAAAAAAAAAAAAAAAAAAAAAAAAAAAAAAAAAAAAAAAAAAAAAAAAAAAAAAAAAAAAAAAAAAAAAAAAAAAAAAAAAAAAAAAAAAAAAAAAAAAAAAAAAAAAAAAAAAAAAAAAAAAAAAAAAAAAAAAAAAAAAAAAAAAAAAAAAAAAAAAAAAAAAAAAAAAAAAAAAAAAAAAAAAAAAAAAAAAAAAAAAAAAAAAAAAAAAAAAAAAAAAAAAAAAAAAAAAAAAAAAAAAAAAAAAAAAAAAAAAAAAAAAAAAAAAAAAAAAAAAAAAAAAAAAAAAAAAAAAAAAAAAAAAAAAAAAAAAAAAAAAAAAAAAAAAAAAAAAAAAAAAAAAAAAAAAAAAAAAAAAAAAAAAAAAAAAAAAAAAAAAAAAAAAAAAAAAAAAAAAAPA/AAAAAAAA8D8AAAAAAAAAAAAAAAAAAAAAAAAAAAAAAAAAAAAAAAAAAAAAAAAAAAAAAAAAAAAAAAAAAAAAAAAAAAAAAAAAAAAAAAAAAAAAAAAAAAAAAAAAAAAAAAAAAAAAAAAAAAAAAAAAAAAAAAAAAAAAAAAAAAAAAAAAAAAAAAAAAAAAAAAAAAAAAAAAAAAAAAAAAAAAAAAAAAAAAAAAAAAAAAAAAAAAAAAAAAAAAAAAAAAAAAAAAAAAAAAAAAAAAAAAAAAAAAAAAAAAAAAAAAAAAAAAAAAAAAAAAAAAAAAAAAAAAAAAAAAAAAAAAAAAAAAAAAAAAAAAAAAAAAAAAAAAAAAAAAAAAAAAAAAAAAAAAAAAAAAAAAAAAAAAAAAAAAAAAAAAAAAAAAAAAAAAAAAAAAAAAAAAAAAAAAAAAAAAAAAAAAAAAAAAAAAAAAAAAAAAAAAAAAAAAAAAAAAAAAAAAAAAAAAAAAAAAAAAAAA=\",\"dtype\":\"float64\",\"shape\":[202]}}},\"id\":\"cef45f5b-8fb2-4c87-a93c-16ee31b8b4f1\",\"type\":\"ColumnDataSource\"},{\"attributes\":{},\"id\":\"6b086970-9bf8-4a62-b022-dbb58a953586\",\"type\":\"LinearScale\"},{\"attributes\":{},\"id\":\"42706f5d-da33-4cbd-ad6a-c3e0698f3fad\",\"type\":\"PanTool\"},{\"attributes\":{\"bottom_units\":\"screen\",\"fill_alpha\":{\"value\":0.5},\"fill_color\":{\"value\":\"lightgrey\"},\"left_units\":\"screen\",\"level\":\"overlay\",\"line_alpha\":{\"value\":1.0},\"line_color\":{\"value\":\"black\"},\"line_dash\":[4,4],\"line_width\":{\"value\":2},\"plot\":null,\"render_mode\":\"css\",\"right_units\":\"screen\",\"top_units\":\"screen\"},\"id\":\"91f38b17-17d7-4a62-b9d1-bfe3bbda074d\",\"type\":\"BoxAnnotation\"},{\"attributes\":{},\"id\":\"f3fa4e5f-0094-4778-aa38-2538f7bc5de1\",\"type\":\"ResetTool\"},{\"attributes\":{\"fill_alpha\":0.1,\"fill_color\":\"#1f77b4\",\"line_alpha\":0.1,\"line_color\":\"#1f77b4\",\"x\":{\"field\":\"x\"},\"y\":{\"field\":\"y\"}},\"id\":\"51d42e21-0581-4df7-8e93-7128b7888744\",\"type\":\"Patch\"},{\"attributes\":{},\"id\":\"6a8159d4-b4a1-401a-a08f-1d6fac6fb3b1\",\"type\":\"BasicTickFormatter\"},{\"attributes\":{},\"id\":\"083296d4-710e-4f97-95fc-eafbb17fd4a4\",\"type\":\"WheelZoomTool\"},{\"attributes\":{\"plot\":null,\"text\":\"\"},\"id\":\"28775d1a-2db9-47dc-aa3c-1b02386cf609\",\"type\":\"Title\"},{\"attributes\":{\"overlay\":{\"id\":\"91f38b17-17d7-4a62-b9d1-bfe3bbda074d\",\"type\":\"BoxAnnotation\"}},\"id\":\"93c6b09f-e1d6-441a-9403-887afbfaf390\",\"type\":\"BoxZoomTool\"},{\"attributes\":{\"active_drag\":\"auto\",\"active_inspect\":\"auto\",\"active_scroll\":\"auto\",\"active_tap\":\"auto\",\"tools\":[{\"id\":\"42706f5d-da33-4cbd-ad6a-c3e0698f3fad\",\"type\":\"PanTool\"},{\"id\":\"083296d4-710e-4f97-95fc-eafbb17fd4a4\",\"type\":\"WheelZoomTool\"},{\"id\":\"93c6b09f-e1d6-441a-9403-887afbfaf390\",\"type\":\"BoxZoomTool\"},{\"id\":\"955bed30-12db-4ca8-b190-fac159e69fa1\",\"type\":\"SaveTool\"},{\"id\":\"f3fa4e5f-0094-4778-aa38-2538f7bc5de1\",\"type\":\"ResetTool\"},{\"id\":\"60f43f4c-d39f-4348-8b01-4352553a292f\",\"type\":\"HelpTool\"}]},\"id\":\"9e7dee65-7ef2-4c1f-ac50-2a850f23a9a0\",\"type\":\"Toolbar\"},{\"attributes\":{\"below\":[{\"id\":\"a3a3297a-ebf1-407f-94a3-4fc99e52fae2\",\"type\":\"LinearAxis\"}],\"left\":[{\"id\":\"f25414b6-bc75-4b00-b707-c3335f242bcd\",\"type\":\"LinearAxis\"}],\"renderers\":[{\"id\":\"a3a3297a-ebf1-407f-94a3-4fc99e52fae2\",\"type\":\"LinearAxis\"},{\"id\":\"1f187fd4-a2a0-43fe-9f87-368e75cfd9e7\",\"type\":\"Grid\"},{\"id\":\"f25414b6-bc75-4b00-b707-c3335f242bcd\",\"type\":\"LinearAxis\"},{\"id\":\"3fab2bb0-c5cb-4630-9505-d4368dae3711\",\"type\":\"Grid\"},{\"id\":\"91f38b17-17d7-4a62-b9d1-bfe3bbda074d\",\"type\":\"BoxAnnotation\"},{\"id\":\"d5edb624-0d23-42d5-9be6-53ac721cf5e2\",\"type\":\"GlyphRenderer\"}],\"title\":{\"id\":\"28775d1a-2db9-47dc-aa3c-1b02386cf609\",\"type\":\"Title\"},\"toolbar\":{\"id\":\"9e7dee65-7ef2-4c1f-ac50-2a850f23a9a0\",\"type\":\"Toolbar\"},\"x_range\":{\"id\":\"e7612283-300e-4a82-b60e-3084a3421660\",\"type\":\"Range1d\"},\"x_scale\":{\"id\":\"6b086970-9bf8-4a62-b022-dbb58a953586\",\"type\":\"LinearScale\"},\"y_range\":{\"id\":\"633432e1-25e9-417c-80f8-593ee5e5d2be\",\"type\":\"Range1d\"},\"y_scale\":{\"id\":\"4a8b9168-63b3-407f-b799-cd5e6c0a0b73\",\"type\":\"LinearScale\"}},\"id\":\"038acb70-78f8-4cce-9c60-557605346559\",\"subtype\":\"Figure\",\"type\":\"Plot\"},{\"attributes\":{\"formatter\":{\"id\":\"7891a3d5-4362-4abd-aa08-75d4f57399ad\",\"type\":\"BasicTickFormatter\"},\"plot\":{\"id\":\"038acb70-78f8-4cce-9c60-557605346559\",\"subtype\":\"Figure\",\"type\":\"Plot\"},\"ticker\":{\"id\":\"00e9ce4b-69e0-4718-83f7-758422998183\",\"type\":\"BasicTicker\"}},\"id\":\"f25414b6-bc75-4b00-b707-c3335f242bcd\",\"type\":\"LinearAxis\"},{\"attributes\":{},\"id\":\"7891a3d5-4362-4abd-aa08-75d4f57399ad\",\"type\":\"BasicTickFormatter\"},{\"attributes\":{},\"id\":\"60f43f4c-d39f-4348-8b01-4352553a292f\",\"type\":\"HelpTool\"},{\"attributes\":{\"callback\":null,\"end\":1.1},\"id\":\"633432e1-25e9-417c-80f8-593ee5e5d2be\",\"type\":\"Range1d\"},{\"attributes\":{},\"id\":\"4a8b9168-63b3-407f-b799-cd5e6c0a0b73\",\"type\":\"LinearScale\"},{\"attributes\":{},\"id\":\"955bed30-12db-4ca8-b190-fac159e69fa1\",\"type\":\"SaveTool\"},{\"attributes\":{},\"id\":\"b729d9f3-7d6e-4f8e-9632-adae55883c6f\",\"type\":\"BasicTicker\"},{\"attributes\":{\"source\":{\"id\":\"cef45f5b-8fb2-4c87-a93c-16ee31b8b4f1\",\"type\":\"ColumnDataSource\"}},\"id\":\"5ea76a2a-3e7f-409f-8bba-80bd80d93219\",\"type\":\"CDSView\"},{\"attributes\":{\"plot\":{\"id\":\"038acb70-78f8-4cce-9c60-557605346559\",\"subtype\":\"Figure\",\"type\":\"Plot\"},\"ticker\":{\"id\":\"b729d9f3-7d6e-4f8e-9632-adae55883c6f\",\"type\":\"BasicTicker\"}},\"id\":\"1f187fd4-a2a0-43fe-9f87-368e75cfd9e7\",\"type\":\"Grid\"},{\"attributes\":{\"fill_alpha\":0.25,\"fill_color\":\"#1f77b4\",\"line_color\":\"#1f77b4\",\"x\":{\"field\":\"x\"},\"y\":{\"field\":\"y\"}},\"id\":\"91e87feb-639a-48ae-bd1c-31d8205b3f88\",\"type\":\"Patch\"},{\"attributes\":{\"data_source\":{\"id\":\"cef45f5b-8fb2-4c87-a93c-16ee31b8b4f1\",\"type\":\"ColumnDataSource\"},\"glyph\":{\"id\":\"91e87feb-639a-48ae-bd1c-31d8205b3f88\",\"type\":\"Patch\"},\"hover_glyph\":null,\"muted_glyph\":null,\"nonselection_glyph\":{\"id\":\"51d42e21-0581-4df7-8e93-7128b7888744\",\"type\":\"Patch\"},\"selection_glyph\":null,\"view\":{\"id\":\"5ea76a2a-3e7f-409f-8bba-80bd80d93219\",\"type\":\"CDSView\"}},\"id\":\"d5edb624-0d23-42d5-9be6-53ac721cf5e2\",\"type\":\"GlyphRenderer\"}],\"root_ids\":[\"038acb70-78f8-4cce-9c60-557605346559\"]},\"title\":\"Bokeh Application\",\"version\":\"0.12.11\"}};\n",
       "    var render_items = [{\"docid\":\"0d8b2e9f-7dfe-47f2-9916-a5081b72406c\",\"elementid\":\"9d47403e-a7c3-434a-b8e1-273220e53093\",\"modelid\":\"038acb70-78f8-4cce-9c60-557605346559\"}];\n",
       "    root.Bokeh.embed.embed_items(docs_json, render_items);\n",
       "  }\n",
       "  if (root.Bokeh !== undefined) {\n",
       "    embed_document(root);\n",
       "  } else {\n",
       "    var attempts = 0;\n",
       "    var timer = setInterval(function(root) {\n",
       "      if (root.Bokeh !== undefined) {\n",
       "        embed_document(root);\n",
       "        clearInterval(timer);\n",
       "      }\n",
       "      attempts++;\n",
       "      if (attempts > 100) {\n",
       "        console.log(\"Bokeh: ERROR: Unable to embed document because BokehJS library is missing\")\n",
       "        clearInterval(timer);\n",
       "      }\n",
       "    }, 10, root)\n",
       "  }\n",
       "})(window);"
      ],
      "application/vnd.bokehjs_exec.v0+json": ""
     },
     "metadata": {
      "application/vnd.bokehjs_exec.v0+json": {
       "id": "038acb70-78f8-4cce-9c60-557605346559"
      }
     },
     "output_type": "display_data"
    }
   ],
   "source": [
    "show(quadmuon_hist.bokeh.fig())"
   ]
  },
  {
   "cell_type": "markdown",
   "metadata": {},
   "source": [
    "## I guess this is Monte Carlo!"
   ]
  }
 ],
 "metadata": {
  "kernelspec": {
   "display_name": "Python 2",
   "language": "python",
   "name": "python2"
  },
  "language_info": {
   "codemirror_mode": {
    "name": "ipython",
    "version": 2
   },
   "file_extension": ".py",
   "mimetype": "text/x-python",
   "name": "python",
   "nbconvert_exporter": "python",
   "pygments_lexer": "ipython2",
   "version": "2.7.6"
  }
 },
 "nbformat": 4,
 "nbformat_minor": 1
}
